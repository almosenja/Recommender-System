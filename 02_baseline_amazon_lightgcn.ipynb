{
 "cells": [
  {
   "metadata": {},
   "cell_type": "markdown",
   "source": [
    "# Recommender System - Baseline Model\n",
    "This notebook implements a simple baseline which is collaborative filtering Matrix Factorization."
   ],
   "id": "7c822c18c3c50055"
  },
  {
   "metadata": {
    "ExecuteTime": {
     "end_time": "2025-08-25T07:20:25.536229Z",
     "start_time": "2025-08-25T07:20:17.791967Z"
    }
   },
   "cell_type": "code",
   "source": [
    "import os\n",
    "import math\n",
    "import random\n",
    "import numpy as np\n",
    "import pandas as pd\n",
    "import time\n",
    "import gc\n",
    "import matplotlib.pyplot as plt\n",
    "from collections import defaultdict\n",
    "\n",
    "# os.environ[\"HF_HOME\"] = \"D:/Python Projects/recommendation_system\"\n",
    "# os.environ[\"HF_DATASETS_CACHE\"] = \"D:/Python Projects/recommendation_system/recsys/data\"\n",
    "# os.environ[\"TRANSFORMERS_CACHE\"] = \"D:/Python Projects/recommendation_system/recsys/models\"\n",
    "\n",
    "os.environ[\"HF_HOME\"] = \"E:/Python Scripts/recsys\"\n",
    "os.environ['HF_DATASETS_CACHE'] = \"E:/Python Scripts/recsys/data\"\n",
    "os.environ['TRANSFORMERS_CACHE'] = \"E:/Python Scripts/recsys/models\"\n",
    "\n",
    "import torch\n",
    "import torch.nn as nn\n",
    "from torch.utils.data import Dataset, DataLoader\n",
    "from sklearn.preprocessing import LabelEncoder\n",
    "from recommenders.datasets.python_splitters import (\n",
    "    python_chrono_split, python_stratified_split, python_random_split\n",
    ")\n",
    "\n",
    "from datasets import load_dataset, Features, Value\n",
    "from tqdm import tqdm\n",
    "from tensorboardX import SummaryWriter"
   ],
   "id": "5a6345db3eba7a39",
   "outputs": [
    {
     "name": "stderr",
     "output_type": "stream",
     "text": [
      "E:\\Python Scripts\\recsys\\.venv\\Lib\\site-packages\\tqdm\\auto.py:21: TqdmWarning: IProgress not found. Please update jupyter and ipywidgets. See https://ipywidgets.readthedocs.io/en/stable/user_install.html\n",
      "  from .autonotebook import tqdm as notebook_tqdm\n"
     ]
    }
   ],
   "execution_count": 1
  },
  {
   "metadata": {
    "ExecuteTime": {
     "end_time": "2025-08-25T07:20:25.595488Z",
     "start_time": "2025-08-25T07:20:25.551242Z"
    }
   },
   "cell_type": "code",
   "source": [
    "SEED = 42\n",
    "def set_seed(seed=SEED):\n",
    "    random.seed(seed)\n",
    "    np.random.seed(seed)\n",
    "    torch.manual_seed(seed)\n",
    "    torch.cuda.manual_seed_all(seed)\n",
    "\n",
    "set_seed(SEED)\n",
    "DEVICE = \"cuda\" if torch.cuda.is_available() else \"cpu\"\n",
    "print(\"DEVICE:\", DEVICE)"
   ],
   "id": "edd5232c634edf29",
   "outputs": [
    {
     "name": "stdout",
     "output_type": "stream",
     "text": [
      "DEVICE: cuda\n"
     ]
    }
   ],
   "execution_count": 2
  },
  {
   "metadata": {},
   "cell_type": "markdown",
   "source": [
    "## Loading the dataset\n",
    "The dataset is loaded from the Hugging Face datasets library, Amazon Reviews 2023."
   ],
   "id": "ff3e64dbef5ea775"
  },
  {
   "metadata": {
    "ExecuteTime": {
     "end_time": "2025-08-25T07:57:39.360890Z",
     "start_time": "2025-08-25T07:56:17.416749Z"
    }
   },
   "cell_type": "code",
   "source": [
    "USE_HF = True\n",
    "HF_DATASET = \"McAuley-Lab/Amazon-Reviews-2023\"\n",
    "HF_DOMAIN = \"Movies_and_TV\"   # choose your domain\n",
    "\n",
    "def load_amazon_reviews_fast(domain: str, max_items: int | None = None, seed: int = SEED) -> pd.DataFrame:\n",
    "    ds = load_dataset(\n",
    "        \"McAuley-Lab/Amazon-Reviews-2023\",\n",
    "        f\"raw_review_{domain}\",\n",
    "        split=\"full\",\n",
    "        trust_remote_code=True,\n",
    "    )\n",
    "\n",
    "    # Keep only needed columns early\n",
    "    ds = ds.select_columns([\"user_id\", \"parent_asin\", \"rating\", \"verified_purchase\", \"timestamp\"])\n",
    "\n",
    "    # Rename + cast in Arrow (vectorized; no Python loop)\n",
    "    ds = ds.rename_columns({\"user_id\": \"user\", \"parent_asin\": \"item\"})\n",
    "    ds = ds.cast(Features({\n",
    "        \"user\": Value(\"string\"),\n",
    "        \"item\": Value(\"string\"),\n",
    "        \"rating\": Value(\"float32\"),\n",
    "        \"verified_purchase\": Value(\"bool\"),\n",
    "        \"timestamp\": Value(\"int64\"),   # seconds or ms as stored\n",
    "    }))\n",
    "\n",
    "    # Fast random subset without building a huge pandas frame first\n",
    "    if max_items is not None:\n",
    "        k = min(max_items, ds.num_rows)\n",
    "        ds = ds.shuffle(seed=seed).select(range(k))\n",
    "\n",
    "    # Convert to pandas (Arrow zero-copy where possible)\n",
    "    df = ds.to_pandas()   # much faster than manual row loop\n",
    "    df.insert(3, \"domain\", domain)  # add domain column to match your schema\n",
    "    return df\n",
    "\n",
    "# usage\n",
    "df = load_amazon_reviews_fast(HF_DOMAIN, max_items=5_000_000, seed=SEED)\n",
    "print(f\"Loaded {len(df)} rows from {HF_DOMAIN} domain.\")"
   ],
   "id": "8180a93e7c61c04",
   "outputs": [
    {
     "name": "stdout",
     "output_type": "stream",
     "text": [
      "Loaded 5000000 rows from Movies_and_TV domain.\n"
     ]
    }
   ],
   "execution_count": 86
  },
  {
   "metadata": {
    "ExecuteTime": {
     "end_time": "2025-08-25T07:57:39.457107Z",
     "start_time": "2025-08-25T07:57:39.447094Z"
    }
   },
   "cell_type": "code",
   "source": "df.head()",
   "id": "e30270380ba0bb72",
   "outputs": [
    {
     "data": {
      "text/plain": [
       "                           user        item  rating         domain  \\\n",
       "0  AHHW42C67LCCUCLF7M7SBLDVKTQQ  B07XZD2RR4     5.0  Movies_and_TV   \n",
       "1  AEJQ3S7S5O6LBPMQLOBYUBPMECDQ  B000KF0GRW     5.0  Movies_and_TV   \n",
       "2  AFZCEV4OHBOSOT226R7INKPRGYWQ  B00104AYSS     5.0  Movies_and_TV   \n",
       "3  AGEDLCCEVKIPMM4MY6U33KANA3IA  B003YVEIY6     5.0  Movies_and_TV   \n",
       "4  AFB6GRGUSPQWO7XXQG5ANLYQGLSA  B00ZGUUTN2     5.0  Movies_and_TV   \n",
       "\n",
       "   verified_purchase      timestamp  \n",
       "0               True  1570937908945  \n",
       "1               True  1173388138000  \n",
       "2               True  1424845397000  \n",
       "3              False  1409109366000  \n",
       "4               True  1456348687000  "
      ],
      "text/html": [
       "<div>\n",
       "<style scoped>\n",
       "    .dataframe tbody tr th:only-of-type {\n",
       "        vertical-align: middle;\n",
       "    }\n",
       "\n",
       "    .dataframe tbody tr th {\n",
       "        vertical-align: top;\n",
       "    }\n",
       "\n",
       "    .dataframe thead th {\n",
       "        text-align: right;\n",
       "    }\n",
       "</style>\n",
       "<table border=\"1\" class=\"dataframe\">\n",
       "  <thead>\n",
       "    <tr style=\"text-align: right;\">\n",
       "      <th></th>\n",
       "      <th>user</th>\n",
       "      <th>item</th>\n",
       "      <th>rating</th>\n",
       "      <th>domain</th>\n",
       "      <th>verified_purchase</th>\n",
       "      <th>timestamp</th>\n",
       "    </tr>\n",
       "  </thead>\n",
       "  <tbody>\n",
       "    <tr>\n",
       "      <th>0</th>\n",
       "      <td>AHHW42C67LCCUCLF7M7SBLDVKTQQ</td>\n",
       "      <td>B07XZD2RR4</td>\n",
       "      <td>5.0</td>\n",
       "      <td>Movies_and_TV</td>\n",
       "      <td>True</td>\n",
       "      <td>1570937908945</td>\n",
       "    </tr>\n",
       "    <tr>\n",
       "      <th>1</th>\n",
       "      <td>AEJQ3S7S5O6LBPMQLOBYUBPMECDQ</td>\n",
       "      <td>B000KF0GRW</td>\n",
       "      <td>5.0</td>\n",
       "      <td>Movies_and_TV</td>\n",
       "      <td>True</td>\n",
       "      <td>1173388138000</td>\n",
       "    </tr>\n",
       "    <tr>\n",
       "      <th>2</th>\n",
       "      <td>AFZCEV4OHBOSOT226R7INKPRGYWQ</td>\n",
       "      <td>B00104AYSS</td>\n",
       "      <td>5.0</td>\n",
       "      <td>Movies_and_TV</td>\n",
       "      <td>True</td>\n",
       "      <td>1424845397000</td>\n",
       "    </tr>\n",
       "    <tr>\n",
       "      <th>3</th>\n",
       "      <td>AGEDLCCEVKIPMM4MY6U33KANA3IA</td>\n",
       "      <td>B003YVEIY6</td>\n",
       "      <td>5.0</td>\n",
       "      <td>Movies_and_TV</td>\n",
       "      <td>False</td>\n",
       "      <td>1409109366000</td>\n",
       "    </tr>\n",
       "    <tr>\n",
       "      <th>4</th>\n",
       "      <td>AFB6GRGUSPQWO7XXQG5ANLYQGLSA</td>\n",
       "      <td>B00ZGUUTN2</td>\n",
       "      <td>5.0</td>\n",
       "      <td>Movies_and_TV</td>\n",
       "      <td>True</td>\n",
       "      <td>1456348687000</td>\n",
       "    </tr>\n",
       "  </tbody>\n",
       "</table>\n",
       "</div>"
      ]
     },
     "execution_count": 87,
     "metadata": {},
     "output_type": "execute_result"
    }
   ],
   "execution_count": 87
  },
  {
   "metadata": {},
   "cell_type": "markdown",
   "source": [
    "## Preprocessing the dataset\n",
    "- Make it implicit by considering all ratings as positive interactions.\n",
    "- Filter out users and items with less than 5 interactions.\n",
    "- Create a mapping of user and item IDs to indices."
   ],
   "id": "f1783303bdad3402"
  },
  {
   "metadata": {
    "ExecuteTime": {
     "end_time": "2025-08-25T07:57:46.302740Z",
     "start_time": "2025-08-25T07:57:39.660690Z"
    }
   },
   "cell_type": "code",
   "source": [
    "# Make implicit dataset, filter users/items with less than 5 interactions, and encode user/item IDs\n",
    "def preprocess_dataset(df, min_user_interactions=5, min_item_interactions=5):\n",
    "    # Make it implicit\n",
    "    df[\"label\"] = 1.0\n",
    "\n",
    "    # Filter users and items with less than 5 interactions\n",
    "    user_counts = df[\"user\"].value_counts()\n",
    "    item_counts = df[\"item\"].value_counts()\n",
    "\n",
    "    valid_users = user_counts[user_counts >= min_user_interactions].index\n",
    "    valid_items = item_counts[item_counts >= min_item_interactions].index\n",
    "\n",
    "    df = df[df[\"user\"].isin(valid_users) & df[\"item\"].isin(valid_items)].copy()\n",
    "    print(\"After interactions filtering:\", len(df), \"rows,\", df[\"user\"].nunique(), \"users,\", df[\"item\"].nunique(), \"items\")\n",
    "\n",
    "    user_enc = LabelEncoder()\n",
    "    item_enc = LabelEncoder()\n",
    "\n",
    "    df[\"user_id\"] = user_enc.fit_transform(df[\"user\"])\n",
    "    df[\"item_id\"] = item_enc.fit_transform(df[\"item\"])\n",
    "\n",
    "    return {\"filtered_df\": df,\n",
    "            \"user_encoder\": user_enc,\n",
    "            \"item_encoder\": item_enc}\n",
    "\n",
    "data_processor = preprocess_dataset(df, min_user_interactions=10, min_item_interactions=10)\n",
    "filtered_df = data_processor[\"filtered_df\"]"
   ],
   "id": "b9ebad4f47ee8759",
   "outputs": [
    {
     "name": "stdout",
     "output_type": "stream",
     "text": [
      "After interactions filtering: 468742 rows, 33970 users, 71752 items\n"
     ]
    }
   ],
   "execution_count": 88
  },
  {
   "metadata": {
    "ExecuteTime": {
     "end_time": "2025-08-25T07:57:46.588170Z",
     "start_time": "2025-08-25T07:57:46.461195Z"
    }
   },
   "cell_type": "code",
   "source": [
    "def calculate_data_sparsity(df):\n",
    "    num_users = df[\"user\"].nunique()\n",
    "    num_items = df[\"item\"].nunique()\n",
    "    num_interactions = len(df)\n",
    "    density = num_interactions / (num_users * num_items)\n",
    "    sparsity = 1 - density\n",
    "\n",
    "    print(f\"Number of users: {num_users}\")\n",
    "    print(f\"Number of items: {num_items}\")\n",
    "    print(f\"Number of interactions: {num_interactions}\")\n",
    "    print(f\"-\" * 30)\n",
    "    print(f\"Interaction Matrix Density: {density:.4f}\")\n",
    "    print(f\"Interaction Matrix Sparsity: {sparsity:.4f}\")\n",
    "\n",
    "calculate_data_sparsity(filtered_df)"
   ],
   "id": "1688a0fc8d6cd920",
   "outputs": [
    {
     "name": "stdout",
     "output_type": "stream",
     "text": [
      "Number of users: 33970\n",
      "Number of items: 71752\n",
      "Number of interactions: 468742\n",
      "------------------------------\n",
      "Interaction Matrix Density: 0.0002\n",
      "Interaction Matrix Sparsity: 0.9998\n"
     ]
    }
   ],
   "execution_count": 89
  },
  {
   "metadata": {
    "ExecuteTime": {
     "end_time": "2025-08-25T07:58:20.485008Z",
     "start_time": "2025-08-25T07:57:46.601167Z"
    }
   },
   "cell_type": "code",
   "source": [
    "def loo_split(df, oversample_verified=False, oversample_factor=2):\n",
    "    df = df.sort_values([\"user_id\", \"timestamp\"])\n",
    "    train_rows, val_rows, test_rows = [], [], []\n",
    "    for uid, group in df.groupby(\"user_id\", sort=False):\n",
    "        g = group.sort_values(\"timestamp\")\n",
    "        if len(g) < 5:\n",
    "            train_rows.append(g)\n",
    "            continue\n",
    "        test_rows.append(g.iloc[[-1]])  # Last interaction as test\n",
    "        val_rows.append(g.iloc[[-2]])    # Second last interaction as validation\n",
    "        train_rows.append(g.iloc[:-2])    # All but last two as training\n",
    "\n",
    "    train_df = pd.concat(train_rows, ignore_index=True)\n",
    "    val_df = pd.concat(val_rows, ignore_index=True)\n",
    "    test_df = pd.concat(test_rows, ignore_index=True)\n",
    "\n",
    "    if oversample_verified and oversample_factor > 1:\n",
    "        verified_rows = train_df.loc[train_df[\"verified_purchase\"] == True]\n",
    "        if not verified_rows.empty:\n",
    "            train_df = pd.concat([train_df] + [verified_rows] * (oversample_factor - 1), ignore_index=True)\n",
    "\n",
    "    return train_df, val_df, test_df\n",
    "\n",
    "def create_data_splits(df, train_size=0.8, oversample_verified=False, oversample_factor=2, seed=42):\n",
    "    train, temp = python_chrono_split(\n",
    "        df, ratio=train_size, filter_by=\"user\",\n",
    "        col_user=\"user_id\", col_item=\"item_id\", col_timestamp=\"timestamp\"\n",
    "    )\n",
    "\n",
    "    # oversample verified purchases in TRAIN (implicit pos = 1)\n",
    "    if oversample_verified and \"verified_purchase\" in train.columns:\n",
    "        vr = train[train[\"verified_purchase\"] == True]\n",
    "        if len(vr) > 0 and oversample_factor > 1:\n",
    "            extra = [vr] * (oversample_factor - 1)\n",
    "            train = pd.concat([train] + extra, ignore_index=True)\n",
    "            train = train.sample(frac=1.0, random_state=SEED).reset_index(drop=True)\n",
    "\n",
    "    val, test = python_random_split(\n",
    "        temp, ratio=0.5, seed=seed\n",
    "    )\n",
    "\n",
    "    print(f\"Train set size: {train.shape[0]}\")\n",
    "    print(f\"Validation set size: {val.shape[0]}\")\n",
    "    print(f\"Test set size: {test.shape[0]}\")\n",
    "    print(f\"Common users in train and val: {len(set(train['user_id']).intersection(set(val['user_id'])))}\")\n",
    "    print(f\"Common users in train and test: {len(set(train['user_id']).intersection(set(test['user_id'])))}\")\n",
    "\n",
    "    return train, val, test\n",
    "\n",
    "train_df, val_df, test_df = loo_split(filtered_df, oversample_verified=False, oversample_factor=1)\n",
    "# train_df, val_df, test_df = create_data_splits(filtered_df, train_size=0.8, oversample_verified=False, oversample_factor=2, seed=SEED)\n",
    "print(f\"Train/Validation/Test split: {len(train_df)}, {len(val_df)}, {len(test_df)}\")"
   ],
   "id": "1bcb3147c4b71b5e",
   "outputs": [
    {
     "name": "stdout",
     "output_type": "stream",
     "text": [
      "Train/Validation/Test split: 404030, 32356, 32356\n"
     ]
    }
   ],
   "execution_count": 90
  },
  {
   "metadata": {},
   "cell_type": "markdown",
   "source": "## Building the dataset with negative sampling",
   "id": "4f6e8d4cae86c716"
  },
  {
   "metadata": {
    "ExecuteTime": {
     "end_time": "2025-08-25T07:58:29.443188Z",
     "start_time": "2025-08-25T07:58:29.435882Z"
    }
   },
   "cell_type": "code",
   "source": [
    "NUM_USERS = filtered_df[\"user_id\"].max() + 1\n",
    "NUM_ITEMS = filtered_df[\"item_id\"].max() + 1"
   ],
   "id": "265b459b4730043d",
   "outputs": [],
   "execution_count": 91
  },
  {
   "metadata": {
    "ExecuteTime": {
     "end_time": "2025-08-25T07:58:30.410101Z",
     "start_time": "2025-08-25T07:58:30.404636Z"
    }
   },
   "cell_type": "code",
   "source": [
    "# Rank the single positive against k negative samples for train and evaluation\n",
    "def build_pos_items_by_user(train_df):\n",
    "    pos_items_by_user = defaultdict(set)\n",
    "    for u, i in zip(train_df[\"user_id\"].values, train_df[\"item_id\"].values):\n",
    "        pos_items_by_user[u].add(int(i))\n",
    "    return pos_items_by_user"
   ],
   "id": "cca53221665f9295",
   "outputs": [],
   "execution_count": 92
  },
  {
   "metadata": {
    "ExecuteTime": {
     "end_time": "2025-08-25T07:58:31.568066Z",
     "start_time": "2025-08-25T07:58:31.355781Z"
    }
   },
   "cell_type": "code",
   "source": [
    "# Training dataset with k negatives per positive\n",
    "class ImplicitTrainingDataset(Dataset):\n",
    "    def __init__(self, train_df, num_items, pos_by_user, neg_k=4, seed=SEED):\n",
    "        self.pos_pairs = train_df[[\"user_id\", \"item_id\"]].values.astype(np.int64)\n",
    "        self.num_pos = len(self.pos_pairs)\n",
    "        self.neg_k = neg_k\n",
    "        self.num_items = num_items\n",
    "        self.pos_by_user = pos_by_user\n",
    "        self.length = self.num_pos * (1 + self.neg_k)\n",
    "        self.rng = random.Random(seed)\n",
    "\n",
    "    def __len__(self):\n",
    "        return self.length\n",
    "\n",
    "    def __getitem__(self, idx):\n",
    "        pos_idx = idx // (self.neg_k + 1)\n",
    "        is_pos = (idx % (self.neg_k + 1) == 0)\n",
    "        u, i_pos = self.pos_pairs[pos_idx]\n",
    "        if is_pos:\n",
    "            return int(u), int(i_pos), 1.0\n",
    "\n",
    "        while True:\n",
    "            j = self.rng.randint(0, self.num_items - 1)\n",
    "            if j not in self.pos_by_user[u]:\n",
    "                return int(u), int(j), 0.0\n",
    "\n",
    "pos_items_by_user = build_pos_items_by_user(train_df)\n",
    "\n",
    "train_dataset = ImplicitTrainingDataset(train_df,\n",
    "                                  num_items=NUM_ITEMS,\n",
    "                                  pos_by_user=pos_items_by_user,\n",
    "                                  neg_k=4)\n",
    "train_loader = DataLoader(train_dataset,\n",
    "                          batch_size=1024,\n",
    "                          shuffle=True)\n",
    "\n",
    "print(f\"Training dataset created with {len(train_dataset)} samples.\")"
   ],
   "id": "ca3c4cf5ec1ad7b5",
   "outputs": [
    {
     "name": "stdout",
     "output_type": "stream",
     "text": [
      "Training dataset created with 2020150 samples.\n"
     ]
    }
   ],
   "execution_count": 93
  },
  {
   "metadata": {
    "ExecuteTime": {
     "end_time": "2025-08-25T07:58:47.145120Z",
     "start_time": "2025-08-25T07:58:33.582906Z"
    }
   },
   "cell_type": "code",
   "source": [
    "class EvaluateDataset(Dataset):\n",
    "    def __init__(self, eval_df, num_items, pos_by_user, n_neg=99, seed=42):\n",
    "        self.users = eval_df[\"user_id\"].values.astype(np.int64)\n",
    "        self.pos_items = eval_df[\"item_id\"].values.astype(np.int64)\n",
    "        self.n_neg = n_neg\n",
    "        self.num_items = num_items\n",
    "        self.pos_by_user = pos_by_user\n",
    "\n",
    "        rng = np.random.default_rng(seed)\n",
    "        self.candidates = np.empty((len(self.users), 1 + n_neg), dtype=np.int64)\n",
    "\n",
    "        for idx, (u, pos_i) in enumerate(zip(self.users, self.pos_items)):\n",
    "            user_pos = pos_by_user[u].copy()\n",
    "            user_pos.add(pos_i)\n",
    "            negs = []\n",
    "            while len(negs) < n_neg:\n",
    "                neg = rng.integers(0, num_items)\n",
    "                if neg not in user_pos:\n",
    "                    negs.append(int(neg))\n",
    "                    user_pos.add(neg)\n",
    "            self.candidates[idx, 0] = pos_i\n",
    "            self.candidates[idx, 1:] = np.asarray(negs, dtype=np.int64)\n",
    "\n",
    "    def __len__(self):\n",
    "        return len(self.users)\n",
    "\n",
    "    def __getitem__(self, idx):\n",
    "        return int(self.users[idx]), self.candidates[idx]\n",
    "\n",
    "# Build val/test loaders\n",
    "val_dataset = EvaluateDataset(val_df, NUM_ITEMS, pos_items_by_user, n_neg=99, seed=SEED)\n",
    "test_dataset = EvaluateDataset(test_df, NUM_ITEMS, pos_items_by_user, n_neg=99, seed=SEED)\n",
    "\n",
    "val_loader = DataLoader(val_dataset, batch_size=1048, shuffle=False)\n",
    "test_loader = DataLoader(test_dataset, batch_size=1048, shuffle=False)\n",
    "\n",
    "print(f\"Validation dataset: {len(val_dataset)} users\")\n",
    "print(f\"Test dataset: {len(test_dataset)} users\")"
   ],
   "id": "f9d96b8f8e3a91c7",
   "outputs": [
    {
     "name": "stdout",
     "output_type": "stream",
     "text": [
      "Validation dataset: 32356 users\n",
      "Test dataset: 32356 users\n"
     ]
    }
   ],
   "execution_count": 94
  },
  {
   "metadata": {},
   "cell_type": "markdown",
   "source": [
    "## Utility functions for evaluation & ranking metrics\n",
    "- For each val user, build candidate set = `{positive} U {k negatives}`\n",
    "- Score, sort, compute HR@K, NDCG@K, Precision@K, Recall@K"
   ],
   "id": "5091158ecaf52022"
  },
  {
   "metadata": {
    "ExecuteTime": {
     "end_time": "2025-08-25T07:58:50.289081Z",
     "start_time": "2025-08-25T07:58:50.279053Z"
    }
   },
   "cell_type": "code",
   "source": [
    "# Validation loss and ranking metrics\n",
    "@torch.no_grad()\n",
    "def evaluate_ranking_loader(model, eval_loader, loss_fn, k=10, device=\"cpu\"):\n",
    "    model.eval()\n",
    "    total = 0\n",
    "    sum_hr = 0.0\n",
    "    sum_ndcg = 0.0\n",
    "    sum_prec = 0.0\n",
    "\n",
    "    sum_val_loss = 0.0\n",
    "    n_loss_batches = 0\n",
    "\n",
    "    for users, cand in eval_loader:\n",
    "        users = users.to(device, non_blocking=True)\n",
    "        cand = torch.as_tensor(cand, dtype=torch.long, device=device)\n",
    "        B, C = cand.shape\n",
    "\n",
    "        # Repeat users per candidate, score in one forward\n",
    "        users_rep = users.view(-1, 1).expand(-1, C).reshape(-1)\n",
    "        items_flat = cand.reshape(-1)\n",
    "        scores_flat = model(users_rep, items_flat)\n",
    "        scores = scores_flat.view(B, C)\n",
    "\n",
    "        # Rank of the positive (column 0)\n",
    "        pos = scores[:, 0].unsqueeze(1)  # [B,1]\n",
    "        # number of items with strictly greater score than the positive +1\n",
    "        rank = (scores[:, 1:] > pos).sum(dim=1).add_(1).to(torch.long)  # [B]\n",
    "\n",
    "        hit = (rank <= k).float()\n",
    "        ndcg = torch.where(rank <= k, 1.0 / torch.log2(rank.float() + 1), torch.zeros_like(hit))\n",
    "        precision = hit / float(k)\n",
    "\n",
    "        sum_hr += hit.sum().item()\n",
    "        sum_ndcg += ndcg.sum().item()\n",
    "        sum_prec += precision.sum().item()\n",
    "        total += B\n",
    "\n",
    "        # Validation loss: labels = [1, 0, 0, ...]\n",
    "        labels = torch.zeros_like(scores)\n",
    "        labels[:, 0] = 1.0\n",
    "        batch_loss = loss_fn(scores, labels)\n",
    "        sum_val_loss += batch_loss.item()\n",
    "        n_loss_batches += 1\n",
    "\n",
    "    metrics = {\n",
    "        \"HR@K\": sum_hr / total if total else 0.0,\n",
    "        \"NDCG@K\": sum_ndcg / total if total else 0.0,\n",
    "        \"Precision@K\": sum_prec / total if total else 0.0,\n",
    "        \"Val loss\": sum_val_loss / max(n_loss_batches, 1)\n",
    "    }\n",
    "    return metrics"
   ],
   "id": "778028709a077112",
   "outputs": [],
   "execution_count": 95
  },
  {
   "metadata": {},
   "cell_type": "markdown",
   "source": "## Train loop",
   "id": "1cd309ea5d673cac"
  },
  {
   "metadata": {
    "ExecuteTime": {
     "end_time": "2025-08-25T07:58:53.614357Z",
     "start_time": "2025-08-25T07:58:53.598361Z"
    }
   },
   "cell_type": "code",
   "source": [
    "def model_trainer(\n",
    "        model,\n",
    "        train_loader,\n",
    "        eval_loader,\n",
    "        epochs,\n",
    "        loss_fn,\n",
    "        optimizer,\n",
    "        lr=0.001,\n",
    "        k=10,             # kept to log hyperparams\n",
    "        device=\"cpu\",\n",
    "        save_dir=\"model\"\n",
    "    ):\n",
    "    os.makedirs(save_dir, exist_ok=True)\n",
    "    model.to(device)\n",
    "    writer = SummaryWriter()\n",
    "\n",
    "    train_losses, val_losses, val_metrics_log = [], [], []\n",
    "    best_ndcg, best_epoch = 0.0, 0\n",
    "\n",
    "    for epoch in range(epochs):\n",
    "        model.train()\n",
    "        running_loss = 0.0\n",
    "        n_batches = 0\n",
    "        t0 = time.time()\n",
    "\n",
    "        for users, items, labels in tqdm(train_loader, desc=f\"Epoch {epoch+1}/{epochs}\"):\n",
    "            users = users.to(device, non_blocking=True)\n",
    "            items = items.to(device, non_blocking=True)\n",
    "            labels = labels.to(device, non_blocking=True)\n",
    "\n",
    "            optimizer.zero_grad(set_to_none=True)\n",
    "            logits = model(users, items)\n",
    "            loss = loss_fn(logits, labels)\n",
    "            loss.backward()\n",
    "            optimizer.step()\n",
    "\n",
    "            running_loss += loss.item()\n",
    "            n_batches += 1\n",
    "\n",
    "        train_loss = running_loss / max(n_batches, 1)\n",
    "        train_losses.append(train_loss)\n",
    "\n",
    "        # Eval (batched)\n",
    "        m = evaluate_ranking_loader(model, eval_loader, loss_fn, k=k, device=device)\n",
    "        val_losses.append(m[\"Val loss\"])\n",
    "        val_metrics_log.append({k_: m[k_] for k_ in [\"HR@K\", \"NDCG@K\", \"Precision@K\"]})\n",
    "\n",
    "        # Checkpointing by NDCG\n",
    "        if m[\"NDCG@K\"] > best_ndcg:\n",
    "            best_ndcg = m[\"NDCG@K\"]\n",
    "            best_epoch = epoch + 1\n",
    "            torch.save(model.state_dict(), os.path.join(save_dir, \"best_model.pth\"))\n",
    "        torch.save(model.state_dict(), os.path.join(save_dir, \"last_model.pth\"))\n",
    "\n",
    "        # TB logs\n",
    "        writer.add_scalar(\"Loss/Train\", train_loss, epoch)\n",
    "        writer.add_scalar(\"Loss/Validation\", m[\"Val loss\"], epoch)\n",
    "        writer.add_scalar(f\"Metrics/Val_HR@{k}\", m[\"HR@K\"], epoch)\n",
    "        writer.add_scalar(f\"Metrics/Val_NDCG@{k}\", m[\"NDCG@K\"], epoch)\n",
    "        writer.add_scalar(f\"Metrics/Val_Precision@{k}\", m[\"Precision@K\"], epoch)\n",
    "\n",
    "        print(\n",
    "            f\"Epoch {epoch+1}/{epochs}  \"\n",
    "            f\"Train loss {train_loss:.4f}  \"\n",
    "            f\"Val loss {m['Val loss']:.4f}  \"\n",
    "            f\"HR@{k} {m['HR@K']:.4f}  \"\n",
    "            f\"NDCG@{k} {m['NDCG@K']:.4f}  \"\n",
    "            f\"Precision@{k} {m['Precision@K']:.4f}  \"\n",
    "            f\"{'(new best)' if m['NDCG@K'] == best_ndcg and best_epoch==epoch+1 else ''}  \"\n",
    "            f\"Time {time.time()-t0:.2f}s\"\n",
    "        )\n",
    "\n",
    "    print(\"\\n\" + \"=\"*50)\n",
    "    print(\"Training Complete.\")\n",
    "    print(f\"Best epoch: {best_epoch} with NDCG@{k}: {best_ndcg:.4f}\")\n",
    "    print(\"=\"*50)\n",
    "    print(\"\\n\")\n",
    "\n",
    "    gc.collect()\n",
    "    if torch.cuda.is_available():\n",
    "        torch.cuda.empty_cache()\n",
    "    writer.close()\n",
    "    return train_losses, val_losses, val_metrics_log, best_ndcg"
   ],
   "id": "ab497fc37e83e382",
   "outputs": [],
   "execution_count": 96
  },
  {
   "metadata": {},
   "cell_type": "markdown",
   "source": "## Building baseline model",
   "id": "6f508d1626bf6ddc"
  },
  {
   "metadata": {
    "ExecuteTime": {
     "end_time": "2025-08-25T07:58:55.212833Z",
     "start_time": "2025-08-25T07:58:55.203809Z"
    }
   },
   "cell_type": "code",
   "source": [
    "# Simple Matrix Factorization model (dot product)\n",
    "class MatrixFactorization(nn.Module):\n",
    "    \"\"\"Improved MF model with dropout and better initialization\"\"\"\n",
    "    def __init__(self, n_users, n_items, embedding_dim):\n",
    "        super().__init__()\n",
    "        self.user_embedding = nn.Embedding(n_users, embedding_dim)\n",
    "        self.item_embedding = nn.Embedding(n_items, embedding_dim)\n",
    "        nn.init.xavier_uniform_(self.user_embedding.weight)\n",
    "        nn.init.xavier_uniform_(self.item_embedding.weight)\n",
    "\n",
    "    def forward(self, user_ids, item_ids):\n",
    "        user_embeds = self.user_embedding(user_ids)\n",
    "        item_embeds = self.item_embedding(item_ids)\n",
    "        dot_product = (user_embeds * item_embeds).sum(dim=1, keepdim=True)\n",
    "        return dot_product.squeeze()\n",
    "\n",
    "    def predict_all_items(self, user_id):\n",
    "        \"\"\"Predict scores for all items for a given user\"\"\"\n",
    "        user_tensor = torch.tensor([user_id], dtype=torch.long).to(next(self.parameters()).device)\n",
    "        all_items = torch.arange(self.item_embedding.num_embeddings).to(next(self.parameters()).device)\n",
    "        user_embed = self.user_embedding(user_tensor)\n",
    "        item_embeds = self.item_embedding(all_items)\n",
    "        scores = torch.matmul(user_embed, item_embeds.T).squeeze()\n",
    "        return torch.sigmoid(scores)"
   ],
   "id": "22d6f717fcdc554c",
   "outputs": [],
   "execution_count": 97
  },
  {
   "metadata": {
    "ExecuteTime": {
     "end_time": "2025-08-25T08:03:54.017836Z",
     "start_time": "2025-08-25T07:58:55.866797Z"
    }
   },
   "cell_type": "code",
   "source": [
    "# Run the training\n",
    "model = MatrixFactorization(n_users=NUM_USERS, n_items=NUM_ITEMS, embedding_dim=64).to(DEVICE)\n",
    "loss_fn = nn.BCEWithLogitsLoss()\n",
    "optimizer = torch.optim.Adam(model.parameters(), lr=1e-3, weight_decay=1e-6)\n",
    "\n",
    "train_losses, val_losses, val_metrics, best_ndcg = model_trainer(\n",
    "    model=model,\n",
    "    train_loader=train_loader,\n",
    "    eval_loader=val_loader,\n",
    "    loss_fn=loss_fn,\n",
    "    optimizer=optimizer,\n",
    "    epochs=20,\n",
    "    k=10,\n",
    "    device=DEVICE\n",
    ")"
   ],
   "id": "787fab7f1b944d07",
   "outputs": [
    {
     "name": "stderr",
     "output_type": "stream",
     "text": [
      "Epoch 1/20: 100%|██████████| 1973/1973 [00:12<00:00, 151.96it/s]\n"
     ]
    },
    {
     "name": "stdout",
     "output_type": "stream",
     "text": [
      "Epoch 1/20  Train loss 0.6672  Val loss 0.5411  HR@10 0.2812  NDCG@10 0.1577  Precision@10 0.0281  (new best)  Time 14.66s\n"
     ]
    },
    {
     "name": "stderr",
     "output_type": "stream",
     "text": [
      "Epoch 2/20: 100%|██████████| 1973/1973 [00:13<00:00, 149.72it/s]\n"
     ]
    },
    {
     "name": "stdout",
     "output_type": "stream",
     "text": [
      "Epoch 2/20  Train loss 0.4924  Val loss 0.3304  HR@10 0.3110  NDCG@10 0.1732  Precision@10 0.0311  (new best)  Time 15.12s\n"
     ]
    },
    {
     "name": "stderr",
     "output_type": "stream",
     "text": [
      "Epoch 3/20: 100%|██████████| 1973/1973 [00:12<00:00, 152.18it/s]\n"
     ]
    },
    {
     "name": "stdout",
     "output_type": "stream",
     "text": [
      "Epoch 3/20  Train loss 0.4483  Val loss 0.3009  HR@10 0.3193  NDCG@10 0.1798  Precision@10 0.0319  (new best)  Time 14.58s\n"
     ]
    },
    {
     "name": "stderr",
     "output_type": "stream",
     "text": [
      "Epoch 4/20: 100%|██████████| 1973/1973 [00:13<00:00, 149.64it/s]\n"
     ]
    },
    {
     "name": "stdout",
     "output_type": "stream",
     "text": [
      "Epoch 4/20  Train loss 0.4379  Val loss 0.2929  HR@10 0.3310  NDCG@10 0.1893  Precision@10 0.0331  (new best)  Time 14.88s\n"
     ]
    },
    {
     "name": "stderr",
     "output_type": "stream",
     "text": [
      "Epoch 5/20: 100%|██████████| 1973/1973 [00:12<00:00, 154.76it/s]\n"
     ]
    },
    {
     "name": "stdout",
     "output_type": "stream",
     "text": [
      "Epoch 5/20  Train loss 0.4282  Val loss 0.2875  HR@10 0.3492  NDCG@10 0.2013  Precision@10 0.0349  (new best)  Time 14.42s\n"
     ]
    },
    {
     "name": "stderr",
     "output_type": "stream",
     "text": [
      "Epoch 6/20: 100%|██████████| 1973/1973 [00:13<00:00, 147.92it/s]\n"
     ]
    },
    {
     "name": "stdout",
     "output_type": "stream",
     "text": [
      "Epoch 6/20  Train loss 0.4167  Val loss 0.2831  HR@10 0.3697  NDCG@10 0.2160  Precision@10 0.0370  (new best)  Time 15.07s\n"
     ]
    },
    {
     "name": "stderr",
     "output_type": "stream",
     "text": [
      "Epoch 7/20: 100%|██████████| 1973/1973 [00:13<00:00, 148.43it/s]\n"
     ]
    },
    {
     "name": "stdout",
     "output_type": "stream",
     "text": [
      "Epoch 7/20  Train loss 0.4053  Val loss 0.2786  HR@10 0.3862  NDCG@10 0.2262  Precision@10 0.0386  (new best)  Time 14.94s\n"
     ]
    },
    {
     "name": "stderr",
     "output_type": "stream",
     "text": [
      "Epoch 8/20: 100%|██████████| 1973/1973 [00:13<00:00, 142.74it/s]\n"
     ]
    },
    {
     "name": "stdout",
     "output_type": "stream",
     "text": [
      "Epoch 8/20  Train loss 0.3943  Val loss 0.2741  HR@10 0.4020  NDCG@10 0.2364  Precision@10 0.0402  (new best)  Time 15.49s\n"
     ]
    },
    {
     "name": "stderr",
     "output_type": "stream",
     "text": [
      "Epoch 9/20: 100%|██████████| 1973/1973 [00:13<00:00, 141.63it/s]\n"
     ]
    },
    {
     "name": "stdout",
     "output_type": "stream",
     "text": [
      "Epoch 9/20  Train loss 0.3836  Val loss 0.2707  HR@10 0.4163  NDCG@10 0.2450  Precision@10 0.0416  (new best)  Time 15.83s\n"
     ]
    },
    {
     "name": "stderr",
     "output_type": "stream",
     "text": [
      "Epoch 10/20: 100%|██████████| 1973/1973 [00:13<00:00, 149.32it/s]\n"
     ]
    },
    {
     "name": "stdout",
     "output_type": "stream",
     "text": [
      "Epoch 10/20  Train loss 0.3737  Val loss 0.2670  HR@10 0.4296  NDCG@10 0.2537  Precision@10 0.0430  (new best)  Time 14.90s\n"
     ]
    },
    {
     "name": "stderr",
     "output_type": "stream",
     "text": [
      "Epoch 11/20: 100%|██████████| 1973/1973 [00:13<00:00, 146.88it/s]\n"
     ]
    },
    {
     "name": "stdout",
     "output_type": "stream",
     "text": [
      "Epoch 11/20  Train loss 0.3644  Val loss 0.2640  HR@10 0.4382  NDCG@10 0.2598  Precision@10 0.0438  (new best)  Time 15.10s\n"
     ]
    },
    {
     "name": "stderr",
     "output_type": "stream",
     "text": [
      "Epoch 12/20: 100%|██████████| 1973/1973 [00:13<00:00, 147.26it/s]\n"
     ]
    },
    {
     "name": "stdout",
     "output_type": "stream",
     "text": [
      "Epoch 12/20  Train loss 0.3558  Val loss 0.2611  HR@10 0.4467  NDCG@10 0.2657  Precision@10 0.0447  (new best)  Time 15.06s\n"
     ]
    },
    {
     "name": "stderr",
     "output_type": "stream",
     "text": [
      "Epoch 13/20: 100%|██████████| 1973/1973 [00:12<00:00, 154.79it/s]\n"
     ]
    },
    {
     "name": "stdout",
     "output_type": "stream",
     "text": [
      "Epoch 13/20  Train loss 0.3475  Val loss 0.2586  HR@10 0.4562  NDCG@10 0.2712  Precision@10 0.0456  (new best)  Time 14.36s\n"
     ]
    },
    {
     "name": "stderr",
     "output_type": "stream",
     "text": [
      "Epoch 14/20: 100%|██████████| 1973/1973 [00:13<00:00, 141.51it/s]\n"
     ]
    },
    {
     "name": "stdout",
     "output_type": "stream",
     "text": [
      "Epoch 14/20  Train loss 0.3400  Val loss 0.2560  HR@10 0.4637  NDCG@10 0.2758  Precision@10 0.0464  (new best)  Time 15.68s\n"
     ]
    },
    {
     "name": "stderr",
     "output_type": "stream",
     "text": [
      "Epoch 15/20: 100%|██████████| 1973/1973 [00:13<00:00, 147.21it/s]\n"
     ]
    },
    {
     "name": "stdout",
     "output_type": "stream",
     "text": [
      "Epoch 15/20  Train loss 0.3335  Val loss 0.2536  HR@10 0.4706  NDCG@10 0.2801  Precision@10 0.0471  (new best)  Time 15.07s\n"
     ]
    },
    {
     "name": "stderr",
     "output_type": "stream",
     "text": [
      "Epoch 16/20: 100%|██████████| 1973/1973 [00:12<00:00, 152.67it/s]\n"
     ]
    },
    {
     "name": "stdout",
     "output_type": "stream",
     "text": [
      "Epoch 16/20  Train loss 0.3270  Val loss 0.2513  HR@10 0.4766  NDCG@10 0.2846  Precision@10 0.0477  (new best)  Time 14.61s\n"
     ]
    },
    {
     "name": "stderr",
     "output_type": "stream",
     "text": [
      "Epoch 17/20: 100%|██████████| 1973/1973 [00:12<00:00, 153.80it/s]\n"
     ]
    },
    {
     "name": "stdout",
     "output_type": "stream",
     "text": [
      "Epoch 17/20  Train loss 0.3209  Val loss 0.2494  HR@10 0.4797  NDCG@10 0.2877  Precision@10 0.0480  (new best)  Time 14.50s\n"
     ]
    },
    {
     "name": "stderr",
     "output_type": "stream",
     "text": [
      "Epoch 18/20: 100%|██████████| 1973/1973 [00:13<00:00, 148.56it/s]\n"
     ]
    },
    {
     "name": "stdout",
     "output_type": "stream",
     "text": [
      "Epoch 18/20  Train loss 0.3156  Val loss 0.2475  HR@10 0.4843  NDCG@10 0.2918  Precision@10 0.0484  (new best)  Time 14.98s\n"
     ]
    },
    {
     "name": "stderr",
     "output_type": "stream",
     "text": [
      "Epoch 19/20: 100%|██████████| 1973/1973 [00:12<00:00, 155.92it/s]\n"
     ]
    },
    {
     "name": "stdout",
     "output_type": "stream",
     "text": [
      "Epoch 19/20  Train loss 0.3106  Val loss 0.2456  HR@10 0.4918  NDCG@10 0.2960  Precision@10 0.0492  (new best)  Time 14.32s\n"
     ]
    },
    {
     "name": "stderr",
     "output_type": "stream",
     "text": [
      "Epoch 20/20: 100%|██████████| 1973/1973 [00:12<00:00, 157.12it/s]\n"
     ]
    },
    {
     "name": "stdout",
     "output_type": "stream",
     "text": [
      "Epoch 20/20  Train loss 0.3057  Val loss 0.2441  HR@10 0.4951  NDCG@10 0.2993  Precision@10 0.0495  (new best)  Time 14.19s\n",
      "\n",
      "==================================================\n",
      "Training Complete.\n",
      "Best epoch: 20 with NDCG@10: 0.2993\n",
      "==================================================\n",
      "\n",
      "\n"
     ]
    }
   ],
   "execution_count": 98
  },
  {
   "metadata": {
    "ExecuteTime": {
     "end_time": "2025-08-25T08:03:56.745740Z",
     "start_time": "2025-08-25T08:03:56.691695Z"
    }
   },
   "cell_type": "code",
   "source": [
    "def load_best_weights(model, ckpt_path=\"model/best_model.pth\", device=None):\n",
    "    \"\"\"Load best checkpoint into the provided model.\"\"\"\n",
    "    if device is None:\n",
    "        device = next(model.parameters()).device\n",
    "    if not os.path.exists(ckpt_path):\n",
    "        raise FileNotFoundError(f\"Checkpoint not found: {ckpt_path}\")\n",
    "    state = torch.load(ckpt_path, map_location=device)\n",
    "    model.load_state_dict(state)\n",
    "    model.to(device)\n",
    "    model.eval()\n",
    "    return model\n",
    "\n",
    "best_model = load_best_weights(model, ckpt_path=\"model/best_model.pth\", device=DEVICE)"
   ],
   "id": "492cc30046f34217",
   "outputs": [],
   "execution_count": 99
  },
  {
   "metadata": {
    "ExecuteTime": {
     "end_time": "2025-08-25T08:03:58.908885Z",
     "start_time": "2025-08-25T08:03:57.130306Z"
    }
   },
   "cell_type": "code",
   "source": [
    "# Final evaluation on test set\n",
    "@torch.no_grad()\n",
    "def final_evaluation_loader(model, test_loader, loss_fn, k_values=(5,10,20,50), device=\"cpu\") -> pd.DataFrame:\n",
    "    rows = []\n",
    "    for k in k_values:\n",
    "        metrics = evaluate_ranking_loader(model, test_loader, loss_fn, k=k, device=device)\n",
    "        rows.append({\n",
    "            \"K\": k,\n",
    "            \"HR@K\": metrics[\"HR@K\"],\n",
    "            \"NDCG@K\": metrics[\"NDCG@K\"],\n",
    "            \"Precision@K\": metrics[\"Precision@K\"],\n",
    "        })\n",
    "    df = pd.DataFrame(rows).set_index(\"K\").sort_index()\n",
    "    print(df.to_string(float_format=lambda x: f\"{x:.4f}\"))\n",
    "    return df\n",
    "\n",
    "results_df = final_evaluation_loader(best_model, test_loader, loss_fn, device=DEVICE)"
   ],
   "id": "785057c74fe7843a",
   "outputs": [
    {
     "name": "stdout",
     "output_type": "stream",
     "text": [
      "     HR@K  NDCG@K  Precision@K\n",
      "K                             \n",
      "5  0.3170  0.2204       0.0634\n",
      "10 0.4451  0.2617       0.0445\n",
      "20 0.5896  0.2982       0.0295\n",
      "50 0.7955  0.3392       0.0159\n"
     ]
    }
   ],
   "execution_count": 100
  },
  {
   "metadata": {
    "ExecuteTime": {
     "end_time": "2025-08-25T08:03:59.103510Z",
     "start_time": "2025-08-25T08:03:59.097513Z"
    }
   },
   "cell_type": "code",
   "source": [
    "@torch.no_grad()\n",
    "def get_recommendations(\n",
    "    model, user_id, pos_items_by_user, data, top_k=10, exclude_interacted=True, as_prob=False\n",
    "):\n",
    "    model.eval()\n",
    "    scores = model.predict_all_items(user_id)  # logits\n",
    "    if exclude_interacted and user_id in pos_items_by_user:\n",
    "        idx = torch.as_tensor(list(pos_items_by_user[user_id]), dtype=torch.long, device=scores.device)\n",
    "        if idx.numel() > 0:\n",
    "            scores.index_fill_(0, idx, float('-inf'))\n",
    "\n",
    "    top_scores, top_indices = torch.topk(scores, k=top_k)\n",
    "    shown = torch.sigmoid(top_scores) if as_prob else top_scores\n",
    "\n",
    "    item_ids_np = top_indices.detach().cpu().numpy()\n",
    "    items_np = data[\"item_encoder\"].inverse_transform(item_ids_np)\n",
    "    return [{\"item_id\": int(i), \"item\": it, \"score\": float(s)} for i, it, s in zip(item_ids_np, items_np, shown.detach().cpu().numpy())]\n"
   ],
   "id": "fd43c719445c714e",
   "outputs": [],
   "execution_count": 101
  },
  {
   "metadata": {
    "ExecuteTime": {
     "end_time": "2025-08-25T08:03:59.819127Z",
     "start_time": "2025-08-25T08:03:59.115196Z"
    }
   },
   "cell_type": "code",
   "source": [
    "def build_history_by_user(df):\n",
    "    # df must contain user_id, item_id, timestamp (ints)\n",
    "    df_sorted = df.sort_values([\"user_id\", \"timestamp\"])\n",
    "    hist = defaultdict(list)\n",
    "    for u, i in zip(df_sorted[\"user_id\"].values, df_sorted[\"item_id\"].values):\n",
    "        hist[u].append(int(i))\n",
    "    return hist\n",
    "\n",
    "# Build once (choose train_df or filtered_df depending on story you want)\n",
    "history_by_user_train = build_history_by_user(train_df)\n",
    "history_by_user_full  = build_history_by_user(filtered_df)"
   ],
   "id": "b40be0f20764120b",
   "outputs": [],
   "execution_count": 102
  },
  {
   "metadata": {
    "ExecuteTime": {
     "end_time": "2025-08-25T08:03:59.832189Z",
     "start_time": "2025-08-25T08:03:59.826148Z"
    }
   },
   "cell_type": "code",
   "source": [
    "def show_sample_recommendations(\n",
    "    model,\n",
    "    data,\n",
    "    pos_items_by_user,     # pass train-only OR full here, same as get_recommendations\n",
    "    history_by_user,       # pass the matching history dict (train or full)\n",
    "    num_users=5,\n",
    "    top_k=10\n",
    "):\n",
    "    print(\"\\n\" + \"=\"*50)\n",
    "    print(\"User Sample Recommendations\")\n",
    "    print(\"=\"*50)\n",
    "\n",
    "    user_candidates = data[\"filtered_df\"][\"user_id\"].unique().tolist()\n",
    "    for user_id in random.sample(user_candidates, k=min(num_users, len(user_candidates))):\n",
    "        original_user = data[\"user_encoder\"].inverse_transform([user_id])[0]\n",
    "        print(f\"\\nUser: {original_user} (ID: {user_id})\")\n",
    "        print(\"-\" * 40)\n",
    "\n",
    "        recent = history_by_user.get(user_id, [])[-5:]  # last 5 chronologically\n",
    "        print(\"Recent interactions:\")\n",
    "        for item_id in reversed(recent):  # most recent first\n",
    "            print(\"  -\", data[\"item_encoder\"].inverse_transform([item_id])[0])\n",
    "\n",
    "        recs = get_recommendations(\n",
    "            model,\n",
    "            user_id=user_id,\n",
    "            pos_items_by_user=pos_items_by_user,\n",
    "            data=data,\n",
    "            top_k=top_k,\n",
    "            exclude_interacted=True\n",
    "        )\n",
    "        print(\"\\nTop 10 Recommendations:\")\n",
    "        for i, rec in enumerate(recs, 1):\n",
    "            print(f\"  {i}. {rec['item']} (Score: {rec['score']:.4f})\")"
   ],
   "id": "80d2c20c7b571ddb",
   "outputs": [],
   "execution_count": 103
  },
  {
   "metadata": {
    "ExecuteTime": {
     "end_time": "2025-08-25T08:04:01.355086Z",
     "start_time": "2025-08-25T08:04:01.216581Z"
    }
   },
   "cell_type": "code",
   "source": [
    "# “Online-style” (no future knowledge):\n",
    "show_sample_recommendations(\n",
    "    best_model,\n",
    "    data_processor,\n",
    "    pos_items_by_user=pos_items_by_user,     # exclude TRAIN-only\n",
    "    history_by_user=history_by_user_train,\n",
    "    num_users=5, top_k=10\n",
    ")"
   ],
   "id": "793f727cef1f015b",
   "outputs": [
    {
     "name": "stdout",
     "output_type": "stream",
     "text": [
      "\n",
      "==================================================\n",
      "User Sample Recommendations\n",
      "==================================================\n",
      "\n",
      "User: AGB6RMP4PWDYTNT2X6X5Q7DWJWUQ (ID: 18899)\n",
      "----------------------------------------\n",
      "Recent interactions:\n",
      "  - B0040FMG2G\n",
      "  - B00TJZ0SJU\n",
      "  - B000RLHDUM\n",
      "  - B01MDMGUMY\n",
      "  - B01HPA20QY\n",
      "\n",
      "Top 10 Recommendations:\n",
      "  1. B00RSGIVVO (Score: 0.9657)\n",
      "  2. B00I3MQNWG (Score: 0.9653)\n",
      "  3. B00MR9UY8A (Score: 0.9525)\n",
      "  4. B0162LLCA2 (Score: 0.9249)\n",
      "  5. B01AB17IGQ (Score: 0.9197)\n",
      "  6. B00TU9UFTS (Score: 0.9196)\n",
      "  7. B00X8UKOUK (Score: 0.9194)\n",
      "  8. B00I3MPZUW (Score: 0.9191)\n",
      "  9. B010O44BSS (Score: 0.9179)\n",
      "  10. B003AZCYCE (Score: 0.9133)\n",
      "\n",
      "User: AHXDNENSHGPLOJDEZEWI63LRIC5Q (ID: 33222)\n",
      "----------------------------------------\n",
      "Recent interactions:\n",
      "  - B00MA39DBC\n",
      "  - B00FPGV3RS\n",
      "  - B01MUZ1MIA\n",
      "  - B01BHDEHKM\n",
      "  - B00QQW1ZIW\n",
      "\n",
      "Top 10 Recommendations:\n",
      "  1. B00I3MQNWG (Score: 0.9751)\n",
      "  2. B00RSGIVVO (Score: 0.9733)\n",
      "  3. B00MR9UY8A (Score: 0.9617)\n",
      "  4. B01J4SRJFW (Score: 0.9399)\n",
      "  5. B0162LLCA2 (Score: 0.9342)\n",
      "  6. B00TU9UFTS (Score: 0.9330)\n",
      "  7. B003AZCYCE (Score: 0.9306)\n",
      "  8. B00I3NHZPY (Score: 0.9220)\n",
      "  9. B00YBX664Q (Score: 0.9200)\n",
      "  10. B01AB17IGQ (Score: 0.9186)\n",
      "\n",
      "User: AHZTGI5HTL77MEXQ73327BD45OXQ (ID: 33895)\n",
      "----------------------------------------\n",
      "Recent interactions:\n",
      "  - B001DUDKEY\n",
      "  - B00JBNX59U\n",
      "  - B000GOWNPU\n",
      "  - B0748PJSBJ\n",
      "  - B074XLCM59\n",
      "\n",
      "Top 10 Recommendations:\n",
      "  1. B00I3MQNWG (Score: 0.9726)\n",
      "  2. B00RSGIVVO (Score: 0.9711)\n",
      "  3. B00MR9UY8A (Score: 0.9691)\n",
      "  4. B07V3TNS85 (Score: 0.9532)\n",
      "  5. B073RPZK88 (Score: 0.9520)\n",
      "  6. B06W5H33JH (Score: 0.9510)\n",
      "  7. B00YBX664Q (Score: 0.9496)\n",
      "  8. B01J4SRJFW (Score: 0.9455)\n",
      "  9. B0162LLCA2 (Score: 0.9454)\n",
      "  10. B00TU9UFTS (Score: 0.9396)\n",
      "\n",
      "User: AHDPOHHVJV7AF4RCRLN7IXZXEW5A (ID: 27970)\n",
      "----------------------------------------\n",
      "Recent interactions:\n",
      "  - B000ZOXDKA\n",
      "  - B004176JHQ\n",
      "  - B004L9GM5S\n",
      "  - B007AAF2ZG\n",
      "  - B004TPJMRY\n",
      "\n",
      "Top 10 Recommendations:\n",
      "  1. B0000AQS0F (Score: 0.8171)\n",
      "  2. B008RJ6TTC (Score: 0.8076)\n",
      "  3. B00G5G7EXY (Score: 0.7869)\n",
      "  4. B003Q6D2B4 (Score: 0.7716)\n",
      "  5. B0083H6APG (Score: 0.7621)\n",
      "  6. B00BEZTMFY (Score: 0.7573)\n",
      "  7. B00DL48BM6 (Score: 0.7559)\n",
      "  8. B00N1JQ452 (Score: 0.7488)\n",
      "  9. B005LAIHXQ (Score: 0.7486)\n",
      "  10. B009AMANBA (Score: 0.7469)\n",
      "\n",
      "User: AGP2PMUIQPR2KMJAHUFNZC7ZXSEA (ID: 22528)\n",
      "----------------------------------------\n",
      "Recent interactions:\n",
      "  - B006IVTP1U\n",
      "  - B008Y2X78S\n",
      "  - B01CDUCO2Q\n",
      "  - B0122UJQ00\n",
      "  - B01AB17JGU\n",
      "\n",
      "Top 10 Recommendations:\n",
      "  1. B00I3MQNWG (Score: 0.9847)\n",
      "  2. B00RSGIVVO (Score: 0.9831)\n",
      "  3. B00MR9UY8A (Score: 0.9701)\n",
      "  4. B003AZCYCE (Score: 0.9602)\n",
      "  5. B01AB17IGQ (Score: 0.9593)\n",
      "  6. B01EN8FBG2 (Score: 0.9509)\n",
      "  7. B00X8UKOUK (Score: 0.9508)\n",
      "  8. B004MWZLYC (Score: 0.9507)\n",
      "  9. B01J4SRJFW (Score: 0.9504)\n",
      "  10. B00I3NHZPY (Score: 0.9475)\n"
     ]
    }
   ],
   "execution_count": 104
  },
  {
   "metadata": {
    "ExecuteTime": {
     "end_time": "2025-08-25T08:04:02.456966Z",
     "start_time": "2025-08-25T08:04:02.447966Z"
    }
   },
   "cell_type": "code",
   "source": [
    "def plot_training_history(train_losses, val_losses, val_metrics, save_path='training_history.png'):\n",
    "    \"\"\"Plot training history including train/val loss and metrics\"\"\"\n",
    "    # Extract series\n",
    "    hr_values = [m.get('HR@K', 0.0) for m in val_metrics]\n",
    "    ndcg_values = [m.get('NDCG@K', 0.0) for m in val_metrics]\n",
    "    precision_values = [m.get('Precision@K', 0.0) for m in val_metrics]\n",
    "\n",
    "    fig = plt.figure(figsize=(18, 10))\n",
    "    fig.suptitle('Training History', fontsize=16)\n",
    "\n",
    "    gs = fig.add_gridspec(2, 3, hspace=0.35, wspace=0.25)\n",
    "\n",
    "    # 1) Loss plot\n",
    "    ax_loss = fig.add_subplot(gs[0, 0])\n",
    "    ax_loss.plot(train_losses, label='Training Loss', color='blue')\n",
    "    ax_loss.plot(val_losses, label='Validation Loss', color='red')\n",
    "    ax_loss.set_xlabel('Epoch'); ax_loss.set_ylabel('Loss'); ax_loss.set_title('Training vs Validation Loss')\n",
    "    ax_loss.legend(); ax_loss.grid(True, alpha=0.3)\n",
    "\n",
    "    # 2-4) Metric plots via loop\n",
    "    metric_axes = [fig.add_subplot(gs[0, 1]), fig.add_subplot(gs[0, 2]), fig.add_subplot(gs[1, 0])]\n",
    "    metric_cfgs = [\n",
    "        ('Val HR@10', hr_values, 'green', 'o', 'Validation Hit Rate@10', 'HR@10'),\n",
    "        ('Val NDCG@10', ndcg_values, 'orange', 's', 'Validation NDCG@10', 'NDCG@10'),\n",
    "        ('Val Precision@10', precision_values, 'purple', '^', 'Validation Precision@10', 'Precision@10'),\n",
    "    ]\n",
    "    for ax, (label, series, color, marker, title, ylabel) in zip(metric_axes, metric_cfgs):\n",
    "        ax.plot(series, label=label, color=color, marker=marker)\n",
    "        ax.set_xlabel('Epoch'); ax.set_ylabel(ylabel); ax.set_title(title)\n",
    "        ax.legend(); ax.grid(True, alpha=0.3)\n",
    "\n",
    "    # 5) All metrics together (span two columns)\n",
    "    ax_all = fig.add_subplot(gs[1, 1:])\n",
    "    for series, label, marker in [(hr_values, 'HR@10', 'o'),\n",
    "                                  (ndcg_values, 'NDCG@10', 's'),\n",
    "                                  (precision_values, 'Precision@10', '^')]:\n",
    "        ax_all.plot(series, label=label, marker=marker)\n",
    "    ax_all.set_xlabel('Epoch'); ax_all.set_ylabel('Score'); ax_all.set_title('All Validation Metrics Comparison')\n",
    "    ax_all.legend(); ax_all.grid(True, alpha=0.3)\n",
    "\n",
    "    fig.tight_layout(rect=(0, 0, 1, 0.96))\n",
    "    fig.savefig(save_path, dpi=100, bbox_inches='tight')\n",
    "    plt.show()"
   ],
   "id": "5cc5842652486e0",
   "outputs": [],
   "execution_count": 105
  },
  {
   "metadata": {
    "ExecuteTime": {
     "end_time": "2025-08-25T08:04:04.117950Z",
     "start_time": "2025-08-25T08:04:03.282535Z"
    }
   },
   "cell_type": "code",
   "source": "plot_training_history(train_losses, val_losses, val_metrics, save_path='training_history.png')",
   "id": "507f2db0a6be5b97",
   "outputs": [
    {
     "name": "stderr",
     "output_type": "stream",
     "text": [
      "C:\\Users\\super\\AppData\\Local\\Temp\\ipykernel_21176\\3352965676.py:41: UserWarning: This figure includes Axes that are not compatible with tight_layout, so results might be incorrect.\n",
      "  fig.tight_layout(rect=(0, 0, 1, 0.96))\n"
     ]
    },
    {
     "data": {
      "text/plain": [
       "<Figure size 1800x1000 with 5 Axes>"
      ],
      "image/png": "[encoded data removed]"
     },
     "metadata": {},
     "output_type": "display_data"
    }
   ],
   "execution_count": 106
  },
  {
   "metadata": {},
   "cell_type": "markdown",
   "source": "## Building NeuMF model",
   "id": "57400cb12a774b2a"
  },
  {
   "metadata": {
    "ExecuteTime": {
     "end_time": "2025-08-25T08:04:38.193601Z",
     "start_time": "2025-08-25T08:04:38.159604Z"
    }
   },
   "cell_type": "code",
   "source": [
    "class NeuralMF(nn.Module):\n",
    "    \"\"\"\n",
    "    NeuMF: GMF (dot-style) + MLP (nonlinear) with optional user/item/global biases.\n",
    "    Returns raw logits suitable for BCEWithLogitsLoss.\n",
    "    \"\"\"\n",
    "    def __init__(\n",
    "        self,\n",
    "        n_users: int,\n",
    "        n_items: int,\n",
    "        gmf_dim: int = 32,\n",
    "        mlp_dim: int = 32,\n",
    "        mlp_layers=(64, 32, 16),\n",
    "        dropout: float = 0.1,\n",
    "        use_bias: bool = True,\n",
    "    ):\n",
    "        super().__init__()\n",
    "        # GMF branch\n",
    "        self.user_emb_gmf = nn.Embedding(n_users, gmf_dim)\n",
    "        self.item_emb_gmf = nn.Embedding(n_items, gmf_dim)\n",
    "\n",
    "        # MLP branch\n",
    "        self.user_emb_mlp = nn.Embedding(n_users, mlp_dim)\n",
    "        self.item_emb_mlp = nn.Embedding(n_items, mlp_dim)\n",
    "\n",
    "        mlp_blocks = []\n",
    "        in_dim = mlp_dim * 2\n",
    "        for h in mlp_layers:\n",
    "            mlp_blocks.append(nn.Linear(in_dim, h))\n",
    "            mlp_blocks.append(nn.ReLU())\n",
    "            if dropout and dropout > 0:\n",
    "                mlp_blocks.append(nn.Dropout(dropout))\n",
    "            in_dim = h\n",
    "        self.mlp = nn.Sequential(*mlp_blocks) if mlp_blocks else nn.Identity()\n",
    "\n",
    "        # Final combine: concat(GMF, MLP) -> 1\n",
    "        final_in = gmf_dim + (mlp_layers[-1] if mlp_blocks else mlp_dim * 2)\n",
    "        self.fc_out = nn.Linear(final_in, 1)\n",
    "\n",
    "        self.use_bias = use_bias\n",
    "        if use_bias:\n",
    "            self.user_bias = nn.Embedding(n_users, 1)\n",
    "            self.item_bias = nn.Embedding(n_items, 1)\n",
    "        else:\n",
    "            self.user_bias = None\n",
    "            self.item_bias = None\n",
    "        self.global_bias = nn.Parameter(torch.zeros(1))\n",
    "\n",
    "        self._reset_parameters()\n",
    "\n",
    "    def _reset_parameters(self):\n",
    "        for emb in [self.user_emb_gmf, self.item_emb_gmf, self.user_emb_mlp, self.item_emb_mlp]:\n",
    "            nn.init.xavier_uniform_(emb.weight)\n",
    "        for m in self.mlp:\n",
    "            if isinstance(m, nn.Linear):\n",
    "                nn.init.xavier_uniform_(m.weight)\n",
    "                nn.init.zeros_(m.bias)\n",
    "        nn.init.xavier_uniform_(self.fc_out.weight)\n",
    "        nn.init.zeros_(self.fc_out.bias)\n",
    "        if self.use_bias:\n",
    "            nn.init.zeros_(self.user_bias.weight)\n",
    "            nn.init.zeros_(self.item_bias.weight)\n",
    "\n",
    "    def forward(self, user_ids, item_ids):\n",
    "        # GMF\n",
    "        gmf_u = self.user_emb_gmf(user_ids)           # [B, gmf_dim]\n",
    "        gmf_i = self.item_emb_gmf(item_ids)           # [B, gmf_dim]\n",
    "        gmf   = gmf_u * gmf_i                         # [B, gmf_dim]  (element-wise product)\n",
    "\n",
    "        # MLP\n",
    "        mlp_u = self.user_emb_mlp(user_ids)           # [B, mlp_dim]\n",
    "        mlp_i = self.item_emb_mlp(item_ids)           # [B, mlp_dim]\n",
    "        mlp   = torch.cat([mlp_u, mlp_i], dim=1)      # [B, 2*mlp_dim]\n",
    "        mlp   = self.mlp(mlp)                          # [B, last_mlp_hidden]\n",
    "\n",
    "        # Combine\n",
    "        x = torch.cat([gmf, mlp], dim=1)              # [B, gmf_dim + last_mlp_hidden]\n",
    "        logit = self.fc_out(x).squeeze(-1)            # [B]\n",
    "\n",
    "        if self.use_bias:\n",
    "            logit = logit + self.user_bias(user_ids).squeeze(-1) + self.item_bias(item_ids).squeeze(-1)\n",
    "        logit = logit + self.global_bias\n",
    "        return logit\n",
    "\n",
    "    @torch.no_grad()\n",
    "    def predict_all_items(self, user_id: int) -> torch.Tensor:\n",
    "        \"\"\"\n",
    "        Vectorized scoring for all items; returns raw logits.\n",
    "        \"\"\"\n",
    "        device = next(self.parameters()).device\n",
    "        u = torch.tensor([user_id], dtype=torch.long, device=device)\n",
    "        all_items = torch.arange(self.item_emb_gmf.num_embeddings, dtype=torch.long, device=device)\n",
    "\n",
    "        # GMF\n",
    "        gmf_u = self.user_emb_gmf(u)                          # [1, gmf_dim]\n",
    "        gmf_i = self.item_emb_gmf(all_items)                  # [N, gmf_dim]\n",
    "        gmf   = (gmf_u * gmf_i)                               # [N, gmf_dim]\n",
    "\n",
    "        # MLP\n",
    "        mlp_u = self.user_emb_mlp(u).expand(all_items.numel(), -1)  # [N, mlp_dim]\n",
    "        mlp_i = self.item_emb_mlp(all_items)                         # [N, mlp_dim]\n",
    "        mlp   = torch.cat([mlp_u, mlp_i], dim=1)                     # [N, 2*mlp_dim]\n",
    "        mlp   = self.mlp(mlp)                                        # [N, last_mlp_hidden]\n",
    "\n",
    "        x = torch.cat([gmf, mlp], dim=1)                             # [N, gmf_dim+last]\n",
    "        logit = self.fc_out(x).squeeze(-1)                           # [N]\n",
    "\n",
    "        if self.use_bias:\n",
    "            logit = logit + self.user_bias(u).squeeze(-1) + self.item_bias(all_items).squeeze(-1)\n",
    "        logit = logit + self.global_bias\n",
    "        return logit"
   ],
   "id": "b612b82cf9484cfc",
   "outputs": [],
   "execution_count": 107
  },
  {
   "metadata": {
    "ExecuteTime": {
     "end_time": "2025-08-25T08:10:25.471658Z",
     "start_time": "2025-08-25T08:04:39.286739Z"
    }
   },
   "cell_type": "code",
   "source": [
    "neumf = NeuralMF(\n",
    "    n_users=NUM_USERS,\n",
    "    n_items=NUM_ITEMS,\n",
    "    gmf_dim=32,\n",
    "    mlp_dim=32,\n",
    "    mlp_layers=(64, 32, 16),\n",
    "    dropout=0.2,\n",
    "    use_bias=True\n",
    ").to(DEVICE)\n",
    "\n",
    "loss_fn = nn.BCEWithLogitsLoss()\n",
    "optimizer = torch.optim.Adam(neumf.parameters(), lr=1e-3, weight_decay=1e-6)  # a bit higher LR works well for NeuMF\n",
    "\n",
    "train_losses_n, val_losses_n, val_metrics_n, best_ndcg_n = model_trainer(\n",
    "    model=neumf,\n",
    "    train_loader=train_loader,\n",
    "    eval_loader=val_loader,\n",
    "    loss_fn=loss_fn,\n",
    "    optimizer=optimizer,\n",
    "    epochs=20,\n",
    "    k=10,\n",
    "    device=DEVICE,\n",
    "    save_dir=\"model_neumf\"\n",
    ")\n",
    "\n",
    "best_neumf = load_best_weights(neumf, ckpt_path=\"model_neumf/best_model.pth\", device=DEVICE)\n",
    "\n",
    "results_neumf = final_evaluation_loader(best_neumf, test_loader, loss_fn, device=DEVICE)"
   ],
   "id": "5fda2610f7a9e398",
   "outputs": [
    {
     "name": "stderr",
     "output_type": "stream",
     "text": [
      "Epoch 1/20: 100%|██████████| 1973/1973 [00:16<00:00, 120.27it/s]\n"
     ]
    },
    {
     "name": "stdout",
     "output_type": "stream",
     "text": [
      "Epoch 1/20  Train loss 0.4710  Val loss 0.2202  HR@10 0.3122  NDCG@10 0.1755  Precision@10 0.0312  (new best)  Time 18.23s\n"
     ]
    },
    {
     "name": "stderr",
     "output_type": "stream",
     "text": [
      "Epoch 2/20: 100%|██████████| 1973/1973 [00:16<00:00, 122.62it/s]\n"
     ]
    },
    {
     "name": "stdout",
     "output_type": "stream",
     "text": [
      "Epoch 2/20  Train loss 0.4365  Val loss 0.2070  HR@10 0.3226  NDCG@10 0.1821  Precision@10 0.0323  (new best)  Time 17.89s\n"
     ]
    },
    {
     "name": "stderr",
     "output_type": "stream",
     "text": [
      "Epoch 3/20: 100%|██████████| 1973/1973 [00:15<00:00, 127.31it/s]\n"
     ]
    },
    {
     "name": "stdout",
     "output_type": "stream",
     "text": [
      "Epoch 3/20  Train loss 0.4157  Val loss 0.2034  HR@10 0.3486  NDCG@10 0.2013  Precision@10 0.0349  (new best)  Time 17.32s\n"
     ]
    },
    {
     "name": "stderr",
     "output_type": "stream",
     "text": [
      "Epoch 4/20: 100%|██████████| 1973/1973 [00:15<00:00, 128.02it/s]\n"
     ]
    },
    {
     "name": "stdout",
     "output_type": "stream",
     "text": [
      "Epoch 4/20  Train loss 0.3785  Val loss 0.1889  HR@10 0.4017  NDCG@10 0.2343  Precision@10 0.0402  (new best)  Time 17.23s\n"
     ]
    },
    {
     "name": "stderr",
     "output_type": "stream",
     "text": [
      "Epoch 5/20: 100%|██████████| 1973/1973 [00:15<00:00, 123.45it/s]\n"
     ]
    },
    {
     "name": "stdout",
     "output_type": "stream",
     "text": [
      "Epoch 5/20  Train loss 0.3406  Val loss 0.1849  HR@10 0.4194  NDCG@10 0.2481  Precision@10 0.0419  (new best)  Time 17.80s\n"
     ]
    },
    {
     "name": "stderr",
     "output_type": "stream",
     "text": [
      "Epoch 6/20: 100%|██████████| 1973/1973 [00:15<00:00, 126.58it/s]\n"
     ]
    },
    {
     "name": "stdout",
     "output_type": "stream",
     "text": [
      "Epoch 6/20  Train loss 0.3137  Val loss 0.1827  HR@10 0.4256  NDCG@10 0.2487  Precision@10 0.0426  (new best)  Time 17.40s\n"
     ]
    },
    {
     "name": "stderr",
     "output_type": "stream",
     "text": [
      "Epoch 7/20: 100%|██████████| 1973/1973 [00:15<00:00, 123.90it/s]\n"
     ]
    },
    {
     "name": "stdout",
     "output_type": "stream",
     "text": [
      "Epoch 7/20  Train loss 0.2936  Val loss 0.1837  HR@10 0.4234  NDCG@10 0.2489  Precision@10 0.0423  (new best)  Time 17.74s\n"
     ]
    },
    {
     "name": "stderr",
     "output_type": "stream",
     "text": [
      "Epoch 8/20: 100%|██████████| 1973/1973 [00:15<00:00, 129.02it/s]\n"
     ]
    },
    {
     "name": "stdout",
     "output_type": "stream",
     "text": [
      "Epoch 8/20  Train loss 0.2764  Val loss 0.1805  HR@10 0.4269  NDCG@10 0.2497  Precision@10 0.0427  (new best)  Time 17.11s\n"
     ]
    },
    {
     "name": "stderr",
     "output_type": "stream",
     "text": [
      "Epoch 9/20: 100%|██████████| 1973/1973 [00:15<00:00, 128.95it/s]\n"
     ]
    },
    {
     "name": "stdout",
     "output_type": "stream",
     "text": [
      "Epoch 9/20  Train loss 0.2622  Val loss 0.1708  HR@10 0.4255  NDCG@10 0.2521  Precision@10 0.0426  (new best)  Time 17.19s\n"
     ]
    },
    {
     "name": "stderr",
     "output_type": "stream",
     "text": [
      "Epoch 10/20: 100%|██████████| 1973/1973 [00:15<00:00, 124.33it/s]\n"
     ]
    },
    {
     "name": "stdout",
     "output_type": "stream",
     "text": [
      "Epoch 10/20  Train loss 0.2492  Val loss 0.1704  HR@10 0.4276  NDCG@10 0.2518  Precision@10 0.0428    Time 17.00s\n"
     ]
    },
    {
     "name": "stderr",
     "output_type": "stream",
     "text": [
      "Epoch 11/20: 100%|██████████| 1973/1973 [00:15<00:00, 124.54it/s]\n"
     ]
    },
    {
     "name": "stdout",
     "output_type": "stream",
     "text": [
      "Epoch 11/20  Train loss 0.2379  Val loss 0.1704  HR@10 0.4249  NDCG@10 0.2499  Precision@10 0.0425    Time 16.93s\n"
     ]
    },
    {
     "name": "stderr",
     "output_type": "stream",
     "text": [
      "Epoch 12/20: 100%|██████████| 1973/1973 [00:16<00:00, 121.71it/s]\n"
     ]
    },
    {
     "name": "stdout",
     "output_type": "stream",
     "text": [
      "Epoch 12/20  Train loss 0.2277  Val loss 0.1677  HR@10 0.4231  NDCG@10 0.2478  Precision@10 0.0423    Time 17.29s\n"
     ]
    },
    {
     "name": "stderr",
     "output_type": "stream",
     "text": [
      "Epoch 13/20: 100%|██████████| 1973/1973 [00:15<00:00, 128.81it/s]\n"
     ]
    },
    {
     "name": "stdout",
     "output_type": "stream",
     "text": [
      "Epoch 13/20  Train loss 0.2180  Val loss 0.1659  HR@10 0.4262  NDCG@10 0.2491  Precision@10 0.0426    Time 16.41s\n"
     ]
    },
    {
     "name": "stderr",
     "output_type": "stream",
     "text": [
      "Epoch 14/20: 100%|██████████| 1973/1973 [00:15<00:00, 125.29it/s]\n"
     ]
    },
    {
     "name": "stdout",
     "output_type": "stream",
     "text": [
      "Epoch 14/20  Train loss 0.2096  Val loss 0.1578  HR@10 0.4267  NDCG@10 0.2489  Precision@10 0.0427    Time 16.79s\n"
     ]
    },
    {
     "name": "stderr",
     "output_type": "stream",
     "text": [
      "Epoch 15/20: 100%|██████████| 1973/1973 [00:16<00:00, 123.09it/s]\n"
     ]
    },
    {
     "name": "stdout",
     "output_type": "stream",
     "text": [
      "Epoch 15/20  Train loss 0.2021  Val loss 0.1608  HR@10 0.4257  NDCG@10 0.2472  Precision@10 0.0426    Time 17.12s\n"
     ]
    },
    {
     "name": "stderr",
     "output_type": "stream",
     "text": [
      "Epoch 16/20: 100%|██████████| 1973/1973 [00:15<00:00, 124.77it/s]\n"
     ]
    },
    {
     "name": "stdout",
     "output_type": "stream",
     "text": [
      "Epoch 16/20  Train loss 0.1953  Val loss 0.1643  HR@10 0.4245  NDCG@10 0.2463  Precision@10 0.0425    Time 16.86s\n"
     ]
    },
    {
     "name": "stderr",
     "output_type": "stream",
     "text": [
      "Epoch 17/20: 100%|██████████| 1973/1973 [00:15<00:00, 124.10it/s]\n"
     ]
    },
    {
     "name": "stdout",
     "output_type": "stream",
     "text": [
      "Epoch 17/20  Train loss 0.1888  Val loss 0.1592  HR@10 0.4260  NDCG@10 0.2463  Precision@10 0.0426    Time 17.03s\n"
     ]
    },
    {
     "name": "stderr",
     "output_type": "stream",
     "text": [
      "Epoch 18/20: 100%|██████████| 1973/1973 [00:15<00:00, 123.94it/s]\n"
     ]
    },
    {
     "name": "stdout",
     "output_type": "stream",
     "text": [
      "Epoch 18/20  Train loss 0.1831  Val loss 0.1615  HR@10 0.4254  NDCG@10 0.2468  Precision@10 0.0425    Time 17.02s\n"
     ]
    },
    {
     "name": "stderr",
     "output_type": "stream",
     "text": [
      "Epoch 19/20: 100%|██████████| 1973/1973 [00:15<00:00, 127.11it/s]\n"
     ]
    },
    {
     "name": "stdout",
     "output_type": "stream",
     "text": [
      "Epoch 19/20  Train loss 0.1779  Val loss 0.1577  HR@10 0.4258  NDCG@10 0.2449  Precision@10 0.0426    Time 16.62s\n"
     ]
    },
    {
     "name": "stderr",
     "output_type": "stream",
     "text": [
      "Epoch 20/20: 100%|██████████| 1973/1973 [00:16<00:00, 120.94it/s]\n"
     ]
    },
    {
     "name": "stdout",
     "output_type": "stream",
     "text": [
      "Epoch 20/20  Train loss 0.1731  Val loss 0.1579  HR@10 0.4240  NDCG@10 0.2447  Precision@10 0.0424    Time 17.38s\n",
      "\n",
      "==================================================\n",
      "Training Complete.\n",
      "Best epoch: 9 with NDCG@10: 0.2521\n",
      "==================================================\n",
      "\n",
      "\n",
      "     HR@K  NDCG@K  Precision@K\n",
      "K                             \n",
      "5  0.2629  0.1811       0.0526\n",
      "10 0.3800  0.2189       0.0380\n",
      "20 0.5308  0.2569       0.0265\n",
      "50 0.7800  0.3063       0.0156\n"
     ]
    }
   ],
   "execution_count": 108
  },
  {
   "metadata": {},
   "cell_type": "code",
   "outputs": [],
   "execution_count": null,
   "source": "",
   "id": "8c10be9ed7ffca73"
  }
 ],
 "metadata": {
  "kernelspec": {
   "display_name": "Python 3",
   "language": "python",
   "name": "python3"
  },
  "language_info": {
   "codemirror_mode": {
    "name": "ipython",
    "version": 2
   },
   "file_extension": ".py",
   "mimetype": "text/x-python",
   "name": "python",
   "nbconvert_exporter": "python",
   "pygments_lexer": "ipython2",
   "version": "2.7.6"
  }
 },
 "nbformat": 4,
 "nbformat_minor": 5
}
