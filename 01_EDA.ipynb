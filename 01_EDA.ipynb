{
 "cells": [
  {
   "metadata": {},
   "cell_type": "markdown",
   "source": "# Exploratory Data Analysis (EDA) for the Amazon Customer Reviews Dataset",
   "id": "b158fac750c19d53"
  },
  {
   "metadata": {
    "ExecuteTime": {
     "end_time": "2025-08-18T06:42:04.047502Z",
     "start_time": "2025-08-18T06:41:58.154624Z"
    }
   },
   "cell_type": "code",
   "source": [
    "import os\n",
    "import random\n",
    "import numpy as np\n",
    "import pandas as pd\n",
    "import matplotlib.pyplot as plt\n",
    "import torch\n",
    "\n",
    "from datasets import load_dataset, get_dataset_config_names"
   ],
   "id": "6fec825914fa546b",
   "outputs": [
    {
     "name": "stderr",
     "output_type": "stream",
     "text": [
      "E:\\Python Scripts\\recsys\\.venv\\Lib\\site-packages\\tqdm\\auto.py:21: TqdmWarning: IProgress not found. Please update jupyter and ipywidgets. See https://ipywidgets.readthedocs.io/en/stable/user_install.html\n",
      "  from .autonotebook import tqdm as notebook_tqdm\n"
     ]
    }
   ],
   "execution_count": 1
  },
  {
   "metadata": {
    "ExecuteTime": {
     "end_time": "2025-08-18T06:42:04.133535Z",
     "start_time": "2025-08-18T06:42:04.066535Z"
    }
   },
   "cell_type": "code",
   "source": [
    "def set_seed(seed=42):\n",
    "    random.seed(seed)\n",
    "    np.random.seed(seed)\n",
    "    torch.manual_seed(seed)\n",
    "    torch.cuda.manual_seed_all(seed)\n",
    "\n",
    "set_seed(42)\n",
    "\n",
    "DEVICE = \"cuda\" if torch.cuda.is_available() else \"cpu\"\n",
    "print(f\"Using device: {DEVICE}\")"
   ],
   "id": "67c0634507d00dc8",
   "outputs": [
    {
     "name": "stdout",
     "output_type": "stream",
     "text": [
      "Using device: cuda\n"
     ]
    }
   ],
   "execution_count": 2
  },
  {
   "metadata": {},
   "cell_type": "markdown",
   "source": [
    "## Data Loading (Amazon Reviews Dataset 2023)\n",
    "The dataset is loaded from the Hugging Face datasets library."
   ],
   "id": "a19f7d759fc4d993"
  },
  {
   "metadata": {
    "ExecuteTime": {
     "end_time": "2025-08-18T07:58:32.578948Z",
     "start_time": "2025-08-18T07:58:00.251002Z"
    }
   },
   "cell_type": "code",
   "source": [
    "# Select 3 categories to highlight cross-domain transfer\n",
    "TARGET_DOMAINS = [\"Digital_Music\", \"Movies_and_TV\", \"Video_Games\"]\n",
    "MIN_USER_INTERACTIONS = 5\n",
    "MIN_ITEM_INTERACTIONS = 5\n",
    "POSITIVE_THRESHOLD = 4.0  # Ratings >= 4.0 are considered positive\n",
    "\n",
    "# Load the dataset\n",
    "def load_amazon_reviews(domains, max_per_domain=100000):\n",
    "    dataset = load_dataset(\"McAuley-Lab/Amazon-Reviews-2023\",\n",
    "                           f\"raw_review_{domains}\",\n",
    "                           trust_remote_code=True)\n",
    "\n",
    "    rows = []\n",
    "    for i, r in enumerate(dataset[\"full\"]):\n",
    "        if i >= max_per_domain:\n",
    "            break\n",
    "        rows.append({\n",
    "            \"user\": r[\"user_id\"],\n",
    "            \"item\": r[\"parent_asin\"],\n",
    "            \"rating\": float(r[\"rating\"]),\n",
    "            \"title\": r.get(\"title\", \"\"),\n",
    "            \"text\": r.get(\"text\", \"\"),\n",
    "            \"timestamp\": int(r[\"timestamp\"])\n",
    "        })\n",
    "\n",
    "    return pd.DataFrame(rows)\n",
    "\n",
    "dfs = [load_amazon_reviews(dom, max_per_domain=100000) for dom in TARGET_DOMAINS]\n",
    "df = pd.concat(dfs, ignore_index=True)"
   ],
   "id": "fcad4ffa95925761",
   "outputs": [],
   "execution_count": 43
  },
  {
   "metadata": {},
   "cell_type": "markdown",
   "source": [
    "## Filtering dataset\n",
    "* Remove low ratings: We consider ratings >= 4.0 as positive.\n",
    "* Remove exact duplicates: Ensure that each user-item interaction is unique.\n",
    "* Reduce item sparsity: Ensure that every remaining item has at least a certain number of interactions.\n",
    "* Reduce user sparsity: Ensure that every user has at least a certain number of interactions."
   ],
   "id": "e3209926a6bae44b"
  },
  {
   "metadata": {
    "ExecuteTime": {
     "end_time": "2025-08-18T07:58:32.610667Z",
     "start_time": "2025-08-18T07:58:32.597914Z"
    }
   },
   "cell_type": "code",
   "source": [
    "# Remove low ratings, as we are building a model for positive recommendations (make implicit feedback)\n",
    "def remove_low_ratings(dataframe, min_rating=4.0, keep_rating=True):\n",
    "    dataframe[\"label\"] = (dataframe[\"rating\"] >= min_rating).astype(int)\n",
    "    if not keep_rating:\n",
    "        dataframe = dataframe.drop(columns=[\"rating\"])\n",
    "    return dataframe\n",
    "\n",
    "df = remove_low_ratings(df, POSITIVE_THRESHOLD, keep_rating=True)\n",
    "df.head()"
   ],
   "id": "d669c17deb5353d5",
   "outputs": [
    {
     "data": {
      "text/plain": [
       "                           user        item  rating  \\\n",
       "0  AFUOYIZBU3MTBOLYKOJE5Z35MBDA  B004RQ2IRG     5.0   \n",
       "1  AHGAOIZVODNHYMNCBV4DECZH42UQ  B0026UZEI0     5.0   \n",
       "2  AFGEM6BXCYHUILEOA3P2ZYBEF2TA  B0055JSYHC     5.0   \n",
       "3  AH3OG6QD6EDJGZRVCFKV4B66VWNQ  B000F9SMUQ     1.0   \n",
       "4  AFW2PDT3AMT4X3PYQG7FJZH5FXFA  B0049D1WVK     3.0   \n",
       "\n",
       "                              title  \\\n",
       "0                              Nice   \n",
       "1                         Excellent   \n",
       "2                     Great service   \n",
       "3                           No good   \n",
       "4  Cool concept, so-so execution...   \n",
       "\n",
       "                                                text      timestamp  label  \n",
       "0  If i had a dollar for how many times I have pl...  1618972613292      1  \n",
       "1  awesome sound - cant wait to see them in perso...  1308167525000      1  \n",
       "2  This is a great cd. Good music and plays well....  1615838793006      1  \n",
       "3  These are not real German singers, they have a...  1405219741000      0  \n",
       "4  I first heard this playing in a Nagoya shop an...  1309029595000      0  "
      ],
      "text/html": [
       "<div>\n",
       "<style scoped>\n",
       "    .dataframe tbody tr th:only-of-type {\n",
       "        vertical-align: middle;\n",
       "    }\n",
       "\n",
       "    .dataframe tbody tr th {\n",
       "        vertical-align: top;\n",
       "    }\n",
       "\n",
       "    .dataframe thead th {\n",
       "        text-align: right;\n",
       "    }\n",
       "</style>\n",
       "<table border=\"1\" class=\"dataframe\">\n",
       "  <thead>\n",
       "    <tr style=\"text-align: right;\">\n",
       "      <th></th>\n",
       "      <th>user</th>\n",
       "      <th>item</th>\n",
       "      <th>rating</th>\n",
       "      <th>title</th>\n",
       "      <th>text</th>\n",
       "      <th>timestamp</th>\n",
       "      <th>label</th>\n",
       "    </tr>\n",
       "  </thead>\n",
       "  <tbody>\n",
       "    <tr>\n",
       "      <th>0</th>\n",
       "      <td>AFUOYIZBU3MTBOLYKOJE5Z35MBDA</td>\n",
       "      <td>B004RQ2IRG</td>\n",
       "      <td>5.0</td>\n",
       "      <td>Nice</td>\n",
       "      <td>If i had a dollar for how many times I have pl...</td>\n",
       "      <td>1618972613292</td>\n",
       "      <td>1</td>\n",
       "    </tr>\n",
       "    <tr>\n",
       "      <th>1</th>\n",
       "      <td>AHGAOIZVODNHYMNCBV4DECZH42UQ</td>\n",
       "      <td>B0026UZEI0</td>\n",
       "      <td>5.0</td>\n",
       "      <td>Excellent</td>\n",
       "      <td>awesome sound - cant wait to see them in perso...</td>\n",
       "      <td>1308167525000</td>\n",
       "      <td>1</td>\n",
       "    </tr>\n",
       "    <tr>\n",
       "      <th>2</th>\n",
       "      <td>AFGEM6BXCYHUILEOA3P2ZYBEF2TA</td>\n",
       "      <td>B0055JSYHC</td>\n",
       "      <td>5.0</td>\n",
       "      <td>Great service</td>\n",
       "      <td>This is a great cd. Good music and plays well....</td>\n",
       "      <td>1615838793006</td>\n",
       "      <td>1</td>\n",
       "    </tr>\n",
       "    <tr>\n",
       "      <th>3</th>\n",
       "      <td>AH3OG6QD6EDJGZRVCFKV4B66VWNQ</td>\n",
       "      <td>B000F9SMUQ</td>\n",
       "      <td>1.0</td>\n",
       "      <td>No good</td>\n",
       "      <td>These are not real German singers, they have a...</td>\n",
       "      <td>1405219741000</td>\n",
       "      <td>0</td>\n",
       "    </tr>\n",
       "    <tr>\n",
       "      <th>4</th>\n",
       "      <td>AFW2PDT3AMT4X3PYQG7FJZH5FXFA</td>\n",
       "      <td>B0049D1WVK</td>\n",
       "      <td>3.0</td>\n",
       "      <td>Cool concept, so-so execution...</td>\n",
       "      <td>I first heard this playing in a Nagoya shop an...</td>\n",
       "      <td>1309029595000</td>\n",
       "      <td>0</td>\n",
       "    </tr>\n",
       "  </tbody>\n",
       "</table>\n",
       "</div>"
      ]
     },
     "execution_count": 44,
     "metadata": {},
     "output_type": "execute_result"
    }
   ],
   "execution_count": 44
  },
  {
   "metadata": {
    "ExecuteTime": {
     "end_time": "2025-08-18T07:58:42.843620Z",
     "start_time": "2025-08-18T07:58:40.921356Z"
    }
   },
   "cell_type": "code",
   "source": [
    "# Reduce item sparsity to ensure that every remaining item has at least certain number\n",
    "# of interactions, and that every user has at least certain number of interactions\n",
    "def filter_interactions(dataframe, min_user_interactions, min_item_interactions):\n",
    "    # Removing exact duplicates first\n",
    "    print(f\"Dataframe before removing exact duplicates: {len(dataframe)}\")\n",
    "    dataframe = dataframe.drop_duplicates()\n",
    "    print(f\"Dataframe before interactions filtering: {len(dataframe)}\")\n",
    "\n",
    "    while True:\n",
    "        before = len(dataframe)\n",
    "        # Count interactions per user and item\n",
    "        user_counts = dataframe.groupby(\"user\")[\"item\"].count()\n",
    "        item_counts = dataframe.groupby(\"item\")[\"user\"].count()\n",
    "        # Filter users and items based on interaction counts\n",
    "        users_to_keep = set(user_counts[user_counts >= min_user_interactions].index)\n",
    "        items_to_keep = set(item_counts[item_counts >= min_item_interactions].index)\n",
    "        # Filter the DataFrame\n",
    "        dataframe = dataframe[dataframe[\"user\"].isin(users_to_keep) & dataframe[\"item\"].isin(items_to_keep)]\n",
    "        after = len(dataframe)\n",
    "        if after == before:\n",
    "            break\n",
    "    print(f\"Dataframe after interactions filtering: {after}\")\n",
    "    return dataframe\n",
    "\n",
    "df = filter_interactions(df, MIN_USER_INTERACTIONS, MIN_ITEM_INTERACTIONS)"
   ],
   "id": "a9dce0b30b2b906e",
   "outputs": [
    {
     "name": "stdout",
     "output_type": "stream",
     "text": [
      "Dataframe before removing exact duplicates: 300000\n",
      "Dataframe before interactions filtering: 298841\n",
      "Dataframe after interactions filtering: 16514\n"
     ]
    }
   ],
   "execution_count": 45
  },
  {
   "metadata": {
    "ExecuteTime": {
     "end_time": "2025-08-18T07:48:38.274389Z",
     "start_time": "2025-08-18T07:48:38.256546Z"
    }
   },
   "cell_type": "code",
   "source": "",
   "id": "c2a4fea0ed5ac4a",
   "outputs": [
    {
     "data": {
      "text/plain": [
       "                               user        item  rating  \\\n",
       "55560  AEJZE4VZLLYKJQD2EYTUHN76ITZQ  B000MNP2XU     4.0   \n",
       "55561  AEJZE4VZLLYKJQD2EYTUHN76ITZQ  B000MNP2XU     4.0   \n",
       "55562  AEJZE4VZLLYKJQD2EYTUHN76ITZQ  B000MNP2XU     4.0   \n",
       "55563  AEJZE4VZLLYKJQD2EYTUHN76ITZQ  B000MNP2XU     4.0   \n",
       "55564  AEJZE4VZLLYKJQD2EYTUHN76ITZQ  B000MNP2XU     4.0   \n",
       "55565  AEJZE4VZLLYKJQD2EYTUHN76ITZQ  B000MNP2XU     4.0   \n",
       "82158  AHPHH5CS7IJBCH2XI7FZGWHJDCIQ  B07ZVNNZPT     5.0   \n",
       "82159  AHPHH5CS7IJBCH2XI7FZGWHJDCIQ  B015G0BLBA     3.0   \n",
       "82160  AHPHH5CS7IJBCH2XI7FZGWHJDCIQ  B07ZVNNZPT     5.0   \n",
       "82161  AHPHH5CS7IJBCH2XI7FZGWHJDCIQ  B015G0BLBA     3.0   \n",
       "\n",
       "                                                   title  \\\n",
       "55560  I have previous cd and like his music so I am ...   \n",
       "55561  I have previous cd and like his music so I am ...   \n",
       "55562  I have previous cd and like his music so I am ...   \n",
       "55563  I have previous cd and like his music so I am ...   \n",
       "55564  I have previous cd and like his music so I am ...   \n",
       "55565  I have previous cd and like his music so I am ...   \n",
       "82158                           Late XMas Gift To Myself   \n",
       "82159  I love the cover but it's not the Japanese ver...   \n",
       "82160                           Late XMas Gift To Myself   \n",
       "82161  I love the cover but it's not the Japanese ver...   \n",
       "\n",
       "                                                    text      timestamp  \n",
       "55560  I have previous cd and like his music so I am ...  1408310605000  \n",
       "55561  I have previous cd and like his music so I am ...  1408310605000  \n",
       "55562  I have previous cd and like his music so I am ...  1408310605000  \n",
       "55563  I have previous cd and like his music so I am ...  1408310605000  \n",
       "55564  I have previous cd and like his music so I am ...  1408310605000  \n",
       "55565  I have previous cd and like his music so I am ...  1408310605000  \n",
       "82158                          Arrived on time. Love it!  1581912780074  \n",
       "82159  I love the cover but it's not the Japanese ver...  1503969794679  \n",
       "82160                          Arrived on time. Love it!  1581912780074  \n",
       "82161  I love the cover but it's not the Japanese ver...  1503969794679  "
      ],
      "text/html": [
       "<div>\n",
       "<style scoped>\n",
       "    .dataframe tbody tr th:only-of-type {\n",
       "        vertical-align: middle;\n",
       "    }\n",
       "\n",
       "    .dataframe tbody tr th {\n",
       "        vertical-align: top;\n",
       "    }\n",
       "\n",
       "    .dataframe thead th {\n",
       "        text-align: right;\n",
       "    }\n",
       "</style>\n",
       "<table border=\"1\" class=\"dataframe\">\n",
       "  <thead>\n",
       "    <tr style=\"text-align: right;\">\n",
       "      <th></th>\n",
       "      <th>user</th>\n",
       "      <th>item</th>\n",
       "      <th>rating</th>\n",
       "      <th>title</th>\n",
       "      <th>text</th>\n",
       "      <th>timestamp</th>\n",
       "    </tr>\n",
       "  </thead>\n",
       "  <tbody>\n",
       "    <tr>\n",
       "      <th>55560</th>\n",
       "      <td>AEJZE4VZLLYKJQD2EYTUHN76ITZQ</td>\n",
       "      <td>B000MNP2XU</td>\n",
       "      <td>4.0</td>\n",
       "      <td>I have previous cd and like his music so I am ...</td>\n",
       "      <td>I have previous cd and like his music so I am ...</td>\n",
       "      <td>1408310605000</td>\n",
       "    </tr>\n",
       "    <tr>\n",
       "      <th>55561</th>\n",
       "      <td>AEJZE4VZLLYKJQD2EYTUHN76ITZQ</td>\n",
       "      <td>B000MNP2XU</td>\n",
       "      <td>4.0</td>\n",
       "      <td>I have previous cd and like his music so I am ...</td>\n",
       "      <td>I have previous cd and like his music so I am ...</td>\n",
       "      <td>1408310605000</td>\n",
       "    </tr>\n",
       "    <tr>\n",
       "      <th>55562</th>\n",
       "      <td>AEJZE4VZLLYKJQD2EYTUHN76ITZQ</td>\n",
       "      <td>B000MNP2XU</td>\n",
       "      <td>4.0</td>\n",
       "      <td>I have previous cd and like his music so I am ...</td>\n",
       "      <td>I have previous cd and like his music so I am ...</td>\n",
       "      <td>1408310605000</td>\n",
       "    </tr>\n",
       "    <tr>\n",
       "      <th>55563</th>\n",
       "      <td>AEJZE4VZLLYKJQD2EYTUHN76ITZQ</td>\n",
       "      <td>B000MNP2XU</td>\n",
       "      <td>4.0</td>\n",
       "      <td>I have previous cd and like his music so I am ...</td>\n",
       "      <td>I have previous cd and like his music so I am ...</td>\n",
       "      <td>1408310605000</td>\n",
       "    </tr>\n",
       "    <tr>\n",
       "      <th>55564</th>\n",
       "      <td>AEJZE4VZLLYKJQD2EYTUHN76ITZQ</td>\n",
       "      <td>B000MNP2XU</td>\n",
       "      <td>4.0</td>\n",
       "      <td>I have previous cd and like his music so I am ...</td>\n",
       "      <td>I have previous cd and like his music so I am ...</td>\n",
       "      <td>1408310605000</td>\n",
       "    </tr>\n",
       "    <tr>\n",
       "      <th>55565</th>\n",
       "      <td>AEJZE4VZLLYKJQD2EYTUHN76ITZQ</td>\n",
       "      <td>B000MNP2XU</td>\n",
       "      <td>4.0</td>\n",
       "      <td>I have previous cd and like his music so I am ...</td>\n",
       "      <td>I have previous cd and like his music so I am ...</td>\n",
       "      <td>1408310605000</td>\n",
       "    </tr>\n",
       "    <tr>\n",
       "      <th>82158</th>\n",
       "      <td>AHPHH5CS7IJBCH2XI7FZGWHJDCIQ</td>\n",
       "      <td>B07ZVNNZPT</td>\n",
       "      <td>5.0</td>\n",
       "      <td>Late XMas Gift To Myself</td>\n",
       "      <td>Arrived on time. Love it!</td>\n",
       "      <td>1581912780074</td>\n",
       "    </tr>\n",
       "    <tr>\n",
       "      <th>82159</th>\n",
       "      <td>AHPHH5CS7IJBCH2XI7FZGWHJDCIQ</td>\n",
       "      <td>B015G0BLBA</td>\n",
       "      <td>3.0</td>\n",
       "      <td>I love the cover but it's not the Japanese ver...</td>\n",
       "      <td>I love the cover but it's not the Japanese ver...</td>\n",
       "      <td>1503969794679</td>\n",
       "    </tr>\n",
       "    <tr>\n",
       "      <th>82160</th>\n",
       "      <td>AHPHH5CS7IJBCH2XI7FZGWHJDCIQ</td>\n",
       "      <td>B07ZVNNZPT</td>\n",
       "      <td>5.0</td>\n",
       "      <td>Late XMas Gift To Myself</td>\n",
       "      <td>Arrived on time. Love it!</td>\n",
       "      <td>1581912780074</td>\n",
       "    </tr>\n",
       "    <tr>\n",
       "      <th>82161</th>\n",
       "      <td>AHPHH5CS7IJBCH2XI7FZGWHJDCIQ</td>\n",
       "      <td>B015G0BLBA</td>\n",
       "      <td>3.0</td>\n",
       "      <td>I love the cover but it's not the Japanese ver...</td>\n",
       "      <td>I love the cover but it's not the Japanese ver...</td>\n",
       "      <td>1503969794679</td>\n",
       "    </tr>\n",
       "  </tbody>\n",
       "</table>\n",
       "</div>"
      ]
     },
     "execution_count": 37,
     "metadata": {},
     "output_type": "execute_result"
    }
   ],
   "execution_count": 37
  },
  {
   "metadata": {},
   "cell_type": "code",
   "outputs": [],
   "execution_count": null,
   "source": "",
   "id": "b66f6f075105037e"
  }
 ],
 "metadata": {
  "kernelspec": {
   "display_name": "Python 3",
   "language": "python",
   "name": "python3"
  },
  "language_info": {
   "codemirror_mode": {
    "name": "ipython",
    "version": 2
   },
   "file_extension": ".py",
   "mimetype": "text/x-python",
   "name": "python",
   "nbconvert_exporter": "python",
   "pygments_lexer": "ipython2",
   "version": "2.7.6"
  }
 },
 "nbformat": 4,
 "nbformat_minor": 5
}
