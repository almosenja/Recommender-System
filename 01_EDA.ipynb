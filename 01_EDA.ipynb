{
 "cells": [
  {
   "metadata": {},
   "cell_type": "markdown",
   "source": "# Exploratory Data Analysis (EDA) for the Amazon Customer Reviews Dataset",
   "id": "b158fac750c19d53"
  },
  {
   "metadata": {
    "ExecuteTime": {
     "end_time": "2025-08-18T06:42:04.047502Z",
     "start_time": "2025-08-18T06:41:58.154624Z"
    }
   },
   "cell_type": "code",
   "source": [
    "import os\n",
    "import random\n",
    "import numpy as np\n",
    "import pandas as pd\n",
    "import matplotlib.pyplot as plt\n",
    "import torch\n",
    "\n",
    "from datasets import load_dataset, get_dataset_config_names"
   ],
   "id": "6fec825914fa546b",
   "outputs": [
    {
     "name": "stderr",
     "output_type": "stream",
     "text": [
      "E:\\Python Scripts\\recsys\\.venv\\Lib\\site-packages\\tqdm\\auto.py:21: TqdmWarning: IProgress not found. Please update jupyter and ipywidgets. See https://ipywidgets.readthedocs.io/en/stable/user_install.html\n",
      "  from .autonotebook import tqdm as notebook_tqdm\n"
     ]
    }
   ],
   "execution_count": 1
  },
  {
   "metadata": {
    "ExecuteTime": {
     "end_time": "2025-08-18T06:42:04.133535Z",
     "start_time": "2025-08-18T06:42:04.066535Z"
    }
   },
   "cell_type": "code",
   "source": [
    "def set_seed(seed=42):\n",
    "    random.seed(seed)\n",
    "    np.random.seed(seed)\n",
    "    torch.manual_seed(seed)\n",
    "    torch.cuda.manual_seed_all(seed)\n",
    "\n",
    "set_seed(42)\n",
    "\n",
    "DEVICE = \"cuda\" if torch.cuda.is_available() else \"cpu\"\n",
    "print(f\"Using device: {DEVICE}\")"
   ],
   "id": "67c0634507d00dc8",
   "outputs": [
    {
     "name": "stdout",
     "output_type": "stream",
     "text": [
      "Using device: cuda\n"
     ]
    }
   ],
   "execution_count": 2
  },
  {
   "metadata": {},
   "cell_type": "markdown",
   "source": [
    "## Data Loading (Amazon Reviews Dataset 2023)\n",
    "The dataset is loaded from the Hugging Face datasets library."
   ],
   "id": "a19f7d759fc4d993"
  },
  {
   "metadata": {
    "ExecuteTime": {
     "end_time": "2025-08-18T08:25:27.620345Z",
     "start_time": "2025-08-18T08:25:02.683119Z"
    }
   },
   "cell_type": "code",
   "source": [
    "# Select 3 categories to highlight cross-domain transfer\n",
    "TARGET_DOMAINS = [\"Books\", \"Movies_and_TV\", \"Video_Games\"]\n",
    "MIN_USER_INTERACTIONS = 5\n",
    "MIN_ITEM_INTERACTIONS = 5\n",
    "POSITIVE_THRESHOLD = 4.0  # Ratings >= 4.0 are considered positive\n",
    "\n",
    "# Load the dataset\n",
    "def load_amazon_reviews(domain:str, max_per_domain:int=100000) -> pd.DataFrame:\n",
    "    dataset = load_dataset(\"McAuley-Lab/Amazon-Reviews-2023\",\n",
    "                           f\"raw_review_{domain}\",\n",
    "                           trust_remote_code=True)\n",
    "    rows = []\n",
    "    for i, r in enumerate(dataset[\"full\"]):\n",
    "        if i >= max_per_domain:\n",
    "            break\n",
    "        rows.append({\n",
    "            \"user\": r[\"user_id\"],\n",
    "            \"item\": r[\"parent_asin\"],\n",
    "            \"rating\": float(r[\"rating\"]),\n",
    "            \"title\": r.get(\"title\", \"\"),\n",
    "            \"text\": r.get(\"text\", \"\"),\n",
    "            \"domain\": domain,\n",
    "            \"timestamp\": int(r[\"timestamp\"])\n",
    "        })\n",
    "    return pd.DataFrame(rows)\n",
    "\n",
    "dfs = [load_amazon_reviews(dom, max_per_domain=100000) for dom in TARGET_DOMAINS]\n",
    "df = pd.concat(dfs, ignore_index=True)"
   ],
   "id": "fcad4ffa95925761",
   "outputs": [
    {
     "name": "stderr",
     "output_type": "stream",
     "text": [
      "E:\\Python Scripts\\recsys\\.venv\\Lib\\site-packages\\huggingface_hub\\file_download.py:801: UserWarning: Not enough free disk space to download the file. The expected file size is: 20121.19 MB. The target location C:\\Users\\super\\.cache\\huggingface\\hub\\datasets--McAuley-Lab--Amazon-Reviews-2023\\blobs only has 2763.20 MB free disk space.\n",
      "  warnings.warn(\n"
     ]
    },
    {
     "ename": "KeyboardInterrupt",
     "evalue": "",
     "output_type": "error",
     "traceback": [
      "\u001B[31m---------------------------------------------------------------------------\u001B[39m",
      "\u001B[31mKeyboardInterrupt\u001B[39m                         Traceback (most recent call last)",
      "\u001B[36mCell\u001B[39m\u001B[36m \u001B[39m\u001B[32mIn[55]\u001B[39m\u001B[32m, line 27\u001B[39m\n\u001B[32m     16\u001B[39m         rows.append({\n\u001B[32m     17\u001B[39m             \u001B[33m\"\u001B[39m\u001B[33muser\u001B[39m\u001B[33m\"\u001B[39m: r[\u001B[33m\"\u001B[39m\u001B[33muser_id\u001B[39m\u001B[33m\"\u001B[39m],\n\u001B[32m     18\u001B[39m             \u001B[33m\"\u001B[39m\u001B[33mitem\u001B[39m\u001B[33m\"\u001B[39m: r[\u001B[33m\"\u001B[39m\u001B[33mparent_asin\u001B[39m\u001B[33m\"\u001B[39m],\n\u001B[32m   (...)\u001B[39m\u001B[32m     23\u001B[39m             \u001B[33m\"\u001B[39m\u001B[33mtimestamp\u001B[39m\u001B[33m\"\u001B[39m: \u001B[38;5;28mint\u001B[39m(r[\u001B[33m\"\u001B[39m\u001B[33mtimestamp\u001B[39m\u001B[33m\"\u001B[39m])\n\u001B[32m     24\u001B[39m         })\n\u001B[32m     25\u001B[39m     \u001B[38;5;28;01mreturn\u001B[39;00m pd.DataFrame(rows)\n\u001B[32m---> \u001B[39m\u001B[32m27\u001B[39m dfs = \u001B[43m[\u001B[49m\u001B[43mload_amazon_reviews\u001B[49m\u001B[43m(\u001B[49m\u001B[43mdom\u001B[49m\u001B[43m,\u001B[49m\u001B[43m \u001B[49m\u001B[43mmax_per_domain\u001B[49m\u001B[43m=\u001B[49m\u001B[32;43m100000\u001B[39;49m\u001B[43m)\u001B[49m\u001B[43m \u001B[49m\u001B[38;5;28;43;01mfor\u001B[39;49;00m\u001B[43m \u001B[49m\u001B[43mdom\u001B[49m\u001B[43m \u001B[49m\u001B[38;5;129;43;01min\u001B[39;49;00m\u001B[43m \u001B[49m\u001B[43mTARGET_DOMAINS\u001B[49m\u001B[43m]\u001B[49m\n\u001B[32m     28\u001B[39m df = pd.concat(dfs, ignore_index=\u001B[38;5;28;01mTrue\u001B[39;00m)\n",
      "\u001B[36mCell\u001B[39m\u001B[36m \u001B[39m\u001B[32mIn[55]\u001B[39m\u001B[32m, line 27\u001B[39m, in \u001B[36m<listcomp>\u001B[39m\u001B[34m(.0)\u001B[39m\n\u001B[32m     16\u001B[39m         rows.append({\n\u001B[32m     17\u001B[39m             \u001B[33m\"\u001B[39m\u001B[33muser\u001B[39m\u001B[33m\"\u001B[39m: r[\u001B[33m\"\u001B[39m\u001B[33muser_id\u001B[39m\u001B[33m\"\u001B[39m],\n\u001B[32m     18\u001B[39m             \u001B[33m\"\u001B[39m\u001B[33mitem\u001B[39m\u001B[33m\"\u001B[39m: r[\u001B[33m\"\u001B[39m\u001B[33mparent_asin\u001B[39m\u001B[33m\"\u001B[39m],\n\u001B[32m   (...)\u001B[39m\u001B[32m     23\u001B[39m             \u001B[33m\"\u001B[39m\u001B[33mtimestamp\u001B[39m\u001B[33m\"\u001B[39m: \u001B[38;5;28mint\u001B[39m(r[\u001B[33m\"\u001B[39m\u001B[33mtimestamp\u001B[39m\u001B[33m\"\u001B[39m])\n\u001B[32m     24\u001B[39m         })\n\u001B[32m     25\u001B[39m     \u001B[38;5;28;01mreturn\u001B[39;00m pd.DataFrame(rows)\n\u001B[32m---> \u001B[39m\u001B[32m27\u001B[39m dfs = [\u001B[43mload_amazon_reviews\u001B[49m\u001B[43m(\u001B[49m\u001B[43mdom\u001B[49m\u001B[43m,\u001B[49m\u001B[43m \u001B[49m\u001B[43mmax_per_domain\u001B[49m\u001B[43m=\u001B[49m\u001B[32;43m100000\u001B[39;49m\u001B[43m)\u001B[49m \u001B[38;5;28;01mfor\u001B[39;00m dom \u001B[38;5;129;01min\u001B[39;00m TARGET_DOMAINS]\n\u001B[32m     28\u001B[39m df = pd.concat(dfs, ignore_index=\u001B[38;5;28;01mTrue\u001B[39;00m)\n",
      "\u001B[36mCell\u001B[39m\u001B[36m \u001B[39m\u001B[32mIn[55]\u001B[39m\u001B[32m, line 9\u001B[39m, in \u001B[36mload_amazon_reviews\u001B[39m\u001B[34m(domain, max_per_domain)\u001B[39m\n\u001B[32m      8\u001B[39m \u001B[38;5;28;01mdef\u001B[39;00m\u001B[38;5;250m \u001B[39m\u001B[34mload_amazon_reviews\u001B[39m(domain:\u001B[38;5;28mstr\u001B[39m, max_per_domain:\u001B[38;5;28mint\u001B[39m=\u001B[32m100000\u001B[39m) -> pd.DataFrame:\n\u001B[32m----> \u001B[39m\u001B[32m9\u001B[39m     dataset = \u001B[43mload_dataset\u001B[49m\u001B[43m(\u001B[49m\u001B[33;43m\"\u001B[39;49m\u001B[33;43mMcAuley-Lab/Amazon-Reviews-2023\u001B[39;49m\u001B[33;43m\"\u001B[39;49m\u001B[43m,\u001B[49m\n\u001B[32m     10\u001B[39m \u001B[43m                           \u001B[49m\u001B[33;43mf\u001B[39;49m\u001B[33;43m\"\u001B[39;49m\u001B[33;43mraw_review_\u001B[39;49m\u001B[38;5;132;43;01m{\u001B[39;49;00m\u001B[43mdomain\u001B[49m\u001B[38;5;132;43;01m}\u001B[39;49;00m\u001B[33;43m\"\u001B[39;49m\u001B[43m,\u001B[49m\n\u001B[32m     11\u001B[39m \u001B[43m                           \u001B[49m\u001B[43mtrust_remote_code\u001B[49m\u001B[43m=\u001B[49m\u001B[38;5;28;43;01mTrue\u001B[39;49;00m\u001B[43m)\u001B[49m\n\u001B[32m     12\u001B[39m     rows = []\n\u001B[32m     13\u001B[39m     \u001B[38;5;28;01mfor\u001B[39;00m i, r \u001B[38;5;129;01min\u001B[39;00m \u001B[38;5;28menumerate\u001B[39m(dataset[\u001B[33m\"\u001B[39m\u001B[33mfull\u001B[39m\u001B[33m\"\u001B[39m]):\n",
      "\u001B[36mFile \u001B[39m\u001B[32mE:\\Python Scripts\\recsys\\.venv\\Lib\\site-packages\\datasets\\load.py:2084\u001B[39m, in \u001B[36mload_dataset\u001B[39m\u001B[34m(path, name, data_dir, data_files, split, cache_dir, features, download_config, download_mode, verification_mode, keep_in_memory, save_infos, revision, token, streaming, num_proc, storage_options, trust_remote_code, **config_kwargs)\u001B[39m\n\u001B[32m   2081\u001B[39m     \u001B[38;5;28;01mreturn\u001B[39;00m builder_instance.as_streaming_dataset(split=split)\n\u001B[32m   2083\u001B[39m \u001B[38;5;66;03m# Download and prepare data\u001B[39;00m\n\u001B[32m-> \u001B[39m\u001B[32m2084\u001B[39m \u001B[43mbuilder_instance\u001B[49m\u001B[43m.\u001B[49m\u001B[43mdownload_and_prepare\u001B[49m\u001B[43m(\u001B[49m\n\u001B[32m   2085\u001B[39m \u001B[43m    \u001B[49m\u001B[43mdownload_config\u001B[49m\u001B[43m=\u001B[49m\u001B[43mdownload_config\u001B[49m\u001B[43m,\u001B[49m\n\u001B[32m   2086\u001B[39m \u001B[43m    \u001B[49m\u001B[43mdownload_mode\u001B[49m\u001B[43m=\u001B[49m\u001B[43mdownload_mode\u001B[49m\u001B[43m,\u001B[49m\n\u001B[32m   2087\u001B[39m \u001B[43m    \u001B[49m\u001B[43mverification_mode\u001B[49m\u001B[43m=\u001B[49m\u001B[43mverification_mode\u001B[49m\u001B[43m,\u001B[49m\n\u001B[32m   2088\u001B[39m \u001B[43m    \u001B[49m\u001B[43mnum_proc\u001B[49m\u001B[43m=\u001B[49m\u001B[43mnum_proc\u001B[49m\u001B[43m,\u001B[49m\n\u001B[32m   2089\u001B[39m \u001B[43m    \u001B[49m\u001B[43mstorage_options\u001B[49m\u001B[43m=\u001B[49m\u001B[43mstorage_options\u001B[49m\u001B[43m,\u001B[49m\n\u001B[32m   2090\u001B[39m \u001B[43m\u001B[49m\u001B[43m)\u001B[49m\n\u001B[32m   2092\u001B[39m \u001B[38;5;66;03m# Build dataset for splits\u001B[39;00m\n\u001B[32m   2093\u001B[39m keep_in_memory = (\n\u001B[32m   2094\u001B[39m     keep_in_memory \u001B[38;5;28;01mif\u001B[39;00m keep_in_memory \u001B[38;5;129;01mis\u001B[39;00m \u001B[38;5;129;01mnot\u001B[39;00m \u001B[38;5;28;01mNone\u001B[39;00m \u001B[38;5;28;01melse\u001B[39;00m is_small_dataset(builder_instance.info.dataset_size)\n\u001B[32m   2095\u001B[39m )\n",
      "\u001B[36mFile \u001B[39m\u001B[32mE:\\Python Scripts\\recsys\\.venv\\Lib\\site-packages\\datasets\\builder.py:925\u001B[39m, in \u001B[36mDatasetBuilder.download_and_prepare\u001B[39m\u001B[34m(self, output_dir, download_config, download_mode, verification_mode, dl_manager, base_path, file_format, max_shard_size, num_proc, storage_options, **download_and_prepare_kwargs)\u001B[39m\n\u001B[32m    923\u001B[39m \u001B[38;5;28;01mif\u001B[39;00m num_proc \u001B[38;5;129;01mis\u001B[39;00m \u001B[38;5;129;01mnot\u001B[39;00m \u001B[38;5;28;01mNone\u001B[39;00m:\n\u001B[32m    924\u001B[39m     prepare_split_kwargs[\u001B[33m\"\u001B[39m\u001B[33mnum_proc\u001B[39m\u001B[33m\"\u001B[39m] = num_proc\n\u001B[32m--> \u001B[39m\u001B[32m925\u001B[39m \u001B[38;5;28;43mself\u001B[39;49m\u001B[43m.\u001B[49m\u001B[43m_download_and_prepare\u001B[49m\u001B[43m(\u001B[49m\n\u001B[32m    926\u001B[39m \u001B[43m    \u001B[49m\u001B[43mdl_manager\u001B[49m\u001B[43m=\u001B[49m\u001B[43mdl_manager\u001B[49m\u001B[43m,\u001B[49m\n\u001B[32m    927\u001B[39m \u001B[43m    \u001B[49m\u001B[43mverification_mode\u001B[49m\u001B[43m=\u001B[49m\u001B[43mverification_mode\u001B[49m\u001B[43m,\u001B[49m\n\u001B[32m    928\u001B[39m \u001B[43m    \u001B[49m\u001B[43m*\u001B[49m\u001B[43m*\u001B[49m\u001B[43mprepare_split_kwargs\u001B[49m\u001B[43m,\u001B[49m\n\u001B[32m    929\u001B[39m \u001B[43m    \u001B[49m\u001B[43m*\u001B[49m\u001B[43m*\u001B[49m\u001B[43mdownload_and_prepare_kwargs\u001B[49m\u001B[43m,\u001B[49m\n\u001B[32m    930\u001B[39m \u001B[43m\u001B[49m\u001B[43m)\u001B[49m\n\u001B[32m    931\u001B[39m \u001B[38;5;66;03m# Sync info\u001B[39;00m\n\u001B[32m    932\u001B[39m \u001B[38;5;28mself\u001B[39m.info.dataset_size = \u001B[38;5;28msum\u001B[39m(split.num_bytes \u001B[38;5;28;01mfor\u001B[39;00m split \u001B[38;5;129;01min\u001B[39;00m \u001B[38;5;28mself\u001B[39m.info.splits.values())\n",
      "\u001B[36mFile \u001B[39m\u001B[32mE:\\Python Scripts\\recsys\\.venv\\Lib\\site-packages\\datasets\\builder.py:1649\u001B[39m, in \u001B[36mGeneratorBasedBuilder._download_and_prepare\u001B[39m\u001B[34m(self, dl_manager, verification_mode, **prepare_splits_kwargs)\u001B[39m\n\u001B[32m   1648\u001B[39m \u001B[38;5;28;01mdef\u001B[39;00m\u001B[38;5;250m \u001B[39m\u001B[34m_download_and_prepare\u001B[39m(\u001B[38;5;28mself\u001B[39m, dl_manager, verification_mode, **prepare_splits_kwargs):\n\u001B[32m-> \u001B[39m\u001B[32m1649\u001B[39m     \u001B[38;5;28;43msuper\u001B[39;49m\u001B[43m(\u001B[49m\u001B[43m)\u001B[49m\u001B[43m.\u001B[49m\u001B[43m_download_and_prepare\u001B[49m\u001B[43m(\u001B[49m\n\u001B[32m   1650\u001B[39m \u001B[43m        \u001B[49m\u001B[43mdl_manager\u001B[49m\u001B[43m,\u001B[49m\n\u001B[32m   1651\u001B[39m \u001B[43m        \u001B[49m\u001B[43mverification_mode\u001B[49m\u001B[43m,\u001B[49m\n\u001B[32m   1652\u001B[39m \u001B[43m        \u001B[49m\u001B[43mcheck_duplicate_keys\u001B[49m\u001B[43m=\u001B[49m\u001B[43mverification_mode\u001B[49m\u001B[43m \u001B[49m\u001B[43m==\u001B[49m\u001B[43m \u001B[49m\u001B[43mVerificationMode\u001B[49m\u001B[43m.\u001B[49m\u001B[43mBASIC_CHECKS\u001B[49m\n\u001B[32m   1653\u001B[39m \u001B[43m        \u001B[49m\u001B[38;5;129;43;01mor\u001B[39;49;00m\u001B[43m \u001B[49m\u001B[43mverification_mode\u001B[49m\u001B[43m \u001B[49m\u001B[43m==\u001B[49m\u001B[43m \u001B[49m\u001B[43mVerificationMode\u001B[49m\u001B[43m.\u001B[49m\u001B[43mALL_CHECKS\u001B[49m\u001B[43m,\u001B[49m\n\u001B[32m   1654\u001B[39m \u001B[43m        \u001B[49m\u001B[43m*\u001B[49m\u001B[43m*\u001B[49m\u001B[43mprepare_splits_kwargs\u001B[49m\u001B[43m,\u001B[49m\n\u001B[32m   1655\u001B[39m \u001B[43m    \u001B[49m\u001B[43m)\u001B[49m\n",
      "\u001B[36mFile \u001B[39m\u001B[32mE:\\Python Scripts\\recsys\\.venv\\Lib\\site-packages\\datasets\\builder.py:979\u001B[39m, in \u001B[36mDatasetBuilder._download_and_prepare\u001B[39m\u001B[34m(self, dl_manager, verification_mode, **prepare_split_kwargs)\u001B[39m\n\u001B[32m    977\u001B[39m split_dict = SplitDict(dataset_name=\u001B[38;5;28mself\u001B[39m.dataset_name)\n\u001B[32m    978\u001B[39m split_generators_kwargs = \u001B[38;5;28mself\u001B[39m._make_split_generators_kwargs(prepare_split_kwargs)\n\u001B[32m--> \u001B[39m\u001B[32m979\u001B[39m split_generators = \u001B[38;5;28;43mself\u001B[39;49m\u001B[43m.\u001B[49m\u001B[43m_split_generators\u001B[49m\u001B[43m(\u001B[49m\u001B[43mdl_manager\u001B[49m\u001B[43m,\u001B[49m\u001B[43m \u001B[49m\u001B[43m*\u001B[49m\u001B[43m*\u001B[49m\u001B[43msplit_generators_kwargs\u001B[49m\u001B[43m)\u001B[49m\n\u001B[32m    981\u001B[39m \u001B[38;5;66;03m# Checksums verification\u001B[39;00m\n\u001B[32m    982\u001B[39m \u001B[38;5;28;01mif\u001B[39;00m verification_mode == VerificationMode.ALL_CHECKS \u001B[38;5;129;01mand\u001B[39;00m dl_manager.record_checksums:\n",
      "\u001B[36mFile \u001B[39m\u001B[32m~\\.cache\\huggingface\\modules\\datasets_modules\\datasets\\McAuley-Lab--Amazon-Reviews-2023\\16b76e0823d73bb8cff1e9c5e3e37dbc46ae3daee380417ae141f5e67d3ea8e8\\Amazon-Reviews-2023.py:509\u001B[39m, in \u001B[36mAmazonReview2023._split_generators\u001B[39m\u001B[34m(self, dl_manager)\u001B[39m\n\u001B[32m    508\u001B[39m \u001B[38;5;28;01mdef\u001B[39;00m\u001B[38;5;250m \u001B[39m\u001B[34m_split_generators\u001B[39m(\u001B[38;5;28mself\u001B[39m, dl_manager):\n\u001B[32m--> \u001B[39m\u001B[32m509\u001B[39m     dl_dir = \u001B[43mdl_manager\u001B[49m\u001B[43m.\u001B[49m\u001B[43mdownload_and_extract\u001B[49m\u001B[43m(\u001B[49m\u001B[38;5;28;43mself\u001B[39;49m\u001B[43m.\u001B[49m\u001B[43mconfig\u001B[49m\u001B[43m.\u001B[49m\u001B[43mdata_dir\u001B[49m\u001B[43m)\u001B[49m\n\u001B[32m    510\u001B[39m     \u001B[38;5;28;01mif\u001B[39;00m \u001B[38;5;28misinstance\u001B[39m(\u001B[38;5;28mself\u001B[39m.config, BenchmarkAmazonReview2023Config):\n\u001B[32m    511\u001B[39m         \u001B[38;5;28;01mreturn\u001B[39;00m [\n\u001B[32m    512\u001B[39m             datasets.SplitGenerator(name=\u001B[33m'\u001B[39m\u001B[33mtrain\u001B[39m\u001B[33m'\u001B[39m, gen_kwargs={\u001B[33m\"\u001B[39m\u001B[33mfilepath\u001B[39m\u001B[33m\"\u001B[39m: dl_dir[\u001B[33m'\u001B[39m\u001B[33mtrain\u001B[39m\u001B[33m'\u001B[39m]}),\n\u001B[32m    513\u001B[39m             datasets.SplitGenerator(name=\u001B[33m'\u001B[39m\u001B[33mvalid\u001B[39m\u001B[33m'\u001B[39m, gen_kwargs={\u001B[33m\"\u001B[39m\u001B[33mfilepath\u001B[39m\u001B[33m\"\u001B[39m: dl_dir[\u001B[33m'\u001B[39m\u001B[33mvalid\u001B[39m\u001B[33m'\u001B[39m]}),\n\u001B[32m    514\u001B[39m             datasets.SplitGenerator(name=\u001B[33m'\u001B[39m\u001B[33mtest\u001B[39m\u001B[33m'\u001B[39m, gen_kwargs={\u001B[33m\"\u001B[39m\u001B[33mfilepath\u001B[39m\u001B[33m\"\u001B[39m: dl_dir[\u001B[33m'\u001B[39m\u001B[33mtest\u001B[39m\u001B[33m'\u001B[39m]}),\n\u001B[32m    515\u001B[39m         ]\n",
      "\u001B[36mFile \u001B[39m\u001B[32mE:\\Python Scripts\\recsys\\.venv\\Lib\\site-packages\\datasets\\download\\download_manager.py:326\u001B[39m, in \u001B[36mDownloadManager.download_and_extract\u001B[39m\u001B[34m(self, url_or_urls)\u001B[39m\n\u001B[32m    310\u001B[39m \u001B[38;5;28;01mdef\u001B[39;00m\u001B[38;5;250m \u001B[39m\u001B[34mdownload_and_extract\u001B[39m(\u001B[38;5;28mself\u001B[39m, url_or_urls):\n\u001B[32m    311\u001B[39m \u001B[38;5;250m    \u001B[39m\u001B[33;03m\"\"\"Download and extract given `url_or_urls`.\u001B[39;00m\n\u001B[32m    312\u001B[39m \n\u001B[32m    313\u001B[39m \u001B[33;03m    Is roughly equivalent to:\u001B[39;00m\n\u001B[32m   (...)\u001B[39m\u001B[32m    324\u001B[39m \u001B[33;03m        extracted_path(s): `str`, extracted paths of given URL(s).\u001B[39;00m\n\u001B[32m    325\u001B[39m \u001B[33;03m    \"\"\"\u001B[39;00m\n\u001B[32m--> \u001B[39m\u001B[32m326\u001B[39m     \u001B[38;5;28;01mreturn\u001B[39;00m \u001B[38;5;28mself\u001B[39m.extract(\u001B[38;5;28;43mself\u001B[39;49m\u001B[43m.\u001B[49m\u001B[43mdownload\u001B[49m\u001B[43m(\u001B[49m\u001B[43murl_or_urls\u001B[49m\u001B[43m)\u001B[49m)\n",
      "\u001B[36mFile \u001B[39m\u001B[32mE:\\Python Scripts\\recsys\\.venv\\Lib\\site-packages\\datasets\\download\\download_manager.py:159\u001B[39m, in \u001B[36mDownloadManager.download\u001B[39m\u001B[34m(self, url_or_urls)\u001B[39m\n\u001B[32m    157\u001B[39m start_time = datetime.now()\n\u001B[32m    158\u001B[39m \u001B[38;5;28;01mwith\u001B[39;00m stack_multiprocessing_download_progress_bars():\n\u001B[32m--> \u001B[39m\u001B[32m159\u001B[39m     downloaded_path_or_paths = \u001B[43mmap_nested\u001B[49m\u001B[43m(\u001B[49m\n\u001B[32m    160\u001B[39m \u001B[43m        \u001B[49m\u001B[43mdownload_func\u001B[49m\u001B[43m,\u001B[49m\n\u001B[32m    161\u001B[39m \u001B[43m        \u001B[49m\u001B[43murl_or_urls\u001B[49m\u001B[43m,\u001B[49m\n\u001B[32m    162\u001B[39m \u001B[43m        \u001B[49m\u001B[43mmap_tuple\u001B[49m\u001B[43m=\u001B[49m\u001B[38;5;28;43;01mTrue\u001B[39;49;00m\u001B[43m,\u001B[49m\n\u001B[32m    163\u001B[39m \u001B[43m        \u001B[49m\u001B[43mnum_proc\u001B[49m\u001B[43m=\u001B[49m\u001B[43mdownload_config\u001B[49m\u001B[43m.\u001B[49m\u001B[43mnum_proc\u001B[49m\u001B[43m,\u001B[49m\n\u001B[32m    164\u001B[39m \u001B[43m        \u001B[49m\u001B[43mdesc\u001B[49m\u001B[43m=\u001B[49m\u001B[33;43m\"\u001B[39;49m\u001B[33;43mDownloading data files\u001B[39;49m\u001B[33;43m\"\u001B[39;49m\u001B[43m,\u001B[49m\n\u001B[32m    165\u001B[39m \u001B[43m        \u001B[49m\u001B[43mbatched\u001B[49m\u001B[43m=\u001B[49m\u001B[38;5;28;43;01mTrue\u001B[39;49;00m\u001B[43m,\u001B[49m\n\u001B[32m    166\u001B[39m \u001B[43m        \u001B[49m\u001B[43mbatch_size\u001B[49m\u001B[43m=\u001B[49m\u001B[43m-\u001B[49m\u001B[32;43m1\u001B[39;49m\u001B[43m,\u001B[49m\n\u001B[32m    167\u001B[39m \u001B[43m    \u001B[49m\u001B[43m)\u001B[49m\n\u001B[32m    168\u001B[39m duration = datetime.now() - start_time\n\u001B[32m    169\u001B[39m logger.info(\u001B[33mf\u001B[39m\u001B[33m\"\u001B[39m\u001B[33mDownloading took \u001B[39m\u001B[38;5;132;01m{\u001B[39;00mduration.total_seconds()\u001B[38;5;250m \u001B[39m//\u001B[38;5;250m \u001B[39m\u001B[32m60\u001B[39m\u001B[38;5;132;01m}\u001B[39;00m\u001B[33m min\u001B[39m\u001B[33m\"\u001B[39m)\n",
      "\u001B[36mFile \u001B[39m\u001B[32mE:\\Python Scripts\\recsys\\.venv\\Lib\\site-packages\\datasets\\utils\\py_utils.py:494\u001B[39m, in \u001B[36mmap_nested\u001B[39m\u001B[34m(function, data_struct, dict_only, map_list, map_tuple, map_numpy, num_proc, parallel_min_length, batched, batch_size, types, disable_tqdm, desc)\u001B[39m\n\u001B[32m    492\u001B[39m \u001B[38;5;28;01mif\u001B[39;00m batched:\n\u001B[32m    493\u001B[39m     data_struct = [data_struct]\n\u001B[32m--> \u001B[39m\u001B[32m494\u001B[39m mapped = \u001B[43mfunction\u001B[49m\u001B[43m(\u001B[49m\u001B[43mdata_struct\u001B[49m\u001B[43m)\u001B[49m\n\u001B[32m    495\u001B[39m \u001B[38;5;28;01mif\u001B[39;00m batched:\n\u001B[32m    496\u001B[39m     mapped = mapped[\u001B[32m0\u001B[39m]\n",
      "\u001B[36mFile \u001B[39m\u001B[32mE:\\Python Scripts\\recsys\\.venv\\Lib\\site-packages\\datasets\\download\\download_manager.py:219\u001B[39m, in \u001B[36mDownloadManager._download_batched\u001B[39m\u001B[34m(self, url_or_filenames, download_config)\u001B[39m\n\u001B[32m    206\u001B[39m     \u001B[38;5;28;01mreturn\u001B[39;00m thread_map(\n\u001B[32m    207\u001B[39m         download_func,\n\u001B[32m    208\u001B[39m         url_or_filenames,\n\u001B[32m   (...)\u001B[39m\u001B[32m    216\u001B[39m         tqdm_class=tqdm,\n\u001B[32m    217\u001B[39m     )\n\u001B[32m    218\u001B[39m \u001B[38;5;28;01melse\u001B[39;00m:\n\u001B[32m--> \u001B[39m\u001B[32m219\u001B[39m     \u001B[38;5;28;01mreturn\u001B[39;00m \u001B[43m[\u001B[49m\n\u001B[32m    220\u001B[39m \u001B[43m        \u001B[49m\u001B[38;5;28;43mself\u001B[39;49m\u001B[43m.\u001B[49m\u001B[43m_download_single\u001B[49m\u001B[43m(\u001B[49m\u001B[43murl_or_filename\u001B[49m\u001B[43m,\u001B[49m\u001B[43m \u001B[49m\u001B[43mdownload_config\u001B[49m\u001B[43m=\u001B[49m\u001B[43mdownload_config\u001B[49m\u001B[43m)\u001B[49m\n\u001B[32m    221\u001B[39m \u001B[43m        \u001B[49m\u001B[38;5;28;43;01mfor\u001B[39;49;00m\u001B[43m \u001B[49m\u001B[43murl_or_filename\u001B[49m\u001B[43m \u001B[49m\u001B[38;5;129;43;01min\u001B[39;49;00m\u001B[43m \u001B[49m\u001B[43murl_or_filenames\u001B[49m\n\u001B[32m    222\u001B[39m \u001B[43m    \u001B[49m\u001B[43m]\u001B[49m\n",
      "\u001B[36mFile \u001B[39m\u001B[32mE:\\Python Scripts\\recsys\\.venv\\Lib\\site-packages\\datasets\\download\\download_manager.py:220\u001B[39m, in \u001B[36m<listcomp>\u001B[39m\u001B[34m(.0)\u001B[39m\n\u001B[32m    206\u001B[39m     \u001B[38;5;28;01mreturn\u001B[39;00m thread_map(\n\u001B[32m    207\u001B[39m         download_func,\n\u001B[32m    208\u001B[39m         url_or_filenames,\n\u001B[32m   (...)\u001B[39m\u001B[32m    216\u001B[39m         tqdm_class=tqdm,\n\u001B[32m    217\u001B[39m     )\n\u001B[32m    218\u001B[39m \u001B[38;5;28;01melse\u001B[39;00m:\n\u001B[32m    219\u001B[39m     \u001B[38;5;28;01mreturn\u001B[39;00m [\n\u001B[32m--> \u001B[39m\u001B[32m220\u001B[39m         \u001B[38;5;28;43mself\u001B[39;49m\u001B[43m.\u001B[49m\u001B[43m_download_single\u001B[49m\u001B[43m(\u001B[49m\u001B[43murl_or_filename\u001B[49m\u001B[43m,\u001B[49m\u001B[43m \u001B[49m\u001B[43mdownload_config\u001B[49m\u001B[43m=\u001B[49m\u001B[43mdownload_config\u001B[49m\u001B[43m)\u001B[49m\n\u001B[32m    221\u001B[39m         \u001B[38;5;28;01mfor\u001B[39;00m url_or_filename \u001B[38;5;129;01min\u001B[39;00m url_or_filenames\n\u001B[32m    222\u001B[39m     ]\n",
      "\u001B[36mFile \u001B[39m\u001B[32mE:\\Python Scripts\\recsys\\.venv\\Lib\\site-packages\\datasets\\download\\download_manager.py:229\u001B[39m, in \u001B[36mDownloadManager._download_single\u001B[39m\u001B[34m(self, url_or_filename, download_config)\u001B[39m\n\u001B[32m    226\u001B[39m \u001B[38;5;28;01mif\u001B[39;00m is_relative_path(url_or_filename):\n\u001B[32m    227\u001B[39m     \u001B[38;5;66;03m# append the relative path to the base_path\u001B[39;00m\n\u001B[32m    228\u001B[39m     url_or_filename = url_or_path_join(\u001B[38;5;28mself\u001B[39m._base_path, url_or_filename)\n\u001B[32m--> \u001B[39m\u001B[32m229\u001B[39m out = \u001B[43mcached_path\u001B[49m\u001B[43m(\u001B[49m\u001B[43murl_or_filename\u001B[49m\u001B[43m,\u001B[49m\u001B[43m \u001B[49m\u001B[43mdownload_config\u001B[49m\u001B[43m=\u001B[49m\u001B[43mdownload_config\u001B[49m\u001B[43m)\u001B[49m\n\u001B[32m    230\u001B[39m out = tracked_str(out)\n\u001B[32m    231\u001B[39m out.set_origin(url_or_filename)\n",
      "\u001B[36mFile \u001B[39m\u001B[32mE:\\Python Scripts\\recsys\\.venv\\Lib\\site-packages\\datasets\\utils\\file_utils.py:197\u001B[39m, in \u001B[36mcached_path\u001B[39m\u001B[34m(url_or_filename, download_config, **download_kwargs)\u001B[39m\n\u001B[32m    187\u001B[39m resolved_path = huggingface_hub.HfFileSystem(\n\u001B[32m    188\u001B[39m     endpoint=config.HF_ENDPOINT, token=download_config.token\n\u001B[32m    189\u001B[39m ).resolve_path(url_or_filename)\n\u001B[32m    190\u001B[39m \u001B[38;5;28;01mtry\u001B[39;00m:\n\u001B[32m    191\u001B[39m     output_path = \u001B[43mhuggingface_hub\u001B[49m\u001B[43m.\u001B[49m\u001B[43mHfApi\u001B[49m\u001B[43m(\u001B[49m\n\u001B[32m    192\u001B[39m \u001B[43m        \u001B[49m\u001B[43mendpoint\u001B[49m\u001B[43m=\u001B[49m\u001B[43mconfig\u001B[49m\u001B[43m.\u001B[49m\u001B[43mHF_ENDPOINT\u001B[49m\u001B[43m,\u001B[49m\n\u001B[32m    193\u001B[39m \u001B[43m        \u001B[49m\u001B[43mtoken\u001B[49m\u001B[43m=\u001B[49m\u001B[43mdownload_config\u001B[49m\u001B[43m.\u001B[49m\u001B[43mtoken\u001B[49m\u001B[43m,\u001B[49m\n\u001B[32m    194\u001B[39m \u001B[43m        \u001B[49m\u001B[43mlibrary_name\u001B[49m\u001B[43m=\u001B[49m\u001B[33;43m\"\u001B[39;49m\u001B[33;43mdatasets\u001B[39;49m\u001B[33;43m\"\u001B[39;49m\u001B[43m,\u001B[49m\n\u001B[32m    195\u001B[39m \u001B[43m        \u001B[49m\u001B[43mlibrary_version\u001B[49m\u001B[43m=\u001B[49m\u001B[43m__version__\u001B[49m\u001B[43m,\u001B[49m\n\u001B[32m    196\u001B[39m \u001B[43m        \u001B[49m\u001B[43muser_agent\u001B[49m\u001B[43m=\u001B[49m\u001B[43mget_datasets_user_agent\u001B[49m\u001B[43m(\u001B[49m\u001B[43mdownload_config\u001B[49m\u001B[43m.\u001B[49m\u001B[43muser_agent\u001B[49m\u001B[43m)\u001B[49m\u001B[43m,\u001B[49m\n\u001B[32m--> \u001B[39m\u001B[32m197\u001B[39m \u001B[43m    \u001B[49m\u001B[43m)\u001B[49m\u001B[43m.\u001B[49m\u001B[43mhf_hub_download\u001B[49m\u001B[43m(\u001B[49m\n\u001B[32m    198\u001B[39m \u001B[43m        \u001B[49m\u001B[43mrepo_id\u001B[49m\u001B[43m=\u001B[49m\u001B[43mresolved_path\u001B[49m\u001B[43m.\u001B[49m\u001B[43mrepo_id\u001B[49m\u001B[43m,\u001B[49m\n\u001B[32m    199\u001B[39m \u001B[43m        \u001B[49m\u001B[43mrepo_type\u001B[49m\u001B[43m=\u001B[49m\u001B[43mresolved_path\u001B[49m\u001B[43m.\u001B[49m\u001B[43mrepo_type\u001B[49m\u001B[43m,\u001B[49m\n\u001B[32m    200\u001B[39m \u001B[43m        \u001B[49m\u001B[43mrevision\u001B[49m\u001B[43m=\u001B[49m\u001B[43mresolved_path\u001B[49m\u001B[43m.\u001B[49m\u001B[43mrevision\u001B[49m\u001B[43m,\u001B[49m\n\u001B[32m    201\u001B[39m \u001B[43m        \u001B[49m\u001B[43mfilename\u001B[49m\u001B[43m=\u001B[49m\u001B[43mresolved_path\u001B[49m\u001B[43m.\u001B[49m\u001B[43mpath_in_repo\u001B[49m\u001B[43m,\u001B[49m\n\u001B[32m    202\u001B[39m \u001B[43m        \u001B[49m\u001B[43mforce_download\u001B[49m\u001B[43m=\u001B[49m\u001B[43mdownload_config\u001B[49m\u001B[43m.\u001B[49m\u001B[43mforce_download\u001B[49m\u001B[43m,\u001B[49m\n\u001B[32m    203\u001B[39m \u001B[43m        \u001B[49m\u001B[43mproxies\u001B[49m\u001B[43m=\u001B[49m\u001B[43mdownload_config\u001B[49m\u001B[43m.\u001B[49m\u001B[43mproxies\u001B[49m\u001B[43m,\u001B[49m\n\u001B[32m    204\u001B[39m \u001B[43m    \u001B[49m\u001B[43m)\u001B[49m\n\u001B[32m    205\u001B[39m \u001B[38;5;28;01mexcept\u001B[39;00m (\n\u001B[32m    206\u001B[39m     huggingface_hub.utils.RepositoryNotFoundError,\n\u001B[32m    207\u001B[39m     huggingface_hub.utils.EntryNotFoundError,\n\u001B[32m    208\u001B[39m     huggingface_hub.utils.RevisionNotFoundError,\n\u001B[32m    209\u001B[39m     huggingface_hub.utils.GatedRepoError,\n\u001B[32m    210\u001B[39m ) \u001B[38;5;28;01mas\u001B[39;00m e:\n\u001B[32m    211\u001B[39m     \u001B[38;5;28;01mraise\u001B[39;00m \u001B[38;5;167;01mFileNotFoundError\u001B[39;00m(\u001B[38;5;28mstr\u001B[39m(e)) \u001B[38;5;28;01mfrom\u001B[39;00m\u001B[38;5;250m \u001B[39m\u001B[34;01me\u001B[39;00m\n",
      "\u001B[36mFile \u001B[39m\u001B[32mE:\\Python Scripts\\recsys\\.venv\\Lib\\site-packages\\huggingface_hub\\utils\\_validators.py:114\u001B[39m, in \u001B[36mvalidate_hf_hub_args.<locals>._inner_fn\u001B[39m\u001B[34m(*args, **kwargs)\u001B[39m\n\u001B[32m    111\u001B[39m \u001B[38;5;28;01mif\u001B[39;00m check_use_auth_token:\n\u001B[32m    112\u001B[39m     kwargs = smoothly_deprecate_use_auth_token(fn_name=fn.\u001B[34m__name__\u001B[39m, has_token=has_token, kwargs=kwargs)\n\u001B[32m--> \u001B[39m\u001B[32m114\u001B[39m \u001B[38;5;28;01mreturn\u001B[39;00m \u001B[43mfn\u001B[49m\u001B[43m(\u001B[49m\u001B[43m*\u001B[49m\u001B[43margs\u001B[49m\u001B[43m,\u001B[49m\u001B[43m \u001B[49m\u001B[43m*\u001B[49m\u001B[43m*\u001B[49m\u001B[43mkwargs\u001B[49m\u001B[43m)\u001B[49m\n",
      "\u001B[36mFile \u001B[39m\u001B[32mE:\\Python Scripts\\recsys\\.venv\\Lib\\site-packages\\huggingface_hub\\hf_api.py:5528\u001B[39m, in \u001B[36mHfApi.hf_hub_download\u001B[39m\u001B[34m(self, repo_id, filename, subfolder, repo_type, revision, cache_dir, local_dir, force_download, proxies, etag_timeout, token, local_files_only, resume_download, force_filename, local_dir_use_symlinks)\u001B[39m\n\u001B[32m   5524\u001B[39m \u001B[38;5;28;01mif\u001B[39;00m token \u001B[38;5;129;01mis\u001B[39;00m \u001B[38;5;28;01mNone\u001B[39;00m:\n\u001B[32m   5525\u001B[39m     \u001B[38;5;66;03m# Cannot do `token = token or self.token` as token can be `False`.\u001B[39;00m\n\u001B[32m   5526\u001B[39m     token = \u001B[38;5;28mself\u001B[39m.token\n\u001B[32m-> \u001B[39m\u001B[32m5528\u001B[39m \u001B[38;5;28;01mreturn\u001B[39;00m \u001B[43mhf_hub_download\u001B[49m\u001B[43m(\u001B[49m\n\u001B[32m   5529\u001B[39m \u001B[43m    \u001B[49m\u001B[43mrepo_id\u001B[49m\u001B[43m=\u001B[49m\u001B[43mrepo_id\u001B[49m\u001B[43m,\u001B[49m\n\u001B[32m   5530\u001B[39m \u001B[43m    \u001B[49m\u001B[43mfilename\u001B[49m\u001B[43m=\u001B[49m\u001B[43mfilename\u001B[49m\u001B[43m,\u001B[49m\n\u001B[32m   5531\u001B[39m \u001B[43m    \u001B[49m\u001B[43msubfolder\u001B[49m\u001B[43m=\u001B[49m\u001B[43msubfolder\u001B[49m\u001B[43m,\u001B[49m\n\u001B[32m   5532\u001B[39m \u001B[43m    \u001B[49m\u001B[43mrepo_type\u001B[49m\u001B[43m=\u001B[49m\u001B[43mrepo_type\u001B[49m\u001B[43m,\u001B[49m\n\u001B[32m   5533\u001B[39m \u001B[43m    \u001B[49m\u001B[43mrevision\u001B[49m\u001B[43m=\u001B[49m\u001B[43mrevision\u001B[49m\u001B[43m,\u001B[49m\n\u001B[32m   5534\u001B[39m \u001B[43m    \u001B[49m\u001B[43mendpoint\u001B[49m\u001B[43m=\u001B[49m\u001B[38;5;28;43mself\u001B[39;49m\u001B[43m.\u001B[49m\u001B[43mendpoint\u001B[49m\u001B[43m,\u001B[49m\n\u001B[32m   5535\u001B[39m \u001B[43m    \u001B[49m\u001B[43mlibrary_name\u001B[49m\u001B[43m=\u001B[49m\u001B[38;5;28;43mself\u001B[39;49m\u001B[43m.\u001B[49m\u001B[43mlibrary_name\u001B[49m\u001B[43m,\u001B[49m\n\u001B[32m   5536\u001B[39m \u001B[43m    \u001B[49m\u001B[43mlibrary_version\u001B[49m\u001B[43m=\u001B[49m\u001B[38;5;28;43mself\u001B[39;49m\u001B[43m.\u001B[49m\u001B[43mlibrary_version\u001B[49m\u001B[43m,\u001B[49m\n\u001B[32m   5537\u001B[39m \u001B[43m    \u001B[49m\u001B[43mcache_dir\u001B[49m\u001B[43m=\u001B[49m\u001B[43mcache_dir\u001B[49m\u001B[43m,\u001B[49m\n\u001B[32m   5538\u001B[39m \u001B[43m    \u001B[49m\u001B[43mlocal_dir\u001B[49m\u001B[43m=\u001B[49m\u001B[43mlocal_dir\u001B[49m\u001B[43m,\u001B[49m\n\u001B[32m   5539\u001B[39m \u001B[43m    \u001B[49m\u001B[43mlocal_dir_use_symlinks\u001B[49m\u001B[43m=\u001B[49m\u001B[43mlocal_dir_use_symlinks\u001B[49m\u001B[43m,\u001B[49m\n\u001B[32m   5540\u001B[39m \u001B[43m    \u001B[49m\u001B[43muser_agent\u001B[49m\u001B[43m=\u001B[49m\u001B[38;5;28;43mself\u001B[39;49m\u001B[43m.\u001B[49m\u001B[43muser_agent\u001B[49m\u001B[43m,\u001B[49m\n\u001B[32m   5541\u001B[39m \u001B[43m    \u001B[49m\u001B[43mforce_download\u001B[49m\u001B[43m=\u001B[49m\u001B[43mforce_download\u001B[49m\u001B[43m,\u001B[49m\n\u001B[32m   5542\u001B[39m \u001B[43m    \u001B[49m\u001B[43mforce_filename\u001B[49m\u001B[43m=\u001B[49m\u001B[43mforce_filename\u001B[49m\u001B[43m,\u001B[49m\n\u001B[32m   5543\u001B[39m \u001B[43m    \u001B[49m\u001B[43mproxies\u001B[49m\u001B[43m=\u001B[49m\u001B[43mproxies\u001B[49m\u001B[43m,\u001B[49m\n\u001B[32m   5544\u001B[39m \u001B[43m    \u001B[49m\u001B[43metag_timeout\u001B[49m\u001B[43m=\u001B[49m\u001B[43metag_timeout\u001B[49m\u001B[43m,\u001B[49m\n\u001B[32m   5545\u001B[39m \u001B[43m    \u001B[49m\u001B[43mresume_download\u001B[49m\u001B[43m=\u001B[49m\u001B[43mresume_download\u001B[49m\u001B[43m,\u001B[49m\n\u001B[32m   5546\u001B[39m \u001B[43m    \u001B[49m\u001B[43mtoken\u001B[49m\u001B[43m=\u001B[49m\u001B[43mtoken\u001B[49m\u001B[43m,\u001B[49m\n\u001B[32m   5547\u001B[39m \u001B[43m    \u001B[49m\u001B[43mheaders\u001B[49m\u001B[43m=\u001B[49m\u001B[38;5;28;43mself\u001B[39;49m\u001B[43m.\u001B[49m\u001B[43mheaders\u001B[49m\u001B[43m,\u001B[49m\n\u001B[32m   5548\u001B[39m \u001B[43m    \u001B[49m\u001B[43mlocal_files_only\u001B[49m\u001B[43m=\u001B[49m\u001B[43mlocal_files_only\u001B[49m\u001B[43m,\u001B[49m\n\u001B[32m   5549\u001B[39m \u001B[43m\u001B[49m\u001B[43m)\u001B[49m\n",
      "\u001B[36mFile \u001B[39m\u001B[32mE:\\Python Scripts\\recsys\\.venv\\Lib\\site-packages\\huggingface_hub\\utils\\_validators.py:114\u001B[39m, in \u001B[36mvalidate_hf_hub_args.<locals>._inner_fn\u001B[39m\u001B[34m(*args, **kwargs)\u001B[39m\n\u001B[32m    111\u001B[39m \u001B[38;5;28;01mif\u001B[39;00m check_use_auth_token:\n\u001B[32m    112\u001B[39m     kwargs = smoothly_deprecate_use_auth_token(fn_name=fn.\u001B[34m__name__\u001B[39m, has_token=has_token, kwargs=kwargs)\n\u001B[32m--> \u001B[39m\u001B[32m114\u001B[39m \u001B[38;5;28;01mreturn\u001B[39;00m \u001B[43mfn\u001B[49m\u001B[43m(\u001B[49m\u001B[43m*\u001B[49m\u001B[43margs\u001B[49m\u001B[43m,\u001B[49m\u001B[43m \u001B[49m\u001B[43m*\u001B[49m\u001B[43m*\u001B[49m\u001B[43mkwargs\u001B[49m\u001B[43m)\u001B[49m\n",
      "\u001B[36mFile \u001B[39m\u001B[32mE:\\Python Scripts\\recsys\\.venv\\Lib\\site-packages\\huggingface_hub\\file_download.py:1010\u001B[39m, in \u001B[36mhf_hub_download\u001B[39m\u001B[34m(repo_id, filename, subfolder, repo_type, revision, library_name, library_version, cache_dir, local_dir, user_agent, force_download, proxies, etag_timeout, token, local_files_only, headers, endpoint, resume_download, force_filename, local_dir_use_symlinks)\u001B[39m\n\u001B[32m    990\u001B[39m     \u001B[38;5;28;01mreturn\u001B[39;00m _hf_hub_download_to_local_dir(\n\u001B[32m    991\u001B[39m         \u001B[38;5;66;03m# Destination\u001B[39;00m\n\u001B[32m    992\u001B[39m         local_dir=local_dir,\n\u001B[32m   (...)\u001B[39m\u001B[32m   1007\u001B[39m         local_files_only=local_files_only,\n\u001B[32m   1008\u001B[39m     )\n\u001B[32m   1009\u001B[39m \u001B[38;5;28;01melse\u001B[39;00m:\n\u001B[32m-> \u001B[39m\u001B[32m1010\u001B[39m     \u001B[38;5;28;01mreturn\u001B[39;00m \u001B[43m_hf_hub_download_to_cache_dir\u001B[49m\u001B[43m(\u001B[49m\n\u001B[32m   1011\u001B[39m \u001B[43m        \u001B[49m\u001B[38;5;66;43;03m# Destination\u001B[39;49;00m\n\u001B[32m   1012\u001B[39m \u001B[43m        \u001B[49m\u001B[43mcache_dir\u001B[49m\u001B[43m=\u001B[49m\u001B[43mcache_dir\u001B[49m\u001B[43m,\u001B[49m\n\u001B[32m   1013\u001B[39m \u001B[43m        \u001B[49m\u001B[38;5;66;43;03m# File info\u001B[39;49;00m\n\u001B[32m   1014\u001B[39m \u001B[43m        \u001B[49m\u001B[43mrepo_id\u001B[49m\u001B[43m=\u001B[49m\u001B[43mrepo_id\u001B[49m\u001B[43m,\u001B[49m\n\u001B[32m   1015\u001B[39m \u001B[43m        \u001B[49m\u001B[43mfilename\u001B[49m\u001B[43m=\u001B[49m\u001B[43mfilename\u001B[49m\u001B[43m,\u001B[49m\n\u001B[32m   1016\u001B[39m \u001B[43m        \u001B[49m\u001B[43mrepo_type\u001B[49m\u001B[43m=\u001B[49m\u001B[43mrepo_type\u001B[49m\u001B[43m,\u001B[49m\n\u001B[32m   1017\u001B[39m \u001B[43m        \u001B[49m\u001B[43mrevision\u001B[49m\u001B[43m=\u001B[49m\u001B[43mrevision\u001B[49m\u001B[43m,\u001B[49m\n\u001B[32m   1018\u001B[39m \u001B[43m        \u001B[49m\u001B[38;5;66;43;03m# HTTP info\u001B[39;49;00m\n\u001B[32m   1019\u001B[39m \u001B[43m        \u001B[49m\u001B[43mendpoint\u001B[49m\u001B[43m=\u001B[49m\u001B[43mendpoint\u001B[49m\u001B[43m,\u001B[49m\n\u001B[32m   1020\u001B[39m \u001B[43m        \u001B[49m\u001B[43metag_timeout\u001B[49m\u001B[43m=\u001B[49m\u001B[43metag_timeout\u001B[49m\u001B[43m,\u001B[49m\n\u001B[32m   1021\u001B[39m \u001B[43m        \u001B[49m\u001B[43mheaders\u001B[49m\u001B[43m=\u001B[49m\u001B[43mhf_headers\u001B[49m\u001B[43m,\u001B[49m\n\u001B[32m   1022\u001B[39m \u001B[43m        \u001B[49m\u001B[43mproxies\u001B[49m\u001B[43m=\u001B[49m\u001B[43mproxies\u001B[49m\u001B[43m,\u001B[49m\n\u001B[32m   1023\u001B[39m \u001B[43m        \u001B[49m\u001B[43mtoken\u001B[49m\u001B[43m=\u001B[49m\u001B[43mtoken\u001B[49m\u001B[43m,\u001B[49m\n\u001B[32m   1024\u001B[39m \u001B[43m        \u001B[49m\u001B[38;5;66;43;03m# Additional options\u001B[39;49;00m\n\u001B[32m   1025\u001B[39m \u001B[43m        \u001B[49m\u001B[43mlocal_files_only\u001B[49m\u001B[43m=\u001B[49m\u001B[43mlocal_files_only\u001B[49m\u001B[43m,\u001B[49m\n\u001B[32m   1026\u001B[39m \u001B[43m        \u001B[49m\u001B[43mforce_download\u001B[49m\u001B[43m=\u001B[49m\u001B[43mforce_download\u001B[49m\u001B[43m,\u001B[49m\n\u001B[32m   1027\u001B[39m \u001B[43m    \u001B[49m\u001B[43m)\u001B[49m\n",
      "\u001B[36mFile \u001B[39m\u001B[32mE:\\Python Scripts\\recsys\\.venv\\Lib\\site-packages\\huggingface_hub\\file_download.py:1171\u001B[39m, in \u001B[36m_hf_hub_download_to_cache_dir\u001B[39m\u001B[34m(cache_dir, repo_id, filename, repo_type, revision, endpoint, etag_timeout, headers, proxies, token, local_files_only, force_download)\u001B[39m\n\u001B[32m   1168\u001B[39m \u001B[38;5;66;03m# Local file doesn't exist or etag isn't a match => retrieve file from remote (or cache)\u001B[39;00m\n\u001B[32m   1170\u001B[39m \u001B[38;5;28;01mwith\u001B[39;00m WeakFileLock(lock_path):\n\u001B[32m-> \u001B[39m\u001B[32m1171\u001B[39m     \u001B[43m_download_to_tmp_and_move\u001B[49m\u001B[43m(\u001B[49m\n\u001B[32m   1172\u001B[39m \u001B[43m        \u001B[49m\u001B[43mincomplete_path\u001B[49m\u001B[43m=\u001B[49m\u001B[43mPath\u001B[49m\u001B[43m(\u001B[49m\u001B[43mblob_path\u001B[49m\u001B[43m \u001B[49m\u001B[43m+\u001B[49m\u001B[43m \u001B[49m\u001B[33;43m\"\u001B[39;49m\u001B[33;43m.incomplete\u001B[39;49m\u001B[33;43m\"\u001B[39;49m\u001B[43m)\u001B[49m\u001B[43m,\u001B[49m\n\u001B[32m   1173\u001B[39m \u001B[43m        \u001B[49m\u001B[43mdestination_path\u001B[49m\u001B[43m=\u001B[49m\u001B[43mPath\u001B[49m\u001B[43m(\u001B[49m\u001B[43mblob_path\u001B[49m\u001B[43m)\u001B[49m\u001B[43m,\u001B[49m\n\u001B[32m   1174\u001B[39m \u001B[43m        \u001B[49m\u001B[43murl_to_download\u001B[49m\u001B[43m=\u001B[49m\u001B[43murl_to_download\u001B[49m\u001B[43m,\u001B[49m\n\u001B[32m   1175\u001B[39m \u001B[43m        \u001B[49m\u001B[43mproxies\u001B[49m\u001B[43m=\u001B[49m\u001B[43mproxies\u001B[49m\u001B[43m,\u001B[49m\n\u001B[32m   1176\u001B[39m \u001B[43m        \u001B[49m\u001B[43mheaders\u001B[49m\u001B[43m=\u001B[49m\u001B[43mheaders\u001B[49m\u001B[43m,\u001B[49m\n\u001B[32m   1177\u001B[39m \u001B[43m        \u001B[49m\u001B[43mexpected_size\u001B[49m\u001B[43m=\u001B[49m\u001B[43mexpected_size\u001B[49m\u001B[43m,\u001B[49m\n\u001B[32m   1178\u001B[39m \u001B[43m        \u001B[49m\u001B[43mfilename\u001B[49m\u001B[43m=\u001B[49m\u001B[43mfilename\u001B[49m\u001B[43m,\u001B[49m\n\u001B[32m   1179\u001B[39m \u001B[43m        \u001B[49m\u001B[43mforce_download\u001B[49m\u001B[43m=\u001B[49m\u001B[43mforce_download\u001B[49m\u001B[43m,\u001B[49m\n\u001B[32m   1180\u001B[39m \u001B[43m        \u001B[49m\u001B[43metag\u001B[49m\u001B[43m=\u001B[49m\u001B[43metag\u001B[49m\u001B[43m,\u001B[49m\n\u001B[32m   1181\u001B[39m \u001B[43m        \u001B[49m\u001B[43mxet_file_data\u001B[49m\u001B[43m=\u001B[49m\u001B[43mxet_file_data\u001B[49m\u001B[43m,\u001B[49m\n\u001B[32m   1182\u001B[39m \u001B[43m    \u001B[49m\u001B[43m)\u001B[49m\n\u001B[32m   1183\u001B[39m     \u001B[38;5;28;01mif\u001B[39;00m \u001B[38;5;129;01mnot\u001B[39;00m os.path.exists(pointer_path):\n\u001B[32m   1184\u001B[39m         _create_symlink(blob_path, pointer_path, new_blob=\u001B[38;5;28;01mTrue\u001B[39;00m)\n",
      "\u001B[36mFile \u001B[39m\u001B[32mE:\\Python Scripts\\recsys\\.venv\\Lib\\site-packages\\huggingface_hub\\file_download.py:1738\u001B[39m, in \u001B[36m_download_to_tmp_and_move\u001B[39m\u001B[34m(incomplete_path, destination_path, url_to_download, proxies, headers, expected_size, filename, force_download, etag, xet_file_data)\u001B[39m\n\u001B[32m   1731\u001B[39m         \u001B[38;5;28;01mif\u001B[39;00m xet_file_data \u001B[38;5;129;01mis\u001B[39;00m \u001B[38;5;129;01mnot\u001B[39;00m \u001B[38;5;28;01mNone\u001B[39;00m \u001B[38;5;129;01mand\u001B[39;00m \u001B[38;5;129;01mnot\u001B[39;00m constants.HF_HUB_DISABLE_XET:\n\u001B[32m   1732\u001B[39m             logger.warning(\n\u001B[32m   1733\u001B[39m                 \u001B[33m\"\u001B[39m\u001B[33mXet Storage is enabled for this repo, but the \u001B[39m\u001B[33m'\u001B[39m\u001B[33mhf_xet\u001B[39m\u001B[33m'\u001B[39m\u001B[33m package is not installed. \u001B[39m\u001B[33m\"\u001B[39m\n\u001B[32m   1734\u001B[39m                 \u001B[33m\"\u001B[39m\u001B[33mFalling back to regular HTTP download. \u001B[39m\u001B[33m\"\u001B[39m\n\u001B[32m   1735\u001B[39m                 \u001B[33m\"\u001B[39m\u001B[33mFor better performance, install the package with: `pip install huggingface_hub[hf_xet]` or `pip install hf_xet`\u001B[39m\u001B[33m\"\u001B[39m\n\u001B[32m   1736\u001B[39m             )\n\u001B[32m-> \u001B[39m\u001B[32m1738\u001B[39m         \u001B[43mhttp_get\u001B[49m\u001B[43m(\u001B[49m\n\u001B[32m   1739\u001B[39m \u001B[43m            \u001B[49m\u001B[43murl_to_download\u001B[49m\u001B[43m,\u001B[49m\n\u001B[32m   1740\u001B[39m \u001B[43m            \u001B[49m\u001B[43mf\u001B[49m\u001B[43m,\u001B[49m\n\u001B[32m   1741\u001B[39m \u001B[43m            \u001B[49m\u001B[43mproxies\u001B[49m\u001B[43m=\u001B[49m\u001B[43mproxies\u001B[49m\u001B[43m,\u001B[49m\n\u001B[32m   1742\u001B[39m \u001B[43m            \u001B[49m\u001B[43mresume_size\u001B[49m\u001B[43m=\u001B[49m\u001B[43mresume_size\u001B[49m\u001B[43m,\u001B[49m\n\u001B[32m   1743\u001B[39m \u001B[43m            \u001B[49m\u001B[43mheaders\u001B[49m\u001B[43m=\u001B[49m\u001B[43mheaders\u001B[49m\u001B[43m,\u001B[49m\n\u001B[32m   1744\u001B[39m \u001B[43m            \u001B[49m\u001B[43mexpected_size\u001B[49m\u001B[43m=\u001B[49m\u001B[43mexpected_size\u001B[49m\u001B[43m,\u001B[49m\n\u001B[32m   1745\u001B[39m \u001B[43m        \u001B[49m\u001B[43m)\u001B[49m\n\u001B[32m   1747\u001B[39m logger.info(\u001B[33mf\u001B[39m\u001B[33m\"\u001B[39m\u001B[33mDownload complete. Moving file to \u001B[39m\u001B[38;5;132;01m{\u001B[39;00mdestination_path\u001B[38;5;132;01m}\u001B[39;00m\u001B[33m\"\u001B[39m)\n\u001B[32m   1748\u001B[39m _chmod_and_move(incomplete_path, destination_path)\n",
      "\u001B[36mFile \u001B[39m\u001B[32mE:\\Python Scripts\\recsys\\.venv\\Lib\\site-packages\\huggingface_hub\\file_download.py:496\u001B[39m, in \u001B[36mhttp_get\u001B[39m\u001B[34m(url, temp_file, proxies, resume_size, headers, expected_size, displayed_filename, _nb_retries, _tqdm_bar)\u001B[39m\n\u001B[32m    494\u001B[39m new_resume_size = resume_size\n\u001B[32m    495\u001B[39m \u001B[38;5;28;01mtry\u001B[39;00m:\n\u001B[32m--> \u001B[39m\u001B[32m496\u001B[39m \u001B[43m    \u001B[49m\u001B[38;5;28;43;01mfor\u001B[39;49;00m\u001B[43m \u001B[49m\u001B[43mchunk\u001B[49m\u001B[43m \u001B[49m\u001B[38;5;129;43;01min\u001B[39;49;00m\u001B[43m \u001B[49m\u001B[43mr\u001B[49m\u001B[43m.\u001B[49m\u001B[43miter_content\u001B[49m\u001B[43m(\u001B[49m\u001B[43mchunk_size\u001B[49m\u001B[43m=\u001B[49m\u001B[43mconstants\u001B[49m\u001B[43m.\u001B[49m\u001B[43mDOWNLOAD_CHUNK_SIZE\u001B[49m\u001B[43m)\u001B[49m\u001B[43m:\u001B[49m\n\u001B[32m    497\u001B[39m \u001B[43m        \u001B[49m\u001B[38;5;28;43;01mif\u001B[39;49;00m\u001B[43m \u001B[49m\u001B[43mchunk\u001B[49m\u001B[43m:\u001B[49m\u001B[43m  \u001B[49m\u001B[38;5;66;43;03m# filter out keep-alive new chunks\u001B[39;49;00m\n\u001B[32m    498\u001B[39m \u001B[43m            \u001B[49m\u001B[43mprogress\u001B[49m\u001B[43m.\u001B[49m\u001B[43mupdate\u001B[49m\u001B[43m(\u001B[49m\u001B[38;5;28;43mlen\u001B[39;49m\u001B[43m(\u001B[49m\u001B[43mchunk\u001B[49m\u001B[43m)\u001B[49m\u001B[43m)\u001B[49m\n",
      "\u001B[36mFile \u001B[39m\u001B[32mE:\\Python Scripts\\recsys\\.venv\\Lib\\site-packages\\requests\\models.py:820\u001B[39m, in \u001B[36mResponse.iter_content.<locals>.generate\u001B[39m\u001B[34m()\u001B[39m\n\u001B[32m    818\u001B[39m \u001B[38;5;28;01mif\u001B[39;00m \u001B[38;5;28mhasattr\u001B[39m(\u001B[38;5;28mself\u001B[39m.raw, \u001B[33m\"\u001B[39m\u001B[33mstream\u001B[39m\u001B[33m\"\u001B[39m):\n\u001B[32m    819\u001B[39m     \u001B[38;5;28;01mtry\u001B[39;00m:\n\u001B[32m--> \u001B[39m\u001B[32m820\u001B[39m         \u001B[38;5;28;01myield from\u001B[39;00m \u001B[38;5;28mself\u001B[39m.raw.stream(chunk_size, decode_content=\u001B[38;5;28;01mTrue\u001B[39;00m)\n\u001B[32m    821\u001B[39m     \u001B[38;5;28;01mexcept\u001B[39;00m ProtocolError \u001B[38;5;28;01mas\u001B[39;00m e:\n\u001B[32m    822\u001B[39m         \u001B[38;5;28;01mraise\u001B[39;00m ChunkedEncodingError(e)\n",
      "\u001B[36mFile \u001B[39m\u001B[32mE:\\Python Scripts\\recsys\\.venv\\Lib\\site-packages\\urllib3\\response.py:1091\u001B[39m, in \u001B[36mHTTPResponse.stream\u001B[39m\u001B[34m(self, amt, decode_content)\u001B[39m\n\u001B[32m   1089\u001B[39m \u001B[38;5;28;01melse\u001B[39;00m:\n\u001B[32m   1090\u001B[39m     \u001B[38;5;28;01mwhile\u001B[39;00m \u001B[38;5;129;01mnot\u001B[39;00m is_fp_closed(\u001B[38;5;28mself\u001B[39m._fp) \u001B[38;5;129;01mor\u001B[39;00m \u001B[38;5;28mlen\u001B[39m(\u001B[38;5;28mself\u001B[39m._decoded_buffer) > \u001B[32m0\u001B[39m:\n\u001B[32m-> \u001B[39m\u001B[32m1091\u001B[39m         data = \u001B[38;5;28;43mself\u001B[39;49m\u001B[43m.\u001B[49m\u001B[43mread\u001B[49m\u001B[43m(\u001B[49m\u001B[43mamt\u001B[49m\u001B[43m=\u001B[49m\u001B[43mamt\u001B[49m\u001B[43m,\u001B[49m\u001B[43m \u001B[49m\u001B[43mdecode_content\u001B[49m\u001B[43m=\u001B[49m\u001B[43mdecode_content\u001B[49m\u001B[43m)\u001B[49m\n\u001B[32m   1093\u001B[39m         \u001B[38;5;28;01mif\u001B[39;00m data:\n\u001B[32m   1094\u001B[39m             \u001B[38;5;28;01myield\u001B[39;00m data\n",
      "\u001B[36mFile \u001B[39m\u001B[32mE:\\Python Scripts\\recsys\\.venv\\Lib\\site-packages\\urllib3\\response.py:980\u001B[39m, in \u001B[36mHTTPResponse.read\u001B[39m\u001B[34m(self, amt, decode_content, cache_content)\u001B[39m\n\u001B[32m    977\u001B[39m     \u001B[38;5;28;01mif\u001B[39;00m \u001B[38;5;28mlen\u001B[39m(\u001B[38;5;28mself\u001B[39m._decoded_buffer) >= amt:\n\u001B[32m    978\u001B[39m         \u001B[38;5;28;01mreturn\u001B[39;00m \u001B[38;5;28mself\u001B[39m._decoded_buffer.get(amt)\n\u001B[32m--> \u001B[39m\u001B[32m980\u001B[39m data = \u001B[38;5;28;43mself\u001B[39;49m\u001B[43m.\u001B[49m\u001B[43m_raw_read\u001B[49m\u001B[43m(\u001B[49m\u001B[43mamt\u001B[49m\u001B[43m)\u001B[49m\n\u001B[32m    982\u001B[39m flush_decoder = amt \u001B[38;5;129;01mis\u001B[39;00m \u001B[38;5;28;01mNone\u001B[39;00m \u001B[38;5;129;01mor\u001B[39;00m (amt != \u001B[32m0\u001B[39m \u001B[38;5;129;01mand\u001B[39;00m \u001B[38;5;129;01mnot\u001B[39;00m data)\n\u001B[32m    984\u001B[39m \u001B[38;5;28;01mif\u001B[39;00m \u001B[38;5;129;01mnot\u001B[39;00m data \u001B[38;5;129;01mand\u001B[39;00m \u001B[38;5;28mlen\u001B[39m(\u001B[38;5;28mself\u001B[39m._decoded_buffer) == \u001B[32m0\u001B[39m:\n",
      "\u001B[36mFile \u001B[39m\u001B[32mE:\\Python Scripts\\recsys\\.venv\\Lib\\site-packages\\urllib3\\response.py:904\u001B[39m, in \u001B[36mHTTPResponse._raw_read\u001B[39m\u001B[34m(self, amt, read1)\u001B[39m\n\u001B[32m    901\u001B[39m fp_closed = \u001B[38;5;28mgetattr\u001B[39m(\u001B[38;5;28mself\u001B[39m._fp, \u001B[33m\"\u001B[39m\u001B[33mclosed\u001B[39m\u001B[33m\"\u001B[39m, \u001B[38;5;28;01mFalse\u001B[39;00m)\n\u001B[32m    903\u001B[39m \u001B[38;5;28;01mwith\u001B[39;00m \u001B[38;5;28mself\u001B[39m._error_catcher():\n\u001B[32m--> \u001B[39m\u001B[32m904\u001B[39m     data = \u001B[38;5;28;43mself\u001B[39;49m\u001B[43m.\u001B[49m\u001B[43m_fp_read\u001B[49m\u001B[43m(\u001B[49m\u001B[43mamt\u001B[49m\u001B[43m,\u001B[49m\u001B[43m \u001B[49m\u001B[43mread1\u001B[49m\u001B[43m=\u001B[49m\u001B[43mread1\u001B[49m\u001B[43m)\u001B[49m \u001B[38;5;28;01mif\u001B[39;00m \u001B[38;5;129;01mnot\u001B[39;00m fp_closed \u001B[38;5;28;01melse\u001B[39;00m \u001B[33mb\u001B[39m\u001B[33m\"\u001B[39m\u001B[33m\"\u001B[39m\n\u001B[32m    905\u001B[39m     \u001B[38;5;28;01mif\u001B[39;00m amt \u001B[38;5;129;01mis\u001B[39;00m \u001B[38;5;129;01mnot\u001B[39;00m \u001B[38;5;28;01mNone\u001B[39;00m \u001B[38;5;129;01mand\u001B[39;00m amt != \u001B[32m0\u001B[39m \u001B[38;5;129;01mand\u001B[39;00m \u001B[38;5;129;01mnot\u001B[39;00m data:\n\u001B[32m    906\u001B[39m         \u001B[38;5;66;03m# Platform-specific: Buggy versions of Python.\u001B[39;00m\n\u001B[32m    907\u001B[39m         \u001B[38;5;66;03m# Close the connection when no data is returned\u001B[39;00m\n\u001B[32m   (...)\u001B[39m\u001B[32m    912\u001B[39m         \u001B[38;5;66;03m# not properly close the connection in all cases. There is\u001B[39;00m\n\u001B[32m    913\u001B[39m         \u001B[38;5;66;03m# no harm in redundantly calling close.\u001B[39;00m\n\u001B[32m    914\u001B[39m         \u001B[38;5;28mself\u001B[39m._fp.close()\n",
      "\u001B[36mFile \u001B[39m\u001B[32mE:\\Python Scripts\\recsys\\.venv\\Lib\\site-packages\\urllib3\\response.py:887\u001B[39m, in \u001B[36mHTTPResponse._fp_read\u001B[39m\u001B[34m(self, amt, read1)\u001B[39m\n\u001B[32m    884\u001B[39m     \u001B[38;5;28;01mreturn\u001B[39;00m \u001B[38;5;28mself\u001B[39m._fp.read1(amt) \u001B[38;5;28;01mif\u001B[39;00m amt \u001B[38;5;129;01mis\u001B[39;00m \u001B[38;5;129;01mnot\u001B[39;00m \u001B[38;5;28;01mNone\u001B[39;00m \u001B[38;5;28;01melse\u001B[39;00m \u001B[38;5;28mself\u001B[39m._fp.read1()\n\u001B[32m    885\u001B[39m \u001B[38;5;28;01melse\u001B[39;00m:\n\u001B[32m    886\u001B[39m     \u001B[38;5;66;03m# StringIO doesn't like amt=None\u001B[39;00m\n\u001B[32m--> \u001B[39m\u001B[32m887\u001B[39m     \u001B[38;5;28;01mreturn\u001B[39;00m \u001B[38;5;28;43mself\u001B[39;49m\u001B[43m.\u001B[49m\u001B[43m_fp\u001B[49m\u001B[43m.\u001B[49m\u001B[43mread\u001B[49m\u001B[43m(\u001B[49m\u001B[43mamt\u001B[49m\u001B[43m)\u001B[49m \u001B[38;5;28;01mif\u001B[39;00m amt \u001B[38;5;129;01mis\u001B[39;00m \u001B[38;5;129;01mnot\u001B[39;00m \u001B[38;5;28;01mNone\u001B[39;00m \u001B[38;5;28;01melse\u001B[39;00m \u001B[38;5;28mself\u001B[39m._fp.read()\n",
      "\u001B[36mFile \u001B[39m\u001B[32m~\\AppData\\Local\\Programs\\Python\\Python311\\Lib\\http\\client.py:473\u001B[39m, in \u001B[36mHTTPResponse.read\u001B[39m\u001B[34m(self, amt)\u001B[39m\n\u001B[32m    470\u001B[39m \u001B[38;5;28;01mif\u001B[39;00m \u001B[38;5;28mself\u001B[39m.length \u001B[38;5;129;01mis\u001B[39;00m \u001B[38;5;129;01mnot\u001B[39;00m \u001B[38;5;28;01mNone\u001B[39;00m \u001B[38;5;129;01mand\u001B[39;00m amt > \u001B[38;5;28mself\u001B[39m.length:\n\u001B[32m    471\u001B[39m     \u001B[38;5;66;03m# clip the read to the \"end of response\"\u001B[39;00m\n\u001B[32m    472\u001B[39m     amt = \u001B[38;5;28mself\u001B[39m.length\n\u001B[32m--> \u001B[39m\u001B[32m473\u001B[39m s = \u001B[38;5;28mself\u001B[39m.fp.read(amt)\n\u001B[32m    474\u001B[39m \u001B[38;5;28;01mif\u001B[39;00m \u001B[38;5;129;01mnot\u001B[39;00m s \u001B[38;5;129;01mand\u001B[39;00m amt:\n\u001B[32m    475\u001B[39m     \u001B[38;5;66;03m# Ideally, we would raise IncompleteRead if the content-length\u001B[39;00m\n\u001B[32m    476\u001B[39m     \u001B[38;5;66;03m# wasn't satisfied, but it might break compatibility.\u001B[39;00m\n\u001B[32m    477\u001B[39m     \u001B[38;5;28mself\u001B[39m._close_conn()\n",
      "\u001B[36mFile \u001B[39m\u001B[32m~\\AppData\\Local\\Programs\\Python\\Python311\\Lib\\socket.py:706\u001B[39m, in \u001B[36mSocketIO.readinto\u001B[39m\u001B[34m(self, b)\u001B[39m\n\u001B[32m    704\u001B[39m \u001B[38;5;28;01mwhile\u001B[39;00m \u001B[38;5;28;01mTrue\u001B[39;00m:\n\u001B[32m    705\u001B[39m     \u001B[38;5;28;01mtry\u001B[39;00m:\n\u001B[32m--> \u001B[39m\u001B[32m706\u001B[39m         \u001B[38;5;28;01mreturn\u001B[39;00m \u001B[38;5;28;43mself\u001B[39;49m\u001B[43m.\u001B[49m\u001B[43m_sock\u001B[49m\u001B[43m.\u001B[49m\u001B[43mrecv_into\u001B[49m\u001B[43m(\u001B[49m\u001B[43mb\u001B[49m\u001B[43m)\u001B[49m\n\u001B[32m    707\u001B[39m     \u001B[38;5;28;01mexcept\u001B[39;00m timeout:\n\u001B[32m    708\u001B[39m         \u001B[38;5;28mself\u001B[39m._timeout_occurred = \u001B[38;5;28;01mTrue\u001B[39;00m\n",
      "\u001B[36mFile \u001B[39m\u001B[32m~\\AppData\\Local\\Programs\\Python\\Python311\\Lib\\ssl.py:1314\u001B[39m, in \u001B[36mSSLSocket.recv_into\u001B[39m\u001B[34m(self, buffer, nbytes, flags)\u001B[39m\n\u001B[32m   1310\u001B[39m     \u001B[38;5;28;01mif\u001B[39;00m flags != \u001B[32m0\u001B[39m:\n\u001B[32m   1311\u001B[39m         \u001B[38;5;28;01mraise\u001B[39;00m \u001B[38;5;167;01mValueError\u001B[39;00m(\n\u001B[32m   1312\u001B[39m           \u001B[33m\"\u001B[39m\u001B[33mnon-zero flags not allowed in calls to recv_into() on \u001B[39m\u001B[38;5;132;01m%s\u001B[39;00m\u001B[33m\"\u001B[39m %\n\u001B[32m   1313\u001B[39m           \u001B[38;5;28mself\u001B[39m.\u001B[34m__class__\u001B[39m)\n\u001B[32m-> \u001B[39m\u001B[32m1314\u001B[39m     \u001B[38;5;28;01mreturn\u001B[39;00m \u001B[38;5;28;43mself\u001B[39;49m\u001B[43m.\u001B[49m\u001B[43mread\u001B[49m\u001B[43m(\u001B[49m\u001B[43mnbytes\u001B[49m\u001B[43m,\u001B[49m\u001B[43m \u001B[49m\u001B[43mbuffer\u001B[49m\u001B[43m)\u001B[49m\n\u001B[32m   1315\u001B[39m \u001B[38;5;28;01melse\u001B[39;00m:\n\u001B[32m   1316\u001B[39m     \u001B[38;5;28;01mreturn\u001B[39;00m \u001B[38;5;28msuper\u001B[39m().recv_into(buffer, nbytes, flags)\n",
      "\u001B[36mFile \u001B[39m\u001B[32m~\\AppData\\Local\\Programs\\Python\\Python311\\Lib\\ssl.py:1166\u001B[39m, in \u001B[36mSSLSocket.read\u001B[39m\u001B[34m(self, len, buffer)\u001B[39m\n\u001B[32m   1164\u001B[39m \u001B[38;5;28;01mtry\u001B[39;00m:\n\u001B[32m   1165\u001B[39m     \u001B[38;5;28;01mif\u001B[39;00m buffer \u001B[38;5;129;01mis\u001B[39;00m \u001B[38;5;129;01mnot\u001B[39;00m \u001B[38;5;28;01mNone\u001B[39;00m:\n\u001B[32m-> \u001B[39m\u001B[32m1166\u001B[39m         \u001B[38;5;28;01mreturn\u001B[39;00m \u001B[38;5;28;43mself\u001B[39;49m\u001B[43m.\u001B[49m\u001B[43m_sslobj\u001B[49m\u001B[43m.\u001B[49m\u001B[43mread\u001B[49m\u001B[43m(\u001B[49m\u001B[38;5;28;43mlen\u001B[39;49m\u001B[43m,\u001B[49m\u001B[43m \u001B[49m\u001B[43mbuffer\u001B[49m\u001B[43m)\u001B[49m\n\u001B[32m   1167\u001B[39m     \u001B[38;5;28;01melse\u001B[39;00m:\n\u001B[32m   1168\u001B[39m         \u001B[38;5;28;01mreturn\u001B[39;00m \u001B[38;5;28mself\u001B[39m._sslobj.read(\u001B[38;5;28mlen\u001B[39m)\n",
      "\u001B[31mKeyboardInterrupt\u001B[39m: "
     ]
    }
   ],
   "execution_count": 55
  },
  {
   "metadata": {},
   "cell_type": "markdown",
   "source": [
    "## Filtering dataset\n",
    "* Remove low ratings: We consider ratings >= 4.0 as positive.\n",
    "* Remove exact duplicates: Ensure that each user-item interaction is unique.\n",
    "* Reduce item sparsity: Ensure that every remaining item has at least a certain number of interactions.\n",
    "* Reduce user sparsity: Ensure that every user has at least a certain number of interactions."
   ],
   "id": "e3209926a6bae44b"
  },
  {
   "metadata": {
    "ExecuteTime": {
     "end_time": "2025-08-18T08:23:06.579229Z",
     "start_time": "2025-08-18T08:23:06.560241Z"
    }
   },
   "cell_type": "code",
   "source": [
    "# Remove low ratings, as we are building a model for positive recommendations (make implicit feedback)\n",
    "def remove_low_ratings(dataframe, min_rating=4.0, keep_rating=True):\n",
    "    dataframe[\"label\"] = (dataframe[\"rating\"] >= min_rating).astype(int)\n",
    "    if not keep_rating:\n",
    "        dataframe = dataframe.drop(columns=[\"rating\"])\n",
    "    return dataframe\n",
    "\n",
    "df = remove_low_ratings(df, POSITIVE_THRESHOLD, keep_rating=True)\n",
    "df.sample(5)"
   ],
   "id": "d669c17deb5353d5",
   "outputs": [
    {
     "data": {
      "text/plain": [
       "                                user        item  rating  \\\n",
       "139464  AH4BUMIEYHXETPZQADPZTHRZUQYQ  B001TM5B16     3.0   \n",
       "294453  AEYSXJ5XMB2M3FONLYZUEKHVGNIA  B0055Q175G     5.0   \n",
       "290648  AE4NXURNTQQY3CJWRTJQMBJR7HLA  B07ZPF625Q     5.0   \n",
       "190005  AG7REHZEXAXTTYKS2WHSDQC2YSDQ  B001A4VH2U     4.0   \n",
       "252001  AGXCUHMHZTQ62JBWQFHCF4JBV7JQ  B000N5Z2L4     5.0   \n",
       "\n",
       "                                                title  \\\n",
       "139464                               Fun to see again   \n",
       "294453                                     great game   \n",
       "290648                             Dynamic storyline.   \n",
       "190005                                          House   \n",
       "252001  The best price for Xbox Live Gold you'll find   \n",
       "\n",
       "                                                     text         domain  \\\n",
       "139464  This film has held up through the years.  Fun ...  Movies_and_TV   \n",
       "294453                                          Good game    Video_Games   \n",
       "290648  Bought as a gift.<br />I own a copy, and was i...    Video_Games   \n",
       "190005  Love the series now I can see them all in orde...  Movies_and_TV   \n",
       "252001  A must have for any gamer. For some reason, th...    Video_Games   \n",
       "\n",
       "            timestamp  label  \n",
       "139464  1470787719000      0  \n",
       "294453  1483750969000      1  \n",
       "290648  1644095084942      1  \n",
       "190005  1366576399000      1  \n",
       "252001  1385043952000      1  "
      ],
      "text/html": [
       "<div>\n",
       "<style scoped>\n",
       "    .dataframe tbody tr th:only-of-type {\n",
       "        vertical-align: middle;\n",
       "    }\n",
       "\n",
       "    .dataframe tbody tr th {\n",
       "        vertical-align: top;\n",
       "    }\n",
       "\n",
       "    .dataframe thead th {\n",
       "        text-align: right;\n",
       "    }\n",
       "</style>\n",
       "<table border=\"1\" class=\"dataframe\">\n",
       "  <thead>\n",
       "    <tr style=\"text-align: right;\">\n",
       "      <th></th>\n",
       "      <th>user</th>\n",
       "      <th>item</th>\n",
       "      <th>rating</th>\n",
       "      <th>title</th>\n",
       "      <th>text</th>\n",
       "      <th>domain</th>\n",
       "      <th>timestamp</th>\n",
       "      <th>label</th>\n",
       "    </tr>\n",
       "  </thead>\n",
       "  <tbody>\n",
       "    <tr>\n",
       "      <th>139464</th>\n",
       "      <td>AH4BUMIEYHXETPZQADPZTHRZUQYQ</td>\n",
       "      <td>B001TM5B16</td>\n",
       "      <td>3.0</td>\n",
       "      <td>Fun to see again</td>\n",
       "      <td>This film has held up through the years.  Fun ...</td>\n",
       "      <td>Movies_and_TV</td>\n",
       "      <td>1470787719000</td>\n",
       "      <td>0</td>\n",
       "    </tr>\n",
       "    <tr>\n",
       "      <th>294453</th>\n",
       "      <td>AEYSXJ5XMB2M3FONLYZUEKHVGNIA</td>\n",
       "      <td>B0055Q175G</td>\n",
       "      <td>5.0</td>\n",
       "      <td>great game</td>\n",
       "      <td>Good game</td>\n",
       "      <td>Video_Games</td>\n",
       "      <td>1483750969000</td>\n",
       "      <td>1</td>\n",
       "    </tr>\n",
       "    <tr>\n",
       "      <th>290648</th>\n",
       "      <td>AE4NXURNTQQY3CJWRTJQMBJR7HLA</td>\n",
       "      <td>B07ZPF625Q</td>\n",
       "      <td>5.0</td>\n",
       "      <td>Dynamic storyline.</td>\n",
       "      <td>Bought as a gift.&lt;br /&gt;I own a copy, and was i...</td>\n",
       "      <td>Video_Games</td>\n",
       "      <td>1644095084942</td>\n",
       "      <td>1</td>\n",
       "    </tr>\n",
       "    <tr>\n",
       "      <th>190005</th>\n",
       "      <td>AG7REHZEXAXTTYKS2WHSDQC2YSDQ</td>\n",
       "      <td>B001A4VH2U</td>\n",
       "      <td>4.0</td>\n",
       "      <td>House</td>\n",
       "      <td>Love the series now I can see them all in orde...</td>\n",
       "      <td>Movies_and_TV</td>\n",
       "      <td>1366576399000</td>\n",
       "      <td>1</td>\n",
       "    </tr>\n",
       "    <tr>\n",
       "      <th>252001</th>\n",
       "      <td>AGXCUHMHZTQ62JBWQFHCF4JBV7JQ</td>\n",
       "      <td>B000N5Z2L4</td>\n",
       "      <td>5.0</td>\n",
       "      <td>The best price for Xbox Live Gold you'll find</td>\n",
       "      <td>A must have for any gamer. For some reason, th...</td>\n",
       "      <td>Video_Games</td>\n",
       "      <td>1385043952000</td>\n",
       "      <td>1</td>\n",
       "    </tr>\n",
       "  </tbody>\n",
       "</table>\n",
       "</div>"
      ]
     },
     "execution_count": 51,
     "metadata": {},
     "output_type": "execute_result"
    }
   ],
   "execution_count": 51
  },
  {
   "metadata": {
    "ExecuteTime": {
     "end_time": "2025-08-18T08:23:18.863826Z",
     "start_time": "2025-08-18T08:23:16.587983Z"
    }
   },
   "cell_type": "code",
   "source": [
    "# Reduce item sparsity to ensure that every remaining item has at least certain number\n",
    "# of interactions, and that every user has at least certain number of interactions\n",
    "def filter_interactions(dataframe, min_user_interactions, min_item_interactions):\n",
    "    # Removing exact duplicates first\n",
    "    print(f\"Dataframe before removing exact duplicates: {len(dataframe)}\")\n",
    "    dataframe = dataframe.drop_duplicates()\n",
    "    print(f\"Dataframe before interactions filtering: {len(dataframe)}\")\n",
    "\n",
    "    while True:\n",
    "        before = len(dataframe)\n",
    "        # Count interactions per user and item\n",
    "        user_counts = dataframe.groupby(\"user\")[\"item\"].count()\n",
    "        item_counts = dataframe.groupby(\"item\")[\"user\"].count()\n",
    "        # Filter users and items based on interaction counts\n",
    "        users_to_keep = set(user_counts[user_counts >= min_user_interactions].index)\n",
    "        items_to_keep = set(item_counts[item_counts >= min_item_interactions].index)\n",
    "        # Filter the DataFrame\n",
    "        dataframe = dataframe[dataframe[\"user\"].isin(users_to_keep) & dataframe[\"item\"].isin(items_to_keep)]\n",
    "        after = len(dataframe)\n",
    "        if after == before:\n",
    "            break\n",
    "    print(f\"Dataframe after interactions filtering: {after}\")\n",
    "    return dataframe\n",
    "\n",
    "df = filter_interactions(df, MIN_USER_INTERACTIONS, MIN_ITEM_INTERACTIONS)"
   ],
   "id": "a9dce0b30b2b906e",
   "outputs": [
    {
     "name": "stdout",
     "output_type": "stream",
     "text": [
      "Dataframe before removing exact duplicates: 300000\n",
      "Dataframe before interactions filtering: 298841\n",
      "Dataframe after interactions filtering: 16514\n"
     ]
    }
   ],
   "execution_count": 52
  },
  {
   "metadata": {},
   "cell_type": "markdown",
   "source": [
    "## Exploratory Data Analysis (EDA)\n",
    "* Basic statistics\n",
    "* Rating distribution\n",
    "* User and item statistics\n",
    "* Cross-domain user overlap\n",
    "* Sparsity analysis"
   ],
   "id": "707206cab335ae3f"
  },
  {
   "metadata": {},
   "cell_type": "markdown",
   "source": "### Basic statistics",
   "id": "99b042aa3a23cbed"
  },
  {
   "metadata": {
    "ExecuteTime": {
     "end_time": "2025-08-18T08:23:23.654468Z",
     "start_time": "2025-08-18T08:23:23.648116Z"
    }
   },
   "cell_type": "code",
   "source": [
    "print(\"Total rows:\", len(df))\n",
    "print(\"Domains:\", df[\"domain\"].value_counts().to_dict())"
   ],
   "id": "b66f6f075105037e",
   "outputs": [
    {
     "name": "stdout",
     "output_type": "stream",
     "text": [
      "Total rows: 16514\n",
      "Domains: {'Video_Games': 12291, 'Movies_and_TV': 4223}\n"
     ]
    }
   ],
   "execution_count": 53
  },
  {
   "metadata": {},
   "cell_type": "code",
   "outputs": [],
   "execution_count": null,
   "source": "",
   "id": "1971a0823759dc80"
  }
 ],
 "metadata": {
  "kernelspec": {
   "display_name": "Python 3",
   "language": "python",
   "name": "python3"
  },
  "language_info": {
   "codemirror_mode": {
    "name": "ipython",
    "version": 2
   },
   "file_extension": ".py",
   "mimetype": "text/x-python",
   "name": "python",
   "nbconvert_exporter": "python",
   "pygments_lexer": "ipython2",
   "version": "2.7.6"
  }
 },
 "nbformat": 4,
 "nbformat_minor": 5
}
