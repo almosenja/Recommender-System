{
 "cells": [
  {
   "metadata": {},
   "cell_type": "markdown",
   "source": [
    "# Recommender System - Baseline Model\n",
    "This notebook implements a simple baseline which is collaborative filtering Matrix Factorization."
   ],
   "id": "7c822c18c3c50055"
  },
  {
   "metadata": {
    "ExecuteTime": {
     "end_time": "2025-08-23T14:55:15.138455Z",
     "start_time": "2025-08-23T14:55:05.307111Z"
    }
   },
   "cell_type": "code",
   "source": [
    "import os\n",
    "import math\n",
    "import random\n",
    "import numpy as np\n",
    "import pandas as pd\n",
    "import time\n",
    "import gc\n",
    "import matplotlib.pyplot as plt\n",
    "from collections import defaultdict\n",
    "\n",
    "os.environ[\"HF_HOME\"] = \"D:/Python Projects/recommendation_system\"\n",
    "os.environ[\"HF_DATASETS_CACHE\"] = \"D:/Python Projects/recommendation_system/recsys/data\"\n",
    "os.environ[\"TRANSFORMERS_CACHE\"] = \"D:/Python Projects/recommendation_system/recsys/models\"\n",
    "\n",
    "import torch\n",
    "import torch.nn as nn\n",
    "from torch.utils.data import Dataset, DataLoader\n",
    "from sklearn.preprocessing import LabelEncoder\n",
    "\n",
    "from datasets import load_dataset, Features, Value\n",
    "from tqdm import tqdm\n",
    "from tensorboardX import SummaryWriter"
   ],
   "id": "5a6345db3eba7a39",
   "outputs": [],
   "execution_count": 1
  },
  {
   "metadata": {
    "ExecuteTime": {
     "end_time": "2025-08-23T14:55:15.250234Z",
     "start_time": "2025-08-23T14:55:15.147012Z"
    }
   },
   "cell_type": "code",
   "source": [
    "SEED = 42\n",
    "def set_seed(seed=SEED):\n",
    "    random.seed(seed)\n",
    "    np.random.seed(seed)\n",
    "    torch.manual_seed(seed)\n",
    "    torch.cuda.manual_seed_all(seed)\n",
    "\n",
    "set_seed(SEED)\n",
    "DEVICE = \"cuda\" if torch.cuda.is_available() else \"cpu\"\n",
    "print(\"DEVICE:\", DEVICE)"
   ],
   "id": "edd5232c634edf29",
   "outputs": [
    {
     "name": "stdout",
     "output_type": "stream",
     "text": [
      "DEVICE: cuda\n"
     ]
    }
   ],
   "execution_count": 2
  },
  {
   "metadata": {},
   "cell_type": "markdown",
   "source": [
    "## Loading the dataset\n",
    "The dataset is loaded from the Hugging Face datasets library, Amazon Reviews 2023."
   ],
   "id": "ff3e64dbef5ea775"
  },
  {
   "metadata": {
    "ExecuteTime": {
     "end_time": "2025-08-23T14:56:10.809528Z",
     "start_time": "2025-08-23T14:55:36.414221Z"
    }
   },
   "cell_type": "code",
   "source": [
    "USE_HF = True\n",
    "HF_DATASET = \"McAuley-Lab/Amazon-Reviews-2023\"\n",
    "HF_DOMAIN = \"Movies_and_TV\"\n",
    "\n",
    "def load_amazon_reviews_fast(domain: str, max_items: int | None = None, seed: int = SEED) -> pd.DataFrame:\n",
    "    ds = load_dataset(\n",
    "        \"McAuley-Lab/Amazon-Reviews-2023\",\n",
    "        f\"raw_review_{domain}\",\n",
    "        split=\"full\",\n",
    "        trust_remote_code=True,\n",
    "    )\n",
    "\n",
    "    # Keep only needed columns early\n",
    "    ds = ds.select_columns([\"user_id\", \"parent_asin\", \"rating\", \"verified_purchase\", \"timestamp\"])\n",
    "\n",
    "    # Rename + cast in Arrow (vectorized; no Python loop)\n",
    "    ds = ds.rename_columns({\"user_id\": \"user\", \"parent_asin\": \"item\"})\n",
    "    ds = ds.cast(Features({\n",
    "        \"user\": Value(\"string\"),\n",
    "        \"item\": Value(\"string\"),\n",
    "        \"rating\": Value(\"float32\"),\n",
    "        \"verified_purchase\": Value(\"bool\"),\n",
    "        \"timestamp\": Value(\"int64\"),   # seconds or ms as stored\n",
    "    }))\n",
    "\n",
    "    # Fast random subset without building a huge pandas frame first\n",
    "    if max_items is not None:\n",
    "        k = min(max_items, ds.num_rows)\n",
    "        ds = ds.shuffle(seed=seed).select(range(k))\n",
    "\n",
    "    # Convert to pandas (Arrow zero-copy where possible)\n",
    "    df = ds.to_pandas()   # much faster than manual row loop\n",
    "    df.insert(3, \"domain\", domain)  # add domain column to match your schema\n",
    "    return df\n",
    "\n",
    "# usage\n",
    "df = load_amazon_reviews_fast(HF_DOMAIN, max_items=1_000_000, seed=SEED)\n",
    "print(f\"Loaded {len(df)} rows from {HF_DOMAIN} domain.\")"
   ],
   "id": "8180a93e7c61c04",
   "outputs": [
    {
     "name": "stdout",
     "output_type": "stream",
     "text": [
      "Loaded 1000000 rows from Movies_and_TV domain.\n"
     ]
    }
   ],
   "execution_count": 3
  },
  {
   "metadata": {
    "ExecuteTime": {
     "end_time": "2025-08-23T15:08:15.844940Z",
     "start_time": "2025-08-23T15:08:15.821326Z"
    }
   },
   "cell_type": "code",
   "source": "df.head()",
   "id": "e30270380ba0bb72",
   "outputs": [
    {
     "data": {
      "text/plain": [
       "                           user        item  rating         domain  \\\n",
       "0  AHHW42C67LCCUCLF7M7SBLDVKTQQ  B07XZD2RR4     5.0  Movies_and_TV   \n",
       "1  AEJQ3S7S5O6LBPMQLOBYUBPMECDQ  B000KF0GRW     5.0  Movies_and_TV   \n",
       "2  AFZCEV4OHBOSOT226R7INKPRGYWQ  B00104AYSS     5.0  Movies_and_TV   \n",
       "3  AGEDLCCEVKIPMM4MY6U33KANA3IA  B003YVEIY6     5.0  Movies_and_TV   \n",
       "4  AFB6GRGUSPQWO7XXQG5ANLYQGLSA  B00ZGUUTN2     5.0  Movies_and_TV   \n",
       "\n",
       "   verified_purchase      timestamp  \n",
       "0               True  1570937908945  \n",
       "1               True  1173388138000  \n",
       "2               True  1424845397000  \n",
       "3              False  1409109366000  \n",
       "4               True  1456348687000  "
      ],
      "text/html": [
       "<div>\n",
       "<style scoped>\n",
       "    .dataframe tbody tr th:only-of-type {\n",
       "        vertical-align: middle;\n",
       "    }\n",
       "\n",
       "    .dataframe tbody tr th {\n",
       "        vertical-align: top;\n",
       "    }\n",
       "\n",
       "    .dataframe thead th {\n",
       "        text-align: right;\n",
       "    }\n",
       "</style>\n",
       "<table border=\"1\" class=\"dataframe\">\n",
       "  <thead>\n",
       "    <tr style=\"text-align: right;\">\n",
       "      <th></th>\n",
       "      <th>user</th>\n",
       "      <th>item</th>\n",
       "      <th>rating</th>\n",
       "      <th>domain</th>\n",
       "      <th>verified_purchase</th>\n",
       "      <th>timestamp</th>\n",
       "    </tr>\n",
       "  </thead>\n",
       "  <tbody>\n",
       "    <tr>\n",
       "      <th>0</th>\n",
       "      <td>AHHW42C67LCCUCLF7M7SBLDVKTQQ</td>\n",
       "      <td>B07XZD2RR4</td>\n",
       "      <td>5.0</td>\n",
       "      <td>Movies_and_TV</td>\n",
       "      <td>True</td>\n",
       "      <td>1570937908945</td>\n",
       "    </tr>\n",
       "    <tr>\n",
       "      <th>1</th>\n",
       "      <td>AEJQ3S7S5O6LBPMQLOBYUBPMECDQ</td>\n",
       "      <td>B000KF0GRW</td>\n",
       "      <td>5.0</td>\n",
       "      <td>Movies_and_TV</td>\n",
       "      <td>True</td>\n",
       "      <td>1173388138000</td>\n",
       "    </tr>\n",
       "    <tr>\n",
       "      <th>2</th>\n",
       "      <td>AFZCEV4OHBOSOT226R7INKPRGYWQ</td>\n",
       "      <td>B00104AYSS</td>\n",
       "      <td>5.0</td>\n",
       "      <td>Movies_and_TV</td>\n",
       "      <td>True</td>\n",
       "      <td>1424845397000</td>\n",
       "    </tr>\n",
       "    <tr>\n",
       "      <th>3</th>\n",
       "      <td>AGEDLCCEVKIPMM4MY6U33KANA3IA</td>\n",
       "      <td>B003YVEIY6</td>\n",
       "      <td>5.0</td>\n",
       "      <td>Movies_and_TV</td>\n",
       "      <td>False</td>\n",
       "      <td>1409109366000</td>\n",
       "    </tr>\n",
       "    <tr>\n",
       "      <th>4</th>\n",
       "      <td>AFB6GRGUSPQWO7XXQG5ANLYQGLSA</td>\n",
       "      <td>B00ZGUUTN2</td>\n",
       "      <td>5.0</td>\n",
       "      <td>Movies_and_TV</td>\n",
       "      <td>True</td>\n",
       "      <td>1456348687000</td>\n",
       "    </tr>\n",
       "  </tbody>\n",
       "</table>\n",
       "</div>"
      ]
     },
     "execution_count": 4,
     "metadata": {},
     "output_type": "execute_result"
    }
   ],
   "execution_count": 4
  },
  {
   "metadata": {
    "ExecuteTime": {
     "end_time": "2025-08-23T15:08:16.141582Z",
     "start_time": "2025-08-23T15:08:16.137144Z"
    }
   },
   "cell_type": "code",
   "source": [
    "# USE_HF = True\n",
    "# HF_DATASET = \"McAuley-Lab/Amazon-Reviews-2023\"\n",
    "# HF_DOMAIN = \"Movies_and_TV\"\n",
    "#\n",
    "# # Load the dataset\n",
    "# def load_amazon_reviews(domain:str, max_items:int=100000) -> pd.DataFrame:\n",
    "#     dataset = load_dataset(\"McAuley-Lab/Amazon-Reviews-2023\",\n",
    "#                            f\"raw_review_{domain}\",\n",
    "#                            trust_remote_code=True)\n",
    "#\n",
    "#     rows = []\n",
    "#     for i, r in enumerate(dataset[\"full\"]):\n",
    "#         rows.append({\n",
    "#             \"user\": r[\"user_id\"],\n",
    "#             \"item\": r[\"parent_asin\"],\n",
    "#             \"rating\": float(r[\"rating\"]),\n",
    "#             \"domain\": domain,\n",
    "#             \"verified_purchase\": bool(r[\"verified_purchase\"]),\n",
    "#             \"timestamp\": int(r[\"timestamp\"])\n",
    "#         })\n",
    "#\n",
    "#     out = pd.DataFrame(rows)\n",
    "#     if max_items:\n",
    "#         out = out.copy()\n",
    "#         out = out.sample(n=max_items, random_state=SEED).reset_index(drop=True)\n",
    "#\n",
    "#     return out\n",
    "#\n",
    "# df = load_amazon_reviews(HF_DOMAIN, max_items=2000000)\n",
    "# print(f\"Loaded {len(df)} rows from {HF_DOMAIN} domain.\")"
   ],
   "id": "72851e8e3592cd93",
   "outputs": [],
   "execution_count": 5
  },
  {
   "metadata": {},
   "cell_type": "markdown",
   "source": [
    "## Preprocessing the dataset\n",
    "- Make it implicit by considering all ratings as positive interactions.\n",
    "- Filter out users and items with less than 5 interactions.\n",
    "- Create a mapping of user and item IDs to indices."
   ],
   "id": "f1783303bdad3402"
  },
  {
   "metadata": {
    "ExecuteTime": {
     "end_time": "2025-08-23T15:12:03.775569Z",
     "start_time": "2025-08-23T15:12:02.466173Z"
    }
   },
   "cell_type": "code",
   "source": [
    "# Make implicit dataset, filter users/items with less than 5 interactions, and encode user/item IDs\n",
    "def preprocess_dataset(df, min_user_interactions=5, min_item_interactions=5):\n",
    "    # Make it implicit\n",
    "    df[\"label\"] = 1.0\n",
    "\n",
    "    # Filter users and items with less than 5 interactions\n",
    "    user_counts = df[\"user\"].value_counts()\n",
    "    item_counts = df[\"item\"].value_counts()\n",
    "\n",
    "    valid_users = user_counts[user_counts >= min_user_interactions].index\n",
    "    valid_items = item_counts[item_counts >= min_item_interactions].index\n",
    "\n",
    "    df = df[df[\"user\"].isin(valid_users) & df[\"item\"].isin(valid_items)].copy()\n",
    "    print(\"After interactions filtering:\", len(df), \"rows,\", df[\"user\"].nunique(), \"users,\", df[\"item\"].nunique(), \"items\")\n",
    "\n",
    "    user_enc = LabelEncoder()\n",
    "    item_enc = LabelEncoder()\n",
    "\n",
    "    df[\"user_id\"] = user_enc.fit_transform(df[\"user\"])\n",
    "    df[\"item_id\"] = item_enc.fit_transform(df[\"item\"])\n",
    "\n",
    "    return {\"filtered_df\": df,\n",
    "            \"user_encoder\": user_enc,\n",
    "            \"item_encoder\": item_enc}\n",
    "\n",
    "data_processor = preprocess_dataset(df, min_user_interactions=5, min_item_interactions=5)\n",
    "filtered_df = data_processor[\"filtered_df\"]"
   ],
   "id": "b9ebad4f47ee8759",
   "outputs": [
    {
     "name": "stdout",
     "output_type": "stream",
     "text": [
      "After interactions filtering: 41227 rows, 8967 users, 21489 items\n"
     ]
    }
   ],
   "execution_count": 33
  },
  {
   "metadata": {
    "ExecuteTime": {
     "end_time": "2025-08-23T15:12:03.805423Z",
     "start_time": "2025-08-23T15:12:03.783270Z"
    }
   },
   "cell_type": "code",
   "source": [
    "def calculate_data_sparsity(df):\n",
    "    num_users = df[\"user\"].nunique()\n",
    "    num_items = df[\"item\"].nunique()\n",
    "    num_interactions = len(df)\n",
    "    density = num_interactions / (num_users * num_items)\n",
    "    sparsity = 1 - density\n",
    "\n",
    "    print(f\"Number of users: {num_users}\")\n",
    "    print(f\"Number of items: {num_items}\")\n",
    "    print(f\"Number of interactions: {num_interactions}\")\n",
    "    print(f\"-\" * 30)\n",
    "    print(f\"Interaction Matrix Density: {density:.4f}\")\n",
    "    print(f\"Interaction Matrix Sparsity: {sparsity:.4f}\")\n",
    "\n",
    "calculate_data_sparsity(filtered_df)"
   ],
   "id": "1688a0fc8d6cd920",
   "outputs": [
    {
     "name": "stdout",
     "output_type": "stream",
     "text": [
      "Number of users: 8967\n",
      "Number of items: 21489\n",
      "Number of interactions: 41227\n",
      "------------------------------\n",
      "Interaction Matrix Density: 0.0002\n",
      "Interaction Matrix Sparsity: 0.9998\n"
     ]
    }
   ],
   "execution_count": 34
  },
  {
   "metadata": {
    "ExecuteTime": {
     "end_time": "2025-08-23T15:12:09.298759Z",
     "start_time": "2025-08-23T15:12:04.027255Z"
    }
   },
   "cell_type": "code",
   "source": [
    "# Define Leave-One-Out (LOO) split\n",
    "def loo_split(df, oversample_verified=False, oversample_factor=2):\n",
    "    df = df.sort_values([\"user_id\", \"timestamp\"])\n",
    "    train_rows, val_rows, test_rows = [], [], []\n",
    "    for uid, group in df.groupby(\"user_id\", sort=False):\n",
    "        g = group.sort_values(\"timestamp\")\n",
    "        if len(g) < 5:\n",
    "            train_rows.append(g)\n",
    "            continue\n",
    "        test_rows.append(g.iloc[[-1]])  # Last interaction as test\n",
    "        val_rows.append(g.iloc[[-2]])    # Second last interaction as validation\n",
    "        train_rows.append(g.iloc[:-2])    # All but last two as training\n",
    "\n",
    "    train_df = pd.concat(train_rows, ignore_index=True)\n",
    "    val_df = pd.concat(val_rows, ignore_index=True)\n",
    "    test_df = pd.concat(test_rows, ignore_index=True)\n",
    "\n",
    "    if oversample_verified and oversample_factor > 1:\n",
    "        verified_rows = train_df.loc[train_df[\"verified_purchase\"] == True]\n",
    "        if not verified_rows.empty:\n",
    "            train_df = pd.concat([train_df] + [verified_rows] * (oversample_factor - 1), ignore_index=True)\n",
    "\n",
    "    return train_df, val_df, test_df\n",
    "\n",
    "train_df, val_df, test_df = loo_split(filtered_df, oversample_verified=True, oversample_factor=2)\n",
    "print(f\"Train/Validation/Test split: {len(train_df)}, {len(val_df)}, {len(test_df)}\")"
   ],
   "id": "1bcb3147c4b71b5e",
   "outputs": [
    {
     "name": "stdout",
     "output_type": "stream",
     "text": [
      "Train/Validation/Test split: 57065, 3581, 3581\n"
     ]
    }
   ],
   "execution_count": 35
  },
  {
   "metadata": {},
   "cell_type": "markdown",
   "source": "## Building the dataset with negative sampling",
   "id": "4f6e8d4cae86c716"
  },
  {
   "metadata": {
    "ExecuteTime": {
     "end_time": "2025-08-23T15:12:14.367217Z",
     "start_time": "2025-08-23T15:12:14.361930Z"
    }
   },
   "cell_type": "code",
   "source": [
    "NUM_USERS = filtered_df[\"user_id\"].max() + 1\n",
    "NUM_ITEMS = filtered_df[\"item_id\"].max() + 1"
   ],
   "id": "265b459b4730043d",
   "outputs": [],
   "execution_count": 36
  },
  {
   "metadata": {
    "ExecuteTime": {
     "end_time": "2025-08-23T15:12:16.359553Z",
     "start_time": "2025-08-23T15:12:14.581821Z"
    }
   },
   "cell_type": "code",
   "source": [
    "# Rank the single positive against k negative samples for evaluation\n",
    "pos_items_by_user = defaultdict(set)\n",
    "for u, i in zip(train_df[\"user_id\"].values, train_df[\"item_id\"].values):\n",
    "    pos_items_by_user[u].add(i)\n",
    "\n",
    "def sample_eval_negatives(eval_df, num_items, pos_by_user, n_neg=99, seed=42):\n",
    "    rng = np.random.default_rng(seed)\n",
    "    neg_dict = {}\n",
    "    for u, pos_i in zip(eval_df[\"user_id\"].values, eval_df[\"item_id\"].values):\n",
    "        user_pos = pos_by_user[u].copy()\n",
    "        user_pos.add(pos_i)\n",
    "        candidates = []\n",
    "        while len(candidates) < n_neg:\n",
    "            cand = rng.integers(0, num_items)\n",
    "            if cand not in user_pos:\n",
    "                candidates.append(int(cand))\n",
    "                user_pos.add(cand)\n",
    "        neg_dict[u] = candidates\n",
    "    return neg_dict\n",
    "\n",
    "val_negatives = sample_eval_negatives(val_df, NUM_ITEMS, pos_items_by_user)\n",
    "test_negatives = sample_eval_negatives(test_df, NUM_ITEMS, pos_items_by_user)\n",
    "print(f\"Sampled {len(val_negatives)} validation users and {len(test_negatives)} test users with {len(next(iter(val_negatives.values())))} negatives each.\")"
   ],
   "id": "cca53221665f9295",
   "outputs": [
    {
     "name": "stdout",
     "output_type": "stream",
     "text": [
      "Sampled 3581 validation users and 3581 test users with 99 negatives each.\n"
     ]
    }
   ],
   "execution_count": 37
  },
  {
   "metadata": {
    "ExecuteTime": {
     "end_time": "2025-08-23T15:12:16.374391Z",
     "start_time": "2025-08-23T15:12:16.367069Z"
    }
   },
   "cell_type": "code",
   "source": [
    "# Training dataset with k negatives per positive\n",
    "class ImplicitTrainingDataset(Dataset):\n",
    "    def __init__(self, train_df, num_items, pos_by_user, neg_k=4):\n",
    "        self.pos_pairs = train_df[[\"user_id\", \"item_id\"]].values.astype(np.int64)\n",
    "        self.num_pos = len(self.pos_pairs)\n",
    "        self.neg_k = neg_k\n",
    "        self.num_items = num_items\n",
    "        self.pos_by_user = pos_by_user\n",
    "        self.length = self.num_pos * (1 + self.neg_k)\n",
    "\n",
    "    def __len__(self):\n",
    "        return self.length\n",
    "\n",
    "    def __getitem__(self, idx):\n",
    "        pos_idx = idx // (self.neg_k + 1)\n",
    "        is_pos = (idx % (self.neg_k + 1) == 0)\n",
    "        u, i_pos = self.pos_pairs[pos_idx]\n",
    "        if is_pos:\n",
    "            return int(u), int(i_pos), 1.0\n",
    "\n",
    "        while True:\n",
    "            j = random.randint(0, self.num_items - 1)\n",
    "            if j not in self.pos_by_user[u]:\n",
    "                return int(u), int(j), 0.0\n",
    "\n",
    "train_dataset = ImplicitTrainingDataset(train_df,\n",
    "                                  num_items=NUM_ITEMS,\n",
    "                                  pos_by_user=pos_items_by_user,\n",
    "                                  neg_k=4)\n",
    "train_loader = DataLoader(train_dataset,\n",
    "                          batch_size=1024,\n",
    "                          shuffle=True)\n",
    "\n",
    "print(f\"Training dataset created with {len(train_dataset)} samples.\")"
   ],
   "id": "ca3c4cf5ec1ad7b5",
   "outputs": [
    {
     "name": "stdout",
     "output_type": "stream",
     "text": [
      "Training dataset created with 285325 samples.\n"
     ]
    }
   ],
   "execution_count": 38
  },
  {
   "metadata": {},
   "cell_type": "markdown",
   "source": [
    "## Utility functions for evaluation & ranking metrics\n",
    "- For each val user, build candidate set = `{positive} U {k negatives}`\n",
    "- Score, sort, compute HR@K, NDCG@K, Precision@K, Recall@K"
   ],
   "id": "5091158ecaf52022"
  },
  {
   "metadata": {
    "ExecuteTime": {
     "end_time": "2025-08-23T15:12:17.912627Z",
     "start_time": "2025-08-23T15:12:17.908620Z"
    }
   },
   "cell_type": "code",
   "source": [
    "# @torch.no_grad()\n",
    "# def compute_val_loss(model, eval_df, loss_fn, pos_items_by_user, num_items, neg_k=4, device=\"cpu\"):\n",
    "#     model.eval()\n",
    "#     losses = []\n",
    "#     for u, i_pos in zip(eval_df[\"user_id\"].values, eval_df[\"item_d\"].values):\n",
    "#         # Positives\n",
    "#         u_t = torch.tensor([u], dtype=torch.long, device=device)\n",
    "#         i_t = torch.tensor([i_pos], dtype=torch.long, device=device)\n",
    "#         logit_pos = model(u_t, i_t)\n",
    "#         loss_pos = loss_fn(logit_pos, torch.ones_like(logit_pos))\n",
    "#         losses.append(loss_pos.item())\n",
    "#\n",
    "#         # Negatives\n",
    "#         taken = pos_items_by_user[u].copy()\n",
    "#         taken.add(int(i_pos))\n",
    "#         n_added = 0\n",
    "#         while n_added < neg_k:\n",
    "#             j = random.randint(0, num_items - 1)\n",
    "#             if j not in taken:\n",
    "#                 uj = torch.tensor([u], dtype=torch.long, device=device)\n",
    "#                 jj = torch.tensor([j], dtype=torch.long, device=device)\n",
    "#                 logit_neg = model(uj, jj)\n",
    "#                 loss_neg = loss_fn(logit_neg, torch.zeros_like(logit_neg))\n",
    "#                 losses.append(loss_neg.item())\n",
    "#                 taken.add(j)\n",
    "#                 n_added += 1\n",
    "#\n",
    "#     return float(np.mean(losses))\n",
    "#\n",
    "# def evaluate_ranking(eval_df, n_neg, seed=42):\n",
    "#     rng = np.random.default_rng(seed)\n",
    "#     neg_dict = {}\n",
    "#"
   ],
   "id": "985bafb819834daf",
   "outputs": [],
   "execution_count": 39
  },
  {
   "metadata": {
    "ExecuteTime": {
     "end_time": "2025-08-23T15:12:18.388008Z",
     "start_time": "2025-08-23T15:12:18.379504Z"
    }
   },
   "cell_type": "code",
   "source": [
    "# Validation loss and ranking metrics\n",
    "@torch.no_grad()\n",
    "def evaluate_ranking(model, eval_df, neg_dict, k=10, device=\"cpu\"):\n",
    "    model.eval()\n",
    "    hits, ndcgs, precisions, recalls = [], [], [], []\n",
    "    rng = np.random.default_rng(42)\n",
    "\n",
    "    for u, pos_i in zip(eval_df[\"user_id\"].values, eval_df[\"item_id\"].values):\n",
    "        candidates = [int(pos_i)] + neg_dict[u]\n",
    "        users = torch.tensor([u] * len(candidates), dtype=torch.long, device=device)\n",
    "        items = torch.tensor(candidates, dtype=torch.long, device=device)\n",
    "\n",
    "        scores = model(users, items).detach().cpu().numpy()\n",
    "\n",
    "        # Tiny noise to break ties fairly (same user → same noise stream)\n",
    "        user_rng = np.random.default_rng(rng.integers(0, 2**31) ^ u)\n",
    "        scores = scores + 1e-12 * user_rng.standard_normal(scores.shape)\n",
    "        rank = np.argsort(-scores).tolist().index(0) + 1\n",
    "        # rank = 1 + int(np.sum(scores[1:] > scores[0]))\n",
    "\n",
    "        hit = 1.0 if rank <= k else 0.0\n",
    "        hits.append(hit)\n",
    "        ndcg = (1.0 / math.log2(rank + 1)) if rank <= k else 0.0\n",
    "        ndcgs.append(ndcg)\n",
    "        precisions.append(hit / k)\n",
    "        recalls.append(hit)\n",
    "\n",
    "    return {\n",
    "        \"HR@K\": float(np.mean(hits)),\n",
    "        \"NDCG@K\": float(np.mean(ndcgs)),\n",
    "        \"Precision@K\": float(np.mean(precisions)),\n",
    "        \"Recall@K\": float(np.mean(recalls))\n",
    "    }\n",
    "\n",
    "@torch.no_grad()\n",
    "def compute_val_loss(model, eval_df, loss_fn, pos_items_by_user, num_items, neg_k=4, device=\"cpu\"):\n",
    "    model.eval()\n",
    "    losses = []\n",
    "    for u, i_pos in zip(eval_df[\"user_id\"].values, eval_df[\"item_id\"].values):\n",
    "        # Positives\n",
    "        u_t = torch.tensor([u], dtype=torch.long, device=device)\n",
    "        i_t = torch.tensor([i_pos], dtype=torch.long, device=device)\n",
    "        logit_pos = model(u_t, i_t)\n",
    "        loss_pos = loss_fn(logit_pos, torch.ones_like(logit_pos))\n",
    "        losses.append(loss_pos.item())\n",
    "\n",
    "        # Negatives\n",
    "        taken = pos_items_by_user[u].copy()\n",
    "        taken.add(int(i_pos))\n",
    "        n_added = 0\n",
    "        while n_added < neg_k:\n",
    "            j = random.randint(0, num_items - 1)\n",
    "            if j not in taken:\n",
    "                jj = torch.tensor([j], dtype=torch.long, device=device)\n",
    "                logit_neg = model(u_t, jj)\n",
    "                loss_neg = loss_fn(logit_neg, torch.zeros_like(logit_neg))\n",
    "                losses.append(loss_neg.item())\n",
    "                taken.add(j)\n",
    "                n_added += 1\n",
    "\n",
    "    return float(np.mean(losses))"
   ],
   "id": "778028709a077112",
   "outputs": [],
   "execution_count": 40
  },
  {
   "metadata": {},
   "cell_type": "markdown",
   "source": "## Building baseline model",
   "id": "813ae516d9ed3c96"
  },
  {
   "metadata": {
    "ExecuteTime": {
     "end_time": "2025-08-23T15:12:19.437724Z",
     "start_time": "2025-08-23T15:12:19.433486Z"
    }
   },
   "cell_type": "code",
   "source": [
    "# # Simple Matrix Factorization model with biases (dot product)\n",
    "# class MF(nn.Module):\n",
    "#     def __init__(self, num_users, num_items, embed_dim=64):\n",
    "#         super().__init__()\n",
    "#         self.user_emb = nn.Embedding(num_users, embed_dim)\n",
    "#         self.item_emb = nn.Embedding(num_items, embed_dim)\n",
    "#         nn.init.normal_(self.user_emb.weight, std=0.01)\n",
    "#         nn.init.normal_(self.item_emb.weight, std=0.01)\n",
    "#\n",
    "#     def forward(self, users, items):\n",
    "#         u = self.user_emb(users)\n",
    "#         v = self.item_emb(items)\n",
    "#         output = (u * v).sum(dim=1, keepdim=True)\n",
    "#         return output.squeeze()"
   ],
   "id": "6b90e93ceaa304db",
   "outputs": [],
   "execution_count": 41
  },
  {
   "metadata": {
    "ExecuteTime": {
     "end_time": "2025-08-23T15:12:19.756761Z",
     "start_time": "2025-08-23T15:12:19.749760Z"
    }
   },
   "cell_type": "code",
   "source": [
    "# Simple Matrix Factorization model (dot product) with biases\n",
    "class ImprovedMatrixFactorization(nn.Module):\n",
    "    \"\"\"Improved MF model with dropout and better initialization\"\"\"\n",
    "    def __init__(self, n_users, n_items, embedding_dim, dropout=0.2):\n",
    "        super().__init__()\n",
    "        self.user_embedding = nn.Embedding(n_users, embedding_dim)\n",
    "        self.item_embedding = nn.Embedding(n_items, embedding_dim)\n",
    "        self.user_bias = nn.Embedding(n_users, 1)\n",
    "        self.item_bias = nn.Embedding(n_items, 1)\n",
    "        self.global_bias = nn.Parameter(torch.zeros(1))\n",
    "        self.dropout = nn.Dropout(dropout)\n",
    "\n",
    "        # Better initialization\n",
    "        nn.init.xavier_uniform_(self.user_embedding.weight)\n",
    "        nn.init.xavier_uniform_(self.item_embedding.weight)\n",
    "        nn.init.zeros_(self.user_bias.weight)\n",
    "        nn.init.zeros_(self.item_bias.weight)\n",
    "\n",
    "    def forward(self, user_ids, item_ids):\n",
    "        user_embeds = self.dropout(self.user_embedding(user_ids))\n",
    "        item_embeds = self.dropout(self.item_embedding(item_ids))\n",
    "\n",
    "        dot_product = (user_embeds * item_embeds).sum(dim=1, keepdim=True)\n",
    "        output = dot_product + self.user_bias(user_ids) + self.item_bias(item_ids) + self.global_bias\n",
    "\n",
    "        return output.squeeze()\n",
    "\n",
    "    def predict_all_items(self, user_id):\n",
    "        \"\"\"Predict scores for all items for a given user\"\"\"\n",
    "        user_tensor = torch.tensor([user_id], dtype=torch.long).to(next(self.parameters()).device)\n",
    "        all_items = torch.arange(self.item_embedding.num_embeddings).to(next(self.parameters()).device)\n",
    "\n",
    "        user_embed = self.user_embedding(user_tensor)\n",
    "        item_embeds = self.item_embedding(all_items)\n",
    "\n",
    "        scores = torch.matmul(user_embed, item_embeds.T).squeeze()\n",
    "        scores += self.user_bias(user_tensor).squeeze()\n",
    "        scores += self.item_bias(all_items).squeeze()\n",
    "        scores += self.global_bias\n",
    "\n",
    "        return torch.sigmoid(scores)"
   ],
   "id": "caa02604866880b8",
   "outputs": [],
   "execution_count": 42
  },
  {
   "metadata": {},
   "cell_type": "markdown",
   "source": "## Train loop",
   "id": "1cd309ea5d673cac"
  },
  {
   "metadata": {
    "ExecuteTime": {
     "end_time": "2025-08-23T15:12:20.878534Z",
     "start_time": "2025-08-23T15:12:20.867696Z"
    }
   },
   "cell_type": "code",
   "source": [
    "def model_trainer(\n",
    "        model,\n",
    "        train_loader,\n",
    "        eval_df,\n",
    "        val_negatives,\n",
    "        num_items,\n",
    "        pos_items_by_user,\n",
    "        epochs,\n",
    "        lr=0.001,\n",
    "        weight_decay=1e-5,\n",
    "        k=10,\n",
    "        neg_k=4,\n",
    "        save_dir=\"model\",\n",
    "        device=\"cpu\"):\n",
    "\n",
    "    os.makedirs(save_dir, exist_ok=True)\n",
    "\n",
    "    model.to(device)\n",
    "    loss_fn = nn.BCEWithLogitsLoss()\n",
    "    optimizer = torch.optim.Adam(model.parameters(), lr=lr, weight_decay=weight_decay)\n",
    "    writer = SummaryWriter()\n",
    "\n",
    "    train_losses = []\n",
    "    val_losses = []\n",
    "    val_metrics = []\n",
    "\n",
    "    best_ndcg = 0.0\n",
    "    best_epoch = 0\n",
    "\n",
    "    # Training loop\n",
    "    for epoch in range(0, epochs):\n",
    "        model.train()\n",
    "        running_loss = 0.0\n",
    "        n_batches = 0\n",
    "        start_time = time.time()\n",
    "\n",
    "        # Training batch loop\n",
    "        for users, items, labels in tqdm(train_loader, desc=f\"Epoch {epoch + 1}/{epochs}\"):\n",
    "            users = users.to(DEVICE)\n",
    "            items = items.to(DEVICE)\n",
    "            labels = labels.to(DEVICE)\n",
    "\n",
    "            optimizer.zero_grad()\n",
    "            logits = model(users, items)\n",
    "            loss = loss_fn(logits, labels)\n",
    "\n",
    "            loss.backward()\n",
    "            optimizer.step()\n",
    "            running_loss += loss.item()\n",
    "            n_batches += 1\n",
    "\n",
    "        # Calculate average training loss for the epoch\n",
    "        train_loss = running_loss / max(n_batches, 1)\n",
    "        train_losses.append(train_loss)\n",
    "\n",
    "        # Validation loss and metrics\n",
    "        val_loss = compute_val_loss(model, eval_df, loss_fn, pos_items_by_user, num_items, neg_k=neg_k, device=device)\n",
    "        val_losses.append(val_loss)\n",
    "        metrics = evaluate_ranking(model, eval_df, val_negatives, k=k, device=device)\n",
    "        val_metrics.append(metrics)\n",
    "\n",
    "        hr = metrics[\"HR@K\"]\n",
    "        ndcg = metrics[\"NDCG@K\"]\n",
    "        precision = metrics[\"Precision@K\"]\n",
    "        recall = metrics[\"Recall@K\"]\n",
    "\n",
    "        # Check for improvement\n",
    "        improvement_msg = \"\"\n",
    "        if ndcg > best_ndcg:\n",
    "            improvement_msg = f\"\\nNew best NDCG@{k}: {ndcg:.4f}\"\n",
    "            best_ndcg = ndcg\n",
    "            best_epoch = epoch + 1\n",
    "            torch.save(model.state_dict(), os.path.join(save_dir, \"best_model.pth\"))\n",
    "        torch.save(model.state_dict(), os.path.join(save_dir, \"last_model.pth\"))\n",
    "\n",
    "        # Logging to TensorBoard\n",
    "        writer.add_scalar(\"Loss/Train\", train_loss, epoch)\n",
    "        writer.add_scalar(\"Loss/Validation\", val_loss, epoch)\n",
    "        writer.add_scalar(f\"Metrics/Val_HR@{k}\", hr, epoch)\n",
    "        writer.add_scalar(f\"Metrics/Val_NDCG@{k}\", ndcg, epoch)\n",
    "        writer.add_scalar(f\"Metrics/Val_Precision@{k}\", precision, epoch)\n",
    "        writer.add_scalar(f\"Metrics/Val_Recall@{k}\", recall, epoch)\n",
    "\n",
    "        epoch_time = time.time() - start_time\n",
    "\n",
    "        print(f\"Epoch {epoch + 1}/{epochs} - \"\n",
    "              f\"Train Loss: {train_loss:.4f}, \"\n",
    "              f\"Val Loss: {val_loss:.4f}, \"\n",
    "              f\"HR@{k}: {hr:.4f}, \"\n",
    "              f\"NDCG@{k}: {ndcg:.4f}, \"\n",
    "              f\"Precision@{k}: {precision:.4f}, \"\n",
    "              f\"Recall@{k}: {recall:.4f}, \"\n",
    "              f\"Time: {epoch_time:.2f}s\"\n",
    "              f\"{improvement_msg}\\n\")\n",
    "\n",
    "    print(\"\\n\" + \"=\"*50)\n",
    "    print(\"Training Complete!\")\n",
    "    print(f\"Best performance was at Epoch {best_epoch} with NDCG@{k}: {best_ndcg:.4f}\")\n",
    "    print(\"=\"*50)\n",
    "\n",
    "    # Clean up\n",
    "    gc.collect()\n",
    "    if torch.cuda.is_available():\n",
    "        torch.cuda.empty_cache()\n",
    "    writer.close()\n",
    "\n",
    "    return train_losses, val_losses, val_metrics, best_ndcg"
   ],
   "id": "ab497fc37e83e382",
   "outputs": [],
   "execution_count": 43
  },
  {
   "metadata": {
    "ExecuteTime": {
     "end_time": "2025-08-23T15:16:54.988548Z",
     "start_time": "2025-08-23T15:12:21.525799Z"
    }
   },
   "cell_type": "code",
   "source": [
    "# Run the training\n",
    "model = ImprovedMatrixFactorization(n_users=NUM_USERS, n_items=NUM_ITEMS, embedding_dim=16).to(DEVICE) #\n",
    "\n",
    "train_losses, val_losses, val_metrics, best_ndcg = model_trainer(\n",
    "    model=model,\n",
    "    train_loader=train_loader,\n",
    "    eval_df=val_df,\n",
    "    val_negatives=val_negatives,\n",
    "    num_items=NUM_ITEMS,\n",
    "    pos_items_by_user=pos_items_by_user,\n",
    "    epochs=30,\n",
    "    lr=0.005,\n",
    "    weight_decay=5e-3,\n",
    "    k=10,                         # Cutoff for ranking metrics\n",
    "    neg_k=4,\n",
    "    device=DEVICE\n",
    ")"
   ],
   "id": "787fab7f1b944d07",
   "outputs": [
    {
     "name": "stderr",
     "output_type": "stream",
     "text": [
      "Epoch 1/30: 100%|██████████| 279/279 [00:02<00:00, 139.04it/s]\n"
     ]
    },
    {
     "name": "stdout",
     "output_type": "stream",
     "text": [
      "Epoch 1/30 - Train Loss: 0.5704, Val Loss: 0.5132, HR@10: 0.1117, NDCG@10: 0.0523, Precision@10: 0.0112, Recall@10: 0.1117, Time: 14.67s\n",
      "New best NDCG@10: 0.0523\n",
      "\n"
     ]
    },
    {
     "name": "stderr",
     "output_type": "stream",
     "text": [
      "Epoch 2/30: 100%|██████████| 279/279 [00:01<00:00, 140.73it/s]\n"
     ]
    },
    {
     "name": "stdout",
     "output_type": "stream",
     "text": [
      "Epoch 2/30 - Train Loss: 0.5044, Val Loss: 0.5010, HR@10: 0.1014, NDCG@10: 0.0474, Precision@10: 0.0101, Recall@10: 0.1014, Time: 15.25s\n",
      "\n"
     ]
    },
    {
     "name": "stderr",
     "output_type": "stream",
     "text": [
      "Epoch 3/30: 100%|██████████| 279/279 [00:02<00:00, 138.34it/s]\n"
     ]
    },
    {
     "name": "stdout",
     "output_type": "stream",
     "text": [
      "Epoch 3/30 - Train Loss: 0.5007, Val Loss: 0.5005, HR@10: 0.1114, NDCG@10: 0.0516, Precision@10: 0.0111, Recall@10: 0.1114, Time: 14.95s\n",
      "\n"
     ]
    },
    {
     "name": "stderr",
     "output_type": "stream",
     "text": [
      "Epoch 4/30: 100%|██████████| 279/279 [00:02<00:00, 139.20it/s]\n"
     ]
    },
    {
     "name": "stdout",
     "output_type": "stream",
     "text": [
      "Epoch 4/30 - Train Loss: 0.5006, Val Loss: 0.5006, HR@10: 0.0969, NDCG@10: 0.0430, Precision@10: 0.0097, Recall@10: 0.0969, Time: 14.69s\n",
      "\n"
     ]
    },
    {
     "name": "stderr",
     "output_type": "stream",
     "text": [
      "Epoch 5/30: 100%|██████████| 279/279 [00:02<00:00, 128.30it/s]\n"
     ]
    },
    {
     "name": "stdout",
     "output_type": "stream",
     "text": [
      "Epoch 5/30 - Train Loss: 0.5005, Val Loss: 0.5005, HR@10: 0.0991, NDCG@10: 0.0459, Precision@10: 0.0099, Recall@10: 0.0991, Time: 15.17s\n",
      "\n"
     ]
    },
    {
     "name": "stderr",
     "output_type": "stream",
     "text": [
      "Epoch 6/30: 100%|██████████| 279/279 [00:02<00:00, 138.42it/s]\n"
     ]
    },
    {
     "name": "stdout",
     "output_type": "stream",
     "text": [
      "Epoch 6/30 - Train Loss: 0.5005, Val Loss: 0.5006, HR@10: 0.0905, NDCG@10: 0.0403, Precision@10: 0.0090, Recall@10: 0.0905, Time: 15.11s\n",
      "\n"
     ]
    },
    {
     "name": "stderr",
     "output_type": "stream",
     "text": [
      "Epoch 7/30: 100%|██████████| 279/279 [00:02<00:00, 137.05it/s]\n"
     ]
    },
    {
     "name": "stdout",
     "output_type": "stream",
     "text": [
      "Epoch 7/30 - Train Loss: 0.5006, Val Loss: 0.5006, HR@10: 0.1011, NDCG@10: 0.0489, Precision@10: 0.0101, Recall@10: 0.1011, Time: 15.25s\n",
      "\n"
     ]
    },
    {
     "name": "stderr",
     "output_type": "stream",
     "text": [
      "Epoch 8/30: 100%|██████████| 279/279 [00:02<00:00, 136.73it/s]\n"
     ]
    },
    {
     "name": "stdout",
     "output_type": "stream",
     "text": [
      "Epoch 8/30 - Train Loss: 0.5006, Val Loss: 0.5005, HR@10: 0.1042, NDCG@10: 0.0458, Precision@10: 0.0104, Recall@10: 0.1042, Time: 15.04s\n",
      "\n"
     ]
    },
    {
     "name": "stderr",
     "output_type": "stream",
     "text": [
      "Epoch 9/30: 100%|██████████| 279/279 [00:02<00:00, 137.85it/s]\n"
     ]
    },
    {
     "name": "stdout",
     "output_type": "stream",
     "text": [
      "Epoch 9/30 - Train Loss: 0.5006, Val Loss: 0.5006, HR@10: 0.1003, NDCG@10: 0.0455, Precision@10: 0.0100, Recall@10: 0.1003, Time: 15.34s\n",
      "\n"
     ]
    },
    {
     "name": "stderr",
     "output_type": "stream",
     "text": [
      "Epoch 10/30: 100%|██████████| 279/279 [00:02<00:00, 137.97it/s]\n"
     ]
    },
    {
     "name": "stdout",
     "output_type": "stream",
     "text": [
      "Epoch 10/30 - Train Loss: 0.5006, Val Loss: 0.5005, HR@10: 0.1058, NDCG@10: 0.0476, Precision@10: 0.0106, Recall@10: 0.1058, Time: 15.89s\n",
      "\n"
     ]
    },
    {
     "name": "stderr",
     "output_type": "stream",
     "text": [
      "Epoch 11/30: 100%|██████████| 279/279 [00:02<00:00, 130.15it/s]\n"
     ]
    },
    {
     "name": "stdout",
     "output_type": "stream",
     "text": [
      "Epoch 11/30 - Train Loss: 0.5006, Val Loss: 0.5005, HR@10: 0.0972, NDCG@10: 0.0447, Precision@10: 0.0097, Recall@10: 0.0972, Time: 15.43s\n",
      "\n"
     ]
    },
    {
     "name": "stderr",
     "output_type": "stream",
     "text": [
      "Epoch 12/30: 100%|██████████| 279/279 [00:01<00:00, 140.95it/s]\n"
     ]
    },
    {
     "name": "stdout",
     "output_type": "stream",
     "text": [
      "Epoch 12/30 - Train Loss: 0.5005, Val Loss: 0.5005, HR@10: 0.1016, NDCG@10: 0.0471, Precision@10: 0.0102, Recall@10: 0.1016, Time: 15.53s\n",
      "\n"
     ]
    },
    {
     "name": "stderr",
     "output_type": "stream",
     "text": [
      "Epoch 13/30: 100%|██████████| 279/279 [00:02<00:00, 138.51it/s]\n"
     ]
    },
    {
     "name": "stdout",
     "output_type": "stream",
     "text": [
      "Epoch 13/30 - Train Loss: 0.5006, Val Loss: 0.5005, HR@10: 0.1044, NDCG@10: 0.0479, Precision@10: 0.0104, Recall@10: 0.1044, Time: 15.21s\n",
      "\n"
     ]
    },
    {
     "name": "stderr",
     "output_type": "stream",
     "text": [
      "Epoch 14/30: 100%|██████████| 279/279 [00:02<00:00, 138.43it/s]\n"
     ]
    },
    {
     "name": "stdout",
     "output_type": "stream",
     "text": [
      "Epoch 14/30 - Train Loss: 0.5006, Val Loss: 0.5006, HR@10: 0.1044, NDCG@10: 0.0461, Precision@10: 0.0104, Recall@10: 0.1044, Time: 16.10s\n",
      "\n"
     ]
    },
    {
     "name": "stderr",
     "output_type": "stream",
     "text": [
      "Epoch 15/30: 100%|██████████| 279/279 [00:01<00:00, 142.91it/s]\n"
     ]
    },
    {
     "name": "stdout",
     "output_type": "stream",
     "text": [
      "Epoch 15/30 - Train Loss: 0.5006, Val Loss: 0.5005, HR@10: 0.1109, NDCG@10: 0.0500, Precision@10: 0.0111, Recall@10: 0.1109, Time: 15.72s\n",
      "\n"
     ]
    },
    {
     "name": "stderr",
     "output_type": "stream",
     "text": [
      "Epoch 16/30: 100%|██████████| 279/279 [00:02<00:00, 137.17it/s]\n"
     ]
    },
    {
     "name": "stdout",
     "output_type": "stream",
     "text": [
      "Epoch 16/30 - Train Loss: 0.5007, Val Loss: 0.5006, HR@10: 0.1016, NDCG@10: 0.0478, Precision@10: 0.0102, Recall@10: 0.1016, Time: 14.80s\n",
      "\n"
     ]
    },
    {
     "name": "stderr",
     "output_type": "stream",
     "text": [
      "Epoch 17/30: 100%|██████████| 279/279 [00:02<00:00, 130.95it/s]\n"
     ]
    },
    {
     "name": "stdout",
     "output_type": "stream",
     "text": [
      "Epoch 17/30 - Train Loss: 0.5006, Val Loss: 0.5006, HR@10: 0.1089, NDCG@10: 0.0508, Precision@10: 0.0109, Recall@10: 0.1089, Time: 15.68s\n",
      "\n"
     ]
    },
    {
     "name": "stderr",
     "output_type": "stream",
     "text": [
      "Epoch 18/30: 100%|██████████| 279/279 [00:02<00:00, 138.03it/s]\n"
     ]
    },
    {
     "ename": "KeyboardInterrupt",
     "evalue": "",
     "output_type": "error",
     "traceback": [
      "\u001B[31m---------------------------------------------------------------------------\u001B[39m",
      "\u001B[31mKeyboardInterrupt\u001B[39m                         Traceback (most recent call last)",
      "\u001B[36mCell\u001B[39m\u001B[36m \u001B[39m\u001B[32mIn[44]\u001B[39m\u001B[32m, line 4\u001B[39m\n\u001B[32m      1\u001B[39m \u001B[38;5;66;03m# Run the training\u001B[39;00m\n\u001B[32m      2\u001B[39m model = ImprovedMatrixFactorization(n_users=NUM_USERS, n_items=NUM_ITEMS, embedding_dim=\u001B[32m16\u001B[39m).to(DEVICE) \u001B[38;5;66;03m#\u001B[39;00m\n\u001B[32m----> \u001B[39m\u001B[32m4\u001B[39m train_losses, val_losses, val_metrics, best_ndcg = \u001B[43mmodel_trainer\u001B[49m\u001B[43m(\u001B[49m\n\u001B[32m      5\u001B[39m \u001B[43m    \u001B[49m\u001B[43mmodel\u001B[49m\u001B[43m=\u001B[49m\u001B[43mmodel\u001B[49m\u001B[43m,\u001B[49m\n\u001B[32m      6\u001B[39m \u001B[43m    \u001B[49m\u001B[43mtrain_loader\u001B[49m\u001B[43m=\u001B[49m\u001B[43mtrain_loader\u001B[49m\u001B[43m,\u001B[49m\n\u001B[32m      7\u001B[39m \u001B[43m    \u001B[49m\u001B[43meval_df\u001B[49m\u001B[43m=\u001B[49m\u001B[43mval_df\u001B[49m\u001B[43m,\u001B[49m\n\u001B[32m      8\u001B[39m \u001B[43m    \u001B[49m\u001B[43mval_negatives\u001B[49m\u001B[43m=\u001B[49m\u001B[43mval_negatives\u001B[49m\u001B[43m,\u001B[49m\n\u001B[32m      9\u001B[39m \u001B[43m    \u001B[49m\u001B[43mnum_items\u001B[49m\u001B[43m=\u001B[49m\u001B[43mNUM_ITEMS\u001B[49m\u001B[43m,\u001B[49m\n\u001B[32m     10\u001B[39m \u001B[43m    \u001B[49m\u001B[43mpos_items_by_user\u001B[49m\u001B[43m=\u001B[49m\u001B[43mpos_items_by_user\u001B[49m\u001B[43m,\u001B[49m\n\u001B[32m     11\u001B[39m \u001B[43m    \u001B[49m\u001B[43mepochs\u001B[49m\u001B[43m=\u001B[49m\u001B[32;43m30\u001B[39;49m\u001B[43m,\u001B[49m\n\u001B[32m     12\u001B[39m \u001B[43m    \u001B[49m\u001B[43mlr\u001B[49m\u001B[43m=\u001B[49m\u001B[32;43m0.005\u001B[39;49m\u001B[43m,\u001B[49m\n\u001B[32m     13\u001B[39m \u001B[43m    \u001B[49m\u001B[43mweight_decay\u001B[49m\u001B[43m=\u001B[49m\u001B[32;43m5e-3\u001B[39;49m\u001B[43m,\u001B[49m\n\u001B[32m     14\u001B[39m \u001B[43m    \u001B[49m\u001B[43mk\u001B[49m\u001B[43m=\u001B[49m\u001B[32;43m10\u001B[39;49m\u001B[43m,\u001B[49m\u001B[43m                         \u001B[49m\u001B[38;5;66;43;03m# Cutoff for ranking metrics\u001B[39;49;00m\n\u001B[32m     15\u001B[39m \u001B[43m    \u001B[49m\u001B[43mneg_k\u001B[49m\u001B[43m=\u001B[49m\u001B[32;43m4\u001B[39;49m\u001B[43m,\u001B[49m\n\u001B[32m     16\u001B[39m \u001B[43m    \u001B[49m\u001B[43mdevice\u001B[49m\u001B[43m=\u001B[49m\u001B[43mDEVICE\u001B[49m\n\u001B[32m     17\u001B[39m \u001B[43m)\u001B[49m\n",
      "\u001B[36mCell\u001B[39m\u001B[36m \u001B[39m\u001B[32mIn[43]\u001B[39m\u001B[32m, line 59\u001B[39m, in \u001B[36mmodel_trainer\u001B[39m\u001B[34m(model, train_loader, eval_df, val_negatives, num_items, pos_items_by_user, epochs, lr, weight_decay, k, neg_k, save_dir, device)\u001B[39m\n\u001B[32m     57\u001B[39m val_loss = compute_val_loss(model, eval_df, loss_fn, pos_items_by_user, num_items, neg_k=neg_k, device=device)\n\u001B[32m     58\u001B[39m val_losses.append(val_loss)\n\u001B[32m---> \u001B[39m\u001B[32m59\u001B[39m metrics = \u001B[43mevaluate_ranking\u001B[49m\u001B[43m(\u001B[49m\u001B[43mmodel\u001B[49m\u001B[43m,\u001B[49m\u001B[43m \u001B[49m\u001B[43meval_df\u001B[49m\u001B[43m,\u001B[49m\u001B[43m \u001B[49m\u001B[43mval_negatives\u001B[49m\u001B[43m,\u001B[49m\u001B[43m \u001B[49m\u001B[43mk\u001B[49m\u001B[43m=\u001B[49m\u001B[43mk\u001B[49m\u001B[43m,\u001B[49m\u001B[43m \u001B[49m\u001B[43mdevice\u001B[49m\u001B[43m=\u001B[49m\u001B[43mdevice\u001B[49m\u001B[43m)\u001B[49m\n\u001B[32m     60\u001B[39m val_metrics.append(metrics)\n\u001B[32m     62\u001B[39m hr = metrics[\u001B[33m\"\u001B[39m\u001B[33mHR@K\u001B[39m\u001B[33m\"\u001B[39m]\n",
      "\u001B[36mFile \u001B[39m\u001B[32mD:\\Python Projects\\recommendation_system\\.venv\\Lib\\site-packages\\torch\\utils\\_contextlib.py:120\u001B[39m, in \u001B[36mcontext_decorator.<locals>.decorate_context\u001B[39m\u001B[34m(*args, **kwargs)\u001B[39m\n\u001B[32m    117\u001B[39m \u001B[38;5;129m@functools\u001B[39m.wraps(func)\n\u001B[32m    118\u001B[39m \u001B[38;5;28;01mdef\u001B[39;00m\u001B[38;5;250m \u001B[39m\u001B[34mdecorate_context\u001B[39m(*args, **kwargs):\n\u001B[32m    119\u001B[39m     \u001B[38;5;28;01mwith\u001B[39;00m ctx_factory():\n\u001B[32m--> \u001B[39m\u001B[32m120\u001B[39m         \u001B[38;5;28;01mreturn\u001B[39;00m \u001B[43mfunc\u001B[49m\u001B[43m(\u001B[49m\u001B[43m*\u001B[49m\u001B[43margs\u001B[49m\u001B[43m,\u001B[49m\u001B[43m \u001B[49m\u001B[43m*\u001B[49m\u001B[43m*\u001B[49m\u001B[43mkwargs\u001B[49m\u001B[43m)\u001B[49m\n",
      "\u001B[36mCell\u001B[39m\u001B[36m \u001B[39m\u001B[32mIn[40]\u001B[39m\u001B[32m, line 11\u001B[39m, in \u001B[36mevaluate_ranking\u001B[39m\u001B[34m(model, eval_df, neg_dict, k, device)\u001B[39m\n\u001B[32m      9\u001B[39m candidates = [\u001B[38;5;28mint\u001B[39m(pos_i)] + neg_dict[u]\n\u001B[32m     10\u001B[39m users = torch.tensor([u] * \u001B[38;5;28mlen\u001B[39m(candidates), dtype=torch.long, device=device)\n\u001B[32m---> \u001B[39m\u001B[32m11\u001B[39m items = \u001B[43mtorch\u001B[49m\u001B[43m.\u001B[49m\u001B[43mtensor\u001B[49m\u001B[43m(\u001B[49m\u001B[43mcandidates\u001B[49m\u001B[43m,\u001B[49m\u001B[43m \u001B[49m\u001B[43mdtype\u001B[49m\u001B[43m=\u001B[49m\u001B[43mtorch\u001B[49m\u001B[43m.\u001B[49m\u001B[43mlong\u001B[49m\u001B[43m,\u001B[49m\u001B[43m \u001B[49m\u001B[43mdevice\u001B[49m\u001B[43m=\u001B[49m\u001B[43mdevice\u001B[49m\u001B[43m)\u001B[49m\n\u001B[32m     13\u001B[39m scores = model(users, items).detach().cpu().numpy()\n\u001B[32m     15\u001B[39m \u001B[38;5;66;03m# Tiny noise to break ties fairly (same user → same noise stream)\u001B[39;00m\n",
      "\u001B[31mKeyboardInterrupt\u001B[39m: "
     ]
    }
   ],
   "execution_count": 44
  },
  {
   "metadata": {
    "ExecuteTime": {
     "end_time": "2025-08-23T15:09:17.051672300Z",
     "start_time": "2025-08-23T14:09:38.049525Z"
    }
   },
   "cell_type": "code",
   "source": [
    "def load_best_weights(model, ckpt_path=\"model/best_model.pth\", device=None):\n",
    "    \"\"\"Load best checkpoint into the provided model.\"\"\"\n",
    "    if device is None:\n",
    "        device = next(model.parameters()).device\n",
    "    if not os.path.exists(ckpt_path):\n",
    "        raise FileNotFoundError(f\"Checkpoint not found: {ckpt_path}\")\n",
    "    state = torch.load(ckpt_path, map_location=device)\n",
    "    model.load_state_dict(state)\n",
    "    model.to(device)\n",
    "    model.eval()\n",
    "    return model\n",
    "\n",
    "best_model = load_best_weights(model, ckpt_path=\"model/best_model.pth\", device=DEVICE)"
   ],
   "id": "492cc30046f34217",
   "outputs": [],
   "execution_count": 87
  },
  {
   "metadata": {
    "ExecuteTime": {
     "end_time": "2025-08-23T15:09:17.051672300Z",
     "start_time": "2025-08-23T13:58:46.985604Z"
    }
   },
   "cell_type": "code",
   "source": [
    "def final_evaluation(model,\n",
    "                     test_df,\n",
    "                     test_negatives,\n",
    "                     device,\n",
    "                     k_values=(5, 10, 20, 50),\n",
    "                     save_csv: str | None = None) -> pd.DataFrame:\n",
    "    \"\"\"\n",
    "    Evaluate at multiple K and return a DataFrame with rows indexed by K.\n",
    "    Assumes evaluate_ranking(model, eval_df, test_negatives, k, device) is defined.\n",
    "    \"\"\"\n",
    "    rows = []\n",
    "    for k in k_values:\n",
    "        metrics = evaluate_ranking(model, test_df, test_negatives, k=k, device=device)\n",
    "        rows.append({\n",
    "            \"K\": k,\n",
    "            \"HR@K\": metrics[\"HR@K\"],\n",
    "            \"NDCG@K\": metrics[\"NDCG@K\"],\n",
    "            \"Precision@K\": metrics[\"Precision@K\"],\n",
    "            \"Recall@K\": metrics[\"Recall@K\"],\n",
    "        })\n",
    "\n",
    "    results_df = pd.DataFrame(rows).set_index(\"K\").sort_index()\n",
    "\n",
    "    print(results_df.to_string(float_format=lambda x: f\"{x:.4f}\"))\n",
    "\n",
    "    if save_csv is not None:\n",
    "        results_df.to_csv(save_csv, index=True)\n",
    "\n",
    "    return results_df"
   ],
   "id": "785057c74fe7843a",
   "outputs": [],
   "execution_count": 84
  },
  {
   "metadata": {
    "ExecuteTime": {
     "end_time": "2025-08-23T15:09:17.059168600Z",
     "start_time": "2025-08-23T14:09:49.866303Z"
    }
   },
   "cell_type": "code",
   "source": "results_df = final_evaluation(best_model, test_df, test_negatives, device=DEVICE)",
   "id": "62c8b8450eda9fb9",
   "outputs": [
    {
     "name": "stdout",
     "output_type": "stream",
     "text": [
      "     HR@K  NDCG@K  Precision@K  Recall@K\n",
      "K                                       \n",
      "5  0.0648  0.0422       0.0130    0.0648\n",
      "10 0.1197  0.0598       0.0120    0.1197\n",
      "20 0.2256  0.0863       0.0113    0.2256\n",
      "50 0.5213  0.1443       0.0104    0.5213\n"
     ]
    }
   ],
   "execution_count": 88
  },
  {
   "metadata": {
    "ExecuteTime": {
     "end_time": "2025-08-23T15:09:17.060690200Z",
     "start_time": "2025-08-23T14:49:43.865061Z"
    }
   },
   "cell_type": "code",
   "source": [
    "@torch.no_grad()\n",
    "def get_recommendations(model, user_id, pos_items_by_user, data, top_k=10, exclude_interacted=True):\n",
    "    \"\"\"Get top-k recommendations for a user\"\"\"\n",
    "    model.eval()\n",
    "    scores = model.predict_all_items(user_id)\n",
    "\n",
    "    # Exclude already interacted items\n",
    "    if exclude_interacted and user_id in pos_items_by_user.keys():\n",
    "        # Set scores of already interacted items to -inf\n",
    "        interacted_items = list(pos_items_by_user[user_id])\n",
    "        for item_id in interacted_items:\n",
    "            scores[item_id] = -float('inf')\n",
    "\n",
    "    # Get top-k items\n",
    "    top_scores, top_indices = torch.topk(scores, top_k)\n",
    "\n",
    "    recommendations = []\n",
    "    for idx, score in zip(top_indices.cpu().numpy(), top_scores.cpu().numpy()):\n",
    "        original_item = data[\"item_encoder\"].inverse_transform([idx])[0]\n",
    "        recommendations.append({\n",
    "            \"item_id\": idx,\n",
    "            \"item\": original_item,\n",
    "            \"score\": float(score)\n",
    "        })\n",
    "\n",
    "    return recommendations"
   ],
   "id": "fd43c719445c714e",
   "outputs": [],
   "execution_count": 168
  },
  {
   "metadata": {
    "ExecuteTime": {
     "end_time": "2025-08-23T15:09:17.060690200Z",
     "start_time": "2025-08-23T14:50:38.906782Z"
    }
   },
   "cell_type": "code",
   "source": [
    "def show_sample_recommendations(model, data, pos_items_by_user, num_users=5, top_k=10):\n",
    "    \"\"\"Show sample recommendations for random users\"\"\"\n",
    "    print(\"\\n\" + \"=\"*50)\n",
    "    print(\"User Sample Recommendations\")\n",
    "    print(\"=\"*50)\n",
    "\n",
    "    # Get random users\n",
    "    df = data[\"filtered_df\"]\n",
    "    user_candidates = df[\"user_id\"].unique().tolist()\n",
    "    n = min(num_users, len(user_candidates))\n",
    "    sample_users = random.sample(user_candidates, n)\n",
    "\n",
    "    for user_id in sample_users:\n",
    "        original_user = data[\"user_encoder\"].inverse_transform([user_id])[0]\n",
    "        print(f\"\\nUser: {original_user} (ID: {user_id})\")\n",
    "        print(\"-\" * 40)\n",
    "\n",
    "        # Get user's interaction history (last 5)\n",
    "        user_items = list(pos_items_by_user[user_id])[:5]\n",
    "        print(\"Recent interactions:\")\n",
    "        for item_id in user_items:\n",
    "            original_item = data[\"item_encoder\"].inverse_transform([item_id])[0]\n",
    "            print(f\"  - {original_item}\")\n",
    "\n",
    "        # Get recommendations\n",
    "        recommendations = get_recommendations(model, user_id=user_id, pos_items_by_user=pos_items_by_user, data=data, top_k=top_k)\n",
    "        print(\"\\nTop 10 Recommendations:\")\n",
    "        for i, rec in enumerate(recommendations, 1):\n",
    "            print(f\"  {i}. {rec['item']} (Score: {rec['score']:.4f})\")"
   ],
   "id": "b40be0f20764120b",
   "outputs": [],
   "execution_count": 175
  },
  {
   "metadata": {
    "ExecuteTime": {
     "end_time": "2025-08-23T15:09:17.067078Z",
     "start_time": "2025-08-23T14:50:39.113578Z"
    }
   },
   "cell_type": "code",
   "source": "show_sample_recommendations(best_model, data_processor, pos_items_by_user, num_users=5, top_k=10)",
   "id": "80d2c20c7b571ddb",
   "outputs": [
    {
     "name": "stdout",
     "output_type": "stream",
     "text": [
      "\n",
      "==================================================\n",
      "User Sample Recommendations\n",
      "==================================================\n",
      "\n",
      "User: AEPQYEK7IP4BQUWB4RSB6OXUX7UA (ID: 1120)\n",
      "----------------------------------------\n",
      "Recent interactions:\n",
      "  - B0045HCJS0\n",
      "  - B0006UEVV8\n",
      "  - B000HT38BC\n",
      "  - B005DVIOXQ\n",
      "  - B000FFJYAW\n",
      "\n",
      "Top 10 Recommendations:\n",
      "  1. B081W544J7 (Score: 0.2736)\n",
      "  2. B018FK66TU (Score: 0.2728)\n",
      "  3. B004EPYZP8 (Score: 0.2724)\n",
      "  4. B005LAIIKI (Score: 0.2723)\n",
      "  5. B00PPGZMFM (Score: 0.2721)\n",
      "  6. B002ZG97YM (Score: 0.2719)\n",
      "  7. B008JFUS8M (Score: 0.2718)\n",
      "  8. B07V3TNS85 (Score: 0.2718)\n",
      "  9. B00005LOUK (Score: 0.2717)\n",
      "  10. B00005JL3T (Score: 0.2717)\n",
      "\n",
      "User: AHKOXYRTCXHYPW6XWGKR4X4IQEMQ (ID: 5714)\n",
      "----------------------------------------\n",
      "Recent interactions:\n",
      "  - B000031WD9\n",
      "  - 0767849493\n",
      "  - 0790742780\n",
      "  - B00007AJG4\n",
      "\n",
      "Top 10 Recommendations:\n",
      "  1. B081W544J7 (Score: 0.2738)\n",
      "  2. B018FK66TU (Score: 0.2730)\n",
      "  3. B004EPYZP8 (Score: 0.2726)\n",
      "  4. B005LAIIKI (Score: 0.2724)\n",
      "  5. B00PPGZMFM (Score: 0.2722)\n",
      "  6. B002ZG97YM (Score: 0.2721)\n",
      "  7. B008JFUS8M (Score: 0.2720)\n",
      "  8. B07V3TNS85 (Score: 0.2719)\n",
      "  9. B00005LOUK (Score: 0.2719)\n",
      "  10. B00005JL3T (Score: 0.2719)\n",
      "\n",
      "User: AF75BD4ZMKTVSEUAVEFSHVBWVCWQ (ID: 1874)\n",
      "----------------------------------------\n",
      "Recent interactions:\n",
      "  - B001U3N3QY\n",
      "  - B004L9GM5S\n",
      "  - B0002HODC2\n",
      "  - B005LOBWA2\n",
      "\n",
      "Top 10 Recommendations:\n",
      "  1. B081W544J7 (Score: 0.2741)\n",
      "  2. B018FK66TU (Score: 0.2733)\n",
      "  3. B004EPYZP8 (Score: 0.2729)\n",
      "  4. B005LAIIKI (Score: 0.2728)\n",
      "  5. B00PPGZMFM (Score: 0.2726)\n",
      "  6. B002ZG97YM (Score: 0.2724)\n",
      "  7. B008JFUS8M (Score: 0.2723)\n",
      "  8. B07V3TNS85 (Score: 0.2723)\n",
      "  9. B00005LOUK (Score: 0.2722)\n",
      "  10. B00005JL3T (Score: 0.2722)\n",
      "\n",
      "User: AHCBPYMOQMOU3CC3C3SAUPO7FQKQ (ID: 5277)\n",
      "----------------------------------------\n",
      "Recent interactions:\n",
      "  - B007XF0X9I\n",
      "  - B07D58Y2G6\n",
      "  - B0145UQRSY\n",
      "  - B002NXSRVG\n",
      "  - B008A1TUW0\n",
      "\n",
      "Top 10 Recommendations:\n",
      "  1. B081W544J7 (Score: 0.2745)\n",
      "  2. B018FK66TU (Score: 0.2737)\n",
      "  3. B004EPYZP8 (Score: 0.2733)\n",
      "  4. B005LAIIKI (Score: 0.2732)\n",
      "  5. B00PPGZMFM (Score: 0.2729)\n",
      "  6. B002ZG97YM (Score: 0.2728)\n",
      "  7. B008JFUS8M (Score: 0.2727)\n",
      "  8. B07V3TNS85 (Score: 0.2727)\n",
      "  9. B00005LOUK (Score: 0.2726)\n",
      "  10. B00005JL3T (Score: 0.2726)\n",
      "\n",
      "User: AGUNDDGZTW4YVOTZBH77AKHHW5YA (ID: 4555)\n",
      "----------------------------------------\n",
      "Recent interactions:\n",
      "  - 079215519X\n",
      "  - B002HWRYJE\n",
      "  - B004HO6I4M\n",
      "  - B004Z7AHZC\n",
      "  - B001HN694K\n",
      "\n",
      "Top 10 Recommendations:\n",
      "  1. B081W544J7 (Score: 0.2727)\n",
      "  2. B018FK66TU (Score: 0.2719)\n",
      "  3. B004EPYZP8 (Score: 0.2714)\n",
      "  4. B005LAIIKI (Score: 0.2713)\n",
      "  5. B00PPGZMFM (Score: 0.2711)\n",
      "  6. B002ZG97YM (Score: 0.2710)\n",
      "  7. B008JFUS8M (Score: 0.2709)\n",
      "  8. B07V3TNS85 (Score: 0.2708)\n",
      "  9. B00005LOUK (Score: 0.2708)\n",
      "  10. B00005JL3T (Score: 0.2708)\n"
     ]
    }
   ],
   "execution_count": 176
  },
  {
   "metadata": {
    "ExecuteTime": {
     "end_time": "2025-08-23T15:09:17.067078Z",
     "start_time": "2025-08-23T14:52:51.631126Z"
    }
   },
   "cell_type": "code",
   "source": [
    "def plot_training_history(train_losses, val_losses, val_metrics, save_path='training_history.png'):\n",
    "    \"\"\"Plot training history including train/val loss and metrics\"\"\"\n",
    "    fig, axes = plt.subplots(2, 3, figsize=(18, 10))\n",
    "    fig.suptitle('Training History', fontsize=16)\n",
    "\n",
    "    # Plot training and validation loss\n",
    "    axes[0, 0].plot(train_losses, label='Training Loss', color='blue')\n",
    "    axes[0, 0].plot(val_losses, label='Validation Loss', color='red')\n",
    "    axes[0, 0].set_xlabel('Epoch')\n",
    "    axes[0, 0].set_ylabel('Loss')\n",
    "    axes[0, 0].set_title('Training vs Validation Loss')\n",
    "    axes[0, 0].legend()\n",
    "    axes[0, 0].grid(True, alpha=0.3)\n",
    "\n",
    "    # Plot HR@10\n",
    "    hr_values = [m['HR'] for m in val_metrics]\n",
    "    axes[0, 1].plot(hr_values, label='Val HR@10', color='green', marker='o')\n",
    "    axes[0, 1].set_xlabel('Epoch')\n",
    "    axes[0, 1].set_ylabel('HR@10')\n",
    "    axes[0, 1].set_title('Validation Hit Rate@10')\n",
    "    axes[0, 1].legend()\n",
    "    axes[0, 1].grid(True, alpha=0.3)\n",
    "\n",
    "    # Plot NDCG@10\n",
    "    ndcg_values = [m['NDCG'] for m in val_metrics]\n",
    "    axes[0, 2].plot(ndcg_values, label='Val NDCG@10', color='orange', marker='s')\n",
    "    axes[0, 2].set_xlabel('Epoch')\n",
    "    axes[0, 2].set_ylabel('NDCG@10')\n",
    "    axes[0, 2].set_title('Validation NDCG@10')\n",
    "    axes[0, 2].legend()\n",
    "    axes[0, 2].grid(True, alpha=0.3)\n",
    "\n",
    "    # Plot Precision@10\n",
    "    precision_values = [m['Precision'] for m in val_metrics]\n",
    "    axes[1, 0].plot(precision_values, label='Val Precision@10', color='purple', marker='^')\n",
    "    axes[1, 0].set_xlabel('Epoch')\n",
    "    axes[1, 0].set_ylabel('Precision@10')\n",
    "    axes[1, 0].set_title('Validation Precision@10')\n",
    "    axes[1, 0].legend()\n",
    "    axes[1, 0].grid(True, alpha=0.3)\n",
    "\n",
    "    # Plot Recall@10\n",
    "    recall_values = [m['Recall'] for m in val_metrics]\n",
    "    axes[1, 1].plot(recall_values, label='Val Recall@10', color='brown', marker='v')\n",
    "    axes[1, 1].set_xlabel('Epoch')\n",
    "    axes[1, 1].set_ylabel('Recall@10')\n",
    "    axes[1, 1].set_title('Validation Recall@10')\n",
    "    axes[1, 1].legend()\n",
    "    axes[1, 1].grid(True, alpha=0.3)\n",
    "\n",
    "    # Plot all metrics together for comparison\n",
    "    axes[1, 2].plot(hr_values, label='HR@10', marker='o')\n",
    "    axes[1, 2].plot(ndcg_values, label='NDCG@10', marker='s')\n",
    "    axes[1, 2].plot(precision_values, label='Precision@10', marker='^')\n",
    "    axes[1, 2].plot(recall_values, label='Recall@10', marker='v')\n",
    "    axes[1, 2].set_xlabel('Epoch')\n",
    "    axes[1, 2].set_ylabel('Score')\n",
    "    axes[1, 2].set_title('All Validation Metrics Comparison')\n",
    "    axes[1, 2].legend()\n",
    "    axes[1, 2].grid(True, alpha=0.3)\n",
    "\n",
    "    plt.tight_layout()\n",
    "    plt.savefig(save_path, dpi=100, bbox_inches='tight')\n",
    "    plt.show()"
   ],
   "id": "5cc5842652486e0",
   "outputs": [],
   "execution_count": 179
  },
  {
   "metadata": {
    "ExecuteTime": {
     "end_time": "2025-08-23T15:09:17.069079Z",
     "start_time": "2025-08-23T14:53:28.846649Z"
    }
   },
   "cell_type": "code",
   "source": "plot_training_history(train_losses, val_losses, val_metrics, save_path='training_history.png')",
   "id": "507f2db0a6be5b97",
   "outputs": [
    {
     "ename": "KeyError",
     "evalue": "'HR'",
     "output_type": "error",
     "traceback": [
      "\u001B[31m---------------------------------------------------------------------------\u001B[39m",
      "\u001B[31mKeyError\u001B[39m                                  Traceback (most recent call last)",
      "\u001B[36mCell\u001B[39m\u001B[36m \u001B[39m\u001B[32mIn[180]\u001B[39m\u001B[32m, line 1\u001B[39m\n\u001B[32m----> \u001B[39m\u001B[32m1\u001B[39m \u001B[43mplot_training_history\u001B[49m\u001B[43m(\u001B[49m\u001B[43mtrain_losses\u001B[49m\u001B[43m,\u001B[49m\u001B[43m \u001B[49m\u001B[43mval_losses\u001B[49m\u001B[43m,\u001B[49m\u001B[43m \u001B[49m\u001B[43mval_metrics\u001B[49m\u001B[43m,\u001B[49m\u001B[43m \u001B[49m\u001B[43msave_path\u001B[49m\u001B[43m=\u001B[49m\u001B[33;43m'\u001B[39;49m\u001B[33;43mtraining_history.png\u001B[39;49m\u001B[33;43m'\u001B[39;49m\u001B[43m)\u001B[49m\n",
      "\u001B[36mCell\u001B[39m\u001B[36m \u001B[39m\u001B[32mIn[179]\u001B[39m\u001B[32m, line 16\u001B[39m, in \u001B[36mplot_training_history\u001B[39m\u001B[34m(train_losses, val_losses, val_metrics, save_path)\u001B[39m\n\u001B[32m     13\u001B[39m axes[\u001B[32m0\u001B[39m, \u001B[32m0\u001B[39m].grid(\u001B[38;5;28;01mTrue\u001B[39;00m, alpha=\u001B[32m0.3\u001B[39m)\n\u001B[32m     15\u001B[39m \u001B[38;5;66;03m# Plot HR@10\u001B[39;00m\n\u001B[32m---> \u001B[39m\u001B[32m16\u001B[39m hr_values = [\u001B[43mm\u001B[49m\u001B[43m[\u001B[49m\u001B[33;43m'\u001B[39;49m\u001B[33;43mHR\u001B[39;49m\u001B[33;43m'\u001B[39;49m\u001B[43m]\u001B[49m \u001B[38;5;28;01mfor\u001B[39;00m m \u001B[38;5;129;01min\u001B[39;00m val_metrics]\n\u001B[32m     17\u001B[39m axes[\u001B[32m0\u001B[39m, \u001B[32m1\u001B[39m].plot(hr_values, label=\u001B[33m'\u001B[39m\u001B[33mVal HR@10\u001B[39m\u001B[33m'\u001B[39m, color=\u001B[33m'\u001B[39m\u001B[33mgreen\u001B[39m\u001B[33m'\u001B[39m, marker=\u001B[33m'\u001B[39m\u001B[33mo\u001B[39m\u001B[33m'\u001B[39m)\n\u001B[32m     18\u001B[39m axes[\u001B[32m0\u001B[39m, \u001B[32m1\u001B[39m].set_xlabel(\u001B[33m'\u001B[39m\u001B[33mEpoch\u001B[39m\u001B[33m'\u001B[39m)\n",
      "\u001B[31mKeyError\u001B[39m: 'HR'"
     ]
    },
    {
     "data": {
      "text/plain": [
       "<Figure size 1800x1000 with 6 Axes>"
      ],
      "image/png": "[encoded data removed]"
     },
     "metadata": {},
     "output_type": "display_data"
    }
   ],
   "execution_count": 180
  },
  {
   "metadata": {},
   "cell_type": "code",
   "outputs": [],
   "execution_count": null,
   "source": "",
   "id": "b612b82cf9484cfc"
  }
 ],
 "metadata": {
  "kernelspec": {
   "display_name": "Python 3",
   "language": "python",
   "name": "python3"
  },
  "language_info": {
   "codemirror_mode": {
    "name": "ipython",
    "version": 2
   },
   "file_extension": ".py",
   "mimetype": "text/x-python",
   "name": "python",
   "nbconvert_exporter": "python",
   "pygments_lexer": "ipython2",
   "version": "2.7.6"
  }
 },
 "nbformat": 4,
 "nbformat_minor": 5
}
