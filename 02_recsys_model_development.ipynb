{
 "cells": [
  {
   "metadata": {},
   "cell_type": "markdown",
   "source": [
    "# Recommender System - Model Development\n",
    "This notebook demonstrates building a recommendation system on the Amazon Reviews 2023 dataset. It includes data loading, preprocessing, model training, evaluation, and generating sample recommendations. The dataset is sourced from the Hugging Face datasets library [Amazon Reviews 2023](https://huggingface.co/datasets/McAuley-Lab/Amazon-Reviews-2023) based on paper [Bridging Language and Items for Retrieval and Recommendation (2024)](\n",
    "https://doi.org/10.48550/arXiv.2403.03952\n",
    ")."
   ],
   "id": "7c822c18c3c50055"
  },
  {
   "metadata": {
    "ExecuteTime": {
     "end_time": "2025-08-27T14:29:25.477408Z",
     "start_time": "2025-08-27T14:29:25.471906Z"
    }
   },
   "cell_type": "code",
   "source": [
    "import os\n",
    "import random\n",
    "import numpy as np\n",
    "import pandas as pd\n",
    "import time\n",
    "import gc\n",
    "import matplotlib.pyplot as plt\n",
    "from collections import defaultdict\n",
    "\n",
    "os.environ[\"HF_HOME\"] = \"D:/Python Projects/recommendation_system\"\n",
    "os.environ[\"HF_DATASETS_CACHE\"] = \"D:/Python Projects/recommendation_system/recsys/data\"\n",
    "os.environ[\"TRANSFORMERS_CACHE\"] = \"D:/Python Projects/recommendation_system/recsys/models\"\n",
    "\n",
    "# os.environ[\"HF_HOME\"] = \"E:/Python Scripts/recsys\"\n",
    "# os.environ['HF_DATASETS_CACHE'] = \"E:/Python Scripts/recsys/data\"\n",
    "# os.environ['TRANSFORMERS_CACHE'] = \"E:/Python Scripts/recsys/models\"\n",
    "\n",
    "os.environ['CUDA_LAUNCH_BLOCKING'] = \"1\"\n",
    "\n",
    "import torch\n",
    "import torch.nn as nn\n",
    "from torch.utils.data import Dataset, DataLoader\n",
    "from sklearn.preprocessing import LabelEncoder\n",
    "from datasets import load_dataset, Features, Value\n",
    "from tqdm import tqdm\n",
    "from tensorboardX import SummaryWriter"
   ],
   "id": "7334587f91a0ff16",
   "outputs": [],
   "execution_count": 16
  },
  {
   "metadata": {
    "ExecuteTime": {
     "end_time": "2025-08-27T14:29:25.499998Z",
     "start_time": "2025-08-27T14:29:25.487937Z"
    }
   },
   "cell_type": "code",
   "source": [
    "SEED = 42\n",
    "def set_seed(seed=SEED):\n",
    "    random.seed(seed)\n",
    "    np.random.seed(seed)\n",
    "    torch.manual_seed(seed)\n",
    "    torch.cuda.manual_seed_all(seed)\n",
    "\n",
    "set_seed(SEED)\n",
    "DEVICE = \"cuda\" if torch.cuda.is_available() else \"cpu\"\n",
    "print(\"DEVICE:\", DEVICE)"
   ],
   "id": "4797552d03d4a584",
   "outputs": [
    {
     "name": "stdout",
     "output_type": "stream",
     "text": [
      "DEVICE: cuda\n"
     ]
    }
   ],
   "execution_count": 17
  },
  {
   "metadata": {},
   "cell_type": "markdown",
   "source": [
    "## Loading the dataset\n",
    "The dataset is loaded from the Hugging Face datasets library, Amazon Reviews 2023."
   ],
   "id": "ff3e64dbef5ea775"
  },
  {
   "metadata": {
    "ExecuteTime": {
     "end_time": "2025-08-27T14:36:18.049129Z",
     "start_time": "2025-08-27T14:35:42.024170Z"
    }
   },
   "cell_type": "code",
   "source": [
    "USE_HF = True\n",
    "HF_DATASET = \"McAuley-Lab/Amazon-Reviews-2023\"\n",
    "HF_DOMAIN = \"Books\"\n",
    "\n",
    "def load_amazon_reviews(domain, save_dir=\"data\", max_items=None, seed=SEED):\n",
    "    os.makedirs(save_dir, exist_ok=True)\n",
    "    filepath = f\"{save_dir}/amazon_reviews_{domain}.csv\"\n",
    "\n",
    "    if not os.path.exists(filepath):\n",
    "        print(f\"File {filepath} not found. Downloading dataset for domain '{domain}'...\")\n",
    "        ds = load_dataset(\n",
    "            \"McAuley-Lab/Amazon-Reviews-2023\",\n",
    "            f\"raw_review_{domain}\",\n",
    "            split=\"full\",\n",
    "            trust_remote_code=True,\n",
    "        )\n",
    "\n",
    "        ds = ds.select_columns([\"user_id\", \"parent_asin\", \"rating\", \"timestamp\"])\n",
    "        ds = ds.rename_columns({\"user_id\": \"user\", \"parent_asin\": \"item\"})\n",
    "        ds = ds.cast(Features({\n",
    "            \"user\": Value(\"string\"),\n",
    "            \"item\": Value(\"string\"),\n",
    "            \"rating\": Value(\"float32\"),\n",
    "            \"timestamp\": Value(\"int64\"),\n",
    "        }))\n",
    "\n",
    "        df = ds.to_pandas()\n",
    "        df.insert(3, \"domain\", domain)\n",
    "        df.to_csv(f\"{save_dir}/amazon_reviews_{domain}.csv\", index=False)\n",
    "        print(f\"Saved amazon_reviews_{domain}.csv to {save_dir}/\")\n",
    "\n",
    "    final_df = pd.read_csv(filepath)\n",
    "    if max_items is not None:\n",
    "        k = min(max_items, len(final_df))\n",
    "        final_df = final_df.sample(n=k, random_state=seed).reset_index(drop=True)\n",
    "    print(f\"Loaded {filepath} with {len(final_df)} rows.\")\n",
    "    return final_df\n",
    "\n",
    "df = load_amazon_reviews(HF_DOMAIN, save_dir=\"data\", max_items=10_000_000, seed=SEED)\n",
    "print(f\"Loaded {len(df)} rows from {HF_DOMAIN} domain.\")"
   ],
   "id": "3bf056a4916030fb",
   "outputs": [
    {
     "name": "stdout",
     "output_type": "stream",
     "text": [
      "Loaded data/amazon_reviews_Books.csv with 10000000 rows.\n",
      "Loaded 10000000 rows from Books domain.\n"
     ]
    }
   ],
   "execution_count": 57
  },
  {
   "metadata": {
    "ExecuteTime": {
     "end_time": "2025-08-27T14:36:18.098744Z",
     "start_time": "2025-08-27T14:36:18.069771Z"
    }
   },
   "cell_type": "code",
   "source": "df.head()",
   "id": "44dae4759037101f",
   "outputs": [
    {
     "data": {
      "text/plain": [
       "                           user        item  rating domain      timestamp\n",
       "0  AEADNN27WH7SOS6QFJYFJSITC7FQ  1847252370     5.0  Books  1358572717000\n",
       "1  AETNE77ZXSJST5PWIXABKOXPLNNA  1904563643     5.0  Books  1571550861633\n",
       "2  AF6Q3Y4FWKXXMROUWKMHGHD35Z6Q  B09L91L8WJ     5.0  Books  1636685186681\n",
       "3  AH7JAKZVXUS6YK3EUDVBPZ5QQO4A  0999877003     5.0  Books  1674101452159\n",
       "4  AFAA3ZUA3ERM2MGCR3WP3VADLXYA  0393624587     5.0  Books  1563584263663"
      ],
      "text/html": [
       "<div>\n",
       "<style scoped>\n",
       "    .dataframe tbody tr th:only-of-type {\n",
       "        vertical-align: middle;\n",
       "    }\n",
       "\n",
       "    .dataframe tbody tr th {\n",
       "        vertical-align: top;\n",
       "    }\n",
       "\n",
       "    .dataframe thead th {\n",
       "        text-align: right;\n",
       "    }\n",
       "</style>\n",
       "<table border=\"1\" class=\"dataframe\">\n",
       "  <thead>\n",
       "    <tr style=\"text-align: right;\">\n",
       "      <th></th>\n",
       "      <th>user</th>\n",
       "      <th>item</th>\n",
       "      <th>rating</th>\n",
       "      <th>domain</th>\n",
       "      <th>timestamp</th>\n",
       "    </tr>\n",
       "  </thead>\n",
       "  <tbody>\n",
       "    <tr>\n",
       "      <th>0</th>\n",
       "      <td>AEADNN27WH7SOS6QFJYFJSITC7FQ</td>\n",
       "      <td>1847252370</td>\n",
       "      <td>5.0</td>\n",
       "      <td>Books</td>\n",
       "      <td>1358572717000</td>\n",
       "    </tr>\n",
       "    <tr>\n",
       "      <th>1</th>\n",
       "      <td>AETNE77ZXSJST5PWIXABKOXPLNNA</td>\n",
       "      <td>1904563643</td>\n",
       "      <td>5.0</td>\n",
       "      <td>Books</td>\n",
       "      <td>1571550861633</td>\n",
       "    </tr>\n",
       "    <tr>\n",
       "      <th>2</th>\n",
       "      <td>AF6Q3Y4FWKXXMROUWKMHGHD35Z6Q</td>\n",
       "      <td>B09L91L8WJ</td>\n",
       "      <td>5.0</td>\n",
       "      <td>Books</td>\n",
       "      <td>1636685186681</td>\n",
       "    </tr>\n",
       "    <tr>\n",
       "      <th>3</th>\n",
       "      <td>AH7JAKZVXUS6YK3EUDVBPZ5QQO4A</td>\n",
       "      <td>0999877003</td>\n",
       "      <td>5.0</td>\n",
       "      <td>Books</td>\n",
       "      <td>1674101452159</td>\n",
       "    </tr>\n",
       "    <tr>\n",
       "      <th>4</th>\n",
       "      <td>AFAA3ZUA3ERM2MGCR3WP3VADLXYA</td>\n",
       "      <td>0393624587</td>\n",
       "      <td>5.0</td>\n",
       "      <td>Books</td>\n",
       "      <td>1563584263663</td>\n",
       "    </tr>\n",
       "  </tbody>\n",
       "</table>\n",
       "</div>"
      ]
     },
     "execution_count": 58,
     "metadata": {},
     "output_type": "execute_result"
    }
   ],
   "execution_count": 58
  },
  {
   "metadata": {},
   "cell_type": "markdown",
   "source": [
    "## Preprocessing the dataset\n",
    "- Make it implicit by considering all ratings as positive interactions.\n",
    "- Filter out users and items with less than 5 interactions.\n",
    "- Create a mapping of user and item IDs to indices."
   ],
   "id": "f1783303bdad3402"
  },
  {
   "metadata": {
    "ExecuteTime": {
     "end_time": "2025-08-27T14:36:44.277639Z",
     "start_time": "2025-08-27T14:36:18.114600Z"
    }
   },
   "cell_type": "code",
   "source": [
    "# Make implicit dataset, filter users/items with less than k interactions\n",
    "def preprocess_dataset(df, min_user_interactions=5, min_item_interactions=5):\n",
    "    df[\"label\"] = 1.0 # Make it implicit\n",
    "    user_counts = df[\"user\"].value_counts()\n",
    "    item_counts = df[\"item\"].value_counts()\n",
    "    valid_users = user_counts[user_counts >= min_user_interactions].index\n",
    "    valid_items = item_counts[item_counts >= min_item_interactions].index\n",
    "    df = df[df[\"user\"].isin(valid_users) & df[\"item\"].isin(valid_items)].copy()\n",
    "    print(\"After interactions filtering:\", len(df), \"rows,\", df[\"user\"].nunique(), \"users,\", df[\"item\"].nunique(), \"items\")\n",
    "    return df\n",
    "\n",
    "def label_encoder(df):\n",
    "    df_enc = df.copy()\n",
    "    user_enc = LabelEncoder()\n",
    "    item_enc = LabelEncoder()\n",
    "    df_enc[\"user_id\"] = user_enc.fit_transform(df_enc[\"user\"])\n",
    "    df_enc[\"item_id\"] = item_enc.fit_transform(df_enc[\"item\"])\n",
    "    return df_enc, user_enc, item_enc\n",
    "\n",
    "filtered_df = preprocess_dataset(df, min_user_interactions=20, min_item_interactions=20)\n",
    "df_encoded, user_enc, item_enc = label_encoder(filtered_df)"
   ],
   "id": "f3fc21ac3af4ac4",
   "outputs": [
    {
     "name": "stdout",
     "output_type": "stream",
     "text": [
      "After interactions filtering: 318168 rows, 24942 users, 53240 items\n"
     ]
    }
   ],
   "execution_count": 59
  },
  {
   "metadata": {
    "ExecuteTime": {
     "end_time": "2025-08-27T14:36:44.486381Z",
     "start_time": "2025-08-27T14:36:44.285182Z"
    }
   },
   "cell_type": "code",
   "source": [
    "def calculate_data_sparsity(df):\n",
    "    num_users = df[\"user\"].nunique()\n",
    "    num_items = df[\"item\"].nunique()\n",
    "    num_interactions = len(df)\n",
    "    density = num_interactions / (num_users * num_items)\n",
    "    sparsity = 1 - density\n",
    "\n",
    "    print(f\"Number of users: {num_users}\")\n",
    "    print(f\"Number of items: {num_items}\")\n",
    "    print(f\"Number of interactions: {num_interactions}\")\n",
    "    print(f\"-\" * 30)\n",
    "    print(f\"Interaction Matrix Density: {density:.6f}\")\n",
    "    print(f\"Interaction Matrix Sparsity: {sparsity:.6f}\")\n",
    "\n",
    "calculate_data_sparsity(df_encoded)"
   ],
   "id": "55674890d2763352",
   "outputs": [
    {
     "name": "stdout",
     "output_type": "stream",
     "text": [
      "Number of users: 24942\n",
      "Number of items: 53240\n",
      "Number of interactions: 318168\n",
      "------------------------------\n",
      "Interaction Matrix Density: 0.000240\n",
      "Interaction Matrix Sparsity: 0.999760\n"
     ]
    }
   ],
   "execution_count": 60
  },
  {
   "metadata": {
    "ExecuteTime": {
     "end_time": "2025-08-27T14:37:04.114197Z",
     "start_time": "2025-08-27T14:36:44.493425Z"
    }
   },
   "cell_type": "code",
   "source": [
    "def loo_split(df):\n",
    "    df = df.sort_values([\"user_id\", \"timestamp\"])\n",
    "    train_rows, val_rows, test_rows = [], [], []\n",
    "\n",
    "    for uid, group in df.groupby(\"user_id\", sort=False):\n",
    "        g = group.sort_values(\"timestamp\")\n",
    "        if len(g) < 3:\n",
    "            train_rows.append(g)\n",
    "            continue\n",
    "        test_rows.append(g.iloc[[-1]]) # Last interaction as test\n",
    "        val_rows.append(g.iloc[[-2]]) # Second last interaction as validation\n",
    "        train_rows.append(g.iloc[:-2]) # All but last two as training\n",
    "\n",
    "    train_df = pd.concat(train_rows, ignore_index=True)\n",
    "    val_df = pd.concat(val_rows, ignore_index=True)\n",
    "    test_df = pd.concat(test_rows, ignore_index=True)\n",
    "\n",
    "    return train_df, val_df, test_df\n",
    "\n",
    "train_df, val_df, test_df = loo_split(df_encoded)\n",
    "print(f\"Train/Validation/Test split: {len(train_df)}, {len(val_df)}, {len(test_df)}\")"
   ],
   "id": "9c0fac87317487aa",
   "outputs": [
    {
     "name": "stdout",
     "output_type": "stream",
     "text": [
      "Train/Validation/Test split: 273698, 22235, 22235\n"
     ]
    }
   ],
   "execution_count": 61
  },
  {
   "metadata": {},
   "cell_type": "markdown",
   "source": "## Building the dataset with negative sampling",
   "id": "121c72c0b5457030"
  },
  {
   "metadata": {
    "ExecuteTime": {
     "end_time": "2025-08-27T14:37:04.136057Z",
     "start_time": "2025-08-27T14:37:04.131754Z"
    }
   },
   "cell_type": "code",
   "source": [
    "NUM_USERS = df_encoded[\"user_id\"].max() + 1\n",
    "NUM_ITEMS = df_encoded[\"item_id\"].max() + 1"
   ],
   "id": "5538b366f0a9e73",
   "outputs": [],
   "execution_count": 62
  },
  {
   "metadata": {
    "ExecuteTime": {
     "end_time": "2025-08-27T14:37:04.146369Z",
     "start_time": "2025-08-27T14:37:04.142125Z"
    }
   },
   "cell_type": "code",
   "source": [
    "# Rank the single positive against k negative samples for train and evaluation\n",
    "def build_pos_items_by_user(train_df):\n",
    "    pos_items_by_user = defaultdict(set)\n",
    "    for u, i in zip(train_df[\"user_id\"].values, train_df[\"item_id\"].values):\n",
    "        pos_items_by_user[u].add(int(i))\n",
    "    return pos_items_by_user"
   ],
   "id": "cca53221665f9295",
   "outputs": [],
   "execution_count": 63
  },
  {
   "metadata": {
    "ExecuteTime": {
     "end_time": "2025-08-27T14:37:15.114173Z",
     "start_time": "2025-08-27T14:37:04.154890Z"
    }
   },
   "cell_type": "code",
   "source": [
    "# Training dataset with k negatives per positive\n",
    "class CustomDataset(Dataset):\n",
    "    def __init__(self, df, num_items, pos_by_user, n_neg=4, mode=\"train\", seed=SEED):\n",
    "        self.pos_pairs = df[[\"user_id\", \"item_id\"]].values.astype(np.int64)\n",
    "        self.users = self.pos_pairs[:, 0]\n",
    "        self.pos_items = self.pos_pairs[:, 1]\n",
    "        self.num_items = num_items\n",
    "        self.n_neg = n_neg\n",
    "        self.mode = mode\n",
    "        self.pos_by_user = pos_by_user\n",
    "        self.rng = np.random.default_rng(seed)\n",
    "\n",
    "        if mode == \"val\" or mode == \"test\":\n",
    "            self.eval_candidates = np.empty((len(self.users), 1 + self.n_neg), dtype=np.int64)\n",
    "            for idx, (u, pos_i) in enumerate(zip(self.users, self.pos_items)):\n",
    "                user_pos = self.pos_by_user[u].copy()\n",
    "                user_pos.add(pos_i)\n",
    "                negs = []\n",
    "                while len(negs) < self.n_neg:\n",
    "                    neg = self.rng.integers(0, self.num_items)\n",
    "                    if neg not in user_pos:\n",
    "                        negs.append(int(neg))\n",
    "                        user_pos.add(neg)\n",
    "                self.eval_candidates[idx, 0] = pos_i\n",
    "                self.eval_candidates[idx, 1:] = np.asarray(negs, dtype=np.int64)\n",
    "\n",
    "    def __len__(self):\n",
    "        return len(self.pos_pairs) * (1 + self.n_neg) if self.mode == \"train\" else len(self.users)\n",
    "\n",
    "    def __getitem__(self, idx):\n",
    "        if self.mode == \"train\":\n",
    "            return self._get_train_item(idx)\n",
    "        else:\n",
    "            return self._get_eval_item(idx)\n",
    "\n",
    "    def _get_train_item(self, idx):\n",
    "        pos_idx = idx // (self.n_neg + 1)\n",
    "        is_pos = (idx % (self.n_neg + 1) == 0)\n",
    "        u, i_pos = self.pos_pairs[pos_idx]\n",
    "        if is_pos:\n",
    "            return int(u), int(i_pos), np.float32(1.0)\n",
    "\n",
    "        while True:\n",
    "            j = self.rng.integers(0, self.num_items)\n",
    "            if j not in self.pos_by_user[u]:\n",
    "                return int(u), int(j), np.float32(0.0)\n",
    "\n",
    "    def _get_eval_item(self, idx):\n",
    "        return int(self.users[idx]), self.eval_candidates[idx]\n",
    "\n",
    "\n",
    "pos_items_by_user = build_pos_items_by_user(train_df)\n",
    "\n",
    "train_dataset = CustomDataset(train_df, num_items=NUM_ITEMS, pos_by_user=pos_items_by_user, n_neg=4, mode=\"train\", seed=SEED)\n",
    "train_loader = DataLoader(train_dataset, batch_size=4096, shuffle=True)\n",
    "\n",
    "val_dataset = CustomDataset(val_df, num_items=NUM_ITEMS, pos_by_user=pos_items_by_user, n_neg=99, mode=\"val\", seed=SEED)\n",
    "val_loader = DataLoader(val_dataset, batch_size=4096, shuffle=False)\n",
    "\n",
    "test_dataset = CustomDataset(test_df, num_items=NUM_ITEMS, pos_by_user=pos_items_by_user, n_neg=99, mode=\"test\", seed=SEED)\n",
    "test_loader = DataLoader(test_dataset, batch_size=4096, shuffle=False)\n",
    "\n",
    "print(f\"Training dataset created with {len(train_dataset)} samples.\")\n",
    "print(f\"Validation dataset created with {len(val_dataset)} samples.\")\n",
    "print(f\"Test dataset created with {len(test_dataset)} samples.\")"
   ],
   "id": "4a960a918606be79",
   "outputs": [
    {
     "name": "stdout",
     "output_type": "stream",
     "text": [
      "Training dataset created with 1368490 samples.\n",
      "Validation dataset created with 22235 samples.\n",
      "Test dataset created with 22235 samples.\n"
     ]
    }
   ],
   "execution_count": 64
  },
  {
   "metadata": {},
   "cell_type": "markdown",
   "source": [
    "## Utility functions for training and evaluation\n",
    "- Train one epoch\n",
    "- For each val user, build candidate set = `{positive} U {k negatives}`\n",
    "- Score, sort, compute HR@K, NDCG@K, Precision@K, MAP@K"
   ],
   "id": "5091158ecaf52022"
  },
  {
   "metadata": {
    "ExecuteTime": {
     "end_time": "2025-08-27T14:37:15.125824Z",
     "start_time": "2025-08-27T14:37:15.121746Z"
    }
   },
   "cell_type": "code",
   "source": [
    "def train_epoch(model, train_loader, loss_fn, optimizer, device=\"cpu\"):\n",
    "    model.train()\n",
    "    running_loss = 0.0\n",
    "    n_batches = 0\n",
    "\n",
    "    for batch in tqdm(train_loader, desc=\"Training\"):\n",
    "        users, items, labels = batch\n",
    "        users = users.to(device)\n",
    "        items = items.to(device)\n",
    "        labels = labels.to(device)\n",
    "\n",
    "        optimizer.zero_grad()\n",
    "        logits = model(users, items)\n",
    "        loss = loss_fn(logits, labels)\n",
    "        loss.backward()\n",
    "        optimizer.step()\n",
    "\n",
    "        running_loss += loss.item()\n",
    "        n_batches += 1\n",
    "\n",
    "    epoch_loss = running_loss / max(n_batches, 1)\n",
    "    return epoch_loss"
   ],
   "id": "7d7f968ca6c6d629",
   "outputs": [],
   "execution_count": 65
  },
  {
   "metadata": {
    "ExecuteTime": {
     "end_time": "2025-08-27T14:37:15.142654Z",
     "start_time": "2025-08-27T14:37:15.135987Z"
    }
   },
   "cell_type": "code",
   "source": [
    "# Validation loss and ranking metrics\n",
    "@torch.no_grad()\n",
    "def evaluate(model, eval_loader, loss_fn, k=10, device=\"cpu\"):\n",
    "    model.eval()\n",
    "    total = 0\n",
    "    sum_hr = 0.0\n",
    "    sum_ndcg = 0.0\n",
    "    sum_prec = 0.0\n",
    "    sum_ap = 0.0\n",
    "\n",
    "    sum_val_loss = 0.0\n",
    "    n_loss_batches = 0\n",
    "\n",
    "    for users, cand in tqdm(eval_loader, desc=\"Evaluating\"):\n",
    "        users = users.to(device, non_blocking=True)\n",
    "        cand = torch.as_tensor(cand, dtype=torch.long, device=device)\n",
    "        B, C = cand.shape\n",
    "\n",
    "        # Repeat users per candidate, score in one forward\n",
    "        users_rep = users.view(-1, 1).expand(-1, C).reshape(-1)\n",
    "        items_flat = cand.reshape(-1)\n",
    "        scores_flat = model(users_rep, items_flat)\n",
    "        scores = scores_flat.view(B, C)\n",
    "\n",
    "        # Rank of the positive (column 0)\n",
    "        pos = scores[:, 0].unsqueeze(1)  # [B,1]\n",
    "        rank = (scores[:, 1:] > pos).sum(dim=1).add_(1).to(torch.long)\n",
    "\n",
    "        hit = (rank <= k).float()\n",
    "        ndcg = torch.where(rank <= k, 1.0 / torch.log2(rank.float() + 1), torch.zeros_like(hit))\n",
    "        precision = hit / float(k)\n",
    "        ap = torch.where(rank <= k, 1.0 / rank.float(), torch.zeros_like(hit))\n",
    "\n",
    "        sum_hr += hit.sum().item()\n",
    "        sum_ndcg += ndcg.sum().item()\n",
    "        sum_prec += precision.sum().item()\n",
    "        sum_ap += ap.sum().item()\n",
    "        total += B\n",
    "\n",
    "        # Validation loss: labels = [1, 0, 0, ...]\n",
    "        labels = torch.zeros_like(scores)\n",
    "        labels[:, 0] = 1.0\n",
    "        batch_loss = loss_fn(scores, labels)\n",
    "        sum_val_loss += batch_loss.item()\n",
    "        n_loss_batches += 1\n",
    "\n",
    "    metrics = {\n",
    "        \"HR@K\": sum_hr / total if total else 0.0,\n",
    "        \"NDCG@K\": sum_ndcg / total if total else 0.0,\n",
    "        \"Precision@K\": sum_prec / total if total else 0.0,\n",
    "        \"MAP@K\": sum_ap / total if total else 0.0,\n",
    "        \"Val loss\": sum_val_loss / max(n_loss_batches, 1)\n",
    "    }\n",
    "    return metrics"
   ],
   "id": "7196702fc9dc678f",
   "outputs": [],
   "execution_count": 66
  },
  {
   "metadata": {},
   "cell_type": "markdown",
   "source": "## Train loop",
   "id": "1cd309ea5d673cac"
  },
  {
   "metadata": {
    "ExecuteTime": {
     "end_time": "2025-08-27T14:37:15.161455Z",
     "start_time": "2025-08-27T14:37:15.150660Z"
    }
   },
   "cell_type": "code",
   "source": [
    "def model_trainer(\n",
    "        model,\n",
    "        train_loader,\n",
    "        eval_loader,\n",
    "        epochs,\n",
    "        loss_fn,\n",
    "        optimizer,\n",
    "        k=10,\n",
    "        device=\"cpu\",\n",
    "        save_dir=\"model\"\n",
    "    ):\n",
    "    os.makedirs(save_dir, exist_ok=True)\n",
    "    model.to(device)\n",
    "    writer = SummaryWriter()\n",
    "\n",
    "    train_losses, val_losses, val_metrics_log = [], [], []\n",
    "    best_ndcg, best_epoch = 0.0, 0\n",
    "\n",
    "    for epoch in range(epochs):\n",
    "        t0 = time.time()\n",
    "\n",
    "        # Train\n",
    "        train_loss = train_epoch(model, train_loader, loss_fn, optimizer, device=device)\n",
    "        train_losses.append(train_loss)\n",
    "\n",
    "        # Eval\n",
    "        m = evaluate(model, eval_loader, loss_fn, k=k, device=device)\n",
    "        val_losses.append(m[\"Val loss\"])\n",
    "        val_metrics_log.append({k_: m[k_] for k_ in [\"HR@K\", \"NDCG@K\", \"Precision@K\", \"MAP@K\"]})\n",
    "\n",
    "        # Checkpointing by NDCG\n",
    "        if m[\"NDCG@K\"] > best_ndcg:\n",
    "            best_ndcg = m[\"NDCG@K\"]\n",
    "            best_epoch = epoch + 1\n",
    "            torch.save(model.state_dict(), os.path.join(save_dir, \"best_model.pth\"))\n",
    "        torch.save(model.state_dict(), os.path.join(save_dir, \"last_model.pth\"))\n",
    "\n",
    "        # TB logs\n",
    "        writer.add_scalar(\"Loss/Train\", train_loss, epoch)\n",
    "        writer.add_scalar(\"Loss/Validation\", m[\"Val loss\"], epoch)\n",
    "        writer.add_scalar(f\"Metrics/Val_HR@{k}\", m[\"HR@K\"], epoch)\n",
    "        writer.add_scalar(f\"Metrics/Val_NDCG@{k}\", m[\"NDCG@K\"], epoch)\n",
    "        writer.add_scalar(f\"Metrics/Val_Precision@{k}\", m[\"Precision@K\"], epoch)\n",
    "        writer.add_scalar(f\"Metrics/Val_MAP@{k}\", m[\"MAP@K\"], epoch)\n",
    "\n",
    "        print(\n",
    "            f\"Epoch {epoch+1}/{epochs}  \"\n",
    "            f\"Train loss {train_loss:.4f}  \"\n",
    "            f\"Val loss {m['Val loss']:.4f}  \"\n",
    "            f\"HR@{k} {m['HR@K']:.4f}  \"\n",
    "            f\"NDCG@{k} {m['NDCG@K']:.4f}  \"\n",
    "            f\"Precision@{k} {m['Precision@K']:.4f}  \"\n",
    "            f\"MAP@{k} {m['MAP@K']:.4f}  \"\n",
    "            f\"{'(new best)' if m['NDCG@K'] == best_ndcg and best_epoch==epoch+1 else ''}  \"\n",
    "            f\"Time {time.time()-t0:.2f}s\"\n",
    "        )\n",
    "\n",
    "    print(\"\\nTraining Complete.\")\n",
    "    print(f\"Best epoch: {best_epoch} with NDCG@{k}: {best_ndcg:.4f}\\n\")\n",
    "\n",
    "    gc.collect()\n",
    "    if torch.cuda.is_available():\n",
    "        torch.cuda.empty_cache()\n",
    "    writer.close()\n",
    "    return train_losses, val_losses, val_metrics_log, best_ndcg"
   ],
   "id": "767833f07e1c087b",
   "outputs": [],
   "execution_count": 67
  },
  {
   "metadata": {},
   "cell_type": "markdown",
   "source": [
    "## Baseline model: Matrix factorization\n",
    "\n",
    "A simple Matrix Factorization model with user and item embeddings with dot product scoring."
   ],
   "id": "6f508d1626bf6ddc"
  },
  {
   "metadata": {
    "ExecuteTime": {
     "end_time": "2025-08-27T14:37:15.173408Z",
     "start_time": "2025-08-27T14:37:15.167990Z"
    }
   },
   "cell_type": "code",
   "source": [
    "# Simple Matrix Factorization model (dot product)\n",
    "class MatrixFactorization(nn.Module):\n",
    "    def __init__(self, n_users, n_items, embedding_dim):\n",
    "        super().__init__()\n",
    "        self.user_embed = nn.Embedding(n_users, embedding_dim)\n",
    "        self.item_embed = nn.Embedding(n_items, embedding_dim)\n",
    "        nn.init.xavier_uniform_(self.user_embed.weight)\n",
    "        nn.init.xavier_uniform_(self.item_embed.weight)\n",
    "\n",
    "    def forward(self, user_ids, item_ids):\n",
    "        user_embeds = self.user_embed(user_ids)\n",
    "        item_embeds = self.item_embed(item_ids)\n",
    "        dot_product = (user_embeds * item_embeds).sum(dim=1)\n",
    "        return dot_product\n",
    "\n",
    "    def predict_all_items(self, user_id):\n",
    "        \"\"\"Predict scores for all items for a given user\"\"\"\n",
    "        user_tensor = torch.tensor([user_id], dtype=torch.long).to(next(self.parameters()).device)\n",
    "        all_items = torch.arange(self.item_embed.num_embeddings).to(next(self.parameters()).device)\n",
    "        user_embeds = self.user_embed(user_tensor)\n",
    "        item_embeds = self.item_embed(all_items)\n",
    "        scores = torch.matmul(user_embeds, item_embeds.T).squeeze()\n",
    "        return torch.sigmoid(scores)"
   ],
   "id": "60993015888b80f1",
   "outputs": [],
   "execution_count": 68
  },
  {
   "metadata": {
    "ExecuteTime": {
     "end_time": "2025-08-27T14:41:08.128018Z",
     "start_time": "2025-08-27T14:37:15.181689Z"
    }
   },
   "cell_type": "code",
   "source": [
    "# Run the training\n",
    "model = MatrixFactorization(n_users=NUM_USERS, n_items=NUM_ITEMS, embedding_dim=64).to(DEVICE)\n",
    "loss_fn = nn.BCEWithLogitsLoss()\n",
    "optimizer = torch.optim.Adam(model.parameters(), lr=1e-3, weight_decay=1e-6)\n",
    "\n",
    "train_losses, val_losses, val_metrics, best_ndcg = model_trainer(\n",
    "    model=model,\n",
    "    train_loader=train_loader,\n",
    "    eval_loader=val_loader,\n",
    "    loss_fn=loss_fn,\n",
    "    optimizer=optimizer,\n",
    "    epochs=20,\n",
    "    k=10,\n",
    "    device=DEVICE\n",
    ")"
   ],
   "id": "bc4e38e4f5a1e8a8",
   "outputs": [
    {
     "name": "stderr",
     "output_type": "stream",
     "text": [
      "Training: 100%|██████████| 335/335 [00:11<00:00, 29.88it/s]\n",
      "Evaluating: 100%|██████████| 6/6 [00:00<00:00, 26.87it/s]\n"
     ]
    },
    {
     "name": "stdout",
     "output_type": "stream",
     "text": [
      "Epoch 1/20  Train loss 0.6916  Val loss 0.6814  HR@10 0.2307  NDCG@10 0.1236  Precision@10 0.0231  MAP@10 0.0913  (new best)  Time 11.50s\n"
     ]
    },
    {
     "name": "stderr",
     "output_type": "stream",
     "text": [
      "Training: 100%|██████████| 335/335 [00:11<00:00, 29.66it/s]\n",
      "Evaluating: 100%|██████████| 6/6 [00:00<00:00, 34.90it/s]\n"
     ]
    },
    {
     "name": "stdout",
     "output_type": "stream",
     "text": [
      "Epoch 2/20  Train loss 0.5873  Val loss 0.4718  HR@10 0.2514  NDCG@10 0.1341  Precision@10 0.0251  MAP@10 0.0986  (new best)  Time 11.52s\n"
     ]
    },
    {
     "name": "stderr",
     "output_type": "stream",
     "text": [
      "Training: 100%|██████████| 335/335 [00:11<00:00, 28.89it/s]\n",
      "Evaluating: 100%|██████████| 6/6 [00:00<00:00, 33.72it/s]\n"
     ]
    },
    {
     "name": "stdout",
     "output_type": "stream",
     "text": [
      "Epoch 3/20  Train loss 0.4634  Val loss 0.3716  HR@10 0.2529  NDCG@10 0.1346  Precision@10 0.0253  MAP@10 0.0990  (new best)  Time 11.83s\n"
     ]
    },
    {
     "name": "stderr",
     "output_type": "stream",
     "text": [
      "Training: 100%|██████████| 335/335 [00:11<00:00, 28.80it/s]\n",
      "Evaluating: 100%|██████████| 6/6 [00:00<00:00, 33.30it/s]\n"
     ]
    },
    {
     "name": "stdout",
     "output_type": "stream",
     "text": [
      "Epoch 4/20  Train loss 0.4350  Val loss 0.3394  HR@10 0.2547  NDCG@10 0.1362  Precision@10 0.0255  MAP@10 0.1004  (new best)  Time 11.87s\n"
     ]
    },
    {
     "name": "stderr",
     "output_type": "stream",
     "text": [
      "Training: 100%|██████████| 335/335 [00:11<00:00, 29.64it/s]\n",
      "Evaluating: 100%|██████████| 6/6 [00:00<00:00, 29.90it/s]\n"
     ]
    },
    {
     "name": "stdout",
     "output_type": "stream",
     "text": [
      "Epoch 5/20  Train loss 0.4241  Val loss 0.3253  HR@10 0.2614  NDCG@10 0.1412  Precision@10 0.0261  MAP@10 0.1049  (new best)  Time 11.56s\n"
     ]
    },
    {
     "name": "stderr",
     "output_type": "stream",
     "text": [
      "Training: 100%|██████████| 335/335 [00:11<00:00, 29.49it/s]\n",
      "Evaluating: 100%|██████████| 6/6 [00:00<00:00, 31.82it/s]\n"
     ]
    },
    {
     "name": "stdout",
     "output_type": "stream",
     "text": [
      "Epoch 6/20  Train loss 0.4156  Val loss 0.3174  HR@10 0.2728  NDCG@10 0.1484  Precision@10 0.0273  MAP@10 0.1108  (new best)  Time 11.60s\n"
     ]
    },
    {
     "name": "stderr",
     "output_type": "stream",
     "text": [
      "Training: 100%|██████████| 335/335 [00:11<00:00, 29.25it/s]\n",
      "Evaluating: 100%|██████████| 6/6 [00:00<00:00, 34.56it/s]\n"
     ]
    },
    {
     "name": "stdout",
     "output_type": "stream",
     "text": [
      "Epoch 7/20  Train loss 0.4074  Val loss 0.3114  HR@10 0.2834  NDCG@10 0.1571  Precision@10 0.0283  MAP@10 0.1188  (new best)  Time 11.68s\n"
     ]
    },
    {
     "name": "stderr",
     "output_type": "stream",
     "text": [
      "Training: 100%|██████████| 335/335 [00:11<00:00, 29.29it/s]\n",
      "Evaluating: 100%|██████████| 6/6 [00:00<00:00, 35.70it/s]\n"
     ]
    },
    {
     "name": "stdout",
     "output_type": "stream",
     "text": [
      "Epoch 8/20  Train loss 0.3986  Val loss 0.3064  HR@10 0.3006  NDCG@10 0.1680  Precision@10 0.0301  MAP@10 0.1278  (new best)  Time 11.66s\n"
     ]
    },
    {
     "name": "stderr",
     "output_type": "stream",
     "text": [
      "Training: 100%|██████████| 335/335 [00:11<00:00, 29.69it/s]\n",
      "Evaluating: 100%|██████████| 6/6 [00:00<00:00, 29.96it/s]\n"
     ]
    },
    {
     "name": "stdout",
     "output_type": "stream",
     "text": [
      "Epoch 9/20  Train loss 0.3895  Val loss 0.3016  HR@10 0.3147  NDCG@10 0.1779  Precision@10 0.0315  MAP@10 0.1362  (new best)  Time 11.54s\n"
     ]
    },
    {
     "name": "stderr",
     "output_type": "stream",
     "text": [
      "Training: 100%|██████████| 335/335 [00:11<00:00, 29.34it/s]\n",
      "Evaluating: 100%|██████████| 6/6 [00:00<00:00, 30.97it/s]\n"
     ]
    },
    {
     "name": "stdout",
     "output_type": "stream",
     "text": [
      "Epoch 10/20  Train loss 0.3803  Val loss 0.2971  HR@10 0.3336  NDCG@10 0.1898  Precision@10 0.0334  MAP@10 0.1460  (new best)  Time 11.67s\n"
     ]
    },
    {
     "name": "stderr",
     "output_type": "stream",
     "text": [
      "Training: 100%|██████████| 335/335 [00:11<00:00, 29.75it/s]\n",
      "Evaluating: 100%|██████████| 6/6 [00:00<00:00, 32.04it/s]\n"
     ]
    },
    {
     "name": "stdout",
     "output_type": "stream",
     "text": [
      "Epoch 11/20  Train loss 0.3716  Val loss 0.2925  HR@10 0.3488  NDCG@10 0.1998  Precision@10 0.0349  MAP@10 0.1543  (new best)  Time 11.50s\n"
     ]
    },
    {
     "name": "stderr",
     "output_type": "stream",
     "text": [
      "Training: 100%|██████████| 335/335 [00:11<00:00, 29.24it/s]\n",
      "Evaluating: 100%|██████████| 6/6 [00:00<00:00, 31.53it/s]\n"
     ]
    },
    {
     "name": "stdout",
     "output_type": "stream",
     "text": [
      "Epoch 12/20  Train loss 0.3626  Val loss 0.2883  HR@10 0.3649  NDCG@10 0.2109  Precision@10 0.0365  MAP@10 0.1638  (new best)  Time 11.70s\n"
     ]
    },
    {
     "name": "stderr",
     "output_type": "stream",
     "text": [
      "Training: 100%|██████████| 335/335 [00:11<00:00, 29.30it/s]\n",
      "Evaluating: 100%|██████████| 6/6 [00:00<00:00, 34.65it/s]\n"
     ]
    },
    {
     "name": "stdout",
     "output_type": "stream",
     "text": [
      "Epoch 13/20  Train loss 0.3541  Val loss 0.2840  HR@10 0.3785  NDCG@10 0.2192  Precision@10 0.0379  MAP@10 0.1704  (new best)  Time 11.66s\n"
     ]
    },
    {
     "name": "stderr",
     "output_type": "stream",
     "text": [
      "Training: 100%|██████████| 335/335 [00:11<00:00, 29.71it/s]\n",
      "Evaluating: 100%|██████████| 6/6 [00:00<00:00, 31.84it/s]\n"
     ]
    },
    {
     "name": "stdout",
     "output_type": "stream",
     "text": [
      "Epoch 14/20  Train loss 0.3453  Val loss 0.2802  HR@10 0.3927  NDCG@10 0.2281  Precision@10 0.0393  MAP@10 0.1777  (new best)  Time 11.52s\n"
     ]
    },
    {
     "name": "stderr",
     "output_type": "stream",
     "text": [
      "Training: 100%|██████████| 335/335 [00:11<00:00, 29.83it/s]\n",
      "Evaluating: 100%|██████████| 6/6 [00:00<00:00, 29.37it/s]\n"
     ]
    },
    {
     "name": "stdout",
     "output_type": "stream",
     "text": [
      "Epoch 15/20  Train loss 0.3375  Val loss 0.2762  HR@10 0.4033  NDCG@10 0.2350  Precision@10 0.0403  MAP@10 0.1834  (new best)  Time 11.49s\n"
     ]
    },
    {
     "name": "stderr",
     "output_type": "stream",
     "text": [
      "Training: 100%|██████████| 335/335 [00:11<00:00, 29.24it/s]\n",
      "Evaluating: 100%|██████████| 6/6 [00:00<00:00, 28.96it/s]\n"
     ]
    },
    {
     "name": "stdout",
     "output_type": "stream",
     "text": [
      "Epoch 16/20  Train loss 0.3297  Val loss 0.2723  HR@10 0.4151  NDCG@10 0.2431  Precision@10 0.0415  MAP@10 0.1904  (new best)  Time 11.72s\n"
     ]
    },
    {
     "name": "stderr",
     "output_type": "stream",
     "text": [
      "Training: 100%|██████████| 335/335 [00:11<00:00, 29.34it/s]\n",
      "Evaluating: 100%|██████████| 6/6 [00:00<00:00, 31.93it/s]\n"
     ]
    },
    {
     "name": "stdout",
     "output_type": "stream",
     "text": [
      "Epoch 17/20  Train loss 0.3215  Val loss 0.2687  HR@10 0.4269  NDCG@10 0.2520  Precision@10 0.0427  MAP@10 0.1983  (new best)  Time 11.66s\n"
     ]
    },
    {
     "name": "stderr",
     "output_type": "stream",
     "text": [
      "Training: 100%|██████████| 335/335 [00:11<00:00, 29.75it/s]\n",
      "Evaluating: 100%|██████████| 6/6 [00:00<00:00, 35.20it/s]\n"
     ]
    },
    {
     "name": "stdout",
     "output_type": "stream",
     "text": [
      "Epoch 18/20  Train loss 0.3135  Val loss 0.2653  HR@10 0.4361  NDCG@10 0.2578  Precision@10 0.0436  MAP@10 0.2031  (new best)  Time 11.48s\n"
     ]
    },
    {
     "name": "stderr",
     "output_type": "stream",
     "text": [
      "Training: 100%|██████████| 335/335 [00:11<00:00, 29.02it/s]\n",
      "Evaluating: 100%|██████████| 6/6 [00:00<00:00, 35.12it/s]\n"
     ]
    },
    {
     "name": "stdout",
     "output_type": "stream",
     "text": [
      "Epoch 19/20  Train loss 0.3062  Val loss 0.2619  HR@10 0.4432  NDCG@10 0.2642  Precision@10 0.0443  MAP@10 0.2092  (new best)  Time 11.77s\n"
     ]
    },
    {
     "name": "stderr",
     "output_type": "stream",
     "text": [
      "Training: 100%|██████████| 335/335 [00:11<00:00, 29.24it/s]\n",
      "Evaluating: 100%|██████████| 6/6 [00:00<00:00, 26.99it/s]\n"
     ]
    },
    {
     "name": "stdout",
     "output_type": "stream",
     "text": [
      "Epoch 20/20  Train loss 0.2987  Val loss 0.2587  HR@10 0.4532  NDCG@10 0.2699  Precision@10 0.0453  MAP@10 0.2135  (new best)  Time 11.73s\n",
      "\n",
      "Training Complete.\n",
      "Best epoch: 20 with NDCG@10: 0.2699\n",
      "\n"
     ]
    }
   ],
   "execution_count": 69
  },
  {
   "metadata": {},
   "cell_type": "markdown",
   "source": "## Final evaluation on test set and sample recommendations",
   "id": "a9d83c5d57980470"
  },
  {
   "metadata": {
    "ExecuteTime": {
     "end_time": "2025-08-27T14:41:08.215768Z",
     "start_time": "2025-08-27T14:41:08.169599Z"
    }
   },
   "cell_type": "code",
   "source": [
    "def load_best_weights(model, ckpt_path=\"model/best_model.pth\", device=None):\n",
    "    if device is None:\n",
    "        device = next(model.parameters()).device\n",
    "    if not os.path.exists(ckpt_path):\n",
    "        raise FileNotFoundError(f\"Checkpoint not found: {ckpt_path}\")\n",
    "    state = torch.load(ckpt_path, map_location=device)\n",
    "    model.load_state_dict(state)\n",
    "    model.to(device)\n",
    "    model.eval()\n",
    "    return model\n",
    "\n",
    "best_model = load_best_weights(model, ckpt_path=\"model/best_model.pth\", device=DEVICE)"
   ],
   "id": "492cc30046f34217",
   "outputs": [],
   "execution_count": 70
  },
  {
   "metadata": {
    "ExecuteTime": {
     "end_time": "2025-08-27T14:41:08.951301Z",
     "start_time": "2025-08-27T14:41:08.224525Z"
    }
   },
   "cell_type": "code",
   "source": [
    "# Final evaluation on test set\n",
    "@torch.no_grad()\n",
    "def final_evaluation_loader(model, test_loader, loss_fn, k_values=(5,10,20,50), device=\"cpu\") -> pd.DataFrame:\n",
    "    rows = []\n",
    "    for k in k_values:\n",
    "        metrics = evaluate(model, test_loader, loss_fn, k=k, device=device)\n",
    "        rows.append({\n",
    "            \"K\": k,\n",
    "            \"HR@K\": metrics[\"HR@K\"],\n",
    "            \"NDCG@K\": metrics[\"NDCG@K\"],\n",
    "            \"Precision@K\": metrics[\"Precision@K\"],\n",
    "        })\n",
    "    df = pd.DataFrame(rows).set_index(\"K\").sort_index()\n",
    "    print(df.to_string(float_format=lambda x: f\"{x:.4f}\"))\n",
    "    return df\n",
    "\n",
    "results_df_mf = final_evaluation_loader(best_model, test_loader, loss_fn, device=DEVICE)"
   ],
   "id": "64f6299f06fe21a9",
   "outputs": [
    {
     "name": "stderr",
     "output_type": "stream",
     "text": [
      "Evaluating: 100%|██████████| 6/6 [00:00<00:00, 29.44it/s]\n",
      "Evaluating: 100%|██████████| 6/6 [00:00<00:00, 35.31it/s]\n",
      "Evaluating: 100%|██████████| 6/6 [00:00<00:00, 38.61it/s]\n",
      "Evaluating: 100%|██████████| 6/6 [00:00<00:00, 35.92it/s]"
     ]
    },
    {
     "name": "stdout",
     "output_type": "stream",
     "text": [
      "     HR@K  NDCG@K  Precision@K\n",
      "K                             \n",
      "5  0.2830  0.1944       0.0566\n",
      "10 0.3932  0.2299       0.0393\n",
      "20 0.5235  0.2628       0.0262\n",
      "50 0.7187  0.3015       0.0144\n"
     ]
    },
    {
     "name": "stderr",
     "output_type": "stream",
     "text": [
      "\n"
     ]
    }
   ],
   "execution_count": 71
  },
  {
   "metadata": {
    "ExecuteTime": {
     "end_time": "2025-08-27T14:41:08.961Z",
     "start_time": "2025-08-27T14:41:08.956323Z"
    }
   },
   "cell_type": "code",
   "source": [
    "@torch.no_grad()\n",
    "def get_recommendations(\n",
    "    model, user_id, pos_items_by_user, item_encoder, top_k=10, exclude_interacted=True, as_prob=False\n",
    "):\n",
    "    model.eval()\n",
    "    scores = model.predict_all_items(user_id)  # logits\n",
    "    if exclude_interacted and user_id in pos_items_by_user:\n",
    "        idx = torch.as_tensor(list(pos_items_by_user[user_id]), dtype=torch.long, device=scores.device)\n",
    "        if idx.numel() > 0:\n",
    "            scores.index_fill_(0, idx, float('-inf'))\n",
    "\n",
    "    top_scores, top_indices = torch.topk(scores, k=top_k)\n",
    "    shown = torch.sigmoid(top_scores) if as_prob else top_scores\n",
    "\n",
    "    item_ids_np = top_indices.detach().cpu().numpy()\n",
    "    items_np = item_encoder.inverse_transform(item_ids_np)\n",
    "    return [{\"item_id\": int(i), \"item\": it, \"score\": float(s)} for i, it, s in zip(item_ids_np, items_np, shown.detach().cpu().numpy())]"
   ],
   "id": "9e8a827c1744d1e7",
   "outputs": [],
   "execution_count": 72
  },
  {
   "metadata": {
    "ExecuteTime": {
     "end_time": "2025-08-27T14:41:09.951995Z",
     "start_time": "2025-08-27T14:41:08.977566Z"
    }
   },
   "cell_type": "code",
   "source": [
    "def build_history_by_user(df):\n",
    "    # df must contain user_id, item_id, timestamp (ints)\n",
    "    df_sorted = df.sort_values([\"user_id\", \"timestamp\"])\n",
    "    hist = defaultdict(list)\n",
    "    for u, i in zip(df_sorted[\"user_id\"].values, df_sorted[\"item_id\"].values):\n",
    "        hist[u].append(int(i))\n",
    "    return hist\n",
    "\n",
    "# Use training history for \"no future knowledge\"\n",
    "history_by_user_train = build_history_by_user(train_df)"
   ],
   "id": "b40be0f20764120b",
   "outputs": [],
   "execution_count": 73
  },
  {
   "metadata": {
    "ExecuteTime": {
     "end_time": "2025-08-27T14:41:09.995418Z",
     "start_time": "2025-08-27T14:41:09.989424Z"
    }
   },
   "cell_type": "code",
   "source": [
    "def show_sample_recommendations(\n",
    "    model,\n",
    "    df,\n",
    "    user_encoder,\n",
    "    item_encoder,\n",
    "    pos_items_by_user,\n",
    "    history_by_user,\n",
    "    num_users=5,\n",
    "    top_k=10\n",
    "):\n",
    "    print(\"\\n\" + \"=\"*50)\n",
    "    print(\"User Sample Recommendations\")\n",
    "    print(\"=\"*50)\n",
    "\n",
    "    user_candidates = df[\"user_id\"].unique().tolist()\n",
    "    for user_id in random.sample(user_candidates, k=min(num_users, len(user_candidates))):\n",
    "        original_user = user_encoder.inverse_transform([user_id])[0]\n",
    "        print(f\"\\nUser: {original_user} (ID: {user_id})\")\n",
    "        print(\"-\" * 40)\n",
    "\n",
    "        recent = history_by_user.get(user_id, [])[-5:]  # last 5 chronologically\n",
    "        print(\"Recent interactions:\")\n",
    "        for item_id in reversed(recent):  # most recent first\n",
    "            print(\"  -\", item_encoder.inverse_transform([item_id])[0])\n",
    "\n",
    "        recs = get_recommendations(\n",
    "            model,\n",
    "            user_id=user_id,\n",
    "            pos_items_by_user=pos_items_by_user,\n",
    "            item_encoder=item_encoder,\n",
    "            top_k=top_k,\n",
    "            exclude_interacted=True\n",
    "        )\n",
    "        print(\"\\nTop 10 Recommendations:\")\n",
    "        for i, rec in enumerate(recs, 1):\n",
    "            print(f\"  {i}. {rec['item']} (Score: {rec['score']:.4f})\")"
   ],
   "id": "80d2c20c7b571ddb",
   "outputs": [],
   "execution_count": 74
  },
  {
   "metadata": {
    "ExecuteTime": {
     "end_time": "2025-08-27T14:41:10.158803Z",
     "start_time": "2025-08-27T14:41:10.005976Z"
    }
   },
   "cell_type": "code",
   "source": [
    "# “Online-style”\n",
    "show_sample_recommendations(\n",
    "    best_model,\n",
    "    df_encoded,\n",
    "    user_enc,\n",
    "    item_enc,\n",
    "    pos_items_by_user=pos_items_by_user,\n",
    "    history_by_user=history_by_user_train,\n",
    "    num_users=5, top_k=10\n",
    ")"
   ],
   "id": "793f727cef1f015b",
   "outputs": [
    {
     "name": "stdout",
     "output_type": "stream",
     "text": [
      "\n",
      "==================================================\n",
      "User Sample Recommendations\n",
      "==================================================\n",
      "\n",
      "User: AFXBQQREXZX35QUJG6Y5AIL5AIDQ (ID: 12021)\n",
      "----------------------------------------\n",
      "Recent interactions:\n",
      "  - B09FZP85TC\n",
      "  - 1644280531\n",
      "\n",
      "Top 10 Recommendations:\n",
      "  1. B00L9B7IKE (Score: 0.6997)\n",
      "  2. B006LSZECO (Score: 0.6962)\n",
      "  3. B00DPM7TIG (Score: 0.6550)\n",
      "  4. 030758836X (Score: 0.6422)\n",
      "  5. B00JO8PEN2 (Score: 0.6414)\n",
      "  6. B00GU2RLMC (Score: 0.6317)\n",
      "  7. 0375842209 (Score: 0.6225)\n",
      "  8. B016ZNRC0Q (Score: 0.6193)\n",
      "  9. 1594633665 (Score: 0.6181)\n",
      "  10. B019G6DSDE (Score: 0.6102)\n",
      "\n",
      "User: AGIBQ2EBNOYZ7KAMLZVL7HERS2TQ (ID: 15279)\n",
      "----------------------------------------\n",
      "Recent interactions:\n",
      "  - B087YN1P45\n",
      "  - B07W8YC31W\n",
      "  - B07VSZTKJ8\n",
      "  - B000MAHBW8\n",
      "  - B00JCCUXI6\n",
      "\n",
      "Top 10 Recommendations:\n",
      "  1. B00L9B7IKE (Score: 0.8571)\n",
      "  2. B006LSZECO (Score: 0.8517)\n",
      "  3. B016ZNRC0Q (Score: 0.8214)\n",
      "  4. B07DHMNY7H (Score: 0.8106)\n",
      "  5. B019G6DSDE (Score: 0.8046)\n",
      "  6. B07TMN6WR7 (Score: 0.8000)\n",
      "  7. B01M7XPGYE (Score: 0.7902)\n",
      "  8. B017RBIZGK (Score: 0.7827)\n",
      "  9. B00JO8PEN2 (Score: 0.7819)\n",
      "  10. B00YTXTIDO (Score: 0.7776)\n",
      "\n",
      "User: AFAYTPEJPJI6TMEOWLGSVMVBFREQ (ID: 7713)\n",
      "----------------------------------------\n",
      "Recent interactions:\n",
      "  - B00XHHV3YK\n",
      "  - B09BLCGT45\n",
      "  - B07P5H7TBD\n",
      "  - B000OCXIN0\n",
      "  - B009RYKVOA\n",
      "\n",
      "Top 10 Recommendations:\n",
      "  1. B00L9B7IKE (Score: 0.8946)\n",
      "  2. B006LSZECO (Score: 0.8656)\n",
      "  3. B016ZNRC0Q (Score: 0.8455)\n",
      "  4. B00YTXTIDO (Score: 0.8378)\n",
      "  5. B019G6DSDE (Score: 0.8371)\n",
      "  6. B01L1CEZ6K (Score: 0.8361)\n",
      "  7. B00DPM7TIG (Score: 0.8345)\n",
      "  8. B00C2WDD5I (Score: 0.8338)\n",
      "  9. B06W9NKRXG (Score: 0.8190)\n",
      "  10. B01BU1ITMI (Score: 0.8189)\n",
      "\n",
      "User: AEKDWJCXC3WM4F7I66TLL5TWW3NQ (ID: 3169)\n",
      "----------------------------------------\n",
      "Recent interactions:\n",
      "  - 0671872346\n",
      "  - 0440136482\n",
      "\n",
      "Top 10 Recommendations:\n",
      "  1. B006LSZECO (Score: 0.6736)\n",
      "  2. 0375842209 (Score: 0.6642)\n",
      "  3. B00L9B7IKE (Score: 0.6632)\n",
      "  4. 030758836X (Score: 0.6599)\n",
      "  5. B00DPM7TIG (Score: 0.6400)\n",
      "  6. 1594480001 (Score: 0.6390)\n",
      "  7. 0307387895 (Score: 0.6376)\n",
      "  8. 0385537859 (Score: 0.6363)\n",
      "  9. 0307454541 (Score: 0.6353)\n",
      "  10. 1594633665 (Score: 0.6316)\n",
      "\n",
      "User: AEBTRL64MQHJNHIJDBWYVSXXFBAQ (ID: 1509)\n",
      "----------------------------------------\n",
      "Recent interactions:\n",
      "  - 1328911128\n",
      "  - 1449492096\n",
      "  - 1534426779\n",
      "  - 144630700X\n",
      "  - 1465462767\n",
      "\n",
      "Top 10 Recommendations:\n",
      "  1. 1594633665 (Score: 0.8555)\n",
      "  2. 0375842209 (Score: 0.8426)\n",
      "  3. 030758836X (Score: 0.8425)\n",
      "  4. 0061950726 (Score: 0.8019)\n",
      "  5. 0553418025 (Score: 0.7972)\n",
      "  6. 0735219095 (Score: 0.7907)\n",
      "  7. 1476738025 (Score: 0.7777)\n",
      "  8. 1476746583 (Score: 0.7762)\n",
      "  9. 0312577222 (Score: 0.7682)\n",
      "  10. 0439023521 (Score: 0.7652)\n"
     ]
    }
   ],
   "execution_count": 75
  },
  {
   "metadata": {},
   "cell_type": "markdown",
   "source": "## Plotting training history",
   "id": "4cce29f6957eee16"
  },
  {
   "metadata": {
    "ExecuteTime": {
     "end_time": "2025-08-27T14:41:10.178403Z",
     "start_time": "2025-08-27T14:41:10.165817Z"
    }
   },
   "cell_type": "code",
   "source": [
    "def plot_training_history(train_losses, val_losses, val_metrics, k, model_name, save_path=\"training_history.png\"):\n",
    "    \"\"\"Plot training history and validation metrics\"\"\"\n",
    "    fig, axes = plt.subplots(2, 3, figsize=(18, 10))\n",
    "    fig.suptitle(f\"{model_name}\", fontsize=16)\n",
    "\n",
    "    # Plot training and validation loss\n",
    "    axes[0, 0].plot(train_losses, label=\"Training Loss\", color=\"blue\")\n",
    "    axes[0, 0].plot(val_losses, label=\"Validation Loss\", color=\"red\")\n",
    "    axes[0, 0].set_xlabel(\"Epoch\")\n",
    "    axes[0, 0].set_ylabel(\"Loss\")\n",
    "    axes[0, 0].set_title(\"Training vs Validation Loss\")\n",
    "    axes[0, 0].legend()\n",
    "    axes[0, 0].grid(True, alpha=0.3)\n",
    "\n",
    "    # Plot training loss\n",
    "    #axes[0, 0].plot(train_losses, label=\"Training Loss\", color=\"blue\")\n",
    "    #axes[0, 0].set_xlabel(\"Epoch\")\n",
    "    #axes[0, 0].set_ylabel(\"Loss\")\n",
    "    #axes[0, 0].set_title(\"Training Loss\")\n",
    "    #axes[0, 0].legend()\n",
    "    #axes[0, 0].grid(True, alpha=0.3)\n",
    "\n",
    "    # Plot HR@k\n",
    "    hr_values = [m[\"HR@K\"] for m in val_metrics]\n",
    "    axes[0, 1].plot(hr_values, label=f\"Val HR@{k}\", color=\"green\", marker=\"o\")\n",
    "    axes[0, 1].set_xlabel(\"Epoch\")\n",
    "    axes[0, 1].set_ylabel(f\"HR@{k}\")\n",
    "    axes[0, 1].set_title(f\"Validation Hit Rate@{k}\")\n",
    "    axes[0, 1].legend()\n",
    "    axes[0, 1].grid(True, alpha=0.3)\n",
    "\n",
    "    # Plot NDCG@k\n",
    "    ndcg_values = [m[\"NDCG@K\"] for m in val_metrics]\n",
    "    axes[0, 2].plot(ndcg_values, label=f\"Val NDCG@{k}\", color=\"orange\", marker=\"s\")\n",
    "    axes[0, 2].set_xlabel(\"Epoch\")\n",
    "    axes[0, 2].set_ylabel(f\"NDCG@{k}\")\n",
    "    axes[0, 2].set_title(f\"Validation NDCG@{k}\")\n",
    "    axes[0, 2].legend()\n",
    "    axes[0, 2].grid(True, alpha=0.3)\n",
    "\n",
    "    # Plot Precision@k\n",
    "    precision_values = [m[\"Precision@K\"] for m in val_metrics]\n",
    "    axes[1, 0].plot(precision_values, label=f\"Val Precision@{k}\", color=\"purple\", marker=\"^\")\n",
    "    axes[1, 0].set_xlabel(\"Epoch\")\n",
    "    axes[1, 0].set_ylabel(f\"Precision@{k}\")\n",
    "    axes[1, 0].set_title(f\"Validation Precision@{k}\")\n",
    "    axes[1, 0].legend()\n",
    "    axes[1, 0].grid(True, alpha=0.3)\n",
    "\n",
    "    # Plot Recall@k\n",
    "    recall_values = [m[\"MAP@K\"] for m in val_metrics]\n",
    "    axes[1, 1].plot(recall_values, label=f\"Val MAP@{k}\", color=\"brown\", marker=\"v\")\n",
    "    axes[1, 1].set_xlabel(\"Epoch\")\n",
    "    axes[1, 1].set_ylabel(f\"MAP@{k}\")\n",
    "    axes[1, 1].set_title(f\"Validation MAP@{k}\")\n",
    "    axes[1, 1].legend()\n",
    "    axes[1, 1].grid(True, alpha=0.3)\n",
    "\n",
    "    # Plot all metrics together for comparison\n",
    "    axes[1, 2].plot(hr_values, label=f\"HR@{k}\", marker=\"o\")\n",
    "    axes[1, 2].plot(ndcg_values, label=f\"NDCG@{k}\", marker=\"s\")\n",
    "    axes[1, 2].plot(precision_values, label=f\"Precision@{k}\", marker=\"^\")\n",
    "    axes[1, 2].plot(recall_values, label=f\"MAP@{k}\", marker=\"v\")\n",
    "    axes[1, 2].set_xlabel(\"Epoch\")\n",
    "    axes[1, 2].set_ylabel(\"Score\")\n",
    "    axes[1, 2].set_title(\"All Validation Metrics Comparison\")\n",
    "    axes[1, 2].legend()\n",
    "    axes[1, 2].grid(True, alpha=0.3)\n",
    "\n",
    "    plt.tight_layout()\n",
    "    plt.savefig(save_path, dpi=100, bbox_inches=\"tight\")\n",
    "    plt.show()"
   ],
   "id": "e59cb1209807307a",
   "outputs": [],
   "execution_count": 76
  },
  {
   "metadata": {
    "ExecuteTime": {
     "end_time": "2025-08-27T14:41:11.707713Z",
     "start_time": "2025-08-27T14:41:10.192919Z"
    }
   },
   "cell_type": "code",
   "source": [
    "plot_training_history(\n",
    "    train_losses,\n",
    "    val_losses,\n",
    "    val_metrics,\n",
    "    k=10,\n",
    "    model_name=\"Matrix Factorization Baseline\",\n",
    "    save_path=\"training_history.png\"\n",
    ")"
   ],
   "id": "7460e80aa2f36100",
   "outputs": [
    {
     "data": {
      "text/plain": [
       "<Figure size 1800x1000 with 6 Axes>"
      ],
      "image/png": "[encoded data removed]"
     },
     "metadata": {},
     "output_type": "display_data"
    }
   ],
   "execution_count": 77
  },
  {
   "metadata": {},
   "cell_type": "markdown",
   "source": "## Model 1: Neural matrix factorization model",
   "id": "dbc1c627af1a7de4"
  },
  {
   "metadata": {
    "ExecuteTime": {
     "end_time": "2025-08-27T14:41:11.728770Z",
     "start_time": "2025-08-27T14:41:11.717743Z"
    }
   },
   "cell_type": "code",
   "source": [
    "class NeuralMF(nn.Module):\n",
    "    def __init__(\n",
    "        self,\n",
    "        n_users: int,\n",
    "        n_items: int,\n",
    "        gmf_dim: int = 32,\n",
    "        mlp_dim: int = 32,\n",
    "        mlp_layers=(64, 32, 16),\n",
    "        dropout: float = 0.1,\n",
    "        use_bias: bool = True,\n",
    "    ):\n",
    "        super().__init__()\n",
    "        # GMF\n",
    "        self.user_emb_gmf = nn.Embedding(n_users, gmf_dim)\n",
    "        self.item_emb_gmf = nn.Embedding(n_items, gmf_dim)\n",
    "\n",
    "        # MLP\n",
    "        self.user_emb_mlp = nn.Embedding(n_users, mlp_dim)\n",
    "        self.item_emb_mlp = nn.Embedding(n_items, mlp_dim)\n",
    "\n",
    "        mlp_blocks = []\n",
    "        in_dim = mlp_dim * 2\n",
    "        for h in mlp_layers:\n",
    "            mlp_blocks.append(nn.Linear(in_dim, h))\n",
    "            mlp_blocks.append(nn.ReLU())\n",
    "            if dropout and dropout > 0:\n",
    "                mlp_blocks.append(nn.Dropout(dropout))\n",
    "            in_dim = h\n",
    "        self.mlp = nn.Sequential(*mlp_blocks) if mlp_blocks else nn.Identity()\n",
    "\n",
    "        # Final combine\n",
    "        final_in = gmf_dim + (mlp_layers[-1] if mlp_blocks else mlp_dim * 2)\n",
    "        self.fc_out = nn.Linear(final_in, 1)\n",
    "\n",
    "        self.use_bias = use_bias\n",
    "        if use_bias:\n",
    "            self.user_bias = nn.Embedding(n_users, 1)\n",
    "            self.item_bias = nn.Embedding(n_items, 1)\n",
    "        else:\n",
    "            self.user_bias = None\n",
    "            self.item_bias = None\n",
    "        self.global_bias = nn.Parameter(torch.zeros(1))\n",
    "\n",
    "        self._reset_parameters()\n",
    "\n",
    "    def _reset_parameters(self):\n",
    "        for emb in [self.user_emb_gmf, self.item_emb_gmf, self.user_emb_mlp, self.item_emb_mlp]:\n",
    "            nn.init.xavier_uniform_(emb.weight)\n",
    "        for m in self.mlp:\n",
    "            if isinstance(m, nn.Linear):\n",
    "                nn.init.xavier_uniform_(m.weight)\n",
    "                nn.init.zeros_(m.bias)\n",
    "        nn.init.xavier_uniform_(self.fc_out.weight)\n",
    "        nn.init.zeros_(self.fc_out.bias)\n",
    "        if self.use_bias:\n",
    "            nn.init.zeros_(self.user_bias.weight)\n",
    "            nn.init.zeros_(self.item_bias.weight)\n",
    "\n",
    "    def forward(self, user_ids, item_ids):\n",
    "        # GMF\n",
    "        gmf_u = self.user_emb_gmf(user_ids)\n",
    "        gmf_i = self.item_emb_gmf(item_ids)\n",
    "        gmf   = gmf_u * gmf_i\n",
    "\n",
    "        # MLP\n",
    "        mlp_u = self.user_emb_mlp(user_ids)\n",
    "        mlp_i = self.item_emb_mlp(item_ids)\n",
    "        mlp   = torch.cat([mlp_u, mlp_i], dim=1)\n",
    "        mlp   = self.mlp(mlp)\n",
    "\n",
    "        # Combine\n",
    "        x = torch.cat([gmf, mlp], dim=1)\n",
    "        logit = self.fc_out(x).squeeze(-1)\n",
    "\n",
    "        if self.use_bias:\n",
    "            logit = logit + self.user_bias(user_ids).squeeze(-1) + self.item_bias(item_ids).squeeze(-1)\n",
    "        logit = logit + self.global_bias\n",
    "        return logit\n",
    "\n",
    "    @torch.no_grad()\n",
    "    def predict_all_items(self, user_id: int) -> torch.Tensor:\n",
    "        device = next(self.parameters()).device\n",
    "        u = torch.tensor([user_id], dtype=torch.long, device=device)\n",
    "        all_items = torch.arange(self.item_emb_gmf.num_embeddings, dtype=torch.long, device=device)\n",
    "\n",
    "        # GMF\n",
    "        gmf_u = self.user_emb_gmf(u)\n",
    "        gmf_i = self.item_emb_gmf(all_items)\n",
    "        gmf   = (gmf_u * gmf_i)\n",
    "\n",
    "        # MLP\n",
    "        mlp_u = self.user_emb_mlp(u).expand(all_items.numel(), -1)\n",
    "        mlp_i = self.item_emb_mlp(all_items)\n",
    "        mlp   = torch.cat([mlp_u, mlp_i], dim=1)\n",
    "        mlp   = self.mlp(mlp)\n",
    "\n",
    "        x = torch.cat([gmf, mlp], dim=1)\n",
    "        logit = self.fc_out(x).squeeze(-1)\n",
    "\n",
    "        if self.use_bias:\n",
    "            logit = logit + self.user_bias(u).squeeze(-1) + self.item_bias(all_items).squeeze(-1)\n",
    "        logit = logit + self.global_bias\n",
    "        return logit"
   ],
   "id": "b2cd6d31e6259e54",
   "outputs": [],
   "execution_count": 78
  },
  {
   "metadata": {
    "ExecuteTime": {
     "end_time": "2025-08-27T14:45:54.389909Z",
     "start_time": "2025-08-27T14:41:11.748490Z"
    }
   },
   "cell_type": "code",
   "source": [
    "neumf = NeuralMF(\n",
    "    n_users=NUM_USERS,\n",
    "    n_items=NUM_ITEMS,\n",
    "    gmf_dim=32,\n",
    "    mlp_dim=32,\n",
    "    mlp_layers=(64, 32, 16),\n",
    "    dropout=0.2,\n",
    "    use_bias=True\n",
    ").to(DEVICE)\n",
    "\n",
    "loss_fn = nn.BCEWithLogitsLoss()\n",
    "optimizer = torch.optim.Adam(neumf.parameters(), lr=1e-3, weight_decay=1e-6)\n",
    "\n",
    "train_losses_neumf, val_losses_neumf, val_metrics_neumf, best_ndcg_neumf = model_trainer(\n",
    "    model=neumf,\n",
    "    train_loader=train_loader,\n",
    "    eval_loader=val_loader,\n",
    "    loss_fn=loss_fn,\n",
    "    optimizer=optimizer,\n",
    "    epochs=20,\n",
    "    k=10,\n",
    "    device=DEVICE,\n",
    "    save_dir=\"model_neumf\"\n",
    ")\n",
    "\n",
    "best_neumf = load_best_weights(neumf, ckpt_path=\"model_neumf/best_model.pth\", device=DEVICE)\n",
    "results_df_neumf = final_evaluation_loader(best_neumf, test_loader, loss_fn, device=DEVICE)"
   ],
   "id": "7e560ea6eecc6067",
   "outputs": [
    {
     "name": "stderr",
     "output_type": "stream",
     "text": [
      "Training: 100%|██████████| 335/335 [00:13<00:00, 24.02it/s]\n",
      "Evaluating: 100%|██████████| 6/6 [00:00<00:00, 18.51it/s]\n"
     ]
    },
    {
     "name": "stdout",
     "output_type": "stream",
     "text": [
      "Epoch 1/20  Train loss 0.4869  Val loss 0.2282  HR@10 0.2487  NDCG@10 0.1304  Precision@10 0.0249  MAP@10 0.0948  (new best)  Time 14.33s\n"
     ]
    },
    {
     "name": "stderr",
     "output_type": "stream",
     "text": [
      "Training: 100%|██████████| 335/335 [00:13<00:00, 24.48it/s]\n",
      "Evaluating: 100%|██████████| 6/6 [00:00<00:00, 17.94it/s]\n"
     ]
    },
    {
     "name": "stdout",
     "output_type": "stream",
     "text": [
      "Epoch 2/20  Train loss 0.4326  Val loss 0.2224  HR@10 0.2614  NDCG@10 0.1388  Precision@10 0.0261  MAP@10 0.1018  (new best)  Time 14.08s\n"
     ]
    },
    {
     "name": "stderr",
     "output_type": "stream",
     "text": [
      "Training: 100%|██████████| 335/335 [00:13<00:00, 24.56it/s]\n",
      "Evaluating: 100%|██████████| 6/6 [00:00<00:00, 19.91it/s]\n"
     ]
    },
    {
     "name": "stdout",
     "output_type": "stream",
     "text": [
      "Epoch 3/20  Train loss 0.4052  Val loss 0.2129  HR@10 0.3077  NDCG@10 0.1660  Precision@10 0.0308  MAP@10 0.1231  (new best)  Time 14.00s\n"
     ]
    },
    {
     "name": "stderr",
     "output_type": "stream",
     "text": [
      "Training: 100%|██████████| 335/335 [00:13<00:00, 24.60it/s]\n",
      "Evaluating: 100%|██████████| 6/6 [00:00<00:00, 18.92it/s]\n"
     ]
    },
    {
     "name": "stdout",
     "output_type": "stream",
     "text": [
      "Epoch 4/20  Train loss 0.3716  Val loss 0.1984  HR@10 0.3561  NDCG@10 0.1987  Precision@10 0.0356  MAP@10 0.1509  (new best)  Time 13.99s\n"
     ]
    },
    {
     "name": "stderr",
     "output_type": "stream",
     "text": [
      "Training: 100%|██████████| 335/335 [00:13<00:00, 25.01it/s]\n",
      "Evaluating: 100%|██████████| 6/6 [00:00<00:00, 18.59it/s]\n"
     ]
    },
    {
     "name": "stdout",
     "output_type": "stream",
     "text": [
      "Epoch 5/20  Train loss 0.3380  Val loss 0.1922  HR@10 0.3854  NDCG@10 0.2192  Precision@10 0.0385  MAP@10 0.1687  (new best)  Time 13.78s\n"
     ]
    },
    {
     "name": "stderr",
     "output_type": "stream",
     "text": [
      "Training: 100%|██████████| 335/335 [00:13<00:00, 24.71it/s]\n",
      "Evaluating: 100%|██████████| 6/6 [00:00<00:00, 21.07it/s]\n"
     ]
    },
    {
     "name": "stdout",
     "output_type": "stream",
     "text": [
      "Epoch 6/20  Train loss 0.3070  Val loss 0.1903  HR@10 0.4002  NDCG@10 0.2319  Precision@10 0.0400  MAP@10 0.1806  (new best)  Time 13.90s\n"
     ]
    },
    {
     "name": "stderr",
     "output_type": "stream",
     "text": [
      "Training: 100%|██████████| 335/335 [00:13<00:00, 24.85it/s]\n",
      "Evaluating: 100%|██████████| 6/6 [00:00<00:00, 18.92it/s]\n"
     ]
    },
    {
     "name": "stdout",
     "output_type": "stream",
     "text": [
      "Epoch 7/20  Train loss 0.2804  Val loss 0.1722  HR@10 0.4188  NDCG@10 0.2454  Precision@10 0.0419  MAP@10 0.1924  (new best)  Time 13.85s\n"
     ]
    },
    {
     "name": "stderr",
     "output_type": "stream",
     "text": [
      "Training: 100%|██████████| 335/335 [00:13<00:00, 24.72it/s]\n",
      "Evaluating: 100%|██████████| 6/6 [00:00<00:00, 19.34it/s]\n"
     ]
    },
    {
     "name": "stdout",
     "output_type": "stream",
     "text": [
      "Epoch 8/20  Train loss 0.2571  Val loss 0.1693  HR@10 0.4215  NDCG@10 0.2479  Precision@10 0.0422  MAP@10 0.1948  (new best)  Time 13.92s\n"
     ]
    },
    {
     "name": "stderr",
     "output_type": "stream",
     "text": [
      "Training: 100%|██████████| 335/335 [00:13<00:00, 24.86it/s]\n",
      "Evaluating: 100%|██████████| 6/6 [00:00<00:00, 18.70it/s]\n"
     ]
    },
    {
     "name": "stdout",
     "output_type": "stream",
     "text": [
      "Epoch 9/20  Train loss 0.2350  Val loss 0.1577  HR@10 0.4281  NDCG@10 0.2525  Precision@10 0.0428  MAP@10 0.1989  (new best)  Time 13.85s\n"
     ]
    },
    {
     "name": "stderr",
     "output_type": "stream",
     "text": [
      "Training: 100%|██████████| 335/335 [00:14<00:00, 23.46it/s]\n",
      "Evaluating: 100%|██████████| 6/6 [00:00<00:00, 19.63it/s]\n"
     ]
    },
    {
     "name": "stdout",
     "output_type": "stream",
     "text": [
      "Epoch 10/20  Train loss 0.2167  Val loss 0.1605  HR@10 0.4277  NDCG@10 0.2529  Precision@10 0.0428  MAP@10 0.1994  (new best)  Time 14.65s\n"
     ]
    },
    {
     "name": "stderr",
     "output_type": "stream",
     "text": [
      "Training: 100%|██████████| 335/335 [00:13<00:00, 24.80it/s]\n",
      "Evaluating: 100%|██████████| 6/6 [00:00<00:00, 19.22it/s]\n"
     ]
    },
    {
     "name": "stdout",
     "output_type": "stream",
     "text": [
      "Epoch 11/20  Train loss 0.2002  Val loss 0.1584  HR@10 0.4347  NDCG@10 0.2566  Precision@10 0.0435  MAP@10 0.2020  (new best)  Time 13.88s\n"
     ]
    },
    {
     "name": "stderr",
     "output_type": "stream",
     "text": [
      "Training: 100%|██████████| 335/335 [00:13<00:00, 25.25it/s]\n",
      "Evaluating: 100%|██████████| 6/6 [00:00<00:00, 22.30it/s]\n"
     ]
    },
    {
     "name": "stdout",
     "output_type": "stream",
     "text": [
      "Epoch 12/20  Train loss 0.1860  Val loss 0.1499  HR@10 0.4373  NDCG@10 0.2599  Precision@10 0.0437  MAP@10 0.2056  (new best)  Time 13.59s\n"
     ]
    },
    {
     "name": "stderr",
     "output_type": "stream",
     "text": [
      "Training: 100%|██████████| 335/335 [00:14<00:00, 23.30it/s]\n",
      "Evaluating: 100%|██████████| 6/6 [00:00<00:00, 19.08it/s]\n"
     ]
    },
    {
     "name": "stdout",
     "output_type": "stream",
     "text": [
      "Epoch 13/20  Train loss 0.1736  Val loss 0.1530  HR@10 0.4385  NDCG@10 0.2606  Precision@10 0.0438  MAP@10 0.2061  (new best)  Time 14.75s\n"
     ]
    },
    {
     "name": "stderr",
     "output_type": "stream",
     "text": [
      "Training: 100%|██████████| 335/335 [00:13<00:00, 24.17it/s]\n",
      "Evaluating: 100%|██████████| 6/6 [00:00<00:00, 18.20it/s]\n"
     ]
    },
    {
     "name": "stdout",
     "output_type": "stream",
     "text": [
      "Epoch 14/20  Train loss 0.1630  Val loss 0.1511  HR@10 0.4378  NDCG@10 0.2596  Precision@10 0.0438  MAP@10 0.2051    Time 14.22s\n"
     ]
    },
    {
     "name": "stderr",
     "output_type": "stream",
     "text": [
      "Training: 100%|██████████| 335/335 [00:13<00:00, 24.82it/s]\n",
      "Evaluating: 100%|██████████| 6/6 [00:00<00:00, 19.97it/s]\n"
     ]
    },
    {
     "name": "stdout",
     "output_type": "stream",
     "text": [
      "Epoch 15/20  Train loss 0.1540  Val loss 0.1442  HR@10 0.4428  NDCG@10 0.2649  Precision@10 0.0443  MAP@10 0.2104  (new best)  Time 13.86s\n"
     ]
    },
    {
     "name": "stderr",
     "output_type": "stream",
     "text": [
      "Training: 100%|██████████| 335/335 [00:13<00:00, 24.60it/s]\n",
      "Evaluating: 100%|██████████| 6/6 [00:00<00:00, 22.15it/s]\n"
     ]
    },
    {
     "name": "stdout",
     "output_type": "stream",
     "text": [
      "Epoch 16/20  Train loss 0.1453  Val loss 0.1469  HR@10 0.4451  NDCG@10 0.2655  Precision@10 0.0445  MAP@10 0.2104  (new best)  Time 13.95s\n"
     ]
    },
    {
     "name": "stderr",
     "output_type": "stream",
     "text": [
      "Training: 100%|██████████| 335/335 [00:13<00:00, 24.33it/s]\n",
      "Evaluating: 100%|██████████| 6/6 [00:00<00:00, 17.01it/s]\n"
     ]
    },
    {
     "name": "stdout",
     "output_type": "stream",
     "text": [
      "Epoch 17/20  Train loss 0.1385  Val loss 0.1462  HR@10 0.4410  NDCG@10 0.2650  Precision@10 0.0441  MAP@10 0.2110    Time 14.16s\n"
     ]
    },
    {
     "name": "stderr",
     "output_type": "stream",
     "text": [
      "Training: 100%|██████████| 335/335 [00:13<00:00, 24.31it/s]\n",
      "Evaluating: 100%|██████████| 6/6 [00:00<00:00, 18.40it/s]\n"
     ]
    },
    {
     "name": "stdout",
     "output_type": "stream",
     "text": [
      "Epoch 18/20  Train loss 0.1325  Val loss 0.1425  HR@10 0.4429  NDCG@10 0.2658  Precision@10 0.0443  MAP@10 0.2113  (new best)  Time 14.16s\n"
     ]
    },
    {
     "name": "stderr",
     "output_type": "stream",
     "text": [
      "Training: 100%|██████████| 335/335 [00:13<00:00, 24.27it/s]\n",
      "Evaluating: 100%|██████████| 6/6 [00:00<00:00, 21.74it/s]\n"
     ]
    },
    {
     "name": "stdout",
     "output_type": "stream",
     "text": [
      "Epoch 19/20  Train loss 0.1263  Val loss 0.1418  HR@10 0.4435  NDCG@10 0.2660  Precision@10 0.0443  MAP@10 0.2114  (new best)  Time 14.14s\n"
     ]
    },
    {
     "name": "stderr",
     "output_type": "stream",
     "text": [
      "Training: 100%|██████████| 335/335 [00:13<00:00, 24.01it/s]\n",
      "Evaluating: 100%|██████████| 6/6 [00:00<00:00, 18.79it/s]\n"
     ]
    },
    {
     "name": "stdout",
     "output_type": "stream",
     "text": [
      "Epoch 20/20  Train loss 0.1219  Val loss 0.1413  HR@10 0.4424  NDCG@10 0.2661  Precision@10 0.0442  MAP@10 0.2118  (new best)  Time 14.33s\n",
      "\n",
      "Training Complete.\n",
      "Best epoch: 20 with NDCG@10: 0.2661\n",
      "\n"
     ]
    },
    {
     "name": "stderr",
     "output_type": "stream",
     "text": [
      "Evaluating: 100%|██████████| 6/6 [00:00<00:00, 20.42it/s]\n",
      "Evaluating: 100%|██████████| 6/6 [00:00<00:00, 29.97it/s]\n",
      "Evaluating: 100%|██████████| 6/6 [00:00<00:00, 30.74it/s]\n",
      "Evaluating: 100%|██████████| 6/6 [00:00<00:00, 30.15it/s]"
     ]
    },
    {
     "name": "stdout",
     "output_type": "stream",
     "text": [
      "     HR@K  NDCG@K  Precision@K\n",
      "K                             \n",
      "5  0.2690  0.1839       0.0538\n",
      "10 0.3745  0.2178       0.0374\n",
      "20 0.5093  0.2518       0.0255\n",
      "50 0.7499  0.2993       0.0150\n"
     ]
    },
    {
     "name": "stderr",
     "output_type": "stream",
     "text": [
      "\n"
     ]
    }
   ],
   "execution_count": 79
  },
  {
   "metadata": {
    "ExecuteTime": {
     "end_time": "2025-08-27T14:34:35.927384Z",
     "start_time": "2025-08-27T14:34:33.742668Z"
    }
   },
   "cell_type": "code",
   "source": [
    "plot_training_history(\n",
    "    train_losses_neumf,\n",
    "    val_losses_neumf,\n",
    "    val_metrics_neumf,\n",
    "    k=10,\n",
    "    model_name=\"Neural Matrix Factorization\",\n",
    "    save_path=\"training_history_neumf.png\"\n",
    ")"
   ],
   "id": "622166ea61c5d14a",
   "outputs": [
    {
     "data": {
      "text/plain": [
       "<Figure size 1800x1000 with 6 Axes>"
      ],
      "image/png": "[encoded data removed]"
     },
     "metadata": {},
     "output_type": "display_data"
    }
   ],
   "execution_count": 41
  },
  {
   "metadata": {},
   "cell_type": "markdown",
   "source": [
    "## Model 2: SASRec model\n",
    "Transformer-based model for sequential recommendation from the paper [Self-Attentive Sequential Recommendation (2018)](https://arxiv.org/abs/1808.09781).\n",
    "\n",
    "* **Data:** build per-user, time-sorted history sequences (left-padded to max length in batch). For training, use history -> next item triples + one negative per triples.\n",
    "* **Model:** Item embeddings + positional embeddings -> Transformer encoder with causal mask. Take final position representation as the user's state and score candidate items by dot-product.\n",
    "* **Eval:** Identical to the baseline using LOO setting."
   ],
   "id": "16ce79350d4d29ab"
  },
  {
   "metadata": {
    "ExecuteTime": {
     "end_time": "2025-08-27T14:34:35.961483Z",
     "start_time": "2025-08-27T14:34:35.955622Z"
    }
   },
   "cell_type": "code",
   "source": [
    "# def create_user_sequences(df):\n",
    "#     df_sorted = df.sort_values([\"user_id\", \"timestamp\"])\n",
    "#     user_sequences = {}\n",
    "#     user_seq_lens = []\n",
    "#     for uid, group in df_sorted.groupby(\"user_id\"):\n",
    "#         items = group[\"item_id\"].tolist()\n",
    "#         if len(items) >= 3:  # Need at least 3 for train/val/test split\n",
    "#             user_sequences[uid] = items\n",
    "#             user_seq_lens.append(len(items))\n",
    "#\n",
    "#     print(f\"Created sequences for {len(user_sequences)} users.\")\n",
    "#     print(f\"Average sequence length: {np.mean(user_seq_lens):.2f}\")\n",
    "#     print(f\"Max sequence length: {np.max(user_seq_lens)}\")\n",
    "#     print(f\"Min sequence length: {np.min(user_seq_lens)}\")\n",
    "#\n",
    "#     return {\n",
    "#         \"sequences\": user_sequences,\n",
    "#         \"avg_seq_len\": np.mean(user_seq_lens),\n",
    "#         \"num_users\": len(user_sequences)\n",
    "#     }\n",
    "#\n",
    "# def shift_label_encoder(df):\n",
    "#     df_enc = df.copy()\n",
    "#     user_enc = LabelEncoder()\n",
    "#     item_enc = LabelEncoder()\n",
    "#     df_enc[\"user_id\"] = user_enc.fit_transform(df_enc[\"user\"])\n",
    "#     df_enc[\"item_id\"] = item_enc.fit_transform(df_enc[\"item\"])\n",
    "#     df_enc[\"item_id\"] = df_enc[\"item_id\"] + 1  # reserve 0 for padding → SASRec item IDs are +1\n",
    "#     return {\"encoded_df\": df_enc,\n",
    "#             \"user_encoder\": user_enc,\n",
    "#             \"item_encoder\": item_enc}\n",
    "#\n",
    "# class SASRecDataset(Dataset):\n",
    "#     def __init__(self, user_sequences, num_items, max_seq_len=50, mode=\"train\", neg_samples=1):\n",
    "#         self.user_sequences = user_sequences\n",
    "#         self.num_items = num_items\n",
    "#         self.max_seq_len = max_seq_len\n",
    "#         self.mode = mode\n",
    "#         self.neg_samples = neg_samples\n",
    "#         self.users = list(user_sequences.keys())\n",
    "#\n",
    "#         # Set of all items each user has interacted with\n",
    "#         self.user_item_set = {u: set(items) for u, items in user_sequences.items()}\n",
    "#\n",
    "#         self.samples = []\n",
    "#         for user, seq in user_sequences.items():\n",
    "#             if len(seq) < 3:\n",
    "#                 continue\n",
    "#             if mode == \"train\":\n",
    "#                 for t in range(1, len(seq) - 2):\n",
    "#                     input_seq = seq[:t]\n",
    "#                     target = seq[t]\n",
    "#                     self.samples.append((user, input_seq, target))\n",
    "#             elif mode == \"val\":\n",
    "#                 input_seq = seq[:-2]\n",
    "#                 target = seq[-2]\n",
    "#                 self.samples.append((user, input_seq, target))\n",
    "#             else:  # test\n",
    "#                 input_seq = seq[:-1]\n",
    "#                 target = seq[-1]\n",
    "#                 self.samples.append((user, input_seq, target))\n",
    "#\n",
    "#     def __len__(self):\n",
    "#         return len(self.samples)\n",
    "#\n",
    "#     def __getitem__(self, idx):\n",
    "#         user, input_seq, target = self.samples[idx]\n",
    "#         if len(input_seq) > self.max_seq_len:\n",
    "#             input_seq = input_seq[-self.max_seq_len:]\n",
    "#         pad = self.max_seq_len - len(input_seq)\n",
    "#         input_seq = [0] * pad + input_seq\n",
    "#\n",
    "#         neg_items = self._sample_negatives(user)\n",
    "#\n",
    "#         return {\n",
    "#             \"user\": user,\n",
    "#             \"input_seq\": torch.tensor(input_seq, dtype=torch.long),\n",
    "#             \"target\": torch.tensor(target, dtype=torch.long), # target is a single item\n",
    "#             \"neg_items\": torch.tensor(neg_items, dtype=torch.long)\n",
    "#         }\n",
    "#\n",
    "#     def _sample_negatives(self, user):\n",
    "#         # Negative sampling: sample items not in user's history\n",
    "#         neg_items = set()\n",
    "#         user_items = self.user_item_set[user]\n",
    "#         while len(neg_items) < self.neg_samples:\n",
    "#             neg = random.randint(1, self.num_items - 1)\n",
    "#             if neg not in user_items:\n",
    "#                 neg_items.add(neg)\n",
    "#         return list(neg_items)\n",
    "#\n",
    "# sasrec_encoder = shift_label_encoder(filtered_df)\n",
    "# df_encoded_sasrec = sasrec_encoder[\"encoded_df\"]\n",
    "#\n",
    "# train_df_sasrec, val_df_sasrec, test_df_sasrec = loo_split(df_encoded_sasrec)\n",
    "#\n",
    "# SASREC_NUM_USERS = int(df_encoded_sasrec[\"user_id\"].max()) + 1  # user IDs start at 0\n",
    "# SASREC_NUM_ITEMS = int(df_encoded_sasrec[\"item_id\"].max()) + 1  # item IDs start at 1, 0 is padding\n",
    "#\n",
    "# # Only keep users present in each split\n",
    "# train_users_sasrec = set(train_df_sasrec[\"user_id\"].unique())\n",
    "# val_users_sasrec = set(val_df_sasrec[\"user_id\"].unique())\n",
    "# test_users_sasrec = set(test_df_sasrec[\"user_id\"].unique())\n",
    "#\n",
    "# # Filter user sequences to match the splits\n",
    "# user_sequences = create_user_sequences(df_encoded_sasrec)\n",
    "# train_sequences = {u: seq for u, seq in user_sequences[\"sequences\"].items() if u in train_users_sasrec}\n",
    "# val_sequences = {u: seq for u, seq in user_sequences[\"sequences\"].items() if u in val_users_sasrec}\n",
    "# test_sequences = {u: seq for u, seq in user_sequences[\"sequences\"].items() if u in test_users_sasrec}\n",
    "#\n",
    "# # train_sequences = {u: seq for u, seq in user_sequences[\"sequences\"].items() if u in train_users_sasrec}\n",
    "# # val_sequences = {u: seq for u, seq in user_sequences[\"sequences\"].items() if u in train_users_sasrec}\n",
    "# # test_sequences = {u: seq for u, seq in user_sequences[\"sequences\"].items() if u in train_users_sasrec}\n",
    "#\n",
    "# # train_sequences = {u: seq[:-2] for u, seq in user_sequences[\"sequences\"].items() if len(seq) >= 3}\n",
    "# # val_sequences   = {u: seq[:] for u, seq in user_sequences[\"sequences\"].items() if len(seq) >= 3}\n",
    "# # test_sequences  = {u: seq[:] for u, seq in user_sequences[\"sequences\"].items() if len(seq) >= 3}\n",
    "#\n",
    "# print(\"\\n\")\n",
    "# print(f\"Train sequences: {len(train_sequences)} users\")\n",
    "# print(f\"Validation sequences: {len(val_sequences)} users\")\n",
    "# print(f\"Test sequences: {len(test_sequences)} users\")"
   ],
   "id": "894efe9ffd6a0d7",
   "outputs": [],
   "execution_count": 42
  },
  {
   "metadata": {
    "ExecuteTime": {
     "end_time": "2025-08-27T14:34:35.974463Z",
     "start_time": "2025-08-27T14:34:35.971113Z"
    }
   },
   "cell_type": "code",
   "source": [
    "# train_dataset_sasrec = SASRecDataset(train_sequences, num_items=SASREC_NUM_ITEMS, max_seq_len=50, mode=\"train\", neg_samples=1)\n",
    "# val_dataset_sasrec = SASRecDataset(val_sequences, num_items=SASREC_NUM_ITEMS, max_seq_len=50, mode=\"val\", neg_samples=99)\n",
    "# test_dataset_sasrec = SASRecDataset(test_sequences, num_items=SASREC_NUM_ITEMS, max_seq_len=50, mode=\"test\", neg_samples=99)\n",
    "#\n",
    "# train_loader_sasrec = DataLoader(train_dataset_sasrec, batch_size=4096, shuffle=True)\n",
    "# val_loader_sasrec = DataLoader(val_dataset_sasrec, batch_size=4096, shuffle=False)\n",
    "# test_loader_sasrec = DataLoader(test_dataset_sasrec, batch_size=4096, shuffle=False)"
   ],
   "id": "c26240179188233c",
   "outputs": [],
   "execution_count": 43
  },
  {
   "metadata": {
    "ExecuteTime": {
     "end_time": "2025-08-27T14:34:35.986085Z",
     "start_time": "2025-08-27T14:34:35.982995Z"
    }
   },
   "cell_type": "code",
   "source": [
    "# first = next(iter(val_loader_sasrec))\n",
    "# print(\"Sample batch from validation loader:\")\n",
    "# print(\"Input sequence shape:\", first[\"input_seq\"].shape)\n",
    "# print(\"Target shape:\", first[\"target\"].shape)\n",
    "# print(\"Negative items shape:\", first[\"neg_items\"].shape)\n",
    "#\n",
    "# print(\"\\nSample input sequence:\")\n",
    "# for i in range(2):\n",
    "#     print(first[\"input_seq\"][i].tolist())"
   ],
   "id": "7b1f4f9afb38147f",
   "outputs": [],
   "execution_count": 44
  },
  {
   "metadata": {},
   "cell_type": "markdown",
   "source": "### Building the model",
   "id": "6e019fb9ee43642d"
  },
  {
   "metadata": {
    "ExecuteTime": {
     "end_time": "2025-08-27T14:34:36.001719Z",
     "start_time": "2025-08-27T14:34:35.996654Z"
    }
   },
   "cell_type": "code",
   "source": [
    "# # Building SASRec model\n",
    "# class PointWiseFeedForward(nn.Module):\n",
    "#     def __init__(self, hidden_dim, dropout=0.2):\n",
    "#         super().__init__()\n",
    "#         self.w1 = nn.Linear(hidden_dim, hidden_dim)\n",
    "#         self.w2 = nn.Linear(hidden_dim, hidden_dim)\n",
    "#         self.relu = nn.ReLU()\n",
    "#         self.dropout = nn.Dropout(dropout)\n",
    "#\n",
    "#     def forward(self, x):\n",
    "#         return self.w2(self.dropout(self.relu(self.w1(x))))\n",
    "#\n",
    "# class AttentionBlock(nn.Module):\n",
    "#     def __init__(self, hidden_dim, num_heads, dropout=0.2):\n",
    "#         super().__init__()\n",
    "#\n",
    "#         # Multi-head attention\n",
    "#         self.attn = nn.MultiheadAttention(hidden_dim, num_heads, dropout=dropout, batch_first=True)\n",
    "#\n",
    "#         # Layer norms\n",
    "#         self.ln1 = nn.LayerNorm(hidden_dim)\n",
    "#         self.ln2 = nn.LayerNorm(hidden_dim)\n",
    "#\n",
    "#         # Feed-forward network\n",
    "#         self.ffn = PointWiseFeedForward(hidden_dim, dropout)\n",
    "#         self.dropout = nn.Dropout(dropout)\n",
    "#\n",
    "#     def forward(self, x, attn_mask=None):\n",
    "#         # Self-attention with residual connection\n",
    "#         attn_out, _ = self.attn(x, x, x, attn_mask=attn_mask)\n",
    "#         x = self.ln1(x + self.dropout(attn_out))\n",
    "#\n",
    "#         # Feed-forward network with residual connection\n",
    "#         ffn_out = self.ffn(x)\n",
    "#         x = self.ln2(x + self.dropout(ffn_out))\n",
    "#\n",
    "#         return x\n",
    "#\n",
    "# class SASRec(nn.Module):\n",
    "#     def __init__(self,\n",
    "#                  num_items,\n",
    "#                  hidden_dim=64,\n",
    "#                  max_seq_len=50,\n",
    "#                  num_blocks=2,\n",
    "#                  num_heads=2,\n",
    "#                  dropout=0.2):\n",
    "#         super().__init__()\n",
    "#\n",
    "#         self.num_items = num_items\n",
    "#         self.hidden_dim = hidden_dim\n",
    "#         self.max_seq_len = max_seq_len\n",
    "#\n",
    "#         # Embedding layers\n",
    "#         self.item_embed = nn.Embedding(num_items, hidden_dim, padding_idx=0)\n",
    "#         self.positional_embed = nn.Embedding(max_seq_len, hidden_dim)\n",
    "#         self.dropout = nn.Dropout(dropout)\n",
    "#\n",
    "#         # Stack of SASRec blocks\n",
    "#         self.blocks = nn.ModuleList([\n",
    "#             AttentionBlock(hidden_dim, num_heads, dropout) for _ in range(num_blocks)\n",
    "#         ])\n",
    "#\n",
    "#         # Final layer norm\n",
    "#         self.ln = nn.LayerNorm(hidden_dim)\n",
    "#\n",
    "#         # Initialize weights\n",
    "#         self._reset_parameters()\n",
    "#\n",
    "#     def _reset_parameters(self):\n",
    "#         nn.init.xavier_normal_(self.item_embed.weight[1:])  # Skip padding idx\n",
    "#         nn.init.xavier_normal_(self.positional_embed.weight)\n",
    "#\n",
    "#     def forward(self, input_seq, candidate_items=None):\n",
    "#         batch_size, seq_len = input_seq.shape\n",
    "#\n",
    "#         # Get item embeddings\n",
    "#         item_embeds = self.item_embed(input_seq)  # [B, L, D]\n",
    "#\n",
    "#         # Add positional embeddings\n",
    "#         positions = torch.arange(seq_len, device=input_seq.device).unsqueeze(0)\n",
    "#         pos_embeds = self.positional_embed(positions)  # [1, L, D]\n",
    "#         x = self.dropout(item_embeds + pos_embeds)\n",
    "#\n",
    "#         # Create causal attention mask\n",
    "#         attn_mask = self._create_causal_mask(seq_len, input_seq.device)\n",
    "#         pad_mask = input_seq.eq(0)\n",
    "#\n",
    "#         # Pass through transformer blocks\n",
    "#         for block in self.blocks:\n",
    "#             x = block(x, attn_mask=attn_mask)\n",
    "#\n",
    "#         # Final layer norm\n",
    "#         x = self.ln(x)  # [B, L, D]\n",
    "#         x = x.masked_fill(pad_mask.unsqueeze(-1), 0.0)\n",
    "#\n",
    "#         # If candidate_items provided, score them\n",
    "#         if candidate_items is not None:\n",
    "#             # Get embeddings for candidate items\n",
    "#             cand_emb = self.item_embed(candidate_items) # [B, N, D]\n",
    "#\n",
    "#             # Use last position's representation for scoring\n",
    "#             last_hidden = x[:, -1, :].unsqueeze(1)  # [B, 1, D]\n",
    "#\n",
    "#             # Compute scores via dot product\n",
    "#             scores = torch.matmul(last_hidden, cand_emb.transpose(1, 2)).squeeze(1) # [B, N]\n",
    "#             return scores\n",
    "#\n",
    "#         return x\n",
    "#\n",
    "#     def _create_causal_mask(self, seq_len, device):\n",
    "#         mask = torch.triu(torch.ones(seq_len, seq_len, device=device, dtype=torch.bool), diagonal=1)\n",
    "#         mask = mask.masked_fill(mask == 1, float(\"-inf\"))\n",
    "#         return mask\n",
    "#\n",
    "#     def predict_next(self, input_seq):\n",
    "#         # Get sequence representations\n",
    "#         seq_repr = self.forward(input_seq)  # [B, L, D]\n",
    "#\n",
    "#         # Use last position for prediction\n",
    "#         last_hidden = seq_repr[:, -1, :]  # [B, D]\n",
    "#\n",
    "#         # Score against all item embeddings\n",
    "#         all_item_embeds = self.item_embed.weight  # [num_items, D]\n",
    "#         scores = torch.matmul(last_hidden, all_item_embeds.T)  # [B, num_items]\n",
    "#         return scores"
   ],
   "id": "89a58bae00553b7c",
   "outputs": [],
   "execution_count": 45
  },
  {
   "metadata": {},
   "cell_type": "markdown",
   "source": "### Training the SASRec model",
   "id": "65a0bdad0f13ae6b"
  },
  {
   "metadata": {
    "ExecuteTime": {
     "end_time": "2025-08-27T14:34:36.013376Z",
     "start_time": "2025-08-27T14:34:36.007858Z"
    }
   },
   "cell_type": "code",
   "source": [
    "# def train_sasrec_epoch(model, train_loader, loss_fn, optimizer, device=\"cpu\"):\n",
    "#     model.train()\n",
    "#     total_loss = 0.0\n",
    "#     n_batches = 0\n",
    "#\n",
    "#     for batch in tqdm(train_loader, desc=\"Training\"):\n",
    "#         input_seq = batch[\"input_seq\"].to(device)\n",
    "#         pos_items = batch[\"target\"].to(device)\n",
    "#         neg_items = batch[\"neg_items\"].to(device)\n",
    "#\n",
    "#         # Get predictions for last position\n",
    "#         seq_output = model(input_seq)  # [B, L, D]\n",
    "#         last_hidden = seq_output[:, -1, :]  # [B, D]\n",
    "#\n",
    "#         # Get embeddings for positive and negative items\n",
    "#         pos_embeds = model.item_embed(pos_items)\n",
    "#         neg_embeds = model.item_embed(neg_items)\n",
    "#\n",
    "#         # Compute logits\n",
    "#         pos_logits = (last_hidden * pos_embeds).sum(dim=1)\n",
    "#         neg_logits = torch.bmm(neg_embeds, last_hidden.unsqueeze(-1)).squeeze(-1)\n",
    "#\n",
    "#         # Binary cross-entropy loss with logits\n",
    "#         pos_labels = torch.ones_like(pos_logits)\n",
    "#         neg_labels = torch.zeros_like(neg_logits)\n",
    "#\n",
    "#         # Concatenate logits and labels\n",
    "#         all_logits = torch.cat([pos_logits.unsqueeze(1), neg_logits], dim=1)\n",
    "#         all_labels = torch.cat([pos_labels.unsqueeze(1), neg_labels], dim=1)\n",
    "#\n",
    "#         loss = loss_fn(all_logits, all_labels)\n",
    "#\n",
    "#         optimizer.zero_grad()\n",
    "#         loss.backward()\n",
    "#         optimizer.step()\n",
    "#         total_loss += loss.item()\n",
    "#         n_batches += 1\n",
    "#\n",
    "#     return total_loss / n_batches\n",
    "#\n",
    "# # Validation loss and ranking metrics\n",
    "# @torch.no_grad()\n",
    "# def evaluate_sasrec(model, eval_loader, loss_fn, k=10, device=\"cpu\"):\n",
    "#     model.eval()\n",
    "#     total = 0\n",
    "#     sum_hr = 0.0\n",
    "#     sum_ndcg = 0.0\n",
    "#     sum_prec = 0.0\n",
    "#     sum_ap = 0.0\n",
    "#\n",
    "#     sum_val_loss = 0.0\n",
    "#     n_loss_batches = 0\n",
    "#\n",
    "#     for batch in tqdm(eval_loader, desc=\"Evaluating\"):\n",
    "#         input_seq = batch[\"input_seq\"].to(device)\n",
    "#         target = batch[\"target\"].to(device)\n",
    "#         neg_items = batch[\"neg_items\"].to(device)\n",
    "#\n",
    "#         batch_size = input_seq.size(0)\n",
    "#\n",
    "#         # Create candidate set: 1 positive + negatives\n",
    "#         seq_output = model(input_seq)  # [B, L, D]\n",
    "#         last_hidden = seq_output[:, -1, :]  # [B, D]\n",
    "#         candidates = torch.cat([\n",
    "#             target.unsqueeze(1),  # [B, 1]\n",
    "#             neg_items  # [B, neg_samples]\n",
    "#         ], dim=1)  # [B, 1 + neg_samples]\n",
    "#\n",
    "#         # Get embeddings for all candidates\n",
    "#         cand_emb = model.item_embed(candidates)  # [B, 1+neg_samples, D]\n",
    "#\n",
    "#         # Compute scores via dot product\n",
    "#         scores = torch.bmm(cand_emb, last_hidden.unsqueeze(-1)).squeeze(-1)  # [B, 1+neg_samples]\n",
    "#\n",
    "#         # Loss calculation\n",
    "#         pos_scores = scores[:, 0]\n",
    "#         neg_scores = scores[:, 1:]\n",
    "#         pos_labels = torch.ones_like(scores[:, 0])\n",
    "#         neg_labels = torch.zeros_like(scores[:, 1:])\n",
    "#         all_scores = torch.cat([pos_scores.unsqueeze(1), neg_scores], dim=1)\n",
    "#         all_labels = torch.cat([pos_labels.unsqueeze(1), neg_labels], dim=1)\n",
    "#         batch_loss = loss_fn(all_scores.reshape(-1), all_labels.reshape(-1))\n",
    "#         sum_val_loss += batch_loss.item()\n",
    "#         n_loss_batches += 1\n",
    "#\n",
    "#         # Calculate metrics\n",
    "#         _, full_idx = torch.sort(scores, dim=1, descending=True)\n",
    "#         rank = (full_idx == 0).nonzero(as_tuple=True)[1] + 1  # Rank of the positive item (1-based)\n",
    "#\n",
    "#         hit = (rank <= k).float()\n",
    "#         ndcg = torch.where(rank <= k, 1.0 / torch.log2(rank.float() + 1), torch.zeros_like(hit))\n",
    "#         precision = hit / float(k)\n",
    "#         ap = torch.where(rank <= k, 1.0 / rank.float(), torch.zeros_like(hit))\n",
    "#\n",
    "#         sum_hr += hit.sum().item()\n",
    "#         sum_ndcg += ndcg.sum().item()\n",
    "#         sum_prec += precision.sum().item()\n",
    "#         sum_ap += ap.sum().item()\n",
    "#         total += batch_size\n",
    "#\n",
    "#     metrics = {\n",
    "#         \"HR@K\": sum_hr / total if total else 0.0,\n",
    "#         \"NDCG@K\": sum_ndcg / total if total else 0.0,\n",
    "#         \"Precision@K\": sum_prec / total if total else 0.0,\n",
    "#         \"MAP@K\": sum_ap / total if total else 0.0,\n",
    "#         \"Val loss\": sum_val_loss / max(n_loss_batches, 1)\n",
    "#     }\n",
    "#\n",
    "#     return metrics"
   ],
   "id": "75c6fcefd2c2e495",
   "outputs": [],
   "execution_count": 46
  },
  {
   "metadata": {
    "ExecuteTime": {
     "end_time": "2025-08-27T14:34:36.023982Z",
     "start_time": "2025-08-27T14:34:36.019446Z"
    }
   },
   "cell_type": "code",
   "source": [
    "# def sasrec_trainer(\n",
    "#         model,\n",
    "#         train_loader,\n",
    "#         eval_loader,\n",
    "#         epochs,\n",
    "#         loss_fn,\n",
    "#         optimizer,\n",
    "#         k=10,\n",
    "#         device=\"cpu\",\n",
    "#         save_dir=\"model\"\n",
    "#     ):\n",
    "#     os.makedirs(save_dir, exist_ok=True)\n",
    "#     model.to(device)\n",
    "#     writer = SummaryWriter()\n",
    "#\n",
    "#     train_losses, val_losses, val_metrics_log = [], [], []\n",
    "#     best_ndcg, best_epoch = 0.0, 0\n",
    "#\n",
    "#     for epoch in range(epochs):\n",
    "#         t0 = time.time()\n",
    "#\n",
    "#         # Train (batched)\n",
    "#         train_loss = train_sasrec_epoch(model, train_loader, loss_fn, optimizer, device=device)\n",
    "#         train_losses.append(train_loss)\n",
    "#\n",
    "#         # Eval (batched)\n",
    "#         m = evaluate_sasrec(model, eval_loader, loss_fn, k=k, device=device)\n",
    "#         val_losses.append(m[\"Val loss\"])\n",
    "#         val_metrics_log.append({k_: m[k_] for k_ in [\"HR@K\", \"NDCG@K\", \"Precision@K\", \"MAP@K\"]})\n",
    "#\n",
    "#         # Checkpointing by NDCG\n",
    "#         if m[\"NDCG@K\"] > best_ndcg:\n",
    "#             best_ndcg = m[\"NDCG@K\"]\n",
    "#             best_epoch = epoch + 1\n",
    "#             torch.save(model.state_dict(), os.path.join(save_dir, \"best_model.pth\"))\n",
    "#         torch.save(model.state_dict(), os.path.join(save_dir, \"last_model.pth\"))\n",
    "#\n",
    "#         # TB logs\n",
    "#         writer.add_scalar(\"Loss/Train\", train_loss, epoch)\n",
    "#         writer.add_scalar(\"Loss/Validation\", m[\"Val loss\"], epoch)\n",
    "#         writer.add_scalar(f\"Metrics/Val_HR@{k}\", m[\"HR@K\"], epoch)\n",
    "#         writer.add_scalar(f\"Metrics/Val_NDCG@{k}\", m[\"NDCG@K\"], epoch)\n",
    "#         writer.add_scalar(f\"Metrics/Val_Precision@{k}\", m[\"Precision@K\"], epoch)\n",
    "#         writer.add_scalar(f\"Metrics/Val_MAP@{k}\", m[\"MAP@K\"], epoch)\n",
    "#\n",
    "#         print(\n",
    "#             f\"Epoch {epoch+1}/{epochs}  \"\n",
    "#             f\"Train loss {train_loss:.4f}  \"\n",
    "#             f\"Val loss {m['Val loss']:.4f}  \"\n",
    "#             f\"HR@{k} {m['HR@K']:.4f}  \"\n",
    "#             f\"NDCG@{k} {m['NDCG@K']:.4f}  \"\n",
    "#             f\"Precision@{k} {m['Precision@K']:.4f}  \"\n",
    "#             f\"MAP@{k} {m['MAP@K']:.4f}  \"\n",
    "#             f\"{'(new best)' if m['NDCG@K'] == best_ndcg and best_epoch==epoch+1 else ''}  \"\n",
    "#             f\"Time {time.time()-t0:.2f}s\"\n",
    "#         )\n",
    "#\n",
    "#     # print(\"\\n\" + \"=\"*50)\n",
    "#     print(\"\\nTraining Complete.\")\n",
    "#     print(f\"Best epoch: {best_epoch} with NDCG@{k}: {best_ndcg:.4f}\\n\")\n",
    "#     # print(\"=\"*50)\n",
    "#     # print(\"\\n\")\n",
    "#\n",
    "#     gc.collect()\n",
    "#     if torch.cuda.is_available():\n",
    "#         torch.cuda.empty_cache()\n",
    "#     writer.close()\n",
    "#     return train_losses, val_losses, val_metrics_log, best_ndcg"
   ],
   "id": "e2cd30fe5fa9127",
   "outputs": [],
   "execution_count": 47
  },
  {
   "metadata": {
    "ExecuteTime": {
     "end_time": "2025-08-27T14:34:36.035197Z",
     "start_time": "2025-08-27T14:34:36.031531Z"
    }
   },
   "cell_type": "code",
   "source": [
    "# # Hyperparameters from the original paper, except higher hidden_dim\n",
    "# sasrec = SASRec(\n",
    "#     num_items=SASREC_NUM_ITEMS,\n",
    "#     hidden_dim=64,\n",
    "#     max_seq_len=50,\n",
    "#     num_blocks=2,\n",
    "#     num_heads=2,\n",
    "#     dropout=0.5\n",
    "# )\n",
    "#\n",
    "# loss_fn_sasrec = nn.BCEWithLogitsLoss()\n",
    "# optimizer_sasrec = torch.optim.Adam(sasrec.parameters(), lr=1e-3, weight_decay=1e-6)\n",
    "#\n",
    "# train_losses_sasrec, val_losses_sasrec, val_metrics_sasrec, best_ndcg_sasrec = sasrec_trainer(\n",
    "#     model=sasrec,\n",
    "#     train_loader=train_loader_sasrec,\n",
    "#     eval_loader=val_loader_sasrec,\n",
    "#     loss_fn=loss_fn_sasrec,\n",
    "#     optimizer=optimizer_sasrec,\n",
    "#     epochs=50,\n",
    "#     k=10,\n",
    "#     device=DEVICE,\n",
    "#     save_dir=\"model_sasrec\"\n",
    "# )"
   ],
   "id": "9d8e96895b675dce",
   "outputs": [],
   "execution_count": 48
  },
  {
   "metadata": {},
   "cell_type": "markdown",
   "source": "### Final evaluation on test set",
   "id": "e668b391f0511948"
  },
  {
   "metadata": {
    "ExecuteTime": {
     "end_time": "2025-08-27T14:34:36.047036Z",
     "start_time": "2025-08-27T14:34:36.044736Z"
    }
   },
   "cell_type": "code",
   "source": "# best_sasrec = load_best_weights(sasrec, ckpt_path=\"model_sasrec/best_model.pth\", device=DEVICE)",
   "id": "6f6da3fbf4f3b1ac",
   "outputs": [],
   "execution_count": 49
  },
  {
   "metadata": {
    "ExecuteTime": {
     "end_time": "2025-08-27T14:34:36.055732Z",
     "start_time": "2025-08-27T14:34:36.052739Z"
    }
   },
   "cell_type": "code",
   "source": [
    "# # Final evaluation on test set\n",
    "# @torch.no_grad()\n",
    "# def final_evaluation_sasrec(model, test_loader, loss_fn, k_values=(5,10,20,50), device=\"cpu\") -> pd.DataFrame:\n",
    "#     rows = []\n",
    "#     for k in k_values:\n",
    "#         metrics = evaluate_sasrec(model, test_loader, loss_fn, k=k, device=device)\n",
    "#         rows.append({\n",
    "#             \"K\": k,\n",
    "#             \"HR@K\": metrics[\"HR@K\"],\n",
    "#             \"NDCG@K\": metrics[\"NDCG@K\"],\n",
    "#             \"Precision@K\": metrics[\"Precision@K\"],\n",
    "#         })\n",
    "#     df = pd.DataFrame(rows).set_index(\"K\").sort_index()\n",
    "#     print(df.to_string(float_format=lambda x: f\"{x:.4f}\"))\n",
    "#     return df\n",
    "#\n",
    "# results_df_sasrec = final_evaluation_sasrec(best_sasrec, test_loader_sasrec, loss_fn_sasrec, device=DEVICE)"
   ],
   "id": "d6202692d293c69a",
   "outputs": [],
   "execution_count": 50
  },
  {
   "metadata": {
    "ExecuteTime": {
     "end_time": "2025-08-27T14:34:36.065122Z",
     "start_time": "2025-08-27T14:34:36.061744Z"
    }
   },
   "cell_type": "code",
   "source": [
    "# @torch.no_grad()\n",
    "# def get_recommendations_sasrec(\n",
    "#         model,\n",
    "#         user_id,\n",
    "#         input_seq,\n",
    "#         pos_items_by_user,\n",
    "#         item_encoder,\n",
    "#         top_k=10,\n",
    "#         exclude_interacted=True,\n",
    "#         device=\"cpu\"):\n",
    "#\n",
    "#     model.eval()\n",
    "#\n",
    "#     if len(input_seq) > model.max_seq_len:\n",
    "#         processed_seq = input_seq[-model.max_seq_len:]\n",
    "#     elif len(input_seq) < model.max_seq_len:\n",
    "#         processed_seq = [0] * (model.max_seq_len - len(input_seq)) + input_seq\n",
    "#     else:\n",
    "#         processed_seq = input_seq\n",
    "#\n",
    "#     input_tensor = torch.tensor([processed_seq], dtype=torch.long, device=device)\n",
    "#     scores = model.predict_next(input_tensor).squeeze(0)\n",
    "#\n",
    "#     # Exclude items the user has already interacted with\n",
    "#     if exclude_interacted and user_id in pos_items_by_user:\n",
    "#         interacted_indices = torch.as_tensor(\n",
    "#             list(pos_items_by_user[user_id]),\n",
    "#             dtype=torch.long,\n",
    "#             device=device\n",
    "#         )\n",
    "#         if interacted_indices.numel() > 0:\n",
    "#             scores.index_fill_(0, interacted_indices, float(\"-inf\"))\n",
    "#\n",
    "#     top_scores, top_indices = torch.topk(scores, top_k)\n",
    "#     item_ids_np = top_indices.detach().cpu().numpy()\n",
    "#     items_np = item_encoder.inverse_transform(item_ids_np)\n",
    "#\n",
    "#     return [\n",
    "#         {\"item_id\": int(i), \"item\": it, \"score\": float(s)}\n",
    "#         for i, it, s in zip(item_ids_np, items_np, top_scores.detach().cpu().numpy())\n",
    "#     ]"
   ],
   "id": "7af048f9d536ed62",
   "outputs": [],
   "execution_count": 51
  },
  {
   "metadata": {
    "ExecuteTime": {
     "end_time": "2025-08-27T14:34:36.075635Z",
     "start_time": "2025-08-27T14:34:36.071134Z"
    }
   },
   "cell_type": "code",
   "source": [
    "# def show_sample_recommendations_sasrec(\n",
    "#     model,\n",
    "#     df,\n",
    "#     user_encoder,\n",
    "#     item_encoder,\n",
    "#     pos_items_by_user,    # Used for filtering recommendations\n",
    "#     history_by_user,      # Used to get the input sequence for the model\n",
    "#     device,\n",
    "#     num_users=5,\n",
    "#     top_k=10):\n",
    "#\n",
    "#     print(\"\\n\" + \"=\"*50)\n",
    "#     print(\"SASRec - User Sample Recommendations\")\n",
    "#     print(\"=\"*50)\n",
    "#\n",
    "#     user_candidates = df[\"user_id\"].unique().tolist()\n",
    "#     num_to_sample = min(num_users, len(user_candidates))\n",
    "#\n",
    "#     for user_id in random.sample(user_candidates, k=num_to_sample):\n",
    "#         original_user = user_encoder.inverse_transform([user_id])[0]\n",
    "#         print(f\"\\nUser: {original_user} (ID: {user_id})\")\n",
    "#         print(\"-\" * 40)\n",
    "#\n",
    "#         # Get the user's interaction history to show and to use as model input\n",
    "#         user_history_seq = history_by_user.get(user_id, [])\n",
    "#\n",
    "#         # Display the 5 most recent interactions\n",
    "#         recent_interactions = user_history_seq[-5:]\n",
    "#         print(\"Recent interactions (most recent first):\")\n",
    "#         for item_id in reversed(recent_interactions):\n",
    "#             item_name = item_encoder.inverse_transform([item_id])[0]\n",
    "#             print(f\"  - {item_name} (ID: {item_id})\")\n",
    "#\n",
    "#         # Get recommendations using the adapted function\n",
    "#         recs = get_recommendations_sasrec(\n",
    "#             model=model,\n",
    "#             user_id=user_id,\n",
    "#             input_seq=user_history_seq, # Pass the full history as input\n",
    "#             pos_items_by_user=pos_items_by_user,\n",
    "#             item_encoder=item_encoder,\n",
    "#             device=device,\n",
    "#             top_k=top_k,\n",
    "#             exclude_interacted=True\n",
    "#         )\n",
    "#\n",
    "#         print(\"\\nTop 10 Recommendations:\")\n",
    "#         for i, rec in enumerate(recs, 1):\n",
    "#             print(f\"  {i}. {rec['item']} (ID: {rec['item_id']}, Score: {rec['score']:.4f})\")"
   ],
   "id": "fcbbdb65bc5244c7",
   "outputs": [],
   "execution_count": 52
  },
  {
   "metadata": {
    "ExecuteTime": {
     "end_time": "2025-08-27T14:34:36.084131Z",
     "start_time": "2025-08-27T14:34:36.081645Z"
    }
   },
   "cell_type": "code",
   "source": [
    "# show_sample_recommendations_sasrec(\n",
    "#     model=best_sasrec,\n",
    "#     df=df_encoded,\n",
    "#     user_encoder=user_enc,\n",
    "#     item_encoder=item_enc,\n",
    "#     pos_items_by_user=pos_items_by_user,\n",
    "#     history_by_user=history_by_user_train,\n",
    "#     device=DEVICE,\n",
    "#     num_users=5,\n",
    "#     top_k=10\n",
    "# )"
   ],
   "id": "7fc2a34bfceec623",
   "outputs": [],
   "execution_count": 53
  },
  {
   "metadata": {
    "ExecuteTime": {
     "end_time": "2025-08-27T14:34:36.093182Z",
     "start_time": "2025-08-27T14:34:36.089672Z"
    }
   },
   "cell_type": "code",
   "source": [
    "# plot_training_history(\n",
    "#     train_losses_sasrec,\n",
    "#     val_losses_sasrec,\n",
    "#     val_metrics_sasrec,\n",
    "#     k=10,\n",
    "#     model_name=\"SASRec\",\n",
    "#     save_path=\"training_history_sasrec.png\"\n",
    "# )"
   ],
   "id": "8997230fef0681ab",
   "outputs": [],
   "execution_count": 54
  },
  {
   "metadata": {},
   "cell_type": "markdown",
   "source": "## Comparison of all three models",
   "id": "33b96c2fe09b49f8"
  },
  {
   "metadata": {
    "ExecuteTime": {
     "end_time": "2025-08-27T14:34:36.101704Z",
     "start_time": "2025-08-27T14:34:36.098189Z"
    }
   },
   "cell_type": "code",
   "source": [
    "# # Plot metrics comparison at different K values\n",
    "# def plot_comparison(results_list, model_names, metric=\"NDCG@K\", save_path=\"model_comparison.png\"):\n",
    "#     plt.figure(figsize=(8, 6))\n",
    "#     for results, name in zip(results_list, model_names):\n",
    "#         plt.plot(results.index, results[metric], marker='o', label=name)\n",
    "#     plt.title(f\"Comparison of {metric} Across Models in a Single Domain\")\n",
    "#     plt.xlabel(\"K\")\n",
    "#     plt.ylabel(metric)\n",
    "#     plt.xticks(results_list[0].index)\n",
    "#     plt.legend()\n",
    "#     plt.grid(True)\n",
    "#     plt.savefig(save_path)\n",
    "#     plt.show()"
   ],
   "id": "5d636e24b10a8645",
   "outputs": [],
   "execution_count": 55
  },
  {
   "metadata": {
    "ExecuteTime": {
     "end_time": "2025-08-27T14:34:36.110053Z",
     "start_time": "2025-08-27T14:34:36.107147Z"
    }
   },
   "cell_type": "code",
   "source": [
    "# results_list = [results_df_mf, results_df_neumf, results_df_sasrec]\n",
    "# model_names = [\"MF (Baseline)\", \"NeuMF\", \"SASRec\"]\n",
    "# plot_comparison(results_list, model_names, metric=\"NDCG@K\", save_path=\"ndcg_comparison.png\")"
   ],
   "id": "318adf684829712b",
   "outputs": [],
   "execution_count": 56
  },
  {
   "metadata": {
    "ExecuteTime": {
     "end_time": "2025-08-27T14:34:36.118301Z",
     "start_time": "2025-08-27T14:34:36.116110Z"
    }
   },
   "cell_type": "code",
   "source": "",
   "id": "75798af5f5e77dc7",
   "outputs": [],
   "execution_count": null
  },
  {
   "metadata": {
    "ExecuteTime": {
     "end_time": "2025-08-27T14:34:36.124704Z",
     "start_time": "2025-08-27T14:34:36.122817Z"
    }
   },
   "cell_type": "code",
   "source": "",
   "id": "6d1b234ea0b03d62",
   "outputs": [],
   "execution_count": null
  }
 ],
 "metadata": {
  "kernelspec": {
   "display_name": "Python 3",
   "language": "python",
   "name": "python3"
  },
  "language_info": {
   "codemirror_mode": {
    "name": "ipython",
    "version": 2
   },
   "file_extension": ".py",
   "mimetype": "text/x-python",
   "name": "python",
   "nbconvert_exporter": "python",
   "pygments_lexer": "ipython2",
   "version": "2.7.6"
  }
 },
 "nbformat": 4,
 "nbformat_minor": 5
}
