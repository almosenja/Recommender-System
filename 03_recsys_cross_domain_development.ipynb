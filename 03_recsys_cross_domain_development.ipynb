{
 "cells": [
  {
   "metadata": {},
   "cell_type": "markdown",
   "source": [
    "# Cross-Domain Recommendation System Development\n",
    "This notebook is an experiment in building a cross-domain recommendation system using the Amazon Reviews dataset. It uses the best model from the single-domain experiments and extends it to handle multiple domains."
   ],
   "id": "f897965258465d1"
  },
  {
   "metadata": {
    "ExecuteTime": {
     "end_time": "2025-08-28T19:02:10.227470Z",
     "start_time": "2025-08-28T19:02:04.867231Z"
    }
   },
   "cell_type": "code",
   "source": [
    "import os\n",
    "import random\n",
    "import numpy as np\n",
    "import pandas as pd\n",
    "import time\n",
    "import gc\n",
    "import matplotlib.pyplot as plt\n",
    "from collections import defaultdict\n",
    "\n",
    "os.environ[\"HF_HOME\"] = \"D:/Python Projects/recommendation_system\"\n",
    "os.environ[\"HF_DATASETS_CACHE\"] = \"D:/Python Projects/recommendation_system/recsys/data\"\n",
    "os.environ[\"TRANSFORMERS_CACHE\"] = \"D:/Python Projects/recommendation_system/recsys/models\"\n",
    "\n",
    "# os.environ[\"HF_HOME\"] = \"E:/Python Scripts/recsys\"\n",
    "# os.environ['HF_DATASETS_CACHE'] = \"E:/Python Scripts/recsys/data\"\n",
    "# os.environ['TRANSFORMERS_CACHE'] = \"E:/Python Scripts/recsys/models\"\n",
    "\n",
    "os.environ['CUDA_LAUNCH_BLOCKING'] = \"1\"\n",
    "\n",
    "import torch\n",
    "import torch.nn as nn\n",
    "from torch.utils.data import Dataset, DataLoader\n",
    "from sklearn.preprocessing import LabelEncoder\n",
    "from datasets import load_dataset, Features, Value\n",
    "from tqdm import tqdm\n",
    "from tensorboardX import SummaryWriter"
   ],
   "id": "34a5366879dad399",
   "outputs": [],
   "execution_count": 1
  },
  {
   "metadata": {
    "ExecuteTime": {
     "end_time": "2025-08-28T19:02:10.269744Z",
     "start_time": "2025-08-28T19:02:10.240002Z"
    }
   },
   "cell_type": "code",
   "source": [
    "SEED = 42\n",
    "def set_seed(seed=SEED):\n",
    "    random.seed(seed)\n",
    "    np.random.seed(seed)\n",
    "    torch.manual_seed(seed)\n",
    "    torch.cuda.manual_seed_all(seed)\n",
    "\n",
    "set_seed(SEED)\n",
    "DEVICE = \"cuda\" if torch.cuda.is_available() else \"cpu\"\n",
    "print(\"DEVICE:\", DEVICE)"
   ],
   "id": "bf6eb90595456a15",
   "outputs": [
    {
     "name": "stdout",
     "output_type": "stream",
     "text": [
      "DEVICE: cuda\n"
     ]
    }
   ],
   "execution_count": 2
  },
  {
   "metadata": {},
   "cell_type": "markdown",
   "source": "## Single-domain development on best model (SASRec)",
   "id": "f50b5b1c0a2ae4cf"
  },
  {
   "metadata": {
    "ExecuteTime": {
     "end_time": "2025-08-28T19:02:10.298396Z",
     "start_time": "2025-08-28T19:02:10.290375Z"
    }
   },
   "cell_type": "code",
   "source": [
    "HF_DATASET = \"McAuley-Lab/Amazon-Reviews-2023\"\n",
    "\n",
    "def load_amazon_reviews(domain, save_dir=\"data\", max_items=None, seed=SEED):\n",
    "    os.makedirs(save_dir, exist_ok=True)\n",
    "    filepath = f\"{save_dir}/amazon_reviews_{domain}.csv\"\n",
    "\n",
    "    if not os.path.exists(filepath):\n",
    "        print(f\"File {filepath} not found. Downloading dataset for domain '{domain}'...\")\n",
    "        ds = load_dataset(\n",
    "            \"McAuley-Lab/Amazon-Reviews-2023\",\n",
    "            f\"raw_review_{domain}\",\n",
    "            split=\"full\",\n",
    "            trust_remote_code=True,\n",
    "        )\n",
    "\n",
    "        # Keep only needed columns\n",
    "        ds = ds.select_columns([\"user_id\", \"parent_asin\", \"rating\", \"timestamp\"])\n",
    "        ds = ds.rename_columns({\"user_id\": \"user\", \"parent_asin\": \"item\"})\n",
    "        ds = ds.cast(Features({\n",
    "            \"user\": Value(\"string\"),\n",
    "            \"item\": Value(\"string\"),\n",
    "            \"rating\": Value(\"float32\"),\n",
    "            \"timestamp\": Value(\"int64\"),\n",
    "        }))\n",
    "\n",
    "        # Convert to pandas (Arrow zero-copy where possible)\n",
    "        df = ds.to_pandas()\n",
    "        df.insert(3, \"domain\", domain)\n",
    "        df.to_csv(f\"{save_dir}/amazon_reviews_{domain}.csv\", index=False)\n",
    "        print(f\"Saved amazon_reviews_{domain}.csv to {save_dir}/\")\n",
    "\n",
    "    final_df = pd.read_csv(filepath)\n",
    "    # Random subset if max_items is set\n",
    "    if max_items is not None:\n",
    "        k = min(max_items, len(final_df))\n",
    "        final_df = final_df.sample(n=k, random_state=seed).reset_index(drop=True)\n",
    "    print(f\"Loaded {filepath} with {len(final_df)} rows.\")\n",
    "    return final_df\n",
    "\n",
    "def preprocess_dataset(df, min_user_interactions=5, min_item_interactions=5):\n",
    "    # Make it implicit\n",
    "    df[\"label\"] = 1.0\n",
    "    user_counts = df.groupby(\"user\").size()\n",
    "    valid_users = user_counts[user_counts >= min_user_interactions].index\n",
    "    item_counts = df.groupby(\"item\").size()\n",
    "    valid_items = item_counts[item_counts >= min_item_interactions].index\n",
    "    df_filtered = df[df[\"user\"].isin(valid_users) & df[\"item\"].isin(valid_items)]\n",
    "    print(\"After interactions filtering:\", len(df_filtered), \"rows,\", df_filtered[\"user\"].nunique(), \"users,\", df_filtered[\"item\"].nunique(), \"items\")\n",
    "    return df_filtered\n",
    "\n",
    "def label_encoder(df, shift_item_id=False):\n",
    "    df_encoded = df.copy()\n",
    "    user_enc = LabelEncoder()\n",
    "    item_enc = LabelEncoder()\n",
    "    domain_enc = LabelEncoder()\n",
    "    df_encoded[\"user_id\"] = user_enc.fit_transform(df_encoded[\"user\"])\n",
    "    df_encoded[\"item_id\"] = item_enc.fit_transform(df_encoded[\"item\"])\n",
    "    if shift_item_id:\n",
    "        df_encoded[\"item_id\"] = df_encoded[\"item_id\"] + 1  # Shift item IDs by 1 to reserve 0 for padding if needed\n",
    "    df_encoded[\"domain_id\"] = domain_enc.fit_transform(df_encoded[\"domain\"])\n",
    "    return df_encoded, user_enc, item_enc, domain_enc"
   ],
   "id": "fea6ebca4ab2462c",
   "outputs": [],
   "execution_count": 3
  },
  {
   "metadata": {},
   "cell_type": "markdown",
   "source": "### Dataset preparation",
   "id": "48521a298928c450"
  },
  {
   "metadata": {
    "ExecuteTime": {
     "end_time": "2025-08-28T19:03:58.730801Z",
     "start_time": "2025-08-28T19:02:10.307543Z"
    }
   },
   "cell_type": "code",
   "source": [
    "# New input\n",
    "SOURCE_DOMAIN = \"Books\"\n",
    "\n",
    "# Loading data from multiple domains\n",
    "df = load_amazon_reviews(SOURCE_DOMAIN, max_items=15_000_000, seed=SEED)\n",
    "print(f\"Total rows in {SOURCE_DOMAIN}: {len(df)}\")\n",
    "\n",
    "# Preprocess the dataset\n",
    "filtered_df = preprocess_dataset(df, min_user_interactions=10, min_item_interactions=10)\n",
    "df_encoded, user_encoder, item_encoder, domain_encoder = label_encoder(filtered_df, shift_item_id=True)\n",
    "\n",
    "NUM_USERS = df_encoded[\"user_id\"].max() + 1\n",
    "NUM_ITEMS = df_encoded[\"item_id\"].max() + 1"
   ],
   "id": "469ec0275e5a1c20",
   "outputs": [
    {
     "name": "stdout",
     "output_type": "stream",
     "text": [
      "Loaded data/amazon_reviews_Books.csv with 15000000 rows.\n",
      "Total rows in Books: 15000000\n",
      "After interactions filtering: 2002738 rows, 154220 users, 236541 items\n"
     ]
    }
   ],
   "execution_count": 4
  },
  {
   "metadata": {
    "ExecuteTime": {
     "end_time": "2025-08-28T19:04:07.255489Z",
     "start_time": "2025-08-28T19:03:58.795106Z"
    }
   },
   "cell_type": "code",
   "source": [
    "def create_user_sequences(df):\n",
    "    df_sorted = df.sort_values([\"user_id\", \"timestamp\"])\n",
    "    user_sequences = {}\n",
    "    for uid, group in df_sorted.groupby(\"user_id\"):\n",
    "        items = group[\"item_id\"].tolist()\n",
    "        user_sequences[uid] = items\n",
    "\n",
    "    print(f\"Number of users: {len(user_sequences)}\")\n",
    "    print(f\"Max sequence length: {max(len(seq) for seq in user_sequences.values())}\")\n",
    "    print(f\"Min sequence length: {min(len(seq) for seq in user_sequences.values())}\")\n",
    "\n",
    "    return user_sequences\n",
    "\n",
    "# Create sequences\n",
    "user_sequences = create_user_sequences(df_encoded)\n",
    "pos_items_by_user = {u: set(seq) for u, seq in user_sequences.items()}"
   ],
   "id": "c76b37ce901249d4",
   "outputs": [
    {
     "name": "stdout",
     "output_type": "stream",
     "text": [
      "Number of users: 154220\n",
      "Max sequence length: 1146\n",
      "Min sequence length: 1\n"
     ]
    }
   ],
   "execution_count": 5
  },
  {
   "metadata": {
    "ExecuteTime": {
     "end_time": "2025-08-28T19:04:08.706319Z",
     "start_time": "2025-08-28T19:04:07.265050Z"
    }
   },
   "cell_type": "code",
   "source": [
    "def sequences_loo_split(user_sequences):\n",
    "    train_seqs = {}\n",
    "    val_data = {}\n",
    "    test_data = {}\n",
    "\n",
    "    for user, seq in user_sequences.items():\n",
    "        if len(seq) < 3:  # Need at least 3 items for train/val/test\n",
    "            continue\n",
    "\n",
    "        train_seqs[user] = seq[:-2]  # All but last two\n",
    "        val_data[user] = (seq[:-2], seq[-2])  # Train on all but last 2, predict second-to-last\n",
    "        test_data[user] = (seq[:-1], seq[-1])  # Train on all but last, predict last\n",
    "\n",
    "    print(f\"Training sequences: {len(train_seqs)}\")\n",
    "    print(f\"Validation users: {len(val_data)}\")\n",
    "    print(f\"Test users: {len(test_data)}\")\n",
    "\n",
    "    return train_seqs, val_data, test_data\n",
    "\n",
    "train_sequences, val_sequences, test_sequences = sequences_loo_split(user_sequences)\n",
    "print(f\"Sequences - Train: {len(train_sequences)}, Val: {len(val_sequences)}, Test: {len(test_sequences)}\")"
   ],
   "id": "f25ac4008c7f94b",
   "outputs": [
    {
     "name": "stdout",
     "output_type": "stream",
     "text": [
      "Training sequences: 145957\n",
      "Validation users: 145957\n",
      "Test users: 145957\n",
      "Sequences - Train: 145957, Val: 145957, Test: 145957\n"
     ]
    }
   ],
   "execution_count": 6
  },
  {
   "metadata": {},
   "cell_type": "markdown",
   "source": "### Dataset and DataLoader",
   "id": "f04c70046f9e7ad2"
  },
  {
   "metadata": {
    "ExecuteTime": {
     "end_time": "2025-08-28T19:04:13.988100Z",
     "start_time": "2025-08-28T19:04:08.726907Z"
    }
   },
   "cell_type": "code",
   "source": [
    "class SASRecDataset(Dataset):\n",
    "    def __init__(self, data, num_items, max_seq_len=50, pos_items_by_user=None, mode=\"train\", neg_samples=1):\n",
    "        self.num_items = num_items\n",
    "        self.max_seq_len = max_seq_len\n",
    "        self.mode = mode\n",
    "        self.neg_samples = neg_samples\n",
    "        self.all_pos = pos_items_by_user\n",
    "\n",
    "        self.samples = []\n",
    "        if mode == \"train\":\n",
    "            for user, seq in data.items():\n",
    "                for i in range(1, len(seq)):\n",
    "                    self.samples.append({\n",
    "                        \"user\": user,\n",
    "                        \"input_seq\": seq[:i],\n",
    "                        \"target\": seq[i],\n",
    "                        \"full_seq\": seq # For negative sampling\n",
    "                    })\n",
    "        else:\n",
    "            for user, (seq, target) in data.items():\n",
    "                self.samples.append({\n",
    "                    \"user\": user,\n",
    "                    \"input_seq\": seq,\n",
    "                    \"target\": target,\n",
    "                    \"full_seq\": seq + [target]\n",
    "                })\n",
    "\n",
    "    def __len__(self):\n",
    "        return len(self.samples)\n",
    "\n",
    "    def __getitem__(self, idx):\n",
    "        sample = self.samples[idx]\n",
    "        user = sample[\"user\"]\n",
    "        seq = sample[\"input_seq\"]\n",
    "        target = sample[\"target\"]\n",
    "\n",
    "        # Truncate sequence if > max length\n",
    "        if len(seq) > self.max_seq_len:\n",
    "            seq = seq[-self.max_seq_len:]\n",
    "\n",
    "        # Left-pad sequence with zeros\n",
    "        pad_len = self.max_seq_len - len(seq)\n",
    "        padded_seq = [0] * pad_len + seq\n",
    "\n",
    "        # Negative sampling\n",
    "        forbid = self.all_pos[user] if self.all_pos is not None else set(sample[\"full_seq\"])\n",
    "        neg_items = set()\n",
    "\n",
    "        while len(neg_items) < self.neg_samples:\n",
    "            neg = random.randint(1, self.num_items - 1)\n",
    "            if neg not in forbid:\n",
    "                neg_items.add(neg)\n",
    "\n",
    "        return {\n",
    "            \"user\": sample[\"user\"],\n",
    "            \"input_seq\": torch.tensor(padded_seq, dtype=torch.long),\n",
    "            \"target\": torch.tensor(target, dtype=torch.long),\n",
    "            \"neg_items\": torch.tensor(list(neg_items), dtype=torch.long)\n",
    "        }\n",
    "\n",
    "# Create datasets\n",
    "train_dataset = SASRecDataset(train_sequences, NUM_ITEMS, pos_items_by_user=pos_items_by_user, max_seq_len=50, mode=\"train\", neg_samples=4)\n",
    "val_dataset = SASRecDataset(val_sequences, NUM_ITEMS, pos_items_by_user=pos_items_by_user, max_seq_len=50, mode=\"val\", neg_samples=99)\n",
    "test_dataset = SASRecDataset(test_sequences, NUM_ITEMS, pos_items_by_user=pos_items_by_user, max_seq_len=50, mode=\"test\", neg_samples=99)\n",
    "\n",
    "print(f\"Training samples: {len(train_dataset)}\")\n",
    "print(f\"Validation samples: {len(val_dataset)}\")\n",
    "print(f\"Test samples: {len(test_dataset)}\")"
   ],
   "id": "cfbf122d3ffecc46",
   "outputs": [
    {
     "name": "stdout",
     "output_type": "stream",
     "text": [
      "Training samples: 1551543\n",
      "Validation samples: 145957\n",
      "Test samples: 145957\n"
     ]
    }
   ],
   "execution_count": 7
  },
  {
   "metadata": {
    "ExecuteTime": {
     "end_time": "2025-08-28T19:04:14.014511Z",
     "start_time": "2025-08-28T19:04:14.004638Z"
    }
   },
   "cell_type": "code",
   "source": [
    "# Create data loaders\n",
    "BATCH_SIZE = 512\n",
    "train_loader = DataLoader(train_dataset, batch_size=BATCH_SIZE, shuffle=True)\n",
    "val_loader = DataLoader(val_dataset, batch_size=BATCH_SIZE, shuffle=False)\n",
    "test_loader = DataLoader(test_dataset, batch_size=BATCH_SIZE, shuffle=False)"
   ],
   "id": "c787a877f937b32b",
   "outputs": [],
   "execution_count": 8
  },
  {
   "metadata": {
    "ExecuteTime": {
     "end_time": "2025-08-28T19:04:14.204708Z",
     "start_time": "2025-08-28T19:04:14.023058Z"
    }
   },
   "cell_type": "code",
   "source": [
    "first = next(iter(train_loader))\n",
    "print(\"Sample batch from loader:\")\n",
    "print(\"Input sequence shape:\", first[\"input_seq\"].shape)\n",
    "print(\"Target shape:\", first[\"target\"].shape)\n",
    "print(\"Negative items shape:\", first[\"neg_items\"].shape)\n",
    "\n",
    "batch_size_in_first = first[\"input_seq\"].shape[0]\n",
    "\n",
    "print(\"\\nSample input sequence:\")\n",
    "random_index = []\n",
    "for _ in range(5):\n",
    "    random_index.append(random.randint(0, batch_size_in_first - 1))\n",
    "\n",
    "for i in random_index:\n",
    "    print(first[\"input_seq\"][i])"
   ],
   "id": "ad31e89eec90a58c",
   "outputs": [
    {
     "name": "stdout",
     "output_type": "stream",
     "text": [
      "Sample batch from loader:\n",
      "Input sequence shape: torch.Size([512, 50])\n",
      "Target shape: torch.Size([512])\n",
      "Negative items shape: torch.Size([512, 4])\n",
      "\n",
      "Sample input sequence:\n",
      "tensor([    0,     0,     0,     0,     0,     0,     0,     0,     0,     0,\n",
      "            0,     0,     0,     0,     0,     0,     0,     0,     0,     0,\n",
      "            0,     0,     0,     0,     0,     0,     0,     0,     0,     0,\n",
      "            0,     0,     0,     0,     0,     0,     0,     0,     0,     0,\n",
      "            0,     0,     0,     0,     0,     0,     0, 94948, 29184, 29171])\n",
      "tensor([     0,      0,      0,      0,      0,      0,      0,      0,      0,\n",
      "             0,      0,      0,      0,      0,      0,      0,      0,      0,\n",
      "             0,      0,      0,      0,      0,      0,      0,      0,      0,\n",
      "             0,      0,      0,      0,      0,      0,      0,      0,      0,\n",
      "             0,      0,      0,      0,      0,      0,      0,  28797, 204941,\n",
      "        209828, 209614, 141818, 206079, 217247])\n",
      "tensor([     0,      0,      0,      0,      0,      0,      0,      0,      0,\n",
      "             0,      0,      0,      0,      0,      0,      0,      0,      0,\n",
      "             0,      0,      0,      0,      0,      0,      0,      0,      0,\n",
      "             0,      0,      0,      0,      0,      0,      0,      0,      0,\n",
      "             0, 148739, 221022, 220825, 192594, 149400, 224099, 220505, 223373,\n",
      "        226930, 109090, 227734, 228297, 228489])\n",
      "tensor([     0,      0,      0,      0,      0,      0,      0,      0,      0,\n",
      "             0,      0,      0,      0,      0,      0,      0,      0,      0,\n",
      "             0,      0,      0,      0,      0,      0,      0,      0,      0,\n",
      "             0,      0,      0,      0,      0,      0,      0,      0,      0,\n",
      "             0,      0,      0,      0,      0,  38891,  15957,  43155,  43987,\n",
      "          3422, 113151,     41,  24575, 118325])\n",
      "tensor([     0,      0,      0,      0,      0,      0,      0,      0,      0,\n",
      "             0,      0,      0,      0,      0,      0,      0,      0,      0,\n",
      "             0,      0,      0,      0,      0,      0,      0,      0,      0,\n",
      "             0,      0,      0,      0,      0,      0,      0,      0,  90276,\n",
      "         22968,  23002,  66796, 157286,  36044,  36043,    648,  23080,  60690,\n",
      "         69025,  40755,  28990,  49673,  23131])\n"
     ]
    }
   ],
   "execution_count": 9
  },
  {
   "metadata": {},
   "cell_type": "markdown",
   "source": "### Create SASRec model",
   "id": "ee51311214a572b6"
  },
  {
   "metadata": {
    "ExecuteTime": {
     "end_time": "2025-08-28T19:04:14.228571Z",
     "start_time": "2025-08-28T19:04:14.212637Z"
    }
   },
   "cell_type": "code",
   "source": [
    "# Building SASRec model\n",
    "class PointWiseFeedForward(nn.Module):\n",
    "    def __init__(self, hidden_dim, dropout=0.2):\n",
    "        super().__init__()\n",
    "        self.w1 = nn.Linear(hidden_dim, hidden_dim)\n",
    "        self.w2 = nn.Linear(hidden_dim, hidden_dim)\n",
    "        self.relu = nn.ReLU()\n",
    "        self.dropout = nn.Dropout(dropout)\n",
    "\n",
    "    def forward(self, x):\n",
    "        return self.w2(self.dropout(self.relu(self.w1(x))))\n",
    "\n",
    "class AttentionBlock(nn.Module):\n",
    "    def __init__(self, hidden_dim, num_heads, dropout=0.2):\n",
    "        super().__init__()\n",
    "\n",
    "        # Multi-head attention\n",
    "        self.attn = nn.MultiheadAttention(hidden_dim, num_heads, dropout=dropout, batch_first=True)\n",
    "\n",
    "        # Layer norms\n",
    "        self.ln1 = nn.LayerNorm(hidden_dim)\n",
    "        self.ln2 = nn.LayerNorm(hidden_dim)\n",
    "\n",
    "        # Feed-forward network\n",
    "        self.ffn = PointWiseFeedForward(hidden_dim, dropout)\n",
    "        self.dropout = nn.Dropout(dropout)\n",
    "\n",
    "    def forward(self, x, attn_mask=None):\n",
    "        # Self-attention with residual connection\n",
    "        attn_out, _ = self.attn(x, x, x, attn_mask=attn_mask)\n",
    "        x = self.ln1(x + self.dropout(attn_out))\n",
    "\n",
    "        # Feed-forward network with residual connection\n",
    "        ffn_out = self.ffn(x)\n",
    "        x = self.ln2(x + self.dropout(ffn_out))\n",
    "\n",
    "        return x\n",
    "\n",
    "class SASRec(nn.Module):\n",
    "    def __init__(self,\n",
    "                 num_items,\n",
    "                 hidden_dim=64,\n",
    "                 max_seq_len=50,\n",
    "                 num_blocks=2,\n",
    "                 num_heads=2,\n",
    "                 dropout=0.2):\n",
    "        super().__init__()\n",
    "\n",
    "        self.num_items = num_items\n",
    "        self.hidden_dim = hidden_dim\n",
    "        self.max_seq_len = max_seq_len\n",
    "\n",
    "        # Embedding layers\n",
    "        self.item_embed = nn.Embedding(num_items, hidden_dim, padding_idx=0)\n",
    "        self.positional_embed = nn.Embedding(max_seq_len, hidden_dim)\n",
    "        self.dropout = nn.Dropout(dropout)\n",
    "\n",
    "        # Stack of SASRec blocks\n",
    "        self.blocks = nn.ModuleList([\n",
    "            AttentionBlock(hidden_dim, num_heads, dropout) for _ in range(num_blocks)\n",
    "        ])\n",
    "\n",
    "        # Final layer norm\n",
    "        self.ln = nn.LayerNorm(hidden_dim)\n",
    "\n",
    "        # Initialize weights\n",
    "        self._reset_parameters()\n",
    "\n",
    "    def _reset_parameters(self):\n",
    "        nn.init.xavier_normal_(self.item_embed.weight[1:])  # Skip padding idx\n",
    "        nn.init.xavier_normal_(self.positional_embed.weight)\n",
    "\n",
    "    def forward(self, input_seq, candidate_items=None):\n",
    "        batch_size, seq_len = input_seq.shape\n",
    "\n",
    "        # Get item embeddings\n",
    "        item_embeds = self.item_embed(input_seq)  # [B, L, D]\n",
    "\n",
    "        # Add positional embeddings\n",
    "        positions = torch.arange(seq_len, device=input_seq.device).unsqueeze(0)\n",
    "        pos_embeds = self.positional_embed(positions)  # [1, L, D]\n",
    "        x = self.dropout(item_embeds + pos_embeds)\n",
    "\n",
    "        # Create causal attention mask\n",
    "        attn_mask = self._create_causal_mask(seq_len, input_seq.device)\n",
    "        pad_mask = input_seq.eq(0)\n",
    "\n",
    "        # Pass through transformer blocks\n",
    "        for block in self.blocks:\n",
    "            x = block(x, attn_mask=attn_mask)\n",
    "\n",
    "        # Final layer norm\n",
    "        x = self.ln(x)  # [B, L, D]\n",
    "        x = x.masked_fill(pad_mask.unsqueeze(-1), 0.0)\n",
    "\n",
    "        # If candidate_items provided, score them\n",
    "        if candidate_items is not None:\n",
    "            # Get embeddings for candidate items\n",
    "            cand_emb = self.item_embed(candidate_items) # [B, N, D]\n",
    "\n",
    "            # Use last position's representation for scoring\n",
    "            last_hidden = x[:, -1, :].unsqueeze(1)  # [B, 1, D]\n",
    "\n",
    "            # Compute scores via dot product\n",
    "            scores = torch.matmul(last_hidden, cand_emb.transpose(1, 2)).squeeze(1) # [B, N]\n",
    "            return scores\n",
    "\n",
    "        return x\n",
    "\n",
    "    def _create_causal_mask(self, seq_len, device):\n",
    "        mask = torch.full((seq_len, seq_len), 0.0, device=device)\n",
    "        mask = mask.masked_fill(torch.triu(torch.ones(seq_len, seq_len, device=device), diagonal=1).bool(), float('-inf'))\n",
    "        return mask\n",
    "\n",
    "    def predict_next(self, input_seq):\n",
    "        # Get sequence representations\n",
    "        seq_repr = self.forward(input_seq)  # [B, L, D]\n",
    "\n",
    "        # Use last position for prediction\n",
    "        last_hidden = seq_repr[:, -1, :]  # [B, D]\n",
    "\n",
    "        # Score against all item embeddings\n",
    "        all_item_embeds = self.item_embed.weight  # [num_items, D]\n",
    "        scores = torch.matmul(last_hidden, all_item_embeds.T)  # [B, num_items]\n",
    "        return scores"
   ],
   "id": "6af96d98ee3a7051",
   "outputs": [],
   "execution_count": 10
  },
  {
   "metadata": {},
   "cell_type": "markdown",
   "source": "### Training and evaluation functions",
   "id": "126fb73d3965ec4f"
  },
  {
   "metadata": {
    "ExecuteTime": {
     "end_time": "2025-08-28T19:04:14.241155Z",
     "start_time": "2025-08-28T19:04:14.235096Z"
    }
   },
   "cell_type": "code",
   "source": [
    "def train_sasrec_epoch(model, train_loader, loss_fn, optimizer, device=\"cpu\"):\n",
    "    model.train()\n",
    "    total_loss = 0.0\n",
    "    n_batches = 0\n",
    "\n",
    "    for batch in tqdm(train_loader, desc=\"Training\"):\n",
    "        input_seq = batch[\"input_seq\"].to(device)\n",
    "        pos_items = batch[\"target\"].to(device)\n",
    "        neg_items = batch[\"neg_items\"].to(device)\n",
    "\n",
    "        # Get predictions for last position\n",
    "        seq_output = model(input_seq)  # [B, L, D]\n",
    "        last_hidden = seq_output[:, -1, :]  # [B, D]\n",
    "\n",
    "        # Get embeddings for positive and negative items\n",
    "        pos_embeds = model.item_embed(pos_items)\n",
    "        neg_embeds = model.item_embed(neg_items)\n",
    "\n",
    "        # Compute logits\n",
    "        pos_logits = (last_hidden * pos_embeds).sum(dim=1)\n",
    "        neg_logits = torch.bmm(neg_embeds, last_hidden.unsqueeze(-1)).squeeze(-1)\n",
    "\n",
    "        # Binary cross-entropy loss with logits\n",
    "        pos_labels = torch.ones_like(pos_logits)\n",
    "        neg_labels = torch.zeros_like(neg_logits)\n",
    "\n",
    "        # Concatenate logits and labels\n",
    "        all_logits = torch.cat([pos_logits.unsqueeze(1), neg_logits], dim=1)\n",
    "        all_labels = torch.cat([pos_labels.unsqueeze(1), neg_labels], dim=1)\n",
    "\n",
    "        loss = loss_fn(all_logits, all_labels)\n",
    "\n",
    "        optimizer.zero_grad()\n",
    "        loss.backward()\n",
    "        optimizer.step()\n",
    "        total_loss += loss.item()\n",
    "        n_batches += 1\n",
    "\n",
    "    return total_loss / n_batches"
   ],
   "id": "89794d62607239d3",
   "outputs": [],
   "execution_count": 11
  },
  {
   "metadata": {
    "ExecuteTime": {
     "end_time": "2025-08-28T19:04:14.257172Z",
     "start_time": "2025-08-28T19:04:14.249179Z"
    }
   },
   "cell_type": "code",
   "source": [
    "# Validation loss and ranking metrics\n",
    "@torch.no_grad()\n",
    "def evaluate_sasrec(model, eval_loader, loss_fn, k=10, device=\"cpu\"):\n",
    "    model.eval()\n",
    "    total = 0\n",
    "    sum_hr = 0.0\n",
    "    sum_ndcg = 0.0\n",
    "    sum_prec = 0.0\n",
    "    sum_mrr = 0.0\n",
    "\n",
    "    sum_val_loss = 0.0\n",
    "    n_loss_batches = 0\n",
    "\n",
    "    for batch in tqdm(eval_loader, desc=\"Evaluating\"):\n",
    "        input_seq = batch[\"input_seq\"].to(device)\n",
    "        target = batch[\"target\"].to(device)\n",
    "        neg_items = batch[\"neg_items\"].to(device)\n",
    "\n",
    "        batch_size = input_seq.size(0)\n",
    "\n",
    "        # Create candidate set: 1 positive + negatives\n",
    "        seq_output = model(input_seq)  # [B, L, D]\n",
    "        last_hidden = seq_output[:, -1, :]  # [B, D]\n",
    "        candidates = torch.cat([\n",
    "            target.unsqueeze(1),  # [B, 1]\n",
    "            neg_items  # [B, neg_samples]\n",
    "        ], dim=1)  # [B, 1 + neg_samples]\n",
    "\n",
    "        # Get embeddings for all candidates\n",
    "        cand_emb = model.item_embed(candidates)  # [B, 1+neg_samples, D]\n",
    "        scores = torch.bmm(cand_emb, last_hidden.unsqueeze(-1)).squeeze(-1)  # [B, 1+neg_samples]\n",
    "\n",
    "        # sanity: positive not in negatives\n",
    "        if torch.any((candidates[:, 1:] == target.unsqueeze(1)).any(dim=1)):\n",
    "            raise RuntimeError(\"Positive item appeared in negatives for some samples.\")\n",
    "\n",
    "        # Loss calculation\n",
    "        pos_scores = scores[:, 0]\n",
    "        neg_scores = scores[:, 1:]\n",
    "        pos_labels = torch.ones_like(scores[:, 0])\n",
    "        neg_labels = torch.zeros_like(scores[:, 1:])\n",
    "        all_scores = torch.cat([pos_scores.unsqueeze(1), neg_scores], dim=1)\n",
    "        all_labels = torch.cat([pos_labels.unsqueeze(1), neg_labels], dim=1)\n",
    "        batch_loss = loss_fn(all_scores.reshape(-1), all_labels.reshape(-1))\n",
    "        sum_val_loss += batch_loss.item()\n",
    "        n_loss_batches += 1\n",
    "\n",
    "        # Calculate metrics\n",
    "        _, full_idx = torch.sort(scores, dim=1, descending=True)\n",
    "        rank  = (full_idx == 0).nonzero(as_tuple=True)[1] + 1  # Rank of the positive item (1-based)\n",
    "\n",
    "        hit = (rank <= k).float()\n",
    "        ndcg = torch.where(rank <= k, 1.0 / torch.log2(rank.float() + 1), torch.zeros_like(hit))\n",
    "        precision = hit / float(k)\n",
    "        mrr = torch.where(rank <= k, 1.0 / rank.float(), torch.zeros_like(hit))\n",
    "\n",
    "        sum_hr += hit.sum().item()\n",
    "        sum_ndcg += ndcg.sum().item()\n",
    "        sum_prec += precision.sum().item()\n",
    "        sum_mrr += mrr.sum().item()\n",
    "        total += batch_size\n",
    "\n",
    "    metrics = {\n",
    "        \"HR@K\": sum_hr / total if total else 0.0,\n",
    "        \"NDCG@K\": sum_ndcg / total if total else 0.0,\n",
    "        \"Precision@K\": sum_prec / total if total else 0.0,\n",
    "        \"MRR@K\": sum_mrr / total if total else 0.0,\n",
    "        \"Val loss\": sum_val_loss / max(n_loss_batches, 1)\n",
    "    }\n",
    "\n",
    "    return metrics"
   ],
   "id": "206c2ec3b34e4147",
   "outputs": [],
   "execution_count": 12
  },
  {
   "metadata": {
    "ExecuteTime": {
     "end_time": "2025-08-28T19:04:14.272709Z",
     "start_time": "2025-08-28T19:04:14.265686Z"
    }
   },
   "cell_type": "code",
   "source": [
    "def sasrec_trainer(\n",
    "        model,\n",
    "        train_loader,\n",
    "        eval_loader,\n",
    "        epochs,\n",
    "        loss_fn,\n",
    "        optimizer,\n",
    "        k=10,\n",
    "        device=\"cpu\",\n",
    "        save_dir=\"model\"\n",
    "    ):\n",
    "    os.makedirs(save_dir, exist_ok=True)\n",
    "    model.to(device)\n",
    "    writer = SummaryWriter()\n",
    "\n",
    "    train_losses, val_losses, val_metrics_log = [], [], []\n",
    "    best_ndcg, best_epoch = 0.0, 0\n",
    "\n",
    "    for epoch in range(epochs):\n",
    "        t0 = time.time()\n",
    "\n",
    "        # Train (batched)\n",
    "        train_loss = train_sasrec_epoch(model, train_loader, loss_fn, optimizer, device=device)\n",
    "        train_losses.append(train_loss)\n",
    "\n",
    "        # Eval (batched)\n",
    "        m = evaluate_sasrec(model, eval_loader, loss_fn, k=k, device=device)\n",
    "        val_losses.append(m[\"Val loss\"])\n",
    "        val_metrics_log.append({k_: m[k_] for k_ in [\"HR@K\", \"NDCG@K\", \"Precision@K\", \"MRR@K\"]})\n",
    "\n",
    "        # Checkpointing by NDCG\n",
    "        if m[\"NDCG@K\"] > best_ndcg:\n",
    "            best_ndcg = m[\"NDCG@K\"]\n",
    "            best_epoch = epoch + 1\n",
    "            torch.save(model.state_dict(), os.path.join(save_dir, \"best_model_src.pth\"))\n",
    "        torch.save(model.state_dict(), os.path.join(save_dir, \"last_model_src.pth\"))\n",
    "\n",
    "        # TB logs\n",
    "        writer.add_scalar(\"Loss/Train\", train_loss, epoch)\n",
    "        writer.add_scalar(\"Loss/Validation\", m[\"Val loss\"], epoch)\n",
    "        writer.add_scalar(f\"Metrics/Val_HR@{k}\", m[\"HR@K\"], epoch)\n",
    "        writer.add_scalar(f\"Metrics/Val_NDCG@{k}\", m[\"NDCG@K\"], epoch)\n",
    "        writer.add_scalar(f\"Metrics/Val_Precision@{k}\", m[\"Precision@K\"], epoch)\n",
    "        writer.add_scalar(f\"Metrics/Val_MRR@{k}\", m[\"MRR@K\"], epoch)\n",
    "\n",
    "        print(\n",
    "            f\"Epoch {epoch+1}/{epochs}  \"\n",
    "            f\"Train loss {train_loss:.4f}  \"\n",
    "            f\"Val loss {m['Val loss']:.4f}  \"\n",
    "            f\"HR@{k} {m['HR@K']:.4f}  \"\n",
    "            f\"NDCG@{k} {m['NDCG@K']:.4f}  \"\n",
    "            f\"Precision@{k} {m['Precision@K']:.4f}  \"\n",
    "            f\"MRR@{k} {m['MRR@K']:.4f}  \"\n",
    "            f\"{'(new best)' if m['NDCG@K'] == best_ndcg and best_epoch==epoch+1 else ''}  \"\n",
    "            f\"Time {time.time()-t0:.2f}s\"\n",
    "        )\n",
    "\n",
    "    print(\"\\nTraining Complete.\")\n",
    "    print(f\"Best epoch: {best_epoch} with NDCG@{k}: {best_ndcg:.4f}\\n\")\n",
    "\n",
    "    gc.collect()\n",
    "    if torch.cuda.is_available():\n",
    "        torch.cuda.empty_cache()\n",
    "    writer.close()\n",
    "    return train_losses, val_losses, val_metrics_log, best_ndcg"
   ],
   "id": "2cb1cd31cab2153b",
   "outputs": [],
   "execution_count": 13
  },
  {
   "metadata": {},
   "cell_type": "markdown",
   "source": "### Training the model",
   "id": "2199dc5aecc7393a"
  },
  {
   "metadata": {
    "ExecuteTime": {
     "end_time": "2025-08-28T19:23:02.560637Z",
     "start_time": "2025-08-28T19:08:36.391292Z"
    }
   },
   "cell_type": "code",
   "source": [
    "# Hyperparameters from the original paper, except higher hidden_dim\n",
    "sasrec = SASRec(\n",
    "    num_items=NUM_ITEMS,\n",
    "    hidden_dim=64,\n",
    "    max_seq_len=50,\n",
    "    num_blocks=2,\n",
    "    num_heads=2,\n",
    "    dropout=0.4\n",
    ")\n",
    "\n",
    "loss_fn_sasrec = nn.BCEWithLogitsLoss()\n",
    "optimizer_sasrec = torch.optim.Adam(sasrec.parameters(), lr=1e-3, weight_decay=1e-6)\n",
    "\n",
    "train_losses_sasrec, val_losses_sasrec, val_metrics_sasrec, best_ndcg_sasrec = sasrec_trainer(\n",
    "    model=sasrec,\n",
    "    train_loader=train_loader,\n",
    "    eval_loader=val_loader,\n",
    "    loss_fn=loss_fn_sasrec,\n",
    "    optimizer=optimizer_sasrec,\n",
    "    epochs=5,\n",
    "    k=10,\n",
    "    device=DEVICE,\n",
    "    save_dir=\"model_sasrec\"\n",
    ")"
   ],
   "id": "bce990fff974cbdb",
   "outputs": [
    {
     "name": "stderr",
     "output_type": "stream",
     "text": [
      "Training: 100%|██████████| 3031/3031 [02:38<00:00, 19.10it/s]\n",
      "Evaluating: 100%|██████████| 286/286 [00:19<00:00, 14.61it/s]\n"
     ]
    },
    {
     "name": "stdout",
     "output_type": "stream",
     "text": [
      "Epoch 1/5  Train loss 0.4474  Val loss 0.2384  HR@10 0.4171  NDCG@10 0.2553  Precision@10 0.0417  MRR@10 0.2056  (new best)  Time 178.65s\n"
     ]
    },
    {
     "name": "stderr",
     "output_type": "stream",
     "text": [
      "Training: 100%|██████████| 3031/3031 [02:31<00:00, 20.02it/s]\n",
      "Evaluating: 100%|██████████| 286/286 [00:19<00:00, 14.40it/s]\n"
     ]
    },
    {
     "name": "stdout",
     "output_type": "stream",
     "text": [
      "Epoch 2/5  Train loss 0.3467  Val loss 0.2077  HR@10 0.5234  NDCG@10 0.3357  Precision@10 0.0523  MRR@10 0.2777  (new best)  Time 171.63s\n"
     ]
    },
    {
     "name": "stderr",
     "output_type": "stream",
     "text": [
      "Training: 100%|██████████| 3031/3031 [02:28<00:00, 20.41it/s]\n",
      "Evaluating: 100%|██████████| 286/286 [00:19<00:00, 14.35it/s]\n"
     ]
    },
    {
     "name": "stdout",
     "output_type": "stream",
     "text": [
      "Epoch 3/5  Train loss 0.2892  Val loss 0.1892  HR@10 0.5702  NDCG@10 0.3789  Precision@10 0.0570  MRR@10 0.3195  (new best)  Time 168.83s\n"
     ]
    },
    {
     "name": "stderr",
     "output_type": "stream",
     "text": [
      "Training: 100%|██████████| 3031/3031 [02:31<00:00, 20.02it/s]\n",
      "Evaluating: 100%|██████████| 286/286 [00:20<00:00, 13.72it/s]\n"
     ]
    },
    {
     "name": "stdout",
     "output_type": "stream",
     "text": [
      "Epoch 4/5  Train loss 0.2466  Val loss 0.1691  HR@10 0.5918  NDCG@10 0.4028  Precision@10 0.0592  MRR@10 0.3438  (new best)  Time 172.58s\n"
     ]
    },
    {
     "name": "stderr",
     "output_type": "stream",
     "text": [
      "Training: 100%|██████████| 3031/3031 [02:30<00:00, 20.12it/s]\n",
      "Evaluating: 100%|██████████| 286/286 [00:21<00:00, 13.47it/s]\n"
     ]
    },
    {
     "name": "stdout",
     "output_type": "stream",
     "text": [
      "Epoch 5/5  Train loss 0.2166  Val loss 0.1684  HR@10 0.6019  NDCG@10 0.4161  Precision@10 0.0602  MRR@10 0.3581  (new best)  Time 172.27s\n",
      "\n",
      "Training Complete.\n",
      "Best epoch: 5 with NDCG@10: 0.4161\n",
      "\n"
     ]
    }
   ],
   "execution_count": 15
  },
  {
   "metadata": {},
   "cell_type": "markdown",
   "source": "## Cross-domain development",
   "id": "b431468b22f94a82"
  },
  {
   "metadata": {
    "ExecuteTime": {
     "end_time": "2025-08-28T19:23:02.606392Z",
     "start_time": "2025-08-28T19:23:02.600987Z"
    }
   },
   "cell_type": "code",
   "source": [
    "# Load trained model on source domain\n",
    "def load_best_weights(model, ckpt_path=\"model/best_model.pth\", device=\"cpu\"):\n",
    "    if not os.path.exists(ckpt_path):\n",
    "        raise FileNotFoundError(f\"Checkpoint not found: {ckpt_path}\")\n",
    "    state = torch.load(ckpt_path, map_location=\"cpu\")\n",
    "    model.cpu()\n",
    "    model.load_state_dict(state)\n",
    "    model.to(device).eval()\n",
    "    return model"
   ],
   "id": "56a95e546e8757d1",
   "outputs": [],
   "execution_count": 16
  },
  {
   "metadata": {},
   "cell_type": "markdown",
   "source": "### Align users across domains",
   "id": "f20f9dbcb0fe38c9"
  },
  {
   "metadata": {
    "ExecuteTime": {
     "end_time": "2025-08-28T19:23:02.636565Z",
     "start_time": "2025-08-28T19:23:02.631066Z"
    }
   },
   "cell_type": "code",
   "source": [
    "@torch.no_grad()\n",
    "def compute_user_reprs_from_sequences(model_src, train_seqs_src, user_encoder_src, max_seq_len=50, device=DEVICE):\n",
    "    model_src.eval().to(device)\n",
    "    user_vecs = {}\n",
    "\n",
    "    for user_id, seq in train_seqs_src.items():\n",
    "        if len(seq) < 1:\n",
    "            continue\n",
    "\n",
    "        # Pad-left to max_seq_len\n",
    "        seq = seq[-max_seq_len:]\n",
    "        pad_len = max_seq_len - len(seq)\n",
    "        input_seq = torch.tensor([([0] * pad_len + seq)], dtype=torch.long, device=device)\n",
    "        hidden = model_src(input_seq)\n",
    "        last_hidden = hidden[0, -1, :].squeeze(0)\n",
    "        raw_user = user_encoder_src.inverse_transform([user_id])[0]\n",
    "        user_vecs[raw_user] = last_hidden.detach().cpu().numpy()\n",
    "\n",
    "    print(f\"\\nComputed user representations for {len(user_vecs)} users.\")\n",
    "    return user_vecs"
   ],
   "id": "58042328ee681734",
   "outputs": [],
   "execution_count": 17
  },
  {
   "metadata": {
    "ExecuteTime": {
     "end_time": "2025-08-28T20:55:32.899843Z",
     "start_time": "2025-08-28T19:23:02.653675Z"
    }
   },
   "cell_type": "code",
   "source": [
    "# Cross-domain evaluation on target domain\n",
    "TARGET_DOMAIN = \"Movies_and_TV\"\n",
    "\n",
    "# Load data from target domain\n",
    "df_target = load_amazon_reviews(TARGET_DOMAIN, max_items=10_000_000, seed=SEED)\n",
    "filtered_df_target = preprocess_dataset(df_target, min_user_interactions=10, min_item_interactions=10)\n",
    "df_target_encoded, user_encoder_tgt, item_encoder_tgt, domain_encoder_tgt = label_encoder(filtered_df_target, shift_item_id=True)\n",
    "\n",
    "NUM_USERS_TGT = df_target_encoded[\"user_id\"].max() + 1\n",
    "NUM_ITEMS_TGT = df_target_encoded[\"item_id\"].max() + 1\n",
    "\n",
    "# Rebuild sequences for target domain and split\n",
    "user_sequences_tgt = create_user_sequences(df_target_encoded)\n",
    "pos_items_by_user_tgt = {u: set(seq) for u, seq in user_sequences_tgt.items()}\n",
    "train_sequences_tgt, val_sequences_tgt, test_sequences_tgt = sequences_loo_split(user_sequences_tgt)\n",
    "\n",
    "# Build source user vectors from the trained source model\n",
    "user_vecs_src = compute_user_reprs_from_sequences(\n",
    "    model_src=sasrec,\n",
    "    train_seqs_src=train_sequences,\n",
    "    user_encoder_src=user_encoder,\n",
    "    max_seq_len=50,\n",
    "    device=DEVICE\n",
    ")\n",
    "\n",
    "# Create an aligned matrix of source vectors in target's user_id space\n",
    "embed_dim = 64\n",
    "transfer_src_mat = np.zeros((NUM_USERS_TGT, embed_dim), dtype=np.float32)\n",
    "for raw_user, vec in user_vecs_src.items():\n",
    "    if raw_user in user_encoder_tgt.classes_:\n",
    "        uid_target = user_encoder_tgt.transform([raw_user])[0]\n",
    "        transfer_src_mat[uid_target] = vec # give source user vector to target user_id (shared users)\n",
    "\n",
    "transfer_src_mat = torch.tensor(transfer_src_mat)  # [U_T, D]\n",
    "print(\"\\n\")\n",
    "print(transfer_src_mat)"
   ],
   "id": "791cedac970eb443",
   "outputs": [
    {
     "name": "stdout",
     "output_type": "stream",
     "text": [
      "Loaded data/amazon_reviews_Movies_and_TV.csv with 10000000 rows.\n",
      "After interactions filtering: 1821870 rows, 106001 users, 127365 items\n",
      "Number of users: 106001\n",
      "Max sequence length: 1452\n",
      "Min sequence length: 1\n",
      "Training sequences: 105548\n",
      "Validation users: 105548\n",
      "Test users: 105548\n",
      "\n",
      "Computed user representations for 145957 users.\n",
      "\n",
      "\n",
      "tensor([[0., 0., 0.,  ..., 0., 0., 0.],\n",
      "        [0., 0., 0.,  ..., 0., 0., 0.],\n",
      "        [0., 0., 0.,  ..., 0., 0., 0.],\n",
      "        ...,\n",
      "        [0., 0., 0.,  ..., 0., 0., 0.],\n",
      "        [0., 0., 0.,  ..., 0., 0., 0.],\n",
      "        [0., 0., 0.,  ..., 0., 0., 0.]])\n"
     ]
    }
   ],
   "execution_count": 18
  },
  {
   "metadata": {
    "ExecuteTime": {
     "end_time": "2025-08-29T02:13:11.617379Z",
     "start_time": "2025-08-29T02:13:11.470734Z"
    }
   },
   "cell_type": "code",
   "source": [
    "# def build_transfer_matrix_fast(user_vecs_src, user_encoder_tgt, num_users_tgt, dtype=torch.float16):\n",
    "#     tgt_index = {u: i for i, u in enumerate(user_encoder_tgt.classes_)}\n",
    "#     D = len(next(iter(user_vecs_src.values())))\n",
    "#     mat = np.zeros((num_users_tgt, D), dtype=np.float32)  # keep float32 for fill speed\n",
    "#     hits = 0\n",
    "#     for raw_user, vec in user_vecs_src.items():\n",
    "#         idx = tgt_index.get(raw_user)\n",
    "#         if idx is not None:\n",
    "#             mat[idx] = vec; hits += 1\n",
    "#     print(f\"[xfer] aligned {hits} users → target space\")\n",
    "#     t = torch.from_numpy(mat)\n",
    "#     return t.to(dtype)   # cast once at the end if you like half precision\n",
    "#\n",
    "# # usage\n",
    "# transfer_src_mat = build_transfer_matrix_fast(\n",
    "#     user_vecs_src, user_encoder_tgt, NUM_USERS_TGT, dtype=torch.float16\n",
    "# )\n",
    "#\n",
    "# transfer_src_mat = build_transfer_matrix_fast(\n",
    "#     user_vecs_src, user_encoder_tgt, NUM_USERS_TGT, dtype=torch.float16\n",
    "# )\n",
    "\n",
    "# save\n",
    "torch.save(transfer_src_mat, \"model_sasrec/transfer_src_mat.pt\")\n",
    "\n",
    "# load (future runs)\n",
    "transfer_src_mat = torch.load(\"model_sasrec/transfer_src_mat.pt\", map_location=DEVICE)"
   ],
   "id": "1d5a476fb3605b62",
   "outputs": [],
   "execution_count": 42
  },
  {
   "metadata": {
    "ExecuteTime": {
     "end_time": "2025-08-28T20:55:34.182501Z",
     "start_time": "2025-08-28T20:55:32.948595Z"
    }
   },
   "cell_type": "code",
   "source": [
    "def analyze_user_overlap(df_source, df_target):\n",
    "    users_src = set(df_source[\"user\"].unique())\n",
    "    users_tgt = set(df_target[\"user\"].unique())\n",
    "    common_users = users_src.intersection(users_tgt)\n",
    "\n",
    "    print(f\"Source domain users: {len(users_src)}\")\n",
    "    print(f\"Target domain users: {len(users_tgt)}\")\n",
    "    print(f\"Common users: {len(common_users)}\")\n",
    "    print(f\"Percentage of target users in source: {len(common_users) / len(users_tgt) * 100:.2f}%\")\n",
    "    print(f\"Percentage of source users in target: {len(common_users) / len(users_src) * 100:.2f}%\")\n",
    "\n",
    "analyze_user_overlap(filtered_df, filtered_df_target)"
   ],
   "id": "7e5793bf40db5654",
   "outputs": [
    {
     "name": "stdout",
     "output_type": "stream",
     "text": [
      "Source domain users: 154220\n",
      "Target domain users: 106001\n",
      "Common users: 16657\n",
      "Percentage of target users in source: 15.71%\n",
      "Percentage of source users in target: 10.80%\n"
     ]
    }
   ],
   "execution_count": 19
  },
  {
   "metadata": {},
   "cell_type": "markdown",
   "source": "### Dataset and DataLoader for cross-domain",
   "id": "8fe47cc91330d75d"
  },
  {
   "metadata": {
    "ExecuteTime": {
     "end_time": "2025-08-28T20:55:34.196684Z",
     "start_time": "2025-08-28T20:55:34.191177Z"
    }
   },
   "cell_type": "code",
   "source": [
    "# Additional dataset changes for cross-domain\n",
    "class SASRecDatasetCD(SASRecDataset):\n",
    "    def __init__(self, data, num_items, transfer_src_mat, max_seq_len=50, mode=\"train\", neg_samples=1):\n",
    "        super().__init__(data, num_items, max_seq_len=max_seq_len, mode=mode, neg_samples=neg_samples)\n",
    "        self.transfer_src_mat = transfer_src_mat\n",
    "\n",
    "    def __getitem__(self, idx):\n",
    "        out = super().__getitem__(idx)\n",
    "        user_id = out[\"user\"]\n",
    "        out[\"transfer_src\"] = self.transfer_src_mat[user_id].float()\n",
    "        return out"
   ],
   "id": "fb352b01f59749f8",
   "outputs": [],
   "execution_count": 20
  },
  {
   "metadata": {
    "ExecuteTime": {
     "end_time": "2025-08-28T20:55:42.657920Z",
     "start_time": "2025-08-28T20:55:34.218529Z"
    }
   },
   "cell_type": "code",
   "source": [
    "#Target datasets & loaders\n",
    "train_dataset_tgt = SASRecDatasetCD(train_sequences_tgt, NUM_ITEMS_TGT, transfer_src_mat, max_seq_len=50, mode=\"train\", neg_samples=4)\n",
    "val_dataset_tgt = SASRecDatasetCD(val_sequences_tgt, NUM_ITEMS_TGT, transfer_src_mat, max_seq_len=50, mode=\"val\", neg_samples=99)\n",
    "test_dataset_tgt = SASRecDatasetCD(test_sequences_tgt, NUM_ITEMS_TGT, transfer_src_mat, max_seq_len=50, mode=\"test\", neg_samples=99)\n",
    "\n",
    "train_loader_tgt = DataLoader(train_dataset_tgt, batch_size=BATCH_SIZE, shuffle=True)\n",
    "val_loader_tgt   = DataLoader(val_dataset_tgt,   batch_size=BATCH_SIZE, shuffle=False)\n",
    "test_loader_tgt  = DataLoader(test_dataset_tgt,  batch_size=BATCH_SIZE, shuffle=False)"
   ],
   "id": "90c6068e118edc4",
   "outputs": [],
   "execution_count": 21
  },
  {
   "metadata": {},
   "cell_type": "markdown",
   "source": [
    "### Cross-domain SASRec model\n",
    "This technique is inspired by the paper [Personalized Transfer of User Preferences for Cross-domain Recommendation (2021)](https://arxiv.org/abs/2110.11154)."
   ],
   "id": "822d0dc78c291e13"
  },
  {
   "metadata": {
    "ExecuteTime": {
     "end_time": "2025-08-28T20:55:42.677846Z",
     "start_time": "2025-08-28T20:55:42.667464Z"
    }
   },
   "cell_type": "code",
   "source": [
    "class SASRecCD(nn.Module):\n",
    "    def __init__(self, base_sasrec, hidden_dim, bridge_hidden, dropout, fusion_mode='gate'):\n",
    "        super().__init__()\n",
    "        self.base = base_sasrec\n",
    "        self.fusion_mode = fusion_mode\n",
    "\n",
    "        self.bridge = nn.Sequential(\n",
    "            nn.Linear(hidden_dim, bridge_hidden),\n",
    "            nn.ReLU(),\n",
    "            nn.Dropout(dropout),\n",
    "            nn.Linear(bridge_hidden, hidden_dim)\n",
    "        )\n",
    "\n",
    "        # Conditionally define layers based on the fusion mode\n",
    "        if self.fusion_mode in [\"gate\", \"concat\"]:\n",
    "            self.linear = nn.Linear(hidden_dim * 2, hidden_dim)\n",
    "        elif self.fusion_mode == \"add\":\n",
    "            pass\n",
    "        else:\n",
    "            raise ValueError(f\"Invalid fusion_mode: '{self.fusion_mode}'. Must be 'gate', 'add', or 'concat'.\")\n",
    "\n",
    "    def forward(self, input_seq, transfer_src=None):\n",
    "        seq_output = self.base(input_seq)\n",
    "        last_hidden = seq_output[:, -1, :]\n",
    "\n",
    "        if transfer_src is not None:\n",
    "            bridge_out = self.bridge(transfer_src)\n",
    "            # A mask to identify which users in the batch have a source vector\n",
    "            has_transfer = (transfer_src.abs().sum(dim=-1, keepdim=True) > 0).float()\n",
    "\n",
    "            fused_logic = None\n",
    "            if self.fusion_mode == \"gate\":\n",
    "                last_hidden_n = nn.functional.layer_norm(last_hidden, last_hidden.shape[-1:])\n",
    "                bridge_out_n = nn.functional.layer_norm(bridge_out, bridge_out.shape[-1:])\n",
    "                combined = torch.cat([last_hidden_n, bridge_out_n], dim=-1)\n",
    "                gate = torch.sigmoid(self.linear(combined))\n",
    "                fused_logic = gate * last_hidden + (1.0 - gate) * bridge_out\n",
    "\n",
    "            elif self.fusion_mode == \"add\":\n",
    "                fused_logic = last_hidden + bridge_out\n",
    "\n",
    "            elif self.fusion_mode == \"concat\":\n",
    "                # Concatenation followed by a linear projection\n",
    "                combined = torch.cat([last_hidden, bridge_out], dim=-1)\n",
    "                fused_logic = self.linear(combined)\n",
    "\n",
    "            # Apply the fusion logic only to users with a transfer vector.\n",
    "            # Other users just get their original `last_hidden` representation.\n",
    "            fused = has_transfer * fused_logic + (1.0 - has_transfer) * last_hidden\n",
    "        else:\n",
    "            # If no transfer source is provided at all, default to the base model's output\n",
    "            fused = last_hidden\n",
    "\n",
    "        return fused\n",
    "\n",
    "    def predict_next(self, input_seq, transfer_src=None):\n",
    "        fused_repr = self.forward(input_seq, transfer_src)\n",
    "        all_item_embeds = self.base.item_embed.weight\n",
    "        scores = torch.matmul(fused_repr, all_item_embeds.T)\n",
    "        return scores"
   ],
   "id": "f2232fdc87c075e4",
   "outputs": [],
   "execution_count": 22
  },
  {
   "metadata": {},
   "cell_type": "markdown",
   "source": "### Training and evaluation functions for cross-domain",
   "id": "e272ab095ba4ce41"
  },
  {
   "metadata": {
    "ExecuteTime": {
     "end_time": "2025-08-28T20:55:42.692901Z",
     "start_time": "2025-08-28T20:55:42.686370Z"
    }
   },
   "cell_type": "code",
   "source": [
    "def train_epoch_transfer(model, loader, loss_fn, optimizer, device=\"cpu\"):\n",
    "    model.train()\n",
    "    total, n = 0.0, 0\n",
    "    for batch in tqdm(loader, desc=\"Training\"):\n",
    "        inp = batch[\"input_seq\"].to(device)\n",
    "        pos = batch[\"target\"].to(device)\n",
    "        neg = batch[\"neg_items\"].to(device)\n",
    "        transfer = batch[\"transfer_src\"].to(device)\n",
    "\n",
    "        # fused representation\n",
    "        fused = model(inp, transfer_src=transfer)\n",
    "        pos_emb = model.base.item_embed(pos)\n",
    "        neg_emb = model.base.item_embed(neg)\n",
    "\n",
    "        pos_logits = (fused * pos_emb).sum(dim=1)\n",
    "        neg_logits = torch.bmm(neg_emb, fused.unsqueeze(-1)).squeeze(-1)\n",
    "\n",
    "        all_logits = torch.cat([pos_logits.unsqueeze(1), neg_logits], 1)\n",
    "        all_labels = torch.cat([torch.ones_like(pos_logits).unsqueeze(1),\n",
    "                                torch.zeros_like(neg_logits)], 1)\n",
    "\n",
    "        loss = loss_fn(all_logits.reshape(-1), all_labels.reshape(-1))\n",
    "        optimizer.zero_grad()\n",
    "        loss.backward()\n",
    "        optimizer.step()\n",
    "\n",
    "        total += loss.item(); n += 1\n",
    "    return total / n"
   ],
   "id": "9b5d3f950196aeee",
   "outputs": [],
   "execution_count": 23
  },
  {
   "metadata": {
    "ExecuteTime": {
     "end_time": "2025-08-28T20:55:42.706985Z",
     "start_time": "2025-08-28T20:55:42.699956Z"
    }
   },
   "cell_type": "code",
   "source": [
    "@torch.no_grad()\n",
    "def evaluate_transfer(model, loader, loss_fn, k=10, device=\"cpu\"):\n",
    "    model.eval()\n",
    "    total = hits = ndcgs = precs = mrrs = 0.0\n",
    "    loss_sum, nb = 0.0, 0\n",
    "\n",
    "    for batch in tqdm(loader, desc=\"Evaluating\"):\n",
    "        inp = batch[\"input_seq\"].to(device)\n",
    "        tgt = batch[\"target\"].to(device)\n",
    "        neg = batch[\"neg_items\"].to(device)\n",
    "        transfer = batch[\"transfer_src\"].to(device)\n",
    "\n",
    "        fused = model(inp, transfer_src=transfer)\n",
    "        cand = torch.cat([tgt.unsqueeze(1), neg], dim=1)\n",
    "        cand_emb = model.base.item_embed(cand)\n",
    "        scores = torch.bmm(cand_emb, fused.unsqueeze(-1)).squeeze(-1)\n",
    "\n",
    "        # loss\n",
    "        labels = torch.cat([torch.ones_like(scores[:, :1]),\n",
    "                            torch.zeros_like(scores[:, 1:])], dim=1)\n",
    "        batch_loss = loss_fn(scores.reshape(-1), labels.reshape(-1))\n",
    "        loss_sum += batch_loss.item(); nb += 1\n",
    "\n",
    "        # ranks & metrics\n",
    "        _, idx = torch.sort(scores, dim=1, descending=True)\n",
    "        rank = (idx == 0).nonzero(as_tuple=True)[1] + 1  # 1-based\n",
    "        hit = (rank <= k).float()\n",
    "        ndcg = torch.where(rank <= k, 1.0 / torch.log2(rank.float() + 1), torch.zeros_like(hit))\n",
    "        precision = hit / float(k)\n",
    "        mrr = 1.0 / rank.float()\n",
    "\n",
    "        B = inp.size(0)\n",
    "        hits += hit.sum().item()\n",
    "        ndcgs += ndcg.sum().item()\n",
    "        precs += precision.sum().item()\n",
    "        mrrs += mrr.sum().item()\n",
    "        total += B\n",
    "\n",
    "    return {\n",
    "        \"HR@K\": hits / total,\n",
    "        \"NDCG@K\": ndcgs / total,\n",
    "        \"Precision@K\": precs / total,\n",
    "        \"MRR\": mrrs / total,\n",
    "        \"Val loss\": loss_sum / max(nb, 1)\n",
    "    }"
   ],
   "id": "c04555ca03e8ea0",
   "outputs": [],
   "execution_count": 24
  },
  {
   "metadata": {
    "ExecuteTime": {
     "end_time": "2025-08-28T20:55:42.719725Z",
     "start_time": "2025-08-28T20:55:42.714151Z"
    }
   },
   "cell_type": "code",
   "source": [
    "# Trainer (target domain)\n",
    "def train_target_with_transfer(model, train_loader, val_loader, epochs, lr=1e-3, wd=1e-6, k=10, device=\"cpu\"):\n",
    "    model.to(device)\n",
    "    opt = torch.optim.Adam(model.parameters(), lr=lr, weight_decay=wd)\n",
    "    loss_fn = nn.BCEWithLogitsLoss()\n",
    "    best_ndcg, best_epoch = 0.0, 0\n",
    "\n",
    "    for epoch in range(epochs):\n",
    "        train = train_epoch_transfer(model, train_loader, loss_fn, opt, device=device)\n",
    "        eval = evaluate_transfer(model, val_loader, loss_fn, k=k, device=device)\n",
    "\n",
    "        if eval[\"NDCG@K\"] > best_ndcg:\n",
    "            best_ndcg, best_epoch = eval[\"NDCG@K\"], epoch+1\n",
    "            torch.save(model.state_dict(), \"model_sasrec/transfer_best.pth\")\n",
    "\n",
    "        print(f\"Epoch {epoch+1}/{epochs}  \"\n",
    "              f\"Train {train:.4f}  \"\n",
    "              f\"Val {eval['Val loss']:.4f}  \"\n",
    "              f\"HR@{k} {eval['HR@K']:.4f}  \"\n",
    "              f\"NDCG@{k} {eval['NDCG@K']:.4f}  \"\n",
    "              f\"Prec@{k} {eval['Precision@K']:.4f}  \"\n",
    "              f\"MRR {eval['MRR']:.4f}  \"\n",
    "              f\"{'(new best)' if eval['NDCG@K']==best_ndcg and best_epoch==epoch+1 else ''}\")\n",
    "\n",
    "    print(f\"\\nBest epoch {best_epoch} NDCG@{k}={best_ndcg:.4f}\")\n",
    "    return best_ndcg"
   ],
   "id": "c51f2eaaf80216e0",
   "outputs": [],
   "execution_count": 25
  },
  {
   "metadata": {},
   "cell_type": "markdown",
   "source": "### Training the cross-domain model",
   "id": "56431266d7dc33c1"
  },
  {
   "metadata": {
    "ExecuteTime": {
     "end_time": "2025-08-28T20:55:43.095370Z",
     "start_time": "2025-08-28T20:55:42.726736Z"
    }
   },
   "cell_type": "code",
   "source": "sasrec_base_model = load_best_weights(sasrec, ckpt_path=\"model_sasrec/best_model_src.pth\", device=DEVICE)",
   "id": "6d74d1ba88096a1",
   "outputs": [],
   "execution_count": 26
  },
  {
   "metadata": {
    "ExecuteTime": {
     "end_time": "2025-08-28T20:55:43.111785Z",
     "start_time": "2025-08-28T20:55:43.103886Z"
    }
   },
   "cell_type": "code",
   "source": [
    "d_src = sasrec_base_model.hidden_dim\n",
    "d_src # hidden dimension of source model (embedding size)"
   ],
   "id": "9a1cfabccd952b80",
   "outputs": [
    {
     "data": {
      "text/plain": [
       "64"
      ]
     },
     "execution_count": 27,
     "metadata": {},
     "output_type": "execute_result"
    }
   ],
   "execution_count": 27
  },
  {
   "metadata": {
    "ExecuteTime": {
     "end_time": "2025-08-28T21:09:44.887678Z",
     "start_time": "2025-08-28T20:55:43.133974Z"
    }
   },
   "cell_type": "code",
   "source": [
    "# Cross-domain wrapper model (bridge maps d_src -> target hidden)\n",
    "sasrec_target_model = SASRec(num_items=NUM_ITEMS_TGT,\n",
    "                             hidden_dim=d_src,\n",
    "                             max_seq_len=50,\n",
    "                             num_blocks=2,\n",
    "                             num_heads=2,\n",
    "                             dropout=0.4)\n",
    "\n",
    "transfer_model = SASRecCD(sasrec_target_model,\n",
    "                          hidden_dim=d_src,\n",
    "                          bridge_hidden=128,\n",
    "                          dropout=0.4,\n",
    "                          fusion_mode='gate').to(DEVICE)\n",
    "\n",
    "best_ndcg_tgt = train_target_with_transfer(transfer_model,\n",
    "                                           train_loader_tgt,\n",
    "                                           val_loader_tgt,\n",
    "                                           epochs=5,\n",
    "                                           lr=1e-3,\n",
    "                                           wd=1e-6,\n",
    "                                           k=10,\n",
    "                                           device=DEVICE)"
   ],
   "id": "dee0723f5411fcc0",
   "outputs": [
    {
     "name": "stderr",
     "output_type": "stream",
     "text": [
      "Training: 100%|██████████| 2939/2939 [02:34<00:00, 19.08it/s]\n",
      "Evaluating: 100%|██████████| 207/207 [00:15<00:00, 13.45it/s]\n"
     ]
    },
    {
     "name": "stdout",
     "output_type": "stream",
     "text": [
      "Epoch 1/5  Train 0.4116  Val 0.2049  HR@10 0.5599  NDCG@10 0.3521  Prec@10 0.0560  MRR 0.3056  (new best)\n"
     ]
    },
    {
     "name": "stderr",
     "output_type": "stream",
     "text": [
      "Training: 100%|██████████| 2939/2939 [02:30<00:00, 19.51it/s]\n",
      "Evaluating: 100%|██████████| 207/207 [00:15<00:00, 13.53it/s]\n"
     ]
    },
    {
     "name": "stdout",
     "output_type": "stream",
     "text": [
      "Epoch 2/5  Train 0.3214  Val 0.1821  HR@10 0.6331  NDCG@10 0.4126  Prec@10 0.0633  MRR 0.3600  (new best)\n"
     ]
    },
    {
     "name": "stderr",
     "output_type": "stream",
     "text": [
      "Training: 100%|██████████| 2939/2939 [02:34<00:00, 19.08it/s]\n",
      "Evaluating: 100%|██████████| 207/207 [00:15<00:00, 13.55it/s]\n"
     ]
    },
    {
     "name": "stdout",
     "output_type": "stream",
     "text": [
      "Epoch 3/5  Train 0.2826  Val 0.1618  HR@10 0.6754  NDCG@10 0.4530  Prec@10 0.0675  MRR 0.3980  (new best)\n"
     ]
    },
    {
     "name": "stderr",
     "output_type": "stream",
     "text": [
      "Training: 100%|██████████| 2939/2939 [02:31<00:00, 19.37it/s]\n",
      "Evaluating: 100%|██████████| 207/207 [00:15<00:00, 13.45it/s]\n"
     ]
    },
    {
     "name": "stdout",
     "output_type": "stream",
     "text": [
      "Epoch 4/5  Train 0.2544  Val 0.1561  HR@10 0.6968  NDCG@10 0.4737  Prec@10 0.0697  MRR 0.4176  (new best)\n"
     ]
    },
    {
     "name": "stderr",
     "output_type": "stream",
     "text": [
      "Training: 100%|██████████| 2939/2939 [02:34<00:00, 19.05it/s]\n",
      "Evaluating: 100%|██████████| 207/207 [00:15<00:00, 13.76it/s]\n"
     ]
    },
    {
     "name": "stdout",
     "output_type": "stream",
     "text": [
      "Epoch 5/5  Train 0.2346  Val 0.1522  HR@10 0.7061  NDCG@10 0.4854  Prec@10 0.0706  MRR 0.4295  (new best)\n",
      "\n",
      "Best epoch 5 NDCG@10=0.4854\n"
     ]
    }
   ],
   "execution_count": 28
  },
  {
   "metadata": {},
   "cell_type": "markdown",
   "source": "## Comparison of baseline and cross-domain models",
   "id": "5a519e04b37667e4"
  },
  {
   "metadata": {
    "ExecuteTime": {
     "end_time": "2025-08-28T21:23:18.789452Z",
     "start_time": "2025-08-28T21:09:44.913180Z"
    }
   },
   "cell_type": "code",
   "source": [
    "# Baseline on target-only SASRec (no transfer)\n",
    "sasrec_tgt_baseline = SASRec(\n",
    "    num_items=NUM_ITEMS_TGT,\n",
    "    hidden_dim=d_src,\n",
    "    max_seq_len=50,\n",
    "    num_blocks=2,\n",
    "    num_heads=2,\n",
    "    dropout=0.4\n",
    ").to(DEVICE)\n",
    "\n",
    "loss_fn_tgt_baseline = nn.BCEWithLogitsLoss()\n",
    "optimizer_tgt_baseline = torch.optim.Adam(sasrec_tgt_baseline.parameters(), lr=1e-3, weight_decay=1e-6)\n",
    "\n",
    "best_ndcg_tgt_baseline = 0.0\n",
    "best_epoch_tgt_baseline = 0\n",
    "EPOCHS = 5\n",
    "k = 10\n",
    "\n",
    "for epoch in range(EPOCHS):\n",
    "    train_loss = train_sasrec_epoch(sasrec_tgt_baseline, train_loader_tgt, loss_fn_tgt_baseline, optimizer_tgt_baseline, device=DEVICE)\n",
    "    eval_metrics = evaluate_sasrec(sasrec_tgt_baseline, val_loader_tgt, loss_fn_tgt_baseline, k=k , device=DEVICE)\n",
    "\n",
    "    if eval_metrics[\"NDCG@K\"] > best_ndcg_tgt_baseline:\n",
    "        best_ndcg_tgt_baseline = eval_metrics[\"NDCG@K\"]\n",
    "        torch.save(sasrec_tgt_baseline.state_dict(), \"model_sasrec/baseline_target_only_best.pth\")\n",
    "        best_epoch_tgt_baseline = epoch + 1\n",
    "\n",
    "    print(f\"Epoch {epoch+1}/{EPOCHS}  \"\n",
    "          f\"Train loss {train_loss:.4f}  \"\n",
    "          f\"Val loss {eval_metrics['Val loss']:.4f}  \"\n",
    "          f\"HR@10 {eval_metrics['HR@K']:.4f}  \"\n",
    "          f\"NDCG@10 {eval_metrics['NDCG@K']:.4f}  \"\n",
    "          f\"Precision@10 {eval_metrics['Precision@K']:.4f}  \"\n",
    "          f\"MRR@10 {eval_metrics['MRR@K']:.4f}  \"\n",
    "          f\"{'(new best)' if eval_metrics['NDCG@K']==best_ndcg_tgt_baseline else ''}\")\n",
    "\n",
    "print(f\"\\nBest epoch {best_epoch_tgt_baseline} NDCG@{k}={best_ndcg_tgt_baseline:.4f}\")"
   ],
   "id": "697b58df54dc975f",
   "outputs": [
    {
     "name": "stderr",
     "output_type": "stream",
     "text": [
      "Training: 100%|██████████| 2939/2939 [02:28<00:00, 19.77it/s]\n",
      "Evaluating: 100%|██████████| 207/207 [00:15<00:00, 13.74it/s]\n"
     ]
    },
    {
     "name": "stdout",
     "output_type": "stream",
     "text": [
      "Epoch 1/5  Train loss 0.4209  Val loss 0.2113  HR@10 0.5407  NDCG@10 0.3382  Precision@10 0.0541  MRR@10 0.2759  (new best)\n"
     ]
    },
    {
     "name": "stderr",
     "output_type": "stream",
     "text": [
      "Training: 100%|██████████| 2939/2939 [02:27<00:00, 19.96it/s]\n",
      "Evaluating: 100%|██████████| 207/207 [00:15<00:00, 13.74it/s]\n"
     ]
    },
    {
     "name": "stdout",
     "output_type": "stream",
     "text": [
      "Epoch 2/5  Train loss 0.3336  Val loss 0.1925  HR@10 0.6124  NDCG@10 0.3981  Precision@10 0.0612  MRR@10 0.3319  (new best)\n"
     ]
    },
    {
     "name": "stderr",
     "output_type": "stream",
     "text": [
      "Training: 100%|██████████| 2939/2939 [02:28<00:00, 19.81it/s]\n",
      "Evaluating: 100%|██████████| 207/207 [00:15<00:00, 13.75it/s]\n"
     ]
    },
    {
     "name": "stdout",
     "output_type": "stream",
     "text": [
      "Epoch 3/5  Train loss 0.2950  Val loss 0.1746  HR@10 0.6561  NDCG@10 0.4372  Precision@10 0.0656  MRR@10 0.3693  (new best)\n"
     ]
    },
    {
     "name": "stderr",
     "output_type": "stream",
     "text": [
      "Training: 100%|██████████| 2939/2939 [02:25<00:00, 20.21it/s]\n",
      "Evaluating: 100%|██████████| 207/207 [00:14<00:00, 13.82it/s]\n"
     ]
    },
    {
     "name": "stdout",
     "output_type": "stream",
     "text": [
      "Epoch 4/5  Train loss 0.2676  Val loss 0.1640  HR@10 0.6806  NDCG@10 0.4598  Precision@10 0.0681  MRR@10 0.3911  (new best)\n"
     ]
    },
    {
     "name": "stderr",
     "output_type": "stream",
     "text": [
      "Training: 100%|██████████| 2939/2939 [02:28<00:00, 19.79it/s]\n",
      "Evaluating: 100%|██████████| 207/207 [00:14<00:00, 13.80it/s]\n"
     ]
    },
    {
     "name": "stdout",
     "output_type": "stream",
     "text": [
      "Epoch 5/5  Train loss 0.2461  Val loss 0.1527  HR@10 0.6957  NDCG@10 0.4750  Precision@10 0.0696  MRR@10 0.4063  (new best)\n",
      "\n",
      "Best epoch 5 NDCG@10=0.4750\n"
     ]
    }
   ],
   "execution_count": 29
  },
  {
   "metadata": {},
   "cell_type": "markdown",
   "source": "### Build cold/warm user splits from target domain training sequences",
   "id": "a7f2963f3390c130"
  },
  {
   "metadata": {
    "ExecuteTime": {
     "end_time": "2025-08-28T21:23:18.885599Z",
     "start_time": "2025-08-28T21:23:18.810682Z"
    }
   },
   "cell_type": "code",
   "source": [
    "def split_cold_warm(train_sequences_tgt, cold_threshold=1):\n",
    "    cold_users = {u for u, seq in train_sequences_tgt.items() if len(seq) <= cold_threshold}\n",
    "    warm_users = {u for u, seq in train_sequences_tgt.items() if len(seq) >= (cold_threshold + 1)}\n",
    "    return cold_users, warm_users\n",
    "\n",
    "def filter_split(split_dict, keep_users):\n",
    "    return {u: v for u, v in split_dict.items() if u in keep_users}\n",
    "\n",
    "COLD_THRESHOLD = 3\n",
    "cold_users, warm_users = split_cold_warm(train_sequences_tgt, cold_threshold=COLD_THRESHOLD)\n",
    "test_cold = filter_split(test_sequences_tgt, cold_users)\n",
    "test_warm = filter_split(test_sequences_tgt, warm_users)\n",
    "\n",
    "print(f\"Test cold users: {len(test_cold)}, Test warm users: {len(test_warm)}\")"
   ],
   "id": "b5a9898d31d2fc2f",
   "outputs": [
    {
     "name": "stdout",
     "output_type": "stream",
     "text": [
      "Test cold users: 2192, Test warm users: 103356\n"
     ]
    }
   ],
   "execution_count": 30
  },
  {
   "metadata": {
    "ExecuteTime": {
     "end_time": "2025-08-28T21:23:19.291649Z",
     "start_time": "2025-08-28T21:23:18.913012Z"
    }
   },
   "cell_type": "code",
   "source": [
    "overlap_mask = (transfer_src_mat.norm(dim=1) > 0)  # [U_T]\n",
    "test_cold_users = set(u for u, _ in test_sequences_tgt.items() if len(test_sequences_tgt.get(u, [])) <= COLD_THRESHOLD)\n",
    "cold_overlap = sum(int(overlap_mask[u].item()) for u in test_cold_users)\n",
    "print(f\"TEST/Cold users: {len(test_cold_users)}, with source-overlap: {cold_overlap} ({cold_overlap/len(test_cold_users):.1%})\")"
   ],
   "id": "71c1c2ef268193a",
   "outputs": [
    {
     "name": "stdout",
     "output_type": "stream",
     "text": [
      "TEST/Cold users: 105548, with source-overlap: 15860 (15.0%)\n"
     ]
    }
   ],
   "execution_count": 31
  },
  {
   "metadata": {
    "ExecuteTime": {
     "end_time": "2025-08-28T21:23:19.451236Z",
     "start_time": "2025-08-28T21:23:19.315697Z"
    }
   },
   "cell_type": "code",
   "source": [
    "def make_loader_from_split(split_dict, transfer_src_mat, num_items, mode=\"val\", max_seq_len=50, neg_samples=99, batch_size=4096):\n",
    "    ds = SASRecDatasetCD(split_dict, num_items, transfer_src_mat, max_seq_len=max_seq_len, mode=mode, neg_samples=neg_samples)\n",
    "    return DataLoader(ds, batch_size=batch_size, shuffle=False)\n",
    "\n",
    "test_loader_all = test_loader_tgt\n",
    "test_loader_cold = make_loader_from_split(test_cold, transfer_src_mat, NUM_ITEMS_TGT)\n",
    "test_loader_warm = make_loader_from_split(test_warm, transfer_src_mat, NUM_ITEMS_TGT)"
   ],
   "id": "345946d6baed10ca",
   "outputs": [],
   "execution_count": 32
  },
  {
   "metadata": {},
   "cell_type": "markdown",
   "source": "### Evaluate baseline vs transfer models on target domain",
   "id": "6ff8d9bd16b13028"
  },
  {
   "metadata": {
    "ExecuteTime": {
     "end_time": "2025-08-28T21:23:19.564514Z",
     "start_time": "2025-08-28T21:23:19.459381Z"
    }
   },
   "cell_type": "code",
   "source": [
    "sasrec_tgt_baseline.load_state_dict(torch.load(\"model_sasrec/baseline_target_only_best.pth\", map_location=DEVICE))\n",
    "transfer_model.load_state_dict(torch.load(\"model_sasrec/transfer_best.pth\", map_location=DEVICE))\n",
    "sasrec_tgt_baseline.to(DEVICE).eval()\n",
    "transfer_model.to(DEVICE).eval()"
   ],
   "id": "d46d5c1826e23e56",
   "outputs": [
    {
     "data": {
      "text/plain": [
       "SASRecCD(\n",
       "  (base): SASRec(\n",
       "    (item_embed): Embedding(127366, 64, padding_idx=0)\n",
       "    (positional_embed): Embedding(50, 64)\n",
       "    (dropout): Dropout(p=0.4, inplace=False)\n",
       "    (blocks): ModuleList(\n",
       "      (0-1): 2 x AttentionBlock(\n",
       "        (attn): MultiheadAttention(\n",
       "          (out_proj): NonDynamicallyQuantizableLinear(in_features=64, out_features=64, bias=True)\n",
       "        )\n",
       "        (ln1): LayerNorm((64,), eps=1e-05, elementwise_affine=True)\n",
       "        (ln2): LayerNorm((64,), eps=1e-05, elementwise_affine=True)\n",
       "        (ffn): PointWiseFeedForward(\n",
       "          (w1): Linear(in_features=64, out_features=64, bias=True)\n",
       "          (w2): Linear(in_features=64, out_features=64, bias=True)\n",
       "          (relu): ReLU()\n",
       "          (dropout): Dropout(p=0.4, inplace=False)\n",
       "        )\n",
       "        (dropout): Dropout(p=0.4, inplace=False)\n",
       "      )\n",
       "    )\n",
       "    (ln): LayerNorm((64,), eps=1e-05, elementwise_affine=True)\n",
       "  )\n",
       "  (bridge): Sequential(\n",
       "    (0): Linear(in_features=64, out_features=128, bias=True)\n",
       "    (1): ReLU()\n",
       "    (2): Dropout(p=0.4, inplace=False)\n",
       "    (3): Linear(in_features=128, out_features=64, bias=True)\n",
       "  )\n",
       "  (linear): Linear(in_features=128, out_features=64, bias=True)\n",
       ")"
      ]
     },
     "execution_count": 33,
     "metadata": {},
     "output_type": "execute_result"
    }
   ],
   "execution_count": 33
  },
  {
   "metadata": {
    "ExecuteTime": {
     "end_time": "2025-08-29T02:02:31.684638Z",
     "start_time": "2025-08-29T02:01:30.974661Z"
    }
   },
   "cell_type": "code",
   "source": [
    "import math\n",
    "# Compute metrics on all / cold / warm for val and test sets\n",
    "def eval_all():\n",
    "    suites = {\n",
    "        \"All [Test]\": (test_loader_all,),\n",
    "        \"Cold [Test]\": (test_loader_cold,),\n",
    "        \"Warm [Test]\": (test_loader_warm,),\n",
    "    }\n",
    "    rows = []\n",
    "    for name, (loader,) in suites.items():\n",
    "        mb = evaluate_sasrec(sasrec_tgt_baseline, loader, nn.BCEWithLogitsLoss(), device=DEVICE, k=10)\n",
    "        mx = evaluate_transfer(transfer_model, loader, nn.BCEWithLogitsLoss(), device=DEVICE, k=10)\n",
    "        rows.append({\n",
    "            \"Split\": name,\n",
    "            \"Baseline HR@10\": mb[\"HR@K\"], \"Transfer HR@10\": mx[\"HR@K\"],\n",
    "            \"Baseline NDCG@10\": mb[\"NDCG@K\"], \"Transfer NDCG@10\": mx[\"NDCG@K\"],\n",
    "            \"Baseline P@10\": mb[\"Precision@K\"], \"Transfer P@10\": mx[\"Precision@K\"],\n",
    "            \"Baseline MRR\": mb.get(\"MRR\", math.nan), \"Transfer MRR\": mx.get(\"MRR\", math.nan)\n",
    "        })\n",
    "    return pd.DataFrame(rows)\n",
    "\n",
    "results_df = eval_all()\n",
    "print(\"\\n=== COMPARISON TABLE ===\")\n",
    "print(results_df.to_string(index=False))"
   ],
   "id": "532468c4825ea565",
   "outputs": [
    {
     "name": "stderr",
     "output_type": "stream",
     "text": [
      "Evaluating: 100%|██████████| 207/207 [00:17<00:00, 12.00it/s]\n",
      "Evaluating: 100%|██████████| 207/207 [00:16<00:00, 12.55it/s]\n",
      "Evaluating: 100%|██████████| 1/1 [00:00<00:00,  3.31it/s]\n",
      "Evaluating: 100%|██████████| 1/1 [00:00<00:00,  3.70it/s]\n",
      "Evaluating: 100%|██████████| 26/26 [00:13<00:00,  1.98it/s]\n",
      "Evaluating: 100%|██████████| 26/26 [00:13<00:00,  1.98it/s]\n"
     ]
    },
    {
     "name": "stdout",
     "output_type": "stream",
     "text": [
      "\n",
      "=== COMPARISON TABLE ===\n",
      "      Split  Baseline HR@10  Transfer HR@10  Baseline NDCG@10  Transfer NDCG@10  Baseline P@10  Transfer P@10  Baseline MRR  Transfer MRR\n",
      " All [Test]        0.646559        0.679672          0.433044          0.473842       0.064656       0.067967           NaN      0.423170\n",
      "Cold [Test]        0.484945        0.528741          0.288172          0.321926       0.048495       0.052874           NaN      0.276561\n",
      "Warm [Test]        0.650528        0.680667          0.436173          0.475916       0.065053       0.068067           NaN      0.425633\n"
     ]
    }
   ],
   "execution_count": 38
  },
  {
   "metadata": {
    "ExecuteTime": {
     "end_time": "2025-08-29T02:02:32.384223Z",
     "start_time": "2025-08-29T02:02:31.755869Z"
    }
   },
   "cell_type": "code",
   "source": [
    "# Bar plots\n",
    "def barplot_metric(df, metric_col_baseline, metric_col_transfer, title, outfile):\n",
    "    labels = df[\"Split\"].tolist()\n",
    "    baseline = df[metric_col_baseline].tolist()\n",
    "    transfer = df[metric_col_transfer].tolist()\n",
    "    xs = range(len(labels))\n",
    "    plt.figure(figsize=(10,6))\n",
    "    plt.bar(xs, baseline, width=0.4, label=\"Baseline\")\n",
    "    plt.bar([i+0.4 for i in xs], transfer, width=0.4, label=\"Transfer\")\n",
    "    plt.xticks([i+0.2 for i in xs], labels)\n",
    "    plt.title(title)\n",
    "    plt.legend()\n",
    "    plt.tight_layout()\n",
    "    plt.savefig(outfile, dpi=160)\n",
    "    plt.show()\n",
    "\n",
    "barplot_metric(results_df, \"Baseline HR@10\", \"Transfer HR@10\", \"HR@10: Baseline vs Transfer\", \"hr10.png\")\n",
    "barplot_metric(results_df, \"Baseline NDCG@10\", \"Transfer NDCG@10\", \"NDCG@10: Baseline vs Transfer\", \"ndcg10.png\")\n",
    "print(\"Saved charts: hr10.png, ndcg10.png\")"
   ],
   "id": "3873acdd23318b0d",
   "outputs": [
    {
     "data": {
      "text/plain": [
       "<Figure size 1000x600 with 1 Axes>"
      ],
      "image/png": "[encoded data removed]"
     },
     "metadata": {},
     "output_type": "display_data"
    },
    {
     "data": {
      "text/plain": [
       "<Figure size 1000x600 with 1 Axes>"
      ],
      "image/png": "[encoded data removed]"
     },
     "metadata": {},
     "output_type": "display_data"
    },
    {
     "name": "stdout",
     "output_type": "stream",
     "text": [
      "Saved charts: hr10.png, ndcg10.png\n"
     ]
    }
   ],
   "execution_count": 39
  },
  {
   "metadata": {},
   "cell_type": "markdown",
   "source": "## Experiment with Reinforcement Learning",
   "id": "4544e8a56f9283af"
  },
  {
   "metadata": {
    "ExecuteTime": {
     "end_time": "2025-08-29T02:50:11.316028Z",
     "start_time": "2025-08-29T02:42:15.151110Z"
    }
   },
   "cell_type": "code",
   "source": [
    "# Feedback -> reward mapping\n",
    "FEEDBACK_REWARD = {\n",
    "    \"like\": 1.0, \"purchase\": 1.0, \"click\": 0.3,\n",
    "    \"add_to_cart\": 0.7, \"dislike\": -0.5, \"skip\": 0.0\n",
    "}\n",
    "\n",
    "def events_to_rewards(events, device=\"cpu\"):\n",
    "    \"\"\"events: list[str] length B -> Tensor[B] float rewards\"\"\"\n",
    "    reward = [FEEDBACK_REWARD.get(event, 0.0) for event in events]\n",
    "    return torch.tensor(reward, dtype=torch.float32, device=device)\n",
    "\n",
    "# Tiny policy-gradient trainer wrapping transfer model\n",
    "class PolicyGradientTrainer:\n",
    "    def __init__(self, model, lr=5e-5, entropy_coeff=0.01, temperature=1.0, baseline_momentum=0.9, log_rewards=False, log_every=10, device=\"cpu\"):\n",
    "        self.model = model.to(device)\n",
    "        self.opt = torch.optim.Adam(self.model.parameters(), lr=lr)\n",
    "        self.entropy_coeff = entropy_coeff\n",
    "        self.temperature = temperature\n",
    "        self.device = device\n",
    "        self._baseline = 0.0\n",
    "        self._mom = baseline_momentum\n",
    "        self.log_rewards = log_rewards\n",
    "        self.log_every = log_every\n",
    "        self._step = 0\n",
    "\n",
    "    def _scores(self, input_seq, xfer_src, candidates):\n",
    "        candidates = candidates.long()\n",
    "        input_seq = input_seq.long()\n",
    "\n",
    "        fused = self.model(input_seq, transfer_src=xfer_src)                   # [B, D]\n",
    "        cand_emb = self.model.base.item_embed(candidates)                      # [B, N, D]\n",
    "        scores = torch.bmm(cand_emb, fused.unsqueeze(-1)).squeeze(-1)          # [B, N]\n",
    "        return scores\n",
    "\n",
    "    def _policy_loss(self, logits, actions, rewards):\n",
    "        logp_all = torch.log_softmax(logits / self.temperature, dim=1)         # [B, N]\n",
    "        probs = torch.exp(logp_all)                                            # [B, N]\n",
    "        logp_act = logp_all.gather(1, actions.view(-1,1)).squeeze(1)           # [B]\n",
    "        entropy = -(probs * logp_all).sum(dim=1)                               # [B]\n",
    "\n",
    "        # moving baseline to reduce variance\n",
    "        with torch.no_grad():\n",
    "            self._baseline = self._mom * self._baseline + (1 - self._mom) * rewards.mean().item()\n",
    "        adv = rewards - self._baseline\n",
    "\n",
    "        # Objective: maximize E[(R - b) * log pi(a|s)] + beta * H\n",
    "        loss = -(adv * logp_act + self.entropy_coeff * entropy).mean()\n",
    "        return loss, logp_act.mean().item(), entropy.mean().item(), adv.mean().item()\n",
    "\n",
    "    def step_offline_demo_batch(self, batch, sample_actions=True):\n",
    "        self.model.train()\n",
    "        inp = batch[\"input_seq\"].to(self.device)            # [B, L]\n",
    "        tgt = batch[\"target\"].to(self.device)               # [B]\n",
    "        neg = batch[\"neg_items\"].to(self.device)            # [B, nNeg]\n",
    "        xfer = batch[\"transfer_src\"].to(self.device)        # [B, D]\n",
    "\n",
    "        candidates = torch.cat([tgt.unsqueeze(1), neg], dim=1)                  # [B, N]\n",
    "        logits = self._scores(inp, xfer, candidates)                             # [B, N]\n",
    "\n",
    "        if sample_actions:\n",
    "            probs = torch.softmax(logits / self.temperature, dim=1)             # [B, N]\n",
    "            actions = torch.multinomial(probs, num_samples=1).squeeze(1)        # [B]\n",
    "        else:\n",
    "            actions = torch.argmax(logits, dim=1)                                # [B]\n",
    "\n",
    "        # Demo feedback: treat correct pick as a 'click', else 'skip'\n",
    "        events = [\"click\" if a.item() == 0 else \"skip\" for a in actions]\n",
    "        rewards = events_to_rewards(events, device=self.device)                  # [B]\n",
    "\n",
    "        # LOG REWARDS\n",
    "        if self.log_rewards and (self._step % self.log_every == 0):\n",
    "            r = rewards.detach().cpu().numpy()\n",
    "            r_head = np.round(r[:10], 3)  # show first 10\n",
    "            print(f\"   [rewards] mean={r.mean():.3f} std={r.std():.3f} \"\n",
    "                  f\"min={r.min():.3f} p50={np.median(r):.3f} p90={np.quantile(r,0.9):.3f} max={r.max():.3f} \"\n",
    "                  f\"head={r_head.tolist()}\\n\")\n",
    "\n",
    "        self._step += 1\n",
    "\n",
    "        loss, mean_logp, mean_H, mean_adv = self._policy_loss(logits, actions, rewards)\n",
    "        self.opt.zero_grad(); loss.backward(); self.opt.step()\n",
    "\n",
    "        acc = (actions == 0).float().mean().item()  # “hit-rate” on the demo task\n",
    "        return {\"loss\": loss.item(), \"avg_reward\": rewards.mean().item(),\n",
    "                \"hit_rate\": acc, \"mean_logp\": mean_logp, \"entropy\": mean_H, \"adv\": mean_adv}\n",
    "\n",
    "    def offline_demo_finetune(self, loader, steps=1, sample_actions=True):\n",
    "        for ep in range(steps):\n",
    "            stats = []\n",
    "            for batch in loader:\n",
    "                s = self.step_offline_demo_batch(batch, sample_actions=sample_actions)\n",
    "                stats.append(s)\n",
    "            m = {k: float(np.mean([x[k] for x in stats])) for k in stats[0].keys()}\n",
    "            print(f\"[RL demo] Epoch {ep+1}/{steps}  loss {m['loss']:.4f}  \"\n",
    "                  f\"avg_reward {m['avg_reward']:.4f}  hit {m['hit_rate']:.4f}  \"\n",
    "                  f\"H {m['entropy']:.4f}  advantage {m['adv']:.4f}\\n\")\n",
    "\n",
    "\n",
    "print(\"\\n=== RL OFFLINE DEMO: fine-tune on VAL, evaluate on TEST ===\")\n",
    "# Evaluate BEFORE RL (for comparison)\n",
    "ev_before = evaluate_transfer(transfer_model, test_loader_tgt, nn.BCEWithLogitsLoss(), device=DEVICE, k=10)\n",
    "print(\"[Before RL]  HR@10={:.4f}  NDCG@10={:.4f}  Precision@10={:.4f}  MRR={:.4f}\".format(\n",
    "    ev_before[\"HR@K\"], ev_before[\"NDCG@K\"], ev_before[\"Precision@K\"], ev_before[\"MRR\"]))\n",
    "\n",
    "# Run a tiny amount of RL demo training\n",
    "rl = PolicyGradientTrainer(\n",
    "    transfer_model,\n",
    "    lr=3e-5,\n",
    "    entropy_coeff=0.01,\n",
    "    temperature=1.0,\n",
    "    baseline_momentum=0.9,\n",
    "    log_rewards=True,\n",
    "    log_every=50,\n",
    "    device=DEVICE\n",
    ")\n",
    "\n",
    "rl.offline_demo_finetune(val_loader_tgt, steps=20, sample_actions=True)\n",
    "\n",
    "# Evaluate AFTER RL\n",
    "ev_after = evaluate_transfer(transfer_model, test_loader_tgt, nn.BCEWithLogitsLoss(), device=DEVICE, k=10)\n",
    "print(\"[After  RL]  HR@10={:.4f}  NDCG@10={:.4f}  Precision@10={:.4f}  MRR={:.4f}\".format(\n",
    "    ev_after[\"HR@K\"], ev_after[\"NDCG@K\"], ev_after[\"Precision@K\"], ev_after[\"MRR\"]))"
   ],
   "id": "70864e57ee4bce1e",
   "outputs": [
    {
     "name": "stdout",
     "output_type": "stream",
     "text": [
      "\n",
      "=== RL OFFLINE DEMO: fine-tune on VAL, evaluate on TEST ===\n"
     ]
    },
    {
     "name": "stderr",
     "output_type": "stream",
     "text": [
      "Evaluating: 100%|██████████| 207/207 [00:14<00:00, 14.17it/s]\n"
     ]
    },
    {
     "name": "stdout",
     "output_type": "stream",
     "text": [
      "[Before RL]  HR@10=0.6757  NDCG@10=0.4766  Precision@10=0.0676  MRR=0.4282\n",
      "   [rewards] mean=0.105 std=0.143 min=0.000 p50=0.000 p90=0.300 max=0.300 head=[0.0, 0.0, 0.0, 0.30000001192092896, 0.30000001192092896, 0.0, 0.0, 0.30000001192092896, 0.0, 0.30000001192092896]\n",
      "\n",
      "   [rewards] mean=0.101 std=0.142 min=0.000 p50=0.000 p90=0.300 max=0.300 head=[0.30000001192092896, 0.0, 0.0, 0.0, 0.0, 0.30000001192092896, 0.0, 0.0, 0.30000001192092896, 0.0]\n",
      "\n",
      "   [rewards] mean=0.106 std=0.143 min=0.000 p50=0.000 p90=0.300 max=0.300 head=[0.30000001192092896, 0.0, 0.30000001192092896, 0.0, 0.30000001192092896, 0.30000001192092896, 0.30000001192092896, 0.0, 0.0, 0.0]\n",
      "\n",
      "   [rewards] mean=0.100 std=0.141 min=0.000 p50=0.000 p90=0.300 max=0.300 head=[0.30000001192092896, 0.0, 0.0, 0.0, 0.0, 0.0, 0.0, 0.0, 0.0, 0.0]\n",
      "\n",
      "   [rewards] mean=0.096 std=0.140 min=0.000 p50=0.000 p90=0.300 max=0.300 head=[0.0, 0.0, 0.30000001192092896, 0.0, 0.0, 0.30000001192092896, 0.0, 0.0, 0.0, 0.0]\n",
      "\n",
      "[RL demo] Epoch 1/20  loss -0.1313  avg_reward 0.1038  hit 0.3461  H 1.5700  advantage 0.0045\n",
      "\n",
      "   [rewards] mean=0.093 std=0.139 min=0.000 p50=0.000 p90=0.300 max=0.300 head=[0.0, 0.30000001192092896, 0.0, 0.30000001192092896, 0.0, 0.0, 0.0, 0.0, 0.30000001192092896, 0.30000001192092896]\n",
      "\n",
      "   [rewards] mean=0.105 std=0.143 min=0.000 p50=0.000 p90=0.300 max=0.300 head=[0.0, 0.30000001192092896, 0.0, 0.0, 0.30000001192092896, 0.0, 0.30000001192092896, 0.0, 0.0, 0.0]\n",
      "\n",
      "   [rewards] mean=0.111 std=0.145 min=0.000 p50=0.000 p90=0.300 max=0.300 head=[0.30000001192092896, 0.0, 0.0, 0.0, 0.30000001192092896, 0.30000001192092896, 0.30000001192092896, 0.0, 0.0, 0.30000001192092896]\n",
      "\n",
      "   [rewards] mean=0.096 std=0.140 min=0.000 p50=0.000 p90=0.300 max=0.300 head=[0.30000001192092896, 0.0, 0.0, 0.0, 0.0, 0.30000001192092896, 0.0, 0.0, 0.0, 0.0]\n",
      "\n",
      "[RL demo] Epoch 2/20  loss -0.1389  avg_reward 0.1042  hit 0.3474  H 1.5672  advantage 0.0000\n",
      "\n",
      "   [rewards] mean=0.100 std=0.141 min=0.000 p50=0.000 p90=0.300 max=0.300 head=[0.0, 0.0, 0.30000001192092896, 0.30000001192092896, 0.0, 0.0, 0.0, 0.0, 0.0, 0.30000001192092896]\n",
      "\n",
      "   [rewards] mean=0.098 std=0.141 min=0.000 p50=0.000 p90=0.300 max=0.300 head=[0.0, 0.0, 0.30000001192092896, 0.0, 0.0, 0.30000001192092896, 0.30000001192092896, 0.0, 0.0, 0.0]\n",
      "\n",
      "   [rewards] mean=0.107 std=0.144 min=0.000 p50=0.000 p90=0.300 max=0.300 head=[0.0, 0.30000001192092896, 0.0, 0.30000001192092896, 0.0, 0.30000001192092896, 0.0, 0.0, 0.30000001192092896, 0.0]\n",
      "\n",
      "   [rewards] mean=0.105 std=0.143 min=0.000 p50=0.000 p90=0.300 max=0.300 head=[0.0, 0.30000001192092896, 0.0, 0.0, 0.0, 0.0, 0.0, 0.0, 0.0, 0.30000001192092896]\n",
      "\n",
      "[RL demo] Epoch 3/20  loss -0.1395  avg_reward 0.1042  hit 0.3475  H 1.5644  advantage -0.0000\n",
      "\n",
      "   [rewards] mean=0.098 std=0.141 min=0.000 p50=0.000 p90=0.300 max=0.300 head=[0.0, 0.0, 0.0, 0.0, 0.30000001192092896, 0.30000001192092896, 0.0, 0.0, 0.30000001192092896, 0.30000001192092896]\n",
      "\n",
      "   [rewards] mean=0.101 std=0.142 min=0.000 p50=0.000 p90=0.300 max=0.300 head=[0.0, 0.30000001192092896, 0.0, 0.30000001192092896, 0.0, 0.30000001192092896, 0.30000001192092896, 0.0, 0.0, 0.0]\n",
      "\n",
      "   [rewards] mean=0.098 std=0.141 min=0.000 p50=0.000 p90=0.300 max=0.300 head=[0.0, 0.0, 0.30000001192092896, 0.0, 0.30000001192092896, 0.0, 0.0, 0.0, 0.30000001192092896, 0.30000001192092896]\n",
      "\n",
      "   [rewards] mean=0.106 std=0.143 min=0.000 p50=0.000 p90=0.300 max=0.300 head=[0.0, 0.30000001192092896, 0.0, 0.0, 0.0, 0.0, 0.0, 0.0, 0.30000001192092896, 0.0]\n",
      "\n",
      "[RL demo] Epoch 4/20  loss -0.1390  avg_reward 0.1048  hit 0.3492  H 1.5604  advantage 0.0002\n",
      "\n",
      "   [rewards] mean=0.111 std=0.145 min=0.000 p50=0.000 p90=0.300 max=0.300 head=[0.0, 0.0, 0.30000001192092896, 0.30000001192092896, 0.0, 0.0, 0.0, 0.0, 0.0, 0.0]\n",
      "\n",
      "   [rewards] mean=0.107 std=0.144 min=0.000 p50=0.000 p90=0.300 max=0.300 head=[0.0, 0.30000001192092896, 0.0, 0.30000001192092896, 0.0, 0.0, 0.30000001192092896, 0.0, 0.0, 0.0]\n",
      "\n",
      "   [rewards] mean=0.113 std=0.145 min=0.000 p50=0.000 p90=0.300 max=0.300 head=[0.30000001192092896, 0.0, 0.30000001192092896, 0.30000001192092896, 0.0, 0.0, 0.0, 0.0, 0.30000001192092896, 0.0]\n",
      "\n",
      "   [rewards] mean=0.097 std=0.140 min=0.000 p50=0.000 p90=0.300 max=0.300 head=[0.0, 0.30000001192092896, 0.30000001192092896, 0.0, 0.0, 0.0, 0.30000001192092896, 0.0, 0.0, 0.30000001192092896]\n",
      "\n",
      "[RL demo] Epoch 5/20  loss -0.1379  avg_reward 0.1040  hit 0.3468  H 1.5517  advantage -0.0001\n",
      "\n",
      "   [rewards] mean=0.115 std=0.146 min=0.000 p50=0.000 p90=0.300 max=0.300 head=[0.0, 0.0, 0.0, 0.0, 0.0, 0.0, 0.30000001192092896, 0.30000001192092896, 0.0, 0.0]\n",
      "\n",
      "   [rewards] mean=0.101 std=0.142 min=0.000 p50=0.000 p90=0.300 max=0.300 head=[0.30000001192092896, 0.30000001192092896, 0.30000001192092896, 0.30000001192092896, 0.0, 0.0, 0.0, 0.30000001192092896, 0.0, 0.0]\n",
      "\n",
      "   [rewards] mean=0.104 std=0.143 min=0.000 p50=0.000 p90=0.300 max=0.300 head=[0.30000001192092896, 0.0, 0.0, 0.0, 0.0, 0.0, 0.30000001192092896, 0.0, 0.0, 0.0]\n",
      "\n",
      "   [rewards] mean=0.104 std=0.143 min=0.000 p50=0.000 p90=0.300 max=0.300 head=[0.30000001192092896, 0.30000001192092896, 0.0, 0.30000001192092896, 0.0, 0.30000001192092896, 0.30000001192092896, 0.0, 0.30000001192092896, 0.0]\n",
      "\n",
      "[RL demo] Epoch 6/20  loss -0.1379  avg_reward 0.1050  hit 0.3499  H 1.5511  advantage 0.0001\n",
      "\n",
      "   [rewards] mean=0.107 std=0.144 min=0.000 p50=0.000 p90=0.300 max=0.300 head=[0.30000001192092896, 0.0, 0.30000001192092896, 0.30000001192092896, 0.30000001192092896, 0.30000001192092896, 0.0, 0.30000001192092896, 0.0, 0.30000001192092896]\n",
      "\n",
      "   [rewards] mean=0.109 std=0.144 min=0.000 p50=0.000 p90=0.300 max=0.300 head=[0.0, 0.0, 0.30000001192092896, 0.0, 0.0, 0.0, 0.0, 0.30000001192092896, 0.30000001192092896, 0.0]\n",
      "\n",
      "   [rewards] mean=0.106 std=0.143 min=0.000 p50=0.000 p90=0.300 max=0.300 head=[0.0, 0.0, 0.0, 0.30000001192092896, 0.0, 0.0, 0.0, 0.0, 0.0, 0.30000001192092896]\n",
      "\n",
      "   [rewards] mean=0.112 std=0.145 min=0.000 p50=0.000 p90=0.300 max=0.300 head=[0.30000001192092896, 0.0, 0.0, 0.30000001192092896, 0.0, 0.30000001192092896, 0.0, 0.0, 0.30000001192092896, 0.0]\n",
      "\n",
      "[RL demo] Epoch 7/20  loss -0.1394  avg_reward 0.1060  hit 0.3533  H 1.5457  advantage 0.0000\n",
      "\n",
      "   [rewards] mean=0.099 std=0.141 min=0.000 p50=0.000 p90=0.300 max=0.300 head=[0.0, 0.0, 0.0, 0.0, 0.0, 0.30000001192092896, 0.0, 0.0, 0.0, 0.30000001192092896]\n",
      "\n",
      "   [rewards] mean=0.107 std=0.144 min=0.000 p50=0.000 p90=0.300 max=0.300 head=[0.0, 0.0, 0.0, 0.0, 0.30000001192092896, 0.30000001192092896, 0.30000001192092896, 0.0, 0.0, 0.0]\n",
      "\n",
      "   [rewards] mean=0.103 std=0.142 min=0.000 p50=0.000 p90=0.300 max=0.300 head=[0.0, 0.0, 0.30000001192092896, 0.0, 0.0, 0.0, 0.0, 0.0, 0.0, 0.0]\n",
      "\n",
      "   [rewards] mean=0.111 std=0.145 min=0.000 p50=0.000 p90=0.300 max=0.300 head=[0.0, 0.0, 0.0, 0.30000001192092896, 0.30000001192092896, 0.0, 0.0, 0.30000001192092896, 0.0, 0.30000001192092896]\n",
      "\n",
      "   [rewards] mean=0.110 std=0.145 min=0.000 p50=0.000 p90=0.300 max=0.300 head=[0.30000001192092896, 0.0, 0.30000001192092896, 0.30000001192092896, 0.0, 0.30000001192092896, 0.0, 0.0, 0.0, 0.30000001192092896]\n",
      "\n",
      "[RL demo] Epoch 8/20  loss -0.1397  avg_reward 0.1059  hit 0.3529  H 1.5410  advantage 0.0000\n",
      "\n",
      "   [rewards] mean=0.108 std=0.144 min=0.000 p50=0.000 p90=0.300 max=0.300 head=[0.0, 0.30000001192092896, 0.0, 0.0, 0.30000001192092896, 0.30000001192092896, 0.30000001192092896, 0.0, 0.30000001192092896, 0.30000001192092896]\n",
      "\n",
      "   [rewards] mean=0.101 std=0.142 min=0.000 p50=0.000 p90=0.300 max=0.300 head=[0.30000001192092896, 0.30000001192092896, 0.0, 0.30000001192092896, 0.30000001192092896, 0.0, 0.30000001192092896, 0.0, 0.0, 0.0]\n",
      "\n",
      "   [rewards] mean=0.104 std=0.143 min=0.000 p50=0.000 p90=0.300 max=0.300 head=[0.0, 0.0, 0.30000001192092896, 0.30000001192092896, 0.0, 0.30000001192092896, 0.30000001192092896, 0.30000001192092896, 0.30000001192092896, 0.30000001192092896]\n",
      "\n",
      "   [rewards] mean=0.098 std=0.141 min=0.000 p50=0.000 p90=0.300 max=0.300 head=[0.0, 0.30000001192092896, 0.0, 0.0, 0.30000001192092896, 0.0, 0.0, 0.0, 0.0, 0.30000001192092896]\n",
      "\n",
      "[RL demo] Epoch 9/20  loss -0.1399  avg_reward 0.1053  hit 0.3511  H 1.5445  advantage -0.0001\n",
      "\n",
      "   [rewards] mean=0.093 std=0.139 min=0.000 p50=0.000 p90=0.300 max=0.300 head=[0.0, 0.30000001192092896, 0.0, 0.0, 0.0, 0.30000001192092896, 0.30000001192092896, 0.30000001192092896, 0.0, 0.30000001192092896]\n",
      "\n",
      "   [rewards] mean=0.101 std=0.142 min=0.000 p50=0.000 p90=0.300 max=0.300 head=[0.30000001192092896, 0.30000001192092896, 0.0, 0.30000001192092896, 0.0, 0.0, 0.30000001192092896, 0.0, 0.0, 0.0]\n",
      "\n",
      "   [rewards] mean=0.114 std=0.146 min=0.000 p50=0.000 p90=0.300 max=0.300 head=[0.30000001192092896, 0.30000001192092896, 0.0, 0.0, 0.30000001192092896, 0.0, 0.0, 0.0, 0.30000001192092896, 0.30000001192092896]\n",
      "\n",
      "   [rewards] mean=0.094 std=0.139 min=0.000 p50=0.000 p90=0.300 max=0.300 head=[0.30000001192092896, 0.0, 0.30000001192092896, 0.0, 0.0, 0.0, 0.0, 0.0, 0.0, 0.0]\n",
      "\n",
      "[RL demo] Epoch 10/20  loss -0.1398  avg_reward 0.1062  hit 0.3538  H 1.5355  advantage 0.0000\n",
      "\n",
      "   [rewards] mean=0.107 std=0.144 min=0.000 p50=0.000 p90=0.300 max=0.300 head=[0.0, 0.30000001192092896, 0.0, 0.30000001192092896, 0.0, 0.30000001192092896, 0.0, 0.30000001192092896, 0.0, 0.0]\n",
      "\n",
      "   [rewards] mean=0.102 std=0.142 min=0.000 p50=0.000 p90=0.300 max=0.300 head=[0.0, 0.30000001192092896, 0.30000001192092896, 0.0, 0.0, 0.0, 0.0, 0.0, 0.0, 0.0]\n",
      "\n",
      "   [rewards] mean=0.115 std=0.146 min=0.000 p50=0.000 p90=0.300 max=0.300 head=[0.0, 0.0, 0.30000001192092896, 0.0, 0.0, 0.0, 0.0, 0.0, 0.0, 0.0]\n",
      "\n",
      "   [rewards] mean=0.107 std=0.144 min=0.000 p50=0.000 p90=0.300 max=0.300 head=[0.30000001192092896, 0.30000001192092896, 0.30000001192092896, 0.30000001192092896, 0.0, 0.30000001192092896, 0.30000001192092896, 0.0, 0.0, 0.0]\n",
      "\n",
      "[RL demo] Epoch 11/20  loss -0.1402  avg_reward 0.1066  hit 0.3553  H 1.5361  advantage 0.0002\n",
      "\n",
      "   [rewards] mean=0.104 std=0.143 min=0.000 p50=0.000 p90=0.300 max=0.300 head=[0.0, 0.0, 0.30000001192092896, 0.0, 0.0, 0.30000001192092896, 0.0, 0.30000001192092896, 0.0, 0.0]\n",
      "\n",
      "   [rewards] mean=0.108 std=0.144 min=0.000 p50=0.000 p90=0.300 max=0.300 head=[0.0, 0.30000001192092896, 0.0, 0.0, 0.0, 0.0, 0.30000001192092896, 0.30000001192092896, 0.30000001192092896, 0.30000001192092896]\n",
      "\n",
      "   [rewards] mean=0.098 std=0.141 min=0.000 p50=0.000 p90=0.300 max=0.300 head=[0.30000001192092896, 0.0, 0.0, 0.0, 0.0, 0.30000001192092896, 0.0, 0.0, 0.0, 0.30000001192092896]\n",
      "\n",
      "   [rewards] mean=0.106 std=0.143 min=0.000 p50=0.000 p90=0.300 max=0.300 head=[0.30000001192092896, 0.0, 0.30000001192092896, 0.30000001192092896, 0.0, 0.0, 0.0, 0.0, 0.30000001192092896, 0.30000001192092896]\n",
      "\n",
      "[RL demo] Epoch 12/20  loss -0.1394  avg_reward 0.1070  hit 0.3566  H 1.5272  advantage 0.0000\n",
      "\n",
      "   [rewards] mean=0.105 std=0.143 min=0.000 p50=0.000 p90=0.300 max=0.300 head=[0.0, 0.0, 0.0, 0.0, 0.0, 0.0, 0.30000001192092896, 0.0, 0.30000001192092896, 0.30000001192092896]\n",
      "\n",
      "   [rewards] mean=0.117 std=0.146 min=0.000 p50=0.000 p90=0.300 max=0.300 head=[0.30000001192092896, 0.30000001192092896, 0.30000001192092896, 0.0, 0.0, 0.0, 0.0, 0.0, 0.0, 0.30000001192092896]\n",
      "\n",
      "   [rewards] mean=0.112 std=0.145 min=0.000 p50=0.000 p90=0.300 max=0.300 head=[0.0, 0.0, 0.0, 0.30000001192092896, 0.0, 0.30000001192092896, 0.30000001192092896, 0.30000001192092896, 0.0, 0.0]\n",
      "\n",
      "   [rewards] mean=0.104 std=0.143 min=0.000 p50=0.000 p90=0.300 max=0.300 head=[0.0, 0.0, 0.30000001192092896, 0.30000001192092896, 0.30000001192092896, 0.0, 0.0, 0.0, 0.0, 0.0]\n",
      "\n",
      "[RL demo] Epoch 13/20  loss -0.1395  avg_reward 0.1072  hit 0.3574  H 1.5215  advantage -0.0000\n",
      "\n",
      "   [rewards] mean=0.110 std=0.145 min=0.000 p50=0.000 p90=0.300 max=0.300 head=[0.0, 0.30000001192092896, 0.0, 0.0, 0.0, 0.0, 0.0, 0.30000001192092896, 0.30000001192092896, 0.0]\n",
      "\n",
      "   [rewards] mean=0.105 std=0.143 min=0.000 p50=0.000 p90=0.300 max=0.300 head=[0.0, 0.0, 0.0, 0.0, 0.0, 0.0, 0.30000001192092896, 0.0, 0.30000001192092896, 0.0]\n",
      "\n",
      "   [rewards] mean=0.106 std=0.143 min=0.000 p50=0.000 p90=0.300 max=0.300 head=[0.0, 0.30000001192092896, 0.30000001192092896, 0.0, 0.0, 0.0, 0.0, 0.0, 0.30000001192092896, 0.0]\n",
      "\n",
      "   [rewards] mean=0.103 std=0.142 min=0.000 p50=0.000 p90=0.300 max=0.300 head=[0.30000001192092896, 0.30000001192092896, 0.0, 0.0, 0.30000001192092896, 0.0, 0.0, 0.30000001192092896, 0.0, 0.0]\n",
      "\n",
      "[RL demo] Epoch 14/20  loss -0.1399  avg_reward 0.1077  hit 0.3589  H 1.5204  advantage -0.0000\n",
      "\n",
      "   [rewards] mean=0.102 std=0.142 min=0.000 p50=0.000 p90=0.300 max=0.300 head=[0.0, 0.0, 0.0, 0.30000001192092896, 0.0, 0.0, 0.30000001192092896, 0.0, 0.0, 0.0]\n",
      "\n",
      "   [rewards] mean=0.112 std=0.145 min=0.000 p50=0.000 p90=0.300 max=0.300 head=[0.0, 0.30000001192092896, 0.30000001192092896, 0.0, 0.30000001192092896, 0.0, 0.0, 0.30000001192092896, 0.30000001192092896, 0.0]\n",
      "\n",
      "   [rewards] mean=0.122 std=0.147 min=0.000 p50=0.000 p90=0.300 max=0.300 head=[0.0, 0.0, 0.0, 0.0, 0.0, 0.0, 0.30000001192092896, 0.30000001192092896, 0.0, 0.0]\n",
      "\n",
      "   [rewards] mean=0.103 std=0.142 min=0.000 p50=0.000 p90=0.300 max=0.300 head=[0.30000001192092896, 0.30000001192092896, 0.0, 0.30000001192092896, 0.0, 0.0, 0.0, 0.30000001192092896, 0.0, 0.0]\n",
      "\n",
      "   [rewards] mean=0.107 std=0.144 min=0.000 p50=0.000 p90=0.300 max=0.300 head=[0.30000001192092896, 0.30000001192092896, 0.30000001192092896, 0.30000001192092896, 0.30000001192092896, 0.30000001192092896, 0.30000001192092896, 0.0, 0.30000001192092896, 0.0]\n",
      "\n",
      "[RL demo] Epoch 15/20  loss -0.1393  avg_reward 0.1075  hit 0.3583  H 1.5148  advantage -0.0000\n",
      "\n",
      "   [rewards] mean=0.112 std=0.145 min=0.000 p50=0.000 p90=0.300 max=0.300 head=[0.0, 0.0, 0.0, 0.0, 0.0, 0.0, 0.0, 0.30000001192092896, 0.30000001192092896, 0.0]\n",
      "\n",
      "   [rewards] mean=0.114 std=0.146 min=0.000 p50=0.000 p90=0.300 max=0.300 head=[0.0, 0.0, 0.0, 0.0, 0.0, 0.0, 0.0, 0.0, 0.0, 0.0]\n",
      "\n",
      "   [rewards] mean=0.117 std=0.146 min=0.000 p50=0.000 p90=0.300 max=0.300 head=[0.0, 0.0, 0.0, 0.0, 0.0, 0.0, 0.0, 0.0, 0.0, 0.0]\n",
      "\n",
      "   [rewards] mean=0.107 std=0.144 min=0.000 p50=0.000 p90=0.300 max=0.300 head=[0.0, 0.0, 0.0, 0.0, 0.0, 0.0, 0.0, 0.0, 0.30000001192092896, 0.30000001192092896]\n",
      "\n",
      "[RL demo] Epoch 16/20  loss -0.1396  avg_reward 0.1083  hit 0.3611  H 1.5078  advantage 0.0001\n",
      "\n",
      "   [rewards] mean=0.117 std=0.146 min=0.000 p50=0.000 p90=0.300 max=0.300 head=[0.30000001192092896, 0.30000001192092896, 0.0, 0.0, 0.0, 0.0, 0.0, 0.0, 0.0, 0.30000001192092896]\n",
      "\n",
      "   [rewards] mean=0.111 std=0.145 min=0.000 p50=0.000 p90=0.300 max=0.300 head=[0.30000001192092896, 0.30000001192092896, 0.30000001192092896, 0.30000001192092896, 0.0, 0.30000001192092896, 0.0, 0.0, 0.30000001192092896, 0.30000001192092896]\n",
      "\n",
      "   [rewards] mean=0.101 std=0.142 min=0.000 p50=0.000 p90=0.300 max=0.300 head=[0.0, 0.0, 0.30000001192092896, 0.0, 0.30000001192092896, 0.0, 0.30000001192092896, 0.30000001192092896, 0.0, 0.30000001192092896]\n",
      "\n",
      "   [rewards] mean=0.117 std=0.146 min=0.000 p50=0.000 p90=0.300 max=0.300 head=[0.0, 0.30000001192092896, 0.30000001192092896, 0.0, 0.0, 0.30000001192092896, 0.0, 0.30000001192092896, 0.30000001192092896, 0.30000001192092896]\n",
      "\n",
      "[RL demo] Epoch 17/20  loss -0.1394  avg_reward 0.1086  hit 0.3620  H 1.4973  advantage 0.0000\n",
      "\n",
      "   [rewards] mean=0.097 std=0.140 min=0.000 p50=0.000 p90=0.300 max=0.300 head=[0.0, 0.30000001192092896, 0.0, 0.0, 0.0, 0.0, 0.0, 0.30000001192092896, 0.30000001192092896, 0.0]\n",
      "\n",
      "   [rewards] mean=0.097 std=0.140 min=0.000 p50=0.000 p90=0.300 max=0.300 head=[0.30000001192092896, 0.30000001192092896, 0.0, 0.0, 0.30000001192092896, 0.0, 0.0, 0.0, 0.30000001192092896, 0.30000001192092896]\n",
      "\n",
      "   [rewards] mean=0.101 std=0.142 min=0.000 p50=0.000 p90=0.300 max=0.300 head=[0.0, 0.30000001192092896, 0.30000001192092896, 0.0, 0.30000001192092896, 0.0, 0.0, 0.0, 0.0, 0.30000001192092896]\n",
      "\n",
      "   [rewards] mean=0.117 std=0.146 min=0.000 p50=0.000 p90=0.300 max=0.300 head=[0.30000001192092896, 0.30000001192092896, 0.0, 0.0, 0.0, 0.0, 0.30000001192092896, 0.30000001192092896, 0.0, 0.0]\n",
      "\n",
      "[RL demo] Epoch 18/20  loss -0.1391  avg_reward 0.1094  hit 0.3645  H 1.4957  advantage 0.0001\n",
      "\n",
      "   [rewards] mean=0.105 std=0.143 min=0.000 p50=0.000 p90=0.300 max=0.300 head=[0.0, 0.30000001192092896, 0.30000001192092896, 0.0, 0.0, 0.0, 0.0, 0.0, 0.30000001192092896, 0.0]\n",
      "\n",
      "   [rewards] mean=0.116 std=0.146 min=0.000 p50=0.000 p90=0.300 max=0.300 head=[0.30000001192092896, 0.30000001192092896, 0.0, 0.30000001192092896, 0.30000001192092896, 0.0, 0.0, 0.0, 0.30000001192092896, 0.0]\n",
      "\n",
      "   [rewards] mean=0.106 std=0.143 min=0.000 p50=0.000 p90=0.300 max=0.300 head=[0.0, 0.0, 0.0, 0.0, 0.30000001192092896, 0.30000001192092896, 0.0, 0.30000001192092896, 0.0, 0.0]\n",
      "\n",
      "   [rewards] mean=0.117 std=0.146 min=0.000 p50=0.000 p90=0.300 max=0.300 head=[0.0, 0.0, 0.30000001192092896, 0.30000001192092896, 0.30000001192092896, 0.0, 0.0, 0.30000001192092896, 0.0, 0.30000001192092896]\n",
      "\n",
      "[RL demo] Epoch 19/20  loss -0.1394  avg_reward 0.1092  hit 0.3639  H 1.4892  advantage -0.0001\n",
      "\n",
      "   [rewards] mean=0.110 std=0.145 min=0.000 p50=0.000 p90=0.300 max=0.300 head=[0.0, 0.30000001192092896, 0.0, 0.0, 0.30000001192092896, 0.0, 0.0, 0.0, 0.30000001192092896, 0.0]\n",
      "\n",
      "   [rewards] mean=0.110 std=0.145 min=0.000 p50=0.000 p90=0.300 max=0.300 head=[0.0, 0.0, 0.0, 0.0, 0.30000001192092896, 0.30000001192092896, 0.30000001192092896, 0.30000001192092896, 0.0, 0.0]\n",
      "\n",
      "   [rewards] mean=0.099 std=0.141 min=0.000 p50=0.000 p90=0.300 max=0.300 head=[0.30000001192092896, 0.0, 0.0, 0.0, 0.30000001192092896, 0.30000001192092896, 0.30000001192092896, 0.0, 0.0, 0.0]\n",
      "\n",
      "   [rewards] mean=0.119 std=0.147 min=0.000 p50=0.000 p90=0.300 max=0.300 head=[0.30000001192092896, 0.30000001192092896, 0.30000001192092896, 0.0, 0.0, 0.30000001192092896, 0.0, 0.0, 0.30000001192092896, 0.0]\n",
      "\n",
      "[RL demo] Epoch 20/20  loss -0.1397  avg_reward 0.1097  hit 0.3657  H 1.4850  advantage -0.0000\n",
      "\n"
     ]
    },
    {
     "name": "stderr",
     "output_type": "stream",
     "text": [
      "Evaluating: 100%|██████████| 207/207 [00:14<00:00, 14.05it/s]"
     ]
    },
    {
     "name": "stdout",
     "output_type": "stream",
     "text": [
      "[After  RL]  HR@10=0.6750  NDCG@10=0.4771  Precision@10=0.0675  MRR=0.4291\n"
     ]
    },
    {
     "name": "stderr",
     "output_type": "stream",
     "text": [
      "\n"
     ]
    }
   ],
   "execution_count": 48
  },
  {
   "metadata": {
    "ExecuteTime": {
     "end_time": "2025-08-29T02:50:11.945479Z",
     "start_time": "2025-08-29T02:50:11.358949Z"
    }
   },
   "cell_type": "code",
   "source": [
    "import torch\n",
    "\n",
    "@torch.no_grad()\n",
    "def sample_recommendations(\n",
    "    raw_user,\n",
    "    k=10,\n",
    "    model=transfer_model,                    # or sasrec_tgt_baseline\n",
    "    user_encoder=user_encoder_tgt,\n",
    "    item_encoder=item_encoder_tgt,\n",
    "    sequences=train_sequences_tgt,          # {encoded_uid: [item_ids...]}\n",
    "    xfer_mat=transfer_src_mat,              # None if using baseline\n",
    "    max_len=50,\n",
    "    device=DEVICE,\n",
    "    pop_items=None                          # optional: precomputed popular raw items\n",
    "):\n",
    "    # Unknown user → fallback\n",
    "    if raw_user not in user_encoder.classes_:\n",
    "        return (pop_items or [])[:k]\n",
    "\n",
    "    uid = int(user_encoder.transform([raw_user])[0])\n",
    "    seq = sequences.get(uid, [])\n",
    "    seen = set(seq)\n",
    "\n",
    "    # Build left-padded input\n",
    "    seq = seq[-max_len:]\n",
    "    inp = torch.tensor([[0]*(max_len-len(seq)) + seq], dtype=torch.long, device=device)\n",
    "\n",
    "    # Get fused user vector (transfer) or last hidden (baseline)\n",
    "    if hasattr(model, \"base\"):  # SASRecCD\n",
    "        xfer = None if xfer_mat is None else xfer_mat[uid:uid+1].to(device)\n",
    "        fused = model(inp, transfer_src=xfer)                 # [1, D]\n",
    "        W = model.base.item_embed.weight                      # [I, D]\n",
    "    else:                   # plain SASRec\n",
    "        seq_repr = model(inp)                                 # [1, L, D]\n",
    "        fused = seq_repr[:, -1, :]                            # [1, D]\n",
    "        W = model.item_embed.weight                           # [I, D]\n",
    "\n",
    "    # Score all items, mask padding & seen\n",
    "    scores = fused @ W.T                                      # [1, num_items]\n",
    "    scores[:, 0] = -1e9\n",
    "    if seen:\n",
    "        scores[0, list(seen)] = -1e9\n",
    "\n",
    "    topk_ids = torch.topk(scores, k, dim=1).indices.squeeze(0).tolist()\n",
    "    # decode back to raw item ids (shift_item_id=True → subtract 1)\n",
    "    rec_items = [item_encoder.inverse_transform([i-1])[0] for i in topk_ids]\n",
    "    return rec_items\n",
    "\n",
    "# Example:\n",
    "u = filtered_df_target[\"user\"].iloc[20]\n",
    "print(sample_recommendations(u, k=10))"
   ],
   "id": "2b16638edcd8faea",
   "outputs": [
    {
     "name": "stdout",
     "output_type": "stream",
     "text": [
      "['B093CNZ7ST', 'B09QH98YG1', 'B09F59CZ7R', 'B097YYZ87F', 'B09ML1QV1S', 'B08QZN6LCM', 'B09JB21878', 'B09HYNH8TK', 'B09PVRLSLB', 'B08WJN83XZ']\n"
     ]
    }
   ],
   "execution_count": 49
  },
  {
   "metadata": {
    "ExecuteTime": {
     "end_time": "2025-08-28T19:08:32.593924500Z",
     "start_time": "2025-08-28T15:37:35.698722Z"
    }
   },
   "cell_type": "code",
   "source": "",
   "id": "cf1d4d44758dfa2",
   "outputs": [],
   "execution_count": null
  },
  {
   "metadata": {},
   "cell_type": "code",
   "outputs": [],
   "execution_count": null,
   "source": "",
   "id": "405cd80a8aeddbc8"
  }
 ],
 "metadata": {
  "kernelspec": {
   "display_name": "Python 3",
   "language": "python",
   "name": "python3"
  },
  "language_info": {
   "codemirror_mode": {
    "name": "ipython",
    "version": 2
   },
   "file_extension": ".py",
   "mimetype": "text/x-python",
   "name": "python",
   "nbconvert_exporter": "python",
   "pygments_lexer": "ipython2",
   "version": "2.7.6"
  }
 },
 "nbformat": 4,
 "nbformat_minor": 5
}
