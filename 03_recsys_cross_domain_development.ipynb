{
 "cells": [
  {
   "metadata": {},
   "cell_type": "markdown",
   "source": [
    "# Cross-Domain Recommendation System Development\n",
    "This notebook is an experiment in building a cross-domain recommendation system using the Amazon Reviews dataset. It uses the best model from the single-domain experiments and extends it to handle multiple domains. The dataset is the same as in the single-domain experiments, but now will combine data from two different domains."
   ],
   "id": "f897965258465d1"
  },
  {
   "cell_type": "code",
   "id": "initial_id",
   "metadata": {
    "collapsed": true,
    "ExecuteTime": {
     "end_time": "2025-08-28T05:24:54.876509Z",
     "start_time": "2025-08-28T05:24:46.915711Z"
    }
   },
   "source": [
    "import os\n",
    "import random\n",
    "import numpy as np\n",
    "import pandas as pd\n",
    "import time\n",
    "import gc\n",
    "import matplotlib.pyplot as plt\n",
    "from collections import defaultdict\n",
    "\n",
    "# os.environ[\"HF_HOME\"] = \"D:/Python Projects/recommendation_system\"\n",
    "# os.environ[\"HF_DATASETS_CACHE\"] = \"D:/Python Projects/recommendation_system/recsys/data\"\n",
    "# os.environ[\"TRANSFORMERS_CACHE\"] = \"D:/Python Projects/recommendation_system/recsys/models\"\n",
    "\n",
    "os.environ[\"HF_HOME\"] = \"E:/Python Scripts/recsys\"\n",
    "os.environ['HF_DATASETS_CACHE'] = \"E:/Python Scripts/recsys/data\"\n",
    "os.environ['TRANSFORMERS_CACHE'] = \"E:/Python Scripts/recsys/models\"\n",
    "\n",
    "os.environ['CUDA_LAUNCH_BLOCKING'] = \"1\"\n",
    "\n",
    "import torch\n",
    "import torch.nn as nn\n",
    "from torch.utils.data import Dataset, DataLoader\n",
    "from sklearn.preprocessing import LabelEncoder\n",
    "from datasets import load_dataset, Features, Value\n",
    "from tqdm import tqdm\n",
    "from tensorboardX import SummaryWriter"
   ],
   "outputs": [
    {
     "name": "stderr",
     "output_type": "stream",
     "text": [
      "E:\\Python Scripts\\recsys\\.venv\\Lib\\site-packages\\tqdm\\auto.py:21: TqdmWarning: IProgress not found. Please update jupyter and ipywidgets. See https://ipywidgets.readthedocs.io/en/stable/user_install.html\n",
      "  from .autonotebook import tqdm as notebook_tqdm\n"
     ]
    }
   ],
   "execution_count": 1
  },
  {
   "metadata": {
    "ExecuteTime": {
     "end_time": "2025-08-28T05:24:55.013377Z",
     "start_time": "2025-08-28T05:24:54.936525Z"
    }
   },
   "cell_type": "code",
   "source": [
    "SEED = 42\n",
    "def set_seed(seed=SEED):\n",
    "    random.seed(seed)\n",
    "    np.random.seed(seed)\n",
    "    torch.manual_seed(seed)\n",
    "    torch.cuda.manual_seed_all(seed)\n",
    "\n",
    "set_seed(SEED)\n",
    "DEVICE = \"cuda\" if torch.cuda.is_available() else \"cpu\"\n",
    "print(\"DEVICE:\", DEVICE)"
   ],
   "id": "7c34635975b115fc",
   "outputs": [
    {
     "name": "stdout",
     "output_type": "stream",
     "text": [
      "DEVICE: cuda\n"
     ]
    }
   ],
   "execution_count": 2
  },
  {
   "metadata": {},
   "cell_type": "markdown",
   "source": "## Single-domain development on best model (SASRec)",
   "id": "f50b5b1c0a2ae4cf"
  },
  {
   "metadata": {
    "ExecuteTime": {
     "end_time": "2025-08-28T05:24:55.141115Z",
     "start_time": "2025-08-28T05:24:55.112739Z"
    }
   },
   "cell_type": "code",
   "source": [
    "HF_DATASET = \"McAuley-Lab/Amazon-Reviews-2023\"\n",
    "\n",
    "def load_amazon_reviews(domain, save_dir=\"data\", max_items=None, seed=SEED):\n",
    "    os.makedirs(save_dir, exist_ok=True)\n",
    "    filepath = f\"{save_dir}/amazon_reviews_{domain}.csv\"\n",
    "\n",
    "    if not os.path.exists(filepath):\n",
    "        print(f\"File {filepath} not found. Downloading dataset for domain '{domain}'...\")\n",
    "        ds = load_dataset(\n",
    "            \"McAuley-Lab/Amazon-Reviews-2023\",\n",
    "            f\"raw_review_{domain}\",\n",
    "            split=\"full\",\n",
    "            trust_remote_code=True,\n",
    "        )\n",
    "\n",
    "        # Keep only needed columns\n",
    "        ds = ds.select_columns([\"user_id\", \"parent_asin\", \"rating\", \"timestamp\"])\n",
    "        ds = ds.rename_columns({\"user_id\": \"user\", \"parent_asin\": \"item\"})\n",
    "        ds = ds.cast(Features({\n",
    "            \"user\": Value(\"string\"),\n",
    "            \"item\": Value(\"string\"),\n",
    "            \"rating\": Value(\"float32\"),\n",
    "            \"timestamp\": Value(\"int64\"),\n",
    "        }))\n",
    "\n",
    "        # Convert to pandas (Arrow zero-copy where possible)\n",
    "        df = ds.to_pandas()\n",
    "        df.insert(3, \"domain\", domain)\n",
    "        df.to_csv(f\"{save_dir}/amazon_reviews_{domain}.csv\", index=False)\n",
    "        print(f\"Saved amazon_reviews_{domain}.csv to {save_dir}/\")\n",
    "\n",
    "    final_df = pd.read_csv(filepath)\n",
    "    # Random subset if max_items is set\n",
    "    if max_items is not None:\n",
    "        k = min(max_items, len(final_df))\n",
    "        final_df = final_df.sample(n=k, random_state=seed).reset_index(drop=True)\n",
    "    print(f\"Loaded {filepath} with {len(final_df)} rows.\")\n",
    "    return final_df\n",
    "\n",
    "def preprocess_dataset(df, min_user_interactions=5, min_item_interactions=5):\n",
    "    # Make it implicit\n",
    "    df[\"label\"] = 1.0\n",
    "    user_counts = df.groupby(\"user\").size()\n",
    "    valid_users = user_counts[user_counts >= min_user_interactions].index\n",
    "    item_counts = df.groupby(\"item\").size()\n",
    "    valid_items = item_counts[item_counts >= min_item_interactions].index\n",
    "    df_filtered = df[df[\"user\"].isin(valid_users) & df[\"item\"].isin(valid_items)]\n",
    "    print(\"After interactions filtering:\", len(df_filtered), \"rows,\", df_filtered[\"user\"].nunique(), \"users,\", df_filtered[\"item\"].nunique(), \"items\")\n",
    "    return df_filtered\n",
    "\n",
    "def label_encoder(df, shift_item_id=False):\n",
    "    df_encoded = df.copy()\n",
    "    user_enc = LabelEncoder()\n",
    "    item_enc = LabelEncoder()\n",
    "    domain_enc = LabelEncoder()\n",
    "    df_encoded[\"user_id\"] = user_enc.fit_transform(df_encoded[\"user\"])\n",
    "    df_encoded[\"item_id\"] = item_enc.fit_transform(df_encoded[\"item\"])\n",
    "    if shift_item_id:\n",
    "        df_encoded[\"item_id\"] = df_encoded[\"item_id\"] + 1  # Shift item IDs by 1 to reserve 0 for padding if needed\n",
    "    df_encoded[\"domain_id\"] = domain_enc.fit_transform(df_encoded[\"domain\"])\n",
    "    return df_encoded, user_enc, item_enc, domain_enc"
   ],
   "id": "fea6ebca4ab2462c",
   "outputs": [],
   "execution_count": 3
  },
  {
   "metadata": {},
   "cell_type": "markdown",
   "source": "### Dataset preparation",
   "id": "48521a298928c450"
  },
  {
   "metadata": {
    "ExecuteTime": {
     "end_time": "2025-08-28T05:25:43.311256Z",
     "start_time": "2025-08-28T05:24:55.172100Z"
    }
   },
   "cell_type": "code",
   "source": [
    "# New input\n",
    "SOURCE_DOMAIN = \"Books\"\n",
    "\n",
    "# Loading data from multiple domains\n",
    "df = load_amazon_reviews(SOURCE_DOMAIN, max_items=2_000_000, seed=SEED)\n",
    "print(f\"Total rows in {SOURCE_DOMAIN}: {len(df)}\")\n",
    "\n",
    "# Preprocess the dataset\n",
    "filtered_df = preprocess_dataset(df, min_user_interactions=5, min_item_interactions=5)\n",
    "df_encoded, user_encoder, item_encoder, domain_encoder = label_encoder(filtered_df, shift_item_id=True)\n",
    "\n",
    "NUM_USERS = df_encoded[\"user_id\"].max() + 1\n",
    "NUM_ITEMS = df_encoded[\"item_id\"].max() + 1\n",
    "print(f\"Number of users: {NUM_USERS}, Number of items: {NUM_ITEMS}\")"
   ],
   "id": "872713bce3008a2d",
   "outputs": [
    {
     "name": "stdout",
     "output_type": "stream",
     "text": [
      "Loaded data/amazon_reviews_Books.csv with 4000000 rows.\n",
      "Total rows in Books: 4000000\n",
      "After interactions filtering: 28280 rows, 5004 users, 10350 items\n",
      "Number of users: 5004, Number of items: 10351\n"
     ]
    }
   ],
   "execution_count": 4
  },
  {
   "metadata": {
    "ExecuteTime": {
     "end_time": "2025-08-28T05:25:43.584023Z",
     "start_time": "2025-08-28T05:25:43.430273Z"
    }
   },
   "cell_type": "code",
   "source": [
    "def create_user_sequences(df):\n",
    "    df_sorted = df.sort_values([\"user_id\", \"timestamp\"])\n",
    "    user_sequences = {}\n",
    "    for uid, group in df_sorted.groupby(\"user_id\"):\n",
    "        items = group[\"item_id\"].tolist()\n",
    "        user_sequences[uid] = items\n",
    "\n",
    "    print(f\"Number of users: {len(user_sequences)}\")\n",
    "    print(f\"Max sequence length: {max(len(seq) for seq in user_sequences.values())}\")\n",
    "    print(f\"Min sequence length: {min(len(seq) for seq in user_sequences.values())}\")\n",
    "\n",
    "    return user_sequences\n",
    "\n",
    "# Create sequences\n",
    "user_sequences = create_user_sequences(df_encoded)\n",
    "pos_items_by_user = {u: set(seq) for u, seq in user_sequences.items()}"
   ],
   "id": "ca58a698977746d5",
   "outputs": [
    {
     "name": "stdout",
     "output_type": "stream",
     "text": [
      "Number of users: 5004\n",
      "Max sequence length: 70\n",
      "Min sequence length: 1\n"
     ]
    }
   ],
   "execution_count": 5
  },
  {
   "metadata": {
    "ExecuteTime": {
     "end_time": "2025-08-28T05:25:43.610300Z",
     "start_time": "2025-08-28T05:25:43.599010Z"
    }
   },
   "cell_type": "code",
   "source": [
    "def sequences_loo_split(user_sequences):\n",
    "    train_seqs = {}\n",
    "    val_data = {}\n",
    "    test_data = {}\n",
    "\n",
    "    for user, seq in user_sequences.items():\n",
    "        if len(seq) < 3:  # Need at least 3 items for train/val/test\n",
    "            continue\n",
    "\n",
    "        train_seqs[user] = seq[:-2]  # All but last two\n",
    "        val_data[user] = (seq[:-2], seq[-2])  # Train on all but last 2, predict second-to-last\n",
    "        test_data[user] = (seq[:-1], seq[-1])  # Train on all but last, predict last\n",
    "\n",
    "    print(f\"Training sequences: {len(train_seqs)}\")\n",
    "    print(f\"Validation users: {len(val_data)}\")\n",
    "    print(f\"Test users: {len(test_data)}\")\n",
    "\n",
    "    return train_seqs, val_data, test_data\n",
    "\n",
    "train_sequences, val_sequences, test_sequences = sequences_loo_split(user_sequences)\n",
    "print(f\"Sequences - Train: {len(train_sequences)}, Val: {len(val_sequences)}, Test: {len(test_sequences)}\")"
   ],
   "id": "f25ac4008c7f94b",
   "outputs": [
    {
     "name": "stdout",
     "output_type": "stream",
     "text": [
      "Training sequences: 3264\n",
      "Validation users: 3264\n",
      "Test users: 3264\n",
      "Sequences - Train: 3264, Val: 3264, Test: 3264\n"
     ]
    }
   ],
   "execution_count": 6
  },
  {
   "metadata": {},
   "cell_type": "markdown",
   "source": "### Dataset and DataLoader",
   "id": "f04c70046f9e7ad2"
  },
  {
   "metadata": {
    "ExecuteTime": {
     "end_time": "2025-08-28T05:25:43.793010Z",
     "start_time": "2025-08-28T05:25:43.618295Z"
    }
   },
   "cell_type": "code",
   "source": [
    "class SASRecDataset(Dataset):\n",
    "    def __init__(self, data, num_items, max_seq_len=50, pos_items_by_user=None, mode=\"train\", neg_samples=1):\n",
    "        self.num_items = num_items\n",
    "        self.max_seq_len = max_seq_len\n",
    "        self.mode = mode\n",
    "        self.neg_samples = neg_samples\n",
    "        self.all_pos = pos_items_by_user\n",
    "\n",
    "        self.samples = []\n",
    "        if mode == \"train\":\n",
    "            for user, seq in data.items():\n",
    "                for i in range(1, len(seq)):\n",
    "                    self.samples.append({\n",
    "                        \"user\": user,\n",
    "                        \"input_seq\": seq[:i],\n",
    "                        \"target\": seq[i],\n",
    "                        \"full_seq\": seq # For negative sampling\n",
    "                    })\n",
    "        else:\n",
    "            for user, (seq, target) in data.items():\n",
    "                self.samples.append({\n",
    "                    \"user\": user,\n",
    "                    \"input_seq\": seq,\n",
    "                    \"target\": target,\n",
    "                    \"full_seq\": seq + [target]\n",
    "                })\n",
    "\n",
    "    def __len__(self):\n",
    "        return len(self.samples)\n",
    "\n",
    "    def __getitem__(self, idx):\n",
    "        sample = self.samples[idx]\n",
    "        user = sample[\"user\"]\n",
    "        seq = sample[\"input_seq\"]\n",
    "        target = sample[\"target\"]\n",
    "\n",
    "        # Truncate sequence if > max length\n",
    "        if len(seq) > self.max_seq_len:\n",
    "            seq = seq[-self.max_seq_len:]\n",
    "\n",
    "        # Left-pad sequence with zeros\n",
    "        pad_len = self.max_seq_len - len(seq)\n",
    "        padded_seq = [0] * pad_len + seq\n",
    "\n",
    "        # Negative sampling\n",
    "        forbid = self.all_pos[user] if self.all_pos is not None else set(sample[\"full_seq\"])\n",
    "        neg_items = set()\n",
    "\n",
    "        while len(neg_items) < self.neg_samples:\n",
    "            neg = random.randint(1, self.num_items - 1)\n",
    "            if neg not in forbid:\n",
    "                neg_items.add(neg)\n",
    "\n",
    "        return {\n",
    "            \"user\": sample[\"user\"],\n",
    "            \"input_seq\": torch.tensor(padded_seq, dtype=torch.long),\n",
    "            \"target\": torch.tensor(target, dtype=torch.long),\n",
    "            \"neg_items\": torch.tensor(list(neg_items), dtype=torch.long)\n",
    "        }\n",
    "\n",
    "# Create datasets\n",
    "train_dataset = SASRecDataset(train_sequences, NUM_ITEMS, pos_items_by_user=pos_items_by_user, max_seq_len=50, mode=\"train\", neg_samples=1)\n",
    "val_dataset = SASRecDataset(val_sequences, NUM_ITEMS, pos_items_by_user=pos_items_by_user, max_seq_len=50, mode=\"val\", neg_samples=99)\n",
    "test_dataset = SASRecDataset(test_sequences, NUM_ITEMS, pos_items_by_user=pos_items_by_user, max_seq_len=50, mode=\"test\", neg_samples=99)\n",
    "\n",
    "print(f\"Training samples: {len(train_dataset)}\")\n",
    "print(f\"Validation samples: {len(val_dataset)}\")\n",
    "print(f\"Test samples: {len(test_dataset)}\")"
   ],
   "id": "c96da4897f52535c",
   "outputs": [
    {
     "name": "stdout",
     "output_type": "stream",
     "text": [
      "Training samples: 15943\n",
      "Validation samples: 3264\n",
      "Test samples: 3264\n"
     ]
    }
   ],
   "execution_count": 7
  },
  {
   "metadata": {
    "ExecuteTime": {
     "end_time": "2025-08-28T05:25:43.808333Z",
     "start_time": "2025-08-28T05:25:43.803528Z"
    }
   },
   "cell_type": "code",
   "source": [
    "# Create data loaders\n",
    "BATCH_SIZE = 512\n",
    "train_loader = DataLoader(train_dataset, batch_size=BATCH_SIZE, shuffle=True)\n",
    "val_loader = DataLoader(val_dataset, batch_size=BATCH_SIZE, shuffle=False)\n",
    "test_loader = DataLoader(test_dataset, batch_size=BATCH_SIZE, shuffle=False)"
   ],
   "id": "7716857aa0a90ebd",
   "outputs": [],
   "execution_count": 8
  },
  {
   "metadata": {
    "ExecuteTime": {
     "end_time": "2025-08-28T05:25:43.936352Z",
     "start_time": "2025-08-28T05:25:43.824867Z"
    }
   },
   "cell_type": "code",
   "source": [
    "first = next(iter(train_loader))\n",
    "print(\"Sample batch from loader:\")\n",
    "print(\"Input sequence shape:\", first[\"input_seq\"].shape)\n",
    "print(\"Target shape:\", first[\"target\"].shape)\n",
    "print(\"Negative items shape:\", first[\"neg_items\"].shape)\n",
    "\n",
    "print(\"\\nSample input sequence:\")\n",
    "random_index = []\n",
    "for _ in range(5):\n",
    "    random_index.append(random.randint(0, len(train_loader) - 1))\n",
    "\n",
    "for i in random_index:\n",
    "    print(first[\"input_seq\"][i])"
   ],
   "id": "9cf8d7b1e3a87a",
   "outputs": [
    {
     "name": "stdout",
     "output_type": "stream",
     "text": [
      "Sample batch from loader:\n",
      "Input sequence shape: torch.Size([4096, 50])\n",
      "Target shape: torch.Size([4096])\n",
      "Negative items shape: torch.Size([4096, 1])\n",
      "\n",
      "Sample input sequence:\n",
      "tensor([   0,    0,    0,    0,    0,    0,    0,    0,    0,    0,    0,    0,\n",
      "           0,    0,    0,    0,    0,    0,    0,    0,    0,    0,    0,    0,\n",
      "           0,    0,    0,    0,    0,    0,    0,    0,    0,    0,    0,    0,\n",
      "           0,    0,    0,    0,    0,    0,  138,  192, 2540, 4239, 5030, 2547,\n",
      "         746, 3104])\n",
      "tensor([   0,    0,    0,    0,    0,    0,    0,    0,    0,    0,    0,    0,\n",
      "           0,    0,    0,    0,    0,    0,    0,    0,    0,    0,    0,    0,\n",
      "           0,    0,    0,    0,    0,    0,    0,    0,    0,    0,    0,    0,\n",
      "           0,    0,    0,    0,    0,    0,    0,    0,    0, 1265, 5146, 3114,\n",
      "        3274, 1592])\n",
      "tensor([   0,    0,    0,    0,    0,    0,    0,    0,    0,    0,    0,    0,\n",
      "           0,    0,    0,    0,    0,    0,    0,    0,    0,    0,    0,    0,\n",
      "           0,    0,    0,    0,    0,    0,    0,    0,    0,    0,    0,    0,\n",
      "           0,    0,    0,    0,    0,    0,    0, 6842, 8295, 7585, 2112, 8768,\n",
      "        8013, 7597])\n",
      "tensor([   0,    0,    0,    0,    0,    0,    0,    0,    0,    0,    0,    0,\n",
      "           0,    0,    0,    0,    0,    0,    0,    0,    0,    0,    0,    0,\n",
      "           0,    0,    0,    0,    0,    0,    0,    0,    0,    0,    0,    0,\n",
      "           0,    0, 7791, 7862, 7917, 7330, 8129, 1997, 8485, 8766, 7277, 9031,\n",
      "        9397,  666])\n",
      "tensor([   0,    0,    0,    0,    0,    0,    0,    0,    0,    0,    0,    0,\n",
      "           0,    0,    0,    0,    0,    0,    0,    0,    0,    0,    0,    0,\n",
      "           0,    0,    0,    0,    0,    0,    0,    0,    0,    0,    0,    0,\n",
      "           0,    0,    0,    0,    0,    0,    0, 6842, 8295, 7585, 2112, 8768,\n",
      "        8013, 7597])\n"
     ]
    }
   ],
   "execution_count": 9
  },
  {
   "metadata": {},
   "cell_type": "markdown",
   "source": "### Create SASRec model",
   "id": "ee51311214a572b6"
  },
  {
   "metadata": {
    "ExecuteTime": {
     "end_time": "2025-08-28T05:25:43.967305Z",
     "start_time": "2025-08-28T05:25:43.954343Z"
    }
   },
   "cell_type": "code",
   "source": [
    "# Building SASRec model\n",
    "class PointWiseFeedForward(nn.Module):\n",
    "    def __init__(self, hidden_dim, dropout=0.2):\n",
    "        super().__init__()\n",
    "        self.w1 = nn.Linear(hidden_dim, hidden_dim)\n",
    "        self.w2 = nn.Linear(hidden_dim, hidden_dim)\n",
    "        self.relu = nn.ReLU()\n",
    "        self.dropout = nn.Dropout(dropout)\n",
    "\n",
    "    def forward(self, x):\n",
    "        return self.w2(self.dropout(self.relu(self.w1(x))))\n",
    "\n",
    "class AttentionBlock(nn.Module):\n",
    "    def __init__(self, hidden_dim, num_heads, dropout=0.2):\n",
    "        super().__init__()\n",
    "\n",
    "        # Multi-head attention\n",
    "        self.attn = nn.MultiheadAttention(hidden_dim, num_heads, dropout=dropout, batch_first=True)\n",
    "\n",
    "        # Layer norms\n",
    "        self.ln1 = nn.LayerNorm(hidden_dim)\n",
    "        self.ln2 = nn.LayerNorm(hidden_dim)\n",
    "\n",
    "        # Feed-forward network\n",
    "        self.ffn = PointWiseFeedForward(hidden_dim, dropout)\n",
    "        self.dropout = nn.Dropout(dropout)\n",
    "\n",
    "    def forward(self, x, attn_mask=None):\n",
    "        # Self-attention with residual connection\n",
    "        attn_out, _ = self.attn(x, x, x, attn_mask=attn_mask)\n",
    "        x = self.ln1(x + self.dropout(attn_out))\n",
    "\n",
    "        # Feed-forward network with residual connection\n",
    "        ffn_out = self.ffn(x)\n",
    "        x = self.ln2(x + self.dropout(ffn_out))\n",
    "\n",
    "        return x\n",
    "\n",
    "class SASRec(nn.Module):\n",
    "    def __init__(self,\n",
    "                 num_items,\n",
    "                 hidden_dim=64,\n",
    "                 max_seq_len=50,\n",
    "                 num_blocks=2,\n",
    "                 num_heads=2,\n",
    "                 dropout=0.2):\n",
    "        super().__init__()\n",
    "\n",
    "        self.num_items = num_items\n",
    "        self.hidden_dim = hidden_dim\n",
    "        self.max_seq_len = max_seq_len\n",
    "\n",
    "        # Embedding layers\n",
    "        self.item_embed = nn.Embedding(num_items, hidden_dim, padding_idx=0)\n",
    "        self.positional_embed = nn.Embedding(max_seq_len, hidden_dim)\n",
    "        self.dropout = nn.Dropout(dropout)\n",
    "\n",
    "        # Stack of SASRec blocks\n",
    "        self.blocks = nn.ModuleList([\n",
    "            AttentionBlock(hidden_dim, num_heads, dropout) for _ in range(num_blocks)\n",
    "        ])\n",
    "\n",
    "        # Final layer norm\n",
    "        self.ln = nn.LayerNorm(hidden_dim)\n",
    "\n",
    "        # Initialize weights\n",
    "        self._reset_parameters()\n",
    "\n",
    "    def _reset_parameters(self):\n",
    "        nn.init.xavier_normal_(self.item_embed.weight[1:])  # Skip padding idx\n",
    "        nn.init.xavier_normal_(self.positional_embed.weight)\n",
    "\n",
    "    def forward(self, input_seq, candidate_items=None):\n",
    "        batch_size, seq_len = input_seq.shape\n",
    "\n",
    "        # Get item embeddings\n",
    "        item_embeds = self.item_embed(input_seq)  # [B, L, D]\n",
    "\n",
    "        # Add positional embeddings\n",
    "        positions = torch.arange(seq_len, device=input_seq.device).unsqueeze(0)\n",
    "        pos_embeds = self.positional_embed(positions)  # [1, L, D]\n",
    "        x = self.dropout(item_embeds + pos_embeds)\n",
    "\n",
    "        # Create causal attention mask\n",
    "        attn_mask = self._create_causal_mask(seq_len, input_seq.device)\n",
    "        pad_mask = input_seq.eq(0)\n",
    "\n",
    "        # Pass through transformer blocks\n",
    "        for block in self.blocks:\n",
    "            x = block(x, attn_mask=attn_mask)\n",
    "\n",
    "        # Final layer norm\n",
    "        x = self.ln(x)  # [B, L, D]\n",
    "        x = x.masked_fill(pad_mask.unsqueeze(-1), 0.0)\n",
    "\n",
    "        # If candidate_items provided, score them\n",
    "        if candidate_items is not None:\n",
    "            # Get embeddings for candidate items\n",
    "            cand_emb = self.item_embed(candidate_items) # [B, N, D]\n",
    "\n",
    "            # Use last position's representation for scoring\n",
    "            last_hidden = x[:, -1, :].unsqueeze(1)  # [B, 1, D]\n",
    "\n",
    "            # Compute scores via dot product\n",
    "            scores = torch.matmul(last_hidden, cand_emb.transpose(1, 2)).squeeze(1) # [B, N]\n",
    "            return scores\n",
    "\n",
    "        return x\n",
    "\n",
    "    def _create_causal_mask(self, seq_len, device):\n",
    "        mask = torch.triu(torch.ones(seq_len, seq_len, device=device, dtype=torch.bool), diagonal=1)\n",
    "        mask = mask.masked_fill(mask == 1, float(\"-inf\"))\n",
    "        return mask\n",
    "\n",
    "    def predict_next(self, input_seq):\n",
    "        # Get sequence representations\n",
    "        seq_repr = self.forward(input_seq)  # [B, L, D]\n",
    "\n",
    "        # Use last position for prediction\n",
    "        last_hidden = seq_repr[:, -1, :]  # [B, D]\n",
    "\n",
    "        # Score against all item embeddings\n",
    "        all_item_embeds = self.item_embed.weight  # [num_items, D]\n",
    "        scores = torch.matmul(last_hidden, all_item_embeds.T)  # [B, num_items]\n",
    "        return scores"
   ],
   "id": "6af96d98ee3a7051",
   "outputs": [],
   "execution_count": 10
  },
  {
   "metadata": {},
   "cell_type": "markdown",
   "source": "### Training and evaluation functions",
   "id": "126fb73d3965ec4f"
  },
  {
   "metadata": {
    "ExecuteTime": {
     "end_time": "2025-08-28T05:25:43.984828Z",
     "start_time": "2025-08-28T05:25:43.975303Z"
    }
   },
   "cell_type": "code",
   "source": [
    "def train_sasrec_epoch(model, train_loader, loss_fn, optimizer, device=\"cpu\"):\n",
    "    model.train()\n",
    "    total_loss = 0.0\n",
    "    n_batches = 0\n",
    "\n",
    "    for batch in tqdm(train_loader, desc=\"Training\"):\n",
    "        input_seq = batch[\"input_seq\"].to(device)\n",
    "        pos_items = batch[\"target\"].to(device)\n",
    "        neg_items = batch[\"neg_items\"].to(device)\n",
    "\n",
    "        # Get predictions for last position\n",
    "        seq_output = model(input_seq)  # [B, L, D]\n",
    "        last_hidden = seq_output[:, -1, :]  # [B, D]\n",
    "\n",
    "        # Get embeddings for positive and negative items\n",
    "        pos_embeds = model.item_embed(pos_items)\n",
    "        neg_embeds = model.item_embed(neg_items)\n",
    "\n",
    "        # Compute logits\n",
    "        pos_logits = (last_hidden * pos_embeds).sum(dim=1)\n",
    "        neg_logits = torch.bmm(neg_embeds, last_hidden.unsqueeze(-1)).squeeze(-1)\n",
    "\n",
    "        # Binary cross-entropy loss with logits\n",
    "        pos_labels = torch.ones_like(pos_logits)\n",
    "        neg_labels = torch.zeros_like(neg_logits)\n",
    "\n",
    "        # Concatenate logits and labels\n",
    "        all_logits = torch.cat([pos_logits.unsqueeze(1), neg_logits], dim=1)\n",
    "        all_labels = torch.cat([pos_labels.unsqueeze(1), neg_labels], dim=1)\n",
    "\n",
    "        loss = loss_fn(all_logits, all_labels)\n",
    "\n",
    "        optimizer.zero_grad()\n",
    "        loss.backward()\n",
    "        optimizer.step()\n",
    "        total_loss += loss.item()\n",
    "        n_batches += 1\n",
    "\n",
    "    return total_loss / n_batches"
   ],
   "id": "89794d62607239d3",
   "outputs": [],
   "execution_count": 11
  },
  {
   "metadata": {
    "ExecuteTime": {
     "end_time": "2025-08-28T05:25:44.000878Z",
     "start_time": "2025-08-28T05:25:43.991820Z"
    }
   },
   "cell_type": "code",
   "source": [
    "# Validation loss and ranking metrics\n",
    "@torch.no_grad()\n",
    "def evaluate_sasrec(model, eval_loader, loss_fn, k=10, device=\"cpu\"):\n",
    "    model.eval()\n",
    "    total = 0\n",
    "    sum_hr = 0.0\n",
    "    sum_ndcg = 0.0\n",
    "    sum_prec = 0.0\n",
    "    sum_mrr = 0.0\n",
    "\n",
    "    sum_val_loss = 0.0\n",
    "    n_loss_batches = 0\n",
    "\n",
    "    for batch in tqdm(eval_loader, desc=\"Evaluating\"):\n",
    "        input_seq = batch[\"input_seq\"].to(device)\n",
    "        target = batch[\"target\"].to(device)\n",
    "        neg_items = batch[\"neg_items\"].to(device)\n",
    "\n",
    "        batch_size = input_seq.size(0)\n",
    "\n",
    "        # Create candidate set: 1 positive + negatives\n",
    "        seq_output = model(input_seq)  # [B, L, D]\n",
    "        last_hidden = seq_output[:, -1, :]  # [B, D]\n",
    "        candidates = torch.cat([\n",
    "            target.unsqueeze(1),  # [B, 1]\n",
    "            neg_items  # [B, neg_samples]\n",
    "        ], dim=1)  # [B, 1 + neg_samples]\n",
    "\n",
    "        # Get embeddings for all candidates\n",
    "        cand_emb = model.item_embed(candidates)  # [B, 1+neg_samples, D]\n",
    "        scores = torch.bmm(cand_emb, last_hidden.unsqueeze(-1)).squeeze(-1)  # [B, 1+neg_samples]\n",
    "\n",
    "        # sanity: positive not in negatives\n",
    "        if torch.any((candidates[:, 1:] == target.unsqueeze(1)).any(dim=1)):\n",
    "            raise RuntimeError(\"Positive item appeared in negatives for some samples.\")\n",
    "\n",
    "        # Loss calculation\n",
    "        pos_scores = scores[:, 0]\n",
    "        neg_scores = scores[:, 1:]\n",
    "        pos_labels = torch.ones_like(scores[:, 0])\n",
    "        neg_labels = torch.zeros_like(scores[:, 1:])\n",
    "        all_scores = torch.cat([pos_scores.unsqueeze(1), neg_scores], dim=1)\n",
    "        all_labels = torch.cat([pos_labels.unsqueeze(1), neg_labels], dim=1)\n",
    "        batch_loss = loss_fn(all_scores.reshape(-1), all_labels.reshape(-1))\n",
    "        sum_val_loss += batch_loss.item()\n",
    "        n_loss_batches += 1\n",
    "\n",
    "        # Calculate metrics\n",
    "        _, full_idx = torch.sort(scores, dim=1, descending=True)\n",
    "        rank  = (full_idx == 0).nonzero(as_tuple=True)[1] + 1  # Rank of the positive item (1-based)\n",
    "\n",
    "        hit = (rank <= k).float()\n",
    "        ndcg = torch.where(rank <= k, 1.0 / torch.log2(rank.float() + 1), torch.zeros_like(hit))\n",
    "        precision = hit / float(k)\n",
    "        mrr = torch.where(rank <= k, 1.0 / rank.float(), torch.zeros_like(hit))\n",
    "\n",
    "        sum_hr += hit.sum().item()\n",
    "        sum_ndcg += ndcg.sum().item()\n",
    "        sum_prec += precision.sum().item()\n",
    "        sum_mrr += mrr.sum().item()\n",
    "        total += batch_size\n",
    "\n",
    "    metrics = {\n",
    "        \"HR@K\": sum_hr / total if total else 0.0,\n",
    "        \"NDCG@K\": sum_ndcg / total if total else 0.0,\n",
    "        \"Precision@K\": sum_prec / total if total else 0.0,\n",
    "        \"MRR@K\": sum_mrr / total if total else 0.0,\n",
    "        \"Val loss\": sum_val_loss / max(n_loss_batches, 1)\n",
    "    }\n",
    "\n",
    "    return metrics"
   ],
   "id": "206c2ec3b34e4147",
   "outputs": [],
   "execution_count": 12
  },
  {
   "metadata": {
    "ExecuteTime": {
     "end_time": "2025-08-28T05:25:44.016935Z",
     "start_time": "2025-08-28T05:25:44.008875Z"
    }
   },
   "cell_type": "code",
   "source": [
    "def sasrec_trainer(\n",
    "        model,\n",
    "        train_loader,\n",
    "        eval_loader,\n",
    "        epochs,\n",
    "        loss_fn,\n",
    "        optimizer,\n",
    "        k=10,\n",
    "        device=\"cpu\",\n",
    "        save_dir=\"model\"\n",
    "    ):\n",
    "    os.makedirs(save_dir, exist_ok=True)\n",
    "    model.to(device)\n",
    "    writer = SummaryWriter()\n",
    "\n",
    "    train_losses, val_losses, val_metrics_log = [], [], []\n",
    "    best_ndcg, best_epoch = 0.0, 0\n",
    "\n",
    "    for epoch in range(epochs):\n",
    "        t0 = time.time()\n",
    "\n",
    "        # Train (batched)\n",
    "        train_loss = train_sasrec_epoch(model, train_loader, loss_fn, optimizer, device=device)\n",
    "        train_losses.append(train_loss)\n",
    "\n",
    "        # Eval (batched)\n",
    "        m = evaluate_sasrec(model, eval_loader, loss_fn, k=k, device=device)\n",
    "        val_losses.append(m[\"Val loss\"])\n",
    "        val_metrics_log.append({k_: m[k_] for k_ in [\"HR@K\", \"NDCG@K\", \"Precision@K\", \"MRR@K\"]})\n",
    "\n",
    "        # Checkpointing by NDCG\n",
    "        if m[\"NDCG@K\"] > best_ndcg:\n",
    "            best_ndcg = m[\"NDCG@K\"]\n",
    "            best_epoch = epoch + 1\n",
    "            torch.save(model.state_dict(), os.path.join(save_dir, \"best_model_src.pth\"))\n",
    "        torch.save(model.state_dict(), os.path.join(save_dir, \"last_model_src.pth\"))\n",
    "\n",
    "        # TB logs\n",
    "        writer.add_scalar(\"Loss/Train\", train_loss, epoch)\n",
    "        writer.add_scalar(\"Loss/Validation\", m[\"Val loss\"], epoch)\n",
    "        writer.add_scalar(f\"Metrics/Val_HR@{k}\", m[\"HR@K\"], epoch)\n",
    "        writer.add_scalar(f\"Metrics/Val_NDCG@{k}\", m[\"NDCG@K\"], epoch)\n",
    "        writer.add_scalar(f\"Metrics/Val_Precision@{k}\", m[\"Precision@K\"], epoch)\n",
    "        writer.add_scalar(f\"Metrics/Val_MRR@{k}\", m[\"MRR@K\"], epoch)\n",
    "\n",
    "        print(\n",
    "            f\"Epoch {epoch+1}/{epochs}  \"\n",
    "            f\"Train loss {train_loss:.4f}  \"\n",
    "            f\"Val loss {m['Val loss']:.4f}  \"\n",
    "            f\"HR@{k} {m['HR@K']:.4f}  \"\n",
    "            f\"NDCG@{k} {m['NDCG@K']:.4f}  \"\n",
    "            f\"Precision@{k} {m['Precision@K']:.4f}  \"\n",
    "            f\"MRR@{k} {m['MRR@K']:.4f}  \"\n",
    "            f\"{'(new best)' if m['NDCG@K'] == best_ndcg and best_epoch==epoch+1 else ''}  \"\n",
    "            f\"Time {time.time()-t0:.2f}s\"\n",
    "        )\n",
    "\n",
    "    print(\"\\nTraining Complete.\")\n",
    "    print(f\"Best epoch: {best_epoch} with NDCG@{k}: {best_ndcg:.4f}\\n\")\n",
    "\n",
    "    gc.collect()\n",
    "    if torch.cuda.is_available():\n",
    "        torch.cuda.empty_cache()\n",
    "    writer.close()\n",
    "    return train_losses, val_losses, val_metrics_log, best_ndcg"
   ],
   "id": "2cb1cd31cab2153b",
   "outputs": [],
   "execution_count": 13
  },
  {
   "metadata": {},
   "cell_type": "markdown",
   "source": "### Training the model",
   "id": "2199dc5aecc7393a"
  },
  {
   "metadata": {
    "ExecuteTime": {
     "end_time": "2025-08-28T05:26:17.715859Z",
     "start_time": "2025-08-28T05:25:44.024934Z"
    }
   },
   "cell_type": "code",
   "source": [
    "# Hyperparameters from the original paper, except higher hidden_dim\n",
    "sasrec = SASRec(\n",
    "    num_items=NUM_ITEMS,\n",
    "    hidden_dim=64,\n",
    "    max_seq_len=50,\n",
    "    num_blocks=2,\n",
    "    num_heads=2,\n",
    "    dropout=0.2\n",
    ")\n",
    "\n",
    "loss_fn_sasrec = nn.BCEWithLogitsLoss()\n",
    "optimizer_sasrec = torch.optim.Adam(sasrec.parameters(), lr=1e-3, weight_decay=1e-6)\n",
    "\n",
    "train_losses_sasrec, val_losses_sasrec, val_metrics_sasrec, best_ndcg_sasrec = sasrec_trainer(\n",
    "    model=sasrec,\n",
    "    train_loader=train_loader,\n",
    "    eval_loader=val_loader,\n",
    "    loss_fn=loss_fn_sasrec,\n",
    "    optimizer=optimizer_sasrec,\n",
    "    epochs=20,\n",
    "    k=10,\n",
    "    device=DEVICE,\n",
    "    save_dir=\"model_sasrec\"\n",
    ")"
   ],
   "id": "52c46a03093c0707",
   "outputs": [
    {
     "name": "stderr",
     "output_type": "stream",
     "text": [
      "Training: 100%|██████████| 4/4 [00:01<00:00,  2.76it/s]\n",
      "Evaluating: 100%|██████████| 1/1 [00:00<00:00,  2.37it/s]\n"
     ]
    },
    {
     "name": "stdout",
     "output_type": "stream",
     "text": [
      "Epoch 1/20  Train loss 0.6926  Val loss 0.6928  HR@10 0.1308  NDCG@10 0.0617  Precision@10 0.0131  MRR@10 0.0411  (new best)  Time 2.10s\n"
     ]
    },
    {
     "name": "stderr",
     "output_type": "stream",
     "text": [
      "Training: 100%|██████████| 4/4 [00:00<00:00,  4.98it/s]\n",
      "Evaluating: 100%|██████████| 1/1 [00:00<00:00,  2.68it/s]\n"
     ]
    },
    {
     "name": "stdout",
     "output_type": "stream",
     "text": [
      "Epoch 2/20  Train loss 0.6766  Val loss 0.6884  HR@10 0.1602  NDCG@10 0.0772  Precision@10 0.0160  MRR@10 0.0524  (new best)  Time 1.40s\n"
     ]
    },
    {
     "name": "stderr",
     "output_type": "stream",
     "text": [
      "Training: 100%|██████████| 4/4 [00:00<00:00,  4.27it/s]\n",
      "Evaluating: 100%|██████████| 1/1 [00:00<00:00,  2.32it/s]\n"
     ]
    },
    {
     "name": "stdout",
     "output_type": "stream",
     "text": [
      "Epoch 3/20  Train loss 0.6605  Val loss 0.6836  HR@10 0.1811  NDCG@10 0.0886  Precision@10 0.0181  MRR@10 0.0609  (new best)  Time 1.60s\n"
     ]
    },
    {
     "name": "stderr",
     "output_type": "stream",
     "text": [
      "Training: 100%|██████████| 4/4 [00:00<00:00,  5.00it/s]\n",
      "Evaluating: 100%|██████████| 1/1 [00:00<00:00,  2.66it/s]\n"
     ]
    },
    {
     "name": "stdout",
     "output_type": "stream",
     "text": [
      "Epoch 4/20  Train loss 0.6453  Val loss 0.6787  HR@10 0.1795  NDCG@10 0.0912  Precision@10 0.0180  MRR@10 0.0647  (new best)  Time 1.38s\n"
     ]
    },
    {
     "name": "stderr",
     "output_type": "stream",
     "text": [
      "Training: 100%|██████████| 4/4 [00:00<00:00,  4.07it/s]\n",
      "Evaluating: 100%|██████████| 1/1 [00:00<00:00,  1.58it/s]\n"
     ]
    },
    {
     "name": "stdout",
     "output_type": "stream",
     "text": [
      "Epoch 5/20  Train loss 0.6317  Val loss 0.6735  HR@10 0.1835  NDCG@10 0.0936  Precision@10 0.0184  MRR@10 0.0665  (new best)  Time 1.84s\n"
     ]
    },
    {
     "name": "stderr",
     "output_type": "stream",
     "text": [
      "Training: 100%|██████████| 4/4 [00:00<00:00,  4.25it/s]\n",
      "Evaluating: 100%|██████████| 1/1 [00:00<00:00,  2.61it/s]\n"
     ]
    },
    {
     "name": "stdout",
     "output_type": "stream",
     "text": [
      "Epoch 6/20  Train loss 0.6190  Val loss 0.6693  HR@10 0.1896  NDCG@10 0.0964  Precision@10 0.0190  MRR@10 0.0684  (new best)  Time 1.53s\n"
     ]
    },
    {
     "name": "stderr",
     "output_type": "stream",
     "text": [
      "Training: 100%|██████████| 4/4 [00:00<00:00,  4.29it/s]\n",
      "Evaluating: 100%|██████████| 1/1 [00:00<00:00,  2.44it/s]\n"
     ]
    },
    {
     "name": "stdout",
     "output_type": "stream",
     "text": [
      "Epoch 7/20  Train loss 0.6080  Val loss 0.6656  HR@10 0.1939  NDCG@10 0.0981  Precision@10 0.0194  MRR@10 0.0694  (new best)  Time 1.56s\n"
     ]
    },
    {
     "name": "stderr",
     "output_type": "stream",
     "text": [
      "Training: 100%|██████████| 4/4 [00:01<00:00,  3.42it/s]\n",
      "Evaluating: 100%|██████████| 1/1 [00:00<00:00,  2.55it/s]\n"
     ]
    },
    {
     "name": "stdout",
     "output_type": "stream",
     "text": [
      "Epoch 8/20  Train loss 0.5987  Val loss 0.6620  HR@10 0.1924  NDCG@10 0.0974  Precision@10 0.0192  MRR@10 0.0690    Time 1.68s\n"
     ]
    },
    {
     "name": "stderr",
     "output_type": "stream",
     "text": [
      "Training: 100%|██████████| 4/4 [00:00<00:00,  4.24it/s]\n",
      "Evaluating: 100%|██████████| 1/1 [00:00<00:00,  2.67it/s]\n"
     ]
    },
    {
     "name": "stdout",
     "output_type": "stream",
     "text": [
      "Epoch 9/20  Train loss 0.5922  Val loss 0.6589  HR@10 0.1945  NDCG@10 0.0975  Precision@10 0.0195  MRR@10 0.0684    Time 1.43s\n"
     ]
    },
    {
     "name": "stderr",
     "output_type": "stream",
     "text": [
      "Training: 100%|██████████| 4/4 [00:01<00:00,  3.88it/s]\n",
      "Evaluating: 100%|██████████| 1/1 [00:00<00:00,  2.29it/s]\n"
     ]
    },
    {
     "name": "stdout",
     "output_type": "stream",
     "text": [
      "Epoch 10/20  Train loss 0.5862  Val loss 0.6556  HR@10 0.1884  NDCG@10 0.0964  Precision@10 0.0188  MRR@10 0.0688    Time 1.60s\n"
     ]
    },
    {
     "name": "stderr",
     "output_type": "stream",
     "text": [
      "Training: 100%|██████████| 4/4 [00:00<00:00,  4.34it/s]\n",
      "Evaluating: 100%|██████████| 1/1 [00:00<00:00,  2.67it/s]\n"
     ]
    },
    {
     "name": "stdout",
     "output_type": "stream",
     "text": [
      "Epoch 11/20  Train loss 0.5790  Val loss 0.6523  HR@10 0.1924  NDCG@10 0.0979  Precision@10 0.0192  MRR@10 0.0696    Time 1.40s\n"
     ]
    },
    {
     "name": "stderr",
     "output_type": "stream",
     "text": [
      "Training: 100%|██████████| 4/4 [00:01<00:00,  3.79it/s]\n",
      "Evaluating: 100%|██████████| 1/1 [00:00<00:00,  2.55it/s]\n"
     ]
    },
    {
     "name": "stdout",
     "output_type": "stream",
     "text": [
      "Epoch 12/20  Train loss 0.5755  Val loss 0.6497  HR@10 0.1903  NDCG@10 0.0969  Precision@10 0.0190  MRR@10 0.0689    Time 1.55s\n"
     ]
    },
    {
     "name": "stderr",
     "output_type": "stream",
     "text": [
      "Training: 100%|██████████| 4/4 [00:00<00:00,  4.27it/s]\n",
      "Evaluating: 100%|██████████| 1/1 [00:00<00:00,  2.21it/s]\n"
     ]
    },
    {
     "name": "stdout",
     "output_type": "stream",
     "text": [
      "Epoch 13/20  Train loss 0.5729  Val loss 0.6453  HR@10 0.1915  NDCG@10 0.0963  Precision@10 0.0191  MRR@10 0.0678    Time 1.50s\n"
     ]
    },
    {
     "name": "stderr",
     "output_type": "stream",
     "text": [
      "Training: 100%|██████████| 4/4 [00:00<00:00,  4.24it/s]\n",
      "Evaluating: 100%|██████████| 1/1 [00:00<00:00,  2.61it/s]\n"
     ]
    },
    {
     "name": "stdout",
     "output_type": "stream",
     "text": [
      "Epoch 14/20  Train loss 0.5692  Val loss 0.6424  HR@10 0.1942  NDCG@10 0.1014  Precision@10 0.0194  MRR@10 0.0735  (new best)  Time 1.54s\n"
     ]
    },
    {
     "name": "stderr",
     "output_type": "stream",
     "text": [
      "Training: 100%|██████████| 4/4 [00:01<00:00,  3.47it/s]\n",
      "Evaluating: 100%|██████████| 1/1 [00:00<00:00,  2.51it/s]\n"
     ]
    },
    {
     "name": "stdout",
     "output_type": "stream",
     "text": [
      "Epoch 15/20  Train loss 0.5661  Val loss 0.6396  HR@10 0.1927  NDCG@10 0.0991  Precision@10 0.0193  MRR@10 0.0709    Time 1.67s\n"
     ]
    },
    {
     "name": "stderr",
     "output_type": "stream",
     "text": [
      "Training: 100%|██████████| 4/4 [00:00<00:00,  4.38it/s]\n",
      "Evaluating: 100%|██████████| 1/1 [00:00<00:00,  2.51it/s]\n"
     ]
    },
    {
     "name": "stdout",
     "output_type": "stream",
     "text": [
      "Epoch 16/20  Train loss 0.5649  Val loss 0.6364  HR@10 0.1955  NDCG@10 0.0992  Precision@10 0.0195  MRR@10 0.0703    Time 1.42s\n"
     ]
    },
    {
     "name": "stderr",
     "output_type": "stream",
     "text": [
      "Training: 100%|██████████| 4/4 [00:01<00:00,  3.65it/s]\n",
      "Evaluating: 100%|██████████| 1/1 [00:00<00:00,  2.31it/s]\n"
     ]
    },
    {
     "name": "stdout",
     "output_type": "stream",
     "text": [
      "Epoch 17/20  Train loss 0.5602  Val loss 0.6327  HR@10 0.1952  NDCG@10 0.0988  Precision@10 0.0195  MRR@10 0.0698    Time 1.64s\n"
     ]
    },
    {
     "name": "stderr",
     "output_type": "stream",
     "text": [
      "Training: 100%|██████████| 4/4 [00:00<00:00,  4.03it/s]\n",
      "Evaluating: 100%|██████████| 1/1 [00:00<00:00,  2.00it/s]\n"
     ]
    },
    {
     "name": "stdout",
     "output_type": "stream",
     "text": [
      "Epoch 18/20  Train loss 0.5580  Val loss 0.6300  HR@10 0.1973  NDCG@10 0.1000  Precision@10 0.0197  MRR@10 0.0708    Time 1.61s\n"
     ]
    },
    {
     "name": "stderr",
     "output_type": "stream",
     "text": [
      "Training: 100%|██████████| 4/4 [00:01<00:00,  3.59it/s]\n",
      "Evaluating: 100%|██████████| 1/1 [00:00<00:00,  2.46it/s]\n"
     ]
    },
    {
     "name": "stdout",
     "output_type": "stream",
     "text": [
      "Epoch 19/20  Train loss 0.5590  Val loss 0.6284  HR@10 0.1933  NDCG@10 0.0978  Precision@10 0.0193  MRR@10 0.0691    Time 1.63s\n"
     ]
    },
    {
     "name": "stderr",
     "output_type": "stream",
     "text": [
      "Training: 100%|██████████| 4/4 [00:00<00:00,  4.39it/s]\n",
      "Evaluating: 100%|██████████| 1/1 [00:00<00:00,  2.06it/s]\n"
     ]
    },
    {
     "name": "stdout",
     "output_type": "stream",
     "text": [
      "Epoch 20/20  Train loss 0.5574  Val loss 0.6241  HR@10 0.1979  NDCG@10 0.0990  Precision@10 0.0198  MRR@10 0.0694    Time 1.50s\n",
      "\n",
      "Training Complete.\n",
      "Best epoch: 14 with NDCG@10: 0.1014\n",
      "\n"
     ]
    }
   ],
   "execution_count": 14
  },
  {
   "metadata": {},
   "cell_type": "markdown",
   "source": "## Cross-domain development",
   "id": "b431468b22f94a82"
  },
  {
   "metadata": {
    "ExecuteTime": {
     "end_time": "2025-08-28T05:26:17.747846Z",
     "start_time": "2025-08-28T05:26:17.743621Z"
    }
   },
   "cell_type": "code",
   "source": [
    "# Load trained model on source domain\n",
    "def load_best_weights(model, ckpt_path=\"model/best_model.pth\", device=\"cpu\"):\n",
    "    if not os.path.exists(ckpt_path):\n",
    "        raise FileNotFoundError(f\"Checkpoint not found: {ckpt_path}\")\n",
    "    state = torch.load(ckpt_path, map_location=\"cpu\")\n",
    "    model.cpu()\n",
    "    model.load_state_dict(state)\n",
    "    model.to(device).eval()\n",
    "    return model"
   ],
   "id": "56a95e546e8757d1",
   "outputs": [],
   "execution_count": 15
  },
  {
   "metadata": {},
   "cell_type": "markdown",
   "source": "### Align users across domains",
   "id": "f20f9dbcb0fe38c9"
  },
  {
   "metadata": {
    "ExecuteTime": {
     "end_time": "2025-08-28T06:14:35.968390Z",
     "start_time": "2025-08-28T06:14:35.960444Z"
    }
   },
   "cell_type": "code",
   "source": [
    "@torch.no_grad()\n",
    "def compute_user_reprs_from_sequences(model_src, train_seqs_src, user_encoder_src, max_seq_len=50, device=DEVICE):\n",
    "    model_src.eval().to(device)\n",
    "    user_vecs = {}\n",
    "\n",
    "    for user_id, seq in train_seqs_src.items():\n",
    "        if len(seq) < 1:\n",
    "            continue\n",
    "\n",
    "        # Pad-left to max_seq_len\n",
    "        seq = seq[-max_seq_len:]\n",
    "        pad_len = max_seq_len - len(seq)\n",
    "        input_seq = torch.tensor([([0] * pad_len + seq)], dtype=torch.long, device=device)\n",
    "        hidden = model_src(input_seq)\n",
    "        last_hidden = hidden[0, -1, :].squeeze(0)\n",
    "        raw_user = user_encoder_src.inverse_transform([user_id])[0]\n",
    "        user_vecs[raw_user] = last_hidden.detach().cpu().numpy()\n",
    "\n",
    "    print(f\"\\nComputed user representations for {len(user_vecs)} users.\")\n",
    "    return user_vecs"
   ],
   "id": "58042328ee681734",
   "outputs": [],
   "execution_count": 37
  },
  {
   "metadata": {
    "ExecuteTime": {
     "end_time": "2025-08-28T06:15:33.181801Z",
     "start_time": "2025-08-28T06:14:36.473515Z"
    }
   },
   "cell_type": "code",
   "source": [
    "# Cross-domain evaluation on target domain\n",
    "SOURCE_DOMAIN = \"Books\"\n",
    "TARGET_DOMAIN = \"Movies_and_TV\"\n",
    "ALL_DOMAIN = [SOURCE_DOMAIN, TARGET_DOMAIN]\n",
    "\n",
    "# Load data from target domain\n",
    "df_target = load_amazon_reviews(TARGET_DOMAIN, max_items=4_000_000, seed=SEED)\n",
    "filtered_df_target = preprocess_dataset(df_target, min_user_interactions=20, min_item_interactions=20)\n",
    "df_target_encoded, user_encoder_tgt, item_encoder_tgt, domain_encoder_tgt = label_encoder(filtered_df_target, shift_item_id=True)\n",
    "\n",
    "NUM_USERS_TGT = df_target_encoded[\"user_id\"].max() + 1\n",
    "NUM_ITEMS_TGT = df_target_encoded[\"item_id\"].max() + 1\n",
    "\n",
    "# Rebuild sequences for target domain and split\n",
    "user_sequences_tgt = create_user_sequences(df_target_encoded)\n",
    "pos_items_by_user_tgt = {u: set(seq) for u, seq in user_sequences_tgt.items()}\n",
    "train_sequences_tgt, val_sequences_tgt, test_sequences_tgt = sequences_loo_split(user_sequences_tgt)\n",
    "\n",
    "# Build source user vectors from the trained source model\n",
    "user_vecs_src = compute_user_reprs_from_sequences(\n",
    "    model_src=sasrec,\n",
    "    train_seqs_src=train_sequences,\n",
    "    user_encoder_src=user_encoder,\n",
    "    max_seq_len=50,\n",
    "    device=DEVICE\n",
    ")\n",
    "\n",
    "# Create an aligned matrix of source vectors in target's user_id space\n",
    "embed_dim = 64\n",
    "transfer_src_mat = np.zeros((NUM_USERS_TGT, embed_dim), dtype=np.float32)\n",
    "for raw_user, vec in user_vecs_src.items():\n",
    "    if raw_user in user_encoder_tgt.classes_:\n",
    "        uid_target = user_encoder_tgt.transform([raw_user])[0]\n",
    "        transfer_src_mat[uid_target] = vec # give source user vector to target user_id (shared users)\n",
    "\n",
    "transfer_src_mat = torch.tensor(transfer_src_mat)  # [U_T, D]\n",
    "print(\"\\n\")\n",
    "print(transfer_src_mat)"
   ],
   "id": "85d2e182c914668a",
   "outputs": [
    {
     "name": "stdout",
     "output_type": "stream",
     "text": [
      "Loaded data/amazon_reviews_Movies_and_TV.csv with 4000000 rows.\n",
      "After interactions filtering: 98935 rows, 5686 users, 26709 items\n",
      "Number of users: 5686\n",
      "Max sequence length: 270\n",
      "Min sequence length: 1\n",
      "Training sequences: 5534\n",
      "Validation users: 5534\n",
      "Test users: 5534\n",
      "\n",
      "Computed user representations for 3264 users.\n",
      "\n",
      "\n",
      "tensor([[ 0.0000,  0.0000,  0.0000,  ...,  0.0000,  0.0000,  0.0000],\n",
      "        [ 0.0000,  0.0000,  0.0000,  ...,  0.0000,  0.0000,  0.0000],\n",
      "        [ 0.0000,  0.0000,  0.0000,  ...,  0.0000,  0.0000,  0.0000],\n",
      "        ...,\n",
      "        [ 0.0000,  0.0000,  0.0000,  ...,  0.0000,  0.0000,  0.0000],\n",
      "        [ 0.0000,  0.0000,  0.0000,  ...,  0.0000,  0.0000,  0.0000],\n",
      "        [-1.1074,  1.2010,  1.1540,  ..., -0.9452, -1.1309, -1.0154]])\n"
     ]
    }
   ],
   "execution_count": 38
  },
  {
   "metadata": {},
   "cell_type": "markdown",
   "source": "### Dataset and DataLoader for cross-domain",
   "id": "8fe47cc91330d75d"
  },
  {
   "metadata": {
    "ExecuteTime": {
     "end_time": "2025-08-28T06:15:33.290047Z",
     "start_time": "2025-08-28T06:15:33.282987Z"
    }
   },
   "cell_type": "code",
   "source": [
    "# Additional dataset changes for cross-domain\n",
    "class SASRecDatasetCD(SASRecDataset):\n",
    "    def __init__(self, data, num_items, transfer_src_mat, max_seq_len=50, mode=\"train\", neg_samples=1):\n",
    "        super().__init__(data, num_items, max_seq_len=max_seq_len, mode=mode, neg_samples=neg_samples)\n",
    "        self.transfer_src_mat = transfer_src_mat\n",
    "\n",
    "    def __getitem__(self, idx):\n",
    "        out = super().__getitem__(idx)\n",
    "        user_id = out[\"user\"]\n",
    "        out[\"transfer_src\"] = self.transfer_src_mat[user_id].float()\n",
    "        return out"
   ],
   "id": "fb352b01f59749f8",
   "outputs": [],
   "execution_count": 39
  },
  {
   "metadata": {
    "ExecuteTime": {
     "end_time": "2025-08-28T06:15:33.440492Z",
     "start_time": "2025-08-28T06:15:33.308559Z"
    }
   },
   "cell_type": "code",
   "source": [
    "#Target datasets & loaders\n",
    "train_dataset_tgt = SASRecDatasetCD(train_sequences_tgt, NUM_ITEMS_TGT, transfer_src_mat, max_seq_len=50, mode=\"train\", neg_samples=1)\n",
    "val_dataset_tgt = SASRecDatasetCD(val_sequences_tgt, NUM_ITEMS_TGT, transfer_src_mat, max_seq_len=50, mode=\"val\", neg_samples=99)\n",
    "test_dataset_tgt = SASRecDatasetCD(test_sequences_tgt, NUM_ITEMS_TGT, transfer_src_mat, max_seq_len=50, mode=\"test\", neg_samples=99)\n",
    "\n",
    "train_loader_tgt = DataLoader(train_dataset_tgt, batch_size=BATCH_SIZE, shuffle=True)\n",
    "val_loader_tgt   = DataLoader(val_dataset_tgt,   batch_size=BATCH_SIZE, shuffle=False)\n",
    "test_loader_tgt  = DataLoader(test_dataset_tgt,  batch_size=BATCH_SIZE, shuffle=False)"
   ],
   "id": "c95053be10a6e3af",
   "outputs": [],
   "execution_count": 40
  },
  {
   "metadata": {},
   "cell_type": "markdown",
   "source": [
    "### Cross-domain SASRec model\n",
    "This technique is inspired by the paper [Personalized Transfer of User Preferences for Cross-domain Recommendation (2021)](https://arxiv.org/abs/2110.11154)."
   ],
   "id": "822d0dc78c291e13"
  },
  {
   "metadata": {
    "ExecuteTime": {
     "end_time": "2025-08-28T06:15:33.462913Z",
     "start_time": "2025-08-28T06:15:33.456439Z"
    }
   },
   "cell_type": "code",
   "source": [
    "# class SASRecCD(nn.Module):\n",
    "#     def __init__(self, base_sasrec, hidden_dim=64, bridge_hidden=128, dropout=0.1):\n",
    "#         super().__init__()\n",
    "#         self.base = base_sasrec\n",
    "#         self.bridge = nn.Sequential(\n",
    "#             nn.Linear(hidden_dim, bridge_hidden),\n",
    "#             nn.ReLU(),\n",
    "#             nn.Dropout(dropout),\n",
    "#             nn.Linear(bridge_hidden, hidden_dim)\n",
    "#         )\n",
    "#         self.gate = nn.Linear(hidden_dim * 2, hidden_dim)\n",
    "#\n",
    "#     def forward(self, input_seq, transfer_src=None, candidate_items=None):\n",
    "#         seq_output = self.base(input_seq)\n",
    "#         last_hidden = seq_output[:, -1, :]\n",
    "#\n",
    "#         if transfer_src is not None:\n",
    "#             bridge_out = self.bridge(transfer_src)\n",
    "#             combined = torch.cat([last_hidden, bridge_out], dim=-1)\n",
    "#             gate = torch.sigmoid(self.gate(combined))\n",
    "#             fused = gate * last_hidden + (1.0 - gate) * bridge_out\n",
    "#         else:\n",
    "#             fused = last_hidden\n",
    "#\n",
    "#         if candidate_items is not None:\n",
    "#             cand_emb = self.base.item_embed(candidate_items)\n",
    "#             scores = torch.bmm(cand_emb, fused.unsqueeze(-1)).squeeze(-1)\n",
    "#             return scores\n",
    "#\n",
    "#         return fused"
   ],
   "id": "4df69b2ba0f29f83",
   "outputs": [],
   "execution_count": 41
  },
  {
   "metadata": {
    "ExecuteTime": {
     "end_time": "2025-08-28T06:47:23.479591Z",
     "start_time": "2025-08-28T06:47:23.469422Z"
    }
   },
   "cell_type": "code",
   "source": [
    "class SASRecCD(nn.Module):\n",
    "    def __init__(self, base_sasrec, hidden_dim=64, bridge_hidden=128, dropout=0.1):\n",
    "        super().__init__()\n",
    "        self.base = base_sasrec\n",
    "        self.bridge = nn.Sequential(\n",
    "            nn.Linear(hidden_dim, bridge_hidden),\n",
    "            nn.ReLU(),\n",
    "            nn.Dropout(dropout),\n",
    "            nn.Linear(bridge_hidden, hidden_dim)\n",
    "        )\n",
    "        self.linear = nn.Linear(hidden_dim * 2, hidden_dim)\n",
    "\n",
    "\n",
    "    def forward(self, input_seq, transfer_src=None, candidate_items=None):\n",
    "        seq_output = self.base(input_seq)\n",
    "        last_hidden = seq_output[:, -1, :]\n",
    "\n",
    "        if transfer_src is not None:\n",
    "            bridge_out = self.bridge(transfer_src)\n",
    "            has_transfer = (transfer_src.abs().sum(dim=-1, keepdim=True) > 0).float()\n",
    "            last_hidden_n = nn.functional.layer_norm(last_hidden, last_hidden.shape[-1:])\n",
    "            bridge_out_n = nn.functional.layer_norm(bridge_out, bridge_out.shape[-1:])\n",
    "            combined = torch.cat([last_hidden_n, bridge_out_n], dim=-1)\n",
    "            gate = torch.sigmoid(self.linear(combined))\n",
    "            fused_gate = gate * last_hidden + (1.0 - gate) * bridge_out\n",
    "            fused = has_transfer * fused_gate + (1.0 - has_transfer) * last_hidden\n",
    "        else:\n",
    "            fused = last_hidden\n",
    "\n",
    "        if candidate_items is not None:\n",
    "            cand_emb = self.base.item_embed(candidate_items)\n",
    "            scores = torch.bmm(cand_emb, fused.unsqueeze(-1)).squeeze(-1)\n",
    "            return scores\n",
    "\n",
    "        return fused"
   ],
   "id": "2dbb085a69e59ff",
   "outputs": [],
   "execution_count": 96
  },
  {
   "metadata": {},
   "cell_type": "markdown",
   "source": "### Training and evaluation functions for cross-domain",
   "id": "e272ab095ba4ce41"
  },
  {
   "metadata": {
    "ExecuteTime": {
     "end_time": "2025-08-28T06:47:23.837884Z",
     "start_time": "2025-08-28T06:47:23.829287Z"
    }
   },
   "cell_type": "code",
   "source": [
    "def train_epoch_transfer(model, loader, loss_fn, optimizer, device=\"cpu\"):\n",
    "    model.train()\n",
    "    total, n = 0.0, 0\n",
    "    for batch in tqdm(loader, desc=\"Training\"):\n",
    "        inp = batch[\"input_seq\"].to(device)\n",
    "        pos = batch[\"target\"].to(device)\n",
    "        neg = batch[\"neg_items\"].to(device)\n",
    "        transfer = batch[\"transfer_src\"].to(device)\n",
    "\n",
    "        # fused representation\n",
    "        fused = model(inp, transfer_src=transfer)\n",
    "        pos_emb = model.base.item_embed(pos)\n",
    "        neg_emb = model.base.item_embed(neg)\n",
    "\n",
    "        pos_logits = (fused * pos_emb).sum(dim=1)\n",
    "        neg_logits = torch.bmm(neg_emb, fused.unsqueeze(-1)).squeeze(-1)\n",
    "\n",
    "        all_logits = torch.cat([pos_logits.unsqueeze(1), neg_logits], 1)\n",
    "        all_labels = torch.cat([torch.ones_like(pos_logits).unsqueeze(1),\n",
    "                                torch.zeros_like(neg_logits)], 1)\n",
    "\n",
    "        loss = loss_fn(all_logits.reshape(-1), all_labels.reshape(-1))\n",
    "        optimizer.zero_grad()\n",
    "        loss.backward()\n",
    "        optimizer.step()\n",
    "\n",
    "        total += loss.item(); n += 1\n",
    "    return total / n"
   ],
   "id": "9b5d3f950196aeee",
   "outputs": [],
   "execution_count": 97
  },
  {
   "metadata": {
    "ExecuteTime": {
     "end_time": "2025-08-28T06:47:24.015821Z",
     "start_time": "2025-08-28T06:47:24.004441Z"
    }
   },
   "cell_type": "code",
   "source": [
    "@torch.no_grad()\n",
    "def evaluate_transfer(model, loader, loss_fn, k=10, device=\"cpu\"):\n",
    "    model.eval()\n",
    "    total = hits = ndcgs = precs = mrrs = 0.0\n",
    "    loss_sum, nb = 0.0, 0\n",
    "\n",
    "    for batch in tqdm(loader, desc=\"Evaluating\"):\n",
    "        inp = batch[\"input_seq\"].to(device)\n",
    "        tgt = batch[\"target\"].to(device)\n",
    "        neg = batch[\"neg_items\"].to(device)\n",
    "        transfer = batch[\"transfer_src\"].to(device)\n",
    "\n",
    "        fused = model(inp, transfer_src=transfer)\n",
    "        cand = torch.cat([tgt.unsqueeze(1), neg], dim=1)\n",
    "        cand_emb = model.base.item_embed(cand)\n",
    "        scores = torch.bmm(cand_emb, fused.unsqueeze(-1)).squeeze(-1)\n",
    "\n",
    "        # loss\n",
    "        labels = torch.cat([torch.ones_like(scores[:, :1]),\n",
    "                            torch.zeros_like(scores[:, 1:])], dim=1)\n",
    "        batch_loss = loss_fn(scores.reshape(-1), labels.reshape(-1))\n",
    "        loss_sum += batch_loss.item(); nb += 1\n",
    "\n",
    "        # ranks & metrics\n",
    "        _, idx = torch.sort(scores, dim=1, descending=True)\n",
    "        rank = (idx == 0).nonzero(as_tuple=True)[1] + 1  # 1-based\n",
    "        hit = (rank <= k).float()\n",
    "        ndcg = torch.where(rank <= k, 1.0 / torch.log2(rank.float() + 1), torch.zeros_like(hit))\n",
    "        precision = hit / float(k)\n",
    "        mrr = 1.0 / rank.float()\n",
    "\n",
    "        B = inp.size(0)\n",
    "        hits += hit.sum().item()\n",
    "        ndcgs += ndcg.sum().item()\n",
    "        precs += precision.sum().item()\n",
    "        mrrs += mrr.sum().item()\n",
    "        total += B\n",
    "\n",
    "    return {\n",
    "        \"HR@K\": hits / total,\n",
    "        \"NDCG@K\": ndcgs / total,\n",
    "        \"Precision@K\": precs / total,\n",
    "        \"MRR\": mrrs / total,\n",
    "        \"Val loss\": loss_sum / max(nb, 1)\n",
    "    }"
   ],
   "id": "c04555ca03e8ea0",
   "outputs": [],
   "execution_count": 98
  },
  {
   "metadata": {
    "ExecuteTime": {
     "end_time": "2025-08-28T06:47:24.422859Z",
     "start_time": "2025-08-28T06:47:24.414898Z"
    }
   },
   "cell_type": "code",
   "source": [
    "# Trainer (target domain)\n",
    "def train_target_with_transfer(model, train_loader, val_loader, epochs, lr=1e-3, wd=1e-6, k=10, device=\"cpu\"):\n",
    "    model.to(device)\n",
    "    opt = torch.optim.Adam(model.parameters(), lr=lr, weight_decay=wd)\n",
    "    loss_fn = nn.BCEWithLogitsLoss()\n",
    "    best_ndcg, best_epoch = 0.0, 0\n",
    "\n",
    "    for epoch in range(epochs):\n",
    "        train = train_epoch_transfer(model, train_loader, loss_fn, opt, device=device)\n",
    "        eval = evaluate_transfer(model, val_loader, loss_fn, k=k, device=device)\n",
    "\n",
    "        if eval[\"NDCG@K\"] > best_ndcg:\n",
    "            best_ndcg, best_epoch = eval[\"NDCG@K\"], epoch+1\n",
    "            torch.save(model.state_dict(), \"model_sasrec/transfer_best.pth\")\n",
    "\n",
    "        print(f\"Epoch {epoch+1}/{epochs}  \"\n",
    "              f\"Train {train:.4f}  \"\n",
    "              f\"Val {eval['Val loss']:.4f}  \"\n",
    "              f\"HR@{k} {eval['HR@K']:.4f}  \"\n",
    "              f\"NDCG@{k} {eval['NDCG@K']:.4f}  \"\n",
    "              f\"Prec@{k} {eval['Precision@K']:.4f}  \"\n",
    "              f\"MRR {eval['MRR']:.4f}  \"\n",
    "              f\"{'(new best)' if eval['NDCG@K']==best_ndcg and best_epoch==epoch+1 else ''}\")\n",
    "\n",
    "    print(f\"\\nBest epoch {best_epoch} NDCG@{k}={best_ndcg:.4f}\")\n",
    "    return best_ndcg"
   ],
   "id": "c51f2eaaf80216e0",
   "outputs": [],
   "execution_count": 99
  },
  {
   "metadata": {},
   "cell_type": "markdown",
   "source": "### Training the cross-domain model",
   "id": "56431266d7dc33c1"
  },
  {
   "metadata": {
    "ExecuteTime": {
     "end_time": "2025-08-28T06:47:25.528717Z",
     "start_time": "2025-08-28T06:47:25.483346Z"
    }
   },
   "cell_type": "code",
   "source": "sasrec_base_model = load_best_weights(sasrec, ckpt_path=\"model_sasrec/best_model_src.pth\", device=DEVICE)",
   "id": "6d74d1ba88096a1",
   "outputs": [],
   "execution_count": 100
  },
  {
   "metadata": {
    "ExecuteTime": {
     "end_time": "2025-08-28T06:47:26.004373Z",
     "start_time": "2025-08-28T06:47:25.996997Z"
    }
   },
   "cell_type": "code",
   "source": [
    "d_src = sasrec_base_model.hidden_dim\n",
    "d_src # hidden dimension of source model (embedding size)"
   ],
   "id": "9a1cfabccd952b80",
   "outputs": [
    {
     "data": {
      "text/plain": [
       "64"
      ]
     },
     "execution_count": 101,
     "metadata": {},
     "output_type": "execute_result"
    }
   ],
   "execution_count": 101
  },
  {
   "metadata": {
    "ExecuteTime": {
     "end_time": "2025-08-28T06:50:07.262103Z",
     "start_time": "2025-08-28T06:47:26.603180Z"
    }
   },
   "cell_type": "code",
   "source": [
    "# Cross-domain wrapper model (bridge maps d_src -> target hidden)\n",
    "sasrec_target_model = SASRec(num_items=NUM_ITEMS_TGT,\n",
    "                             hidden_dim=d_src,\n",
    "                             max_seq_len=50,\n",
    "                             num_blocks=2,\n",
    "                             num_heads=2,\n",
    "                             dropout=0.2)\n",
    "\n",
    "transfer_model = SASRecCD(sasrec_target_model,\n",
    "                          hidden_dim=d_src,\n",
    "                          bridge_hidden=128,\n",
    "                          dropout=0.1).to(DEVICE)\n",
    "\n",
    "best_ndcg_tgt = train_target_with_transfer(transfer_model,\n",
    "                                           train_loader_tgt,\n",
    "                                           val_loader_tgt,\n",
    "                                           epochs=20,\n",
    "                                           lr=1e-3,\n",
    "                                           wd=1e-6,\n",
    "                                           k=10,\n",
    "                                           device=DEVICE)"
   ],
   "id": "ec9016ad1cf5c06",
   "outputs": [
    {
     "name": "stderr",
     "output_type": "stream",
     "text": [
      "Training: 100%|██████████| 21/21 [00:07<00:00,  2.97it/s]\n",
      "Evaluating: 100%|██████████| 2/2 [00:00<00:00,  2.64it/s]\n"
     ]
    },
    {
     "name": "stdout",
     "output_type": "stream",
     "text": [
      "Epoch 1/20  Train 0.6851  Val 0.6906  HR@10 0.1737  NDCG@10 0.0878  Prec@10 0.0174  MRR 0.0848  (new best)\n"
     ]
    },
    {
     "name": "stderr",
     "output_type": "stream",
     "text": [
      "Training: 100%|██████████| 21/21 [00:06<00:00,  3.16it/s]\n",
      "Evaluating: 100%|██████████| 2/2 [00:00<00:00,  2.52it/s]\n"
     ]
    },
    {
     "name": "stdout",
     "output_type": "stream",
     "text": [
      "Epoch 2/20  Train 0.6514  Val 0.6836  HR@10 0.1970  NDCG@10 0.0983  Prec@10 0.0197  MRR 0.0904  (new best)\n"
     ]
    },
    {
     "name": "stderr",
     "output_type": "stream",
     "text": [
      "Training: 100%|██████████| 21/21 [00:06<00:00,  3.31it/s]\n",
      "Evaluating: 100%|██████████| 2/2 [00:00<00:00,  2.56it/s]\n"
     ]
    },
    {
     "name": "stdout",
     "output_type": "stream",
     "text": [
      "Epoch 3/20  Train 0.6310  Val 0.6735  HR@10 0.1961  NDCG@10 0.0967  Prec@10 0.0196  MRR 0.0892  \n"
     ]
    },
    {
     "name": "stderr",
     "output_type": "stream",
     "text": [
      "Training: 100%|██████████| 21/21 [00:06<00:00,  3.25it/s]\n",
      "Evaluating: 100%|██████████| 2/2 [00:00<00:00,  2.67it/s]\n"
     ]
    },
    {
     "name": "stdout",
     "output_type": "stream",
     "text": [
      "Epoch 4/20  Train 0.6189  Val 0.6615  HR@10 0.1980  NDCG@10 0.0976  Prec@10 0.0198  MRR 0.0899  \n"
     ]
    },
    {
     "name": "stderr",
     "output_type": "stream",
     "text": [
      "Training: 100%|██████████| 21/21 [00:06<00:00,  3.25it/s]\n",
      "Evaluating: 100%|██████████| 2/2 [00:00<00:00,  2.75it/s]\n"
     ]
    },
    {
     "name": "stdout",
     "output_type": "stream",
     "text": [
      "Epoch 5/20  Train 0.6101  Val 0.6554  HR@10 0.1970  NDCG@10 0.0985  Prec@10 0.0197  MRR 0.0912  (new best)\n"
     ]
    },
    {
     "name": "stderr",
     "output_type": "stream",
     "text": [
      "Training: 100%|██████████| 21/21 [00:06<00:00,  3.21it/s]\n",
      "Evaluating: 100%|██████████| 2/2 [00:00<00:00,  2.53it/s]\n"
     ]
    },
    {
     "name": "stdout",
     "output_type": "stream",
     "text": [
      "Epoch 6/20  Train 0.6036  Val 0.6462  HR@10 0.1935  NDCG@10 0.0978  Prec@10 0.0194  MRR 0.0917  \n"
     ]
    },
    {
     "name": "stderr",
     "output_type": "stream",
     "text": [
      "Training: 100%|██████████| 21/21 [00:07<00:00,  2.85it/s]\n",
      "Evaluating: 100%|██████████| 2/2 [00:00<00:00,  2.51it/s]\n"
     ]
    },
    {
     "name": "stdout",
     "output_type": "stream",
     "text": [
      "Epoch 7/20  Train 0.5965  Val 0.6339  HR@10 0.1957  NDCG@10 0.0992  Prec@10 0.0196  MRR 0.0928  (new best)\n"
     ]
    },
    {
     "name": "stderr",
     "output_type": "stream",
     "text": [
      "Training: 100%|██████████| 21/21 [00:07<00:00,  2.94it/s]\n",
      "Evaluating: 100%|██████████| 2/2 [00:00<00:00,  2.31it/s]\n"
     ]
    },
    {
     "name": "stdout",
     "output_type": "stream",
     "text": [
      "Epoch 8/20  Train 0.5904  Val 0.6455  HR@10 0.1962  NDCG@10 0.0975  Prec@10 0.0196  MRR 0.0909  \n"
     ]
    },
    {
     "name": "stderr",
     "output_type": "stream",
     "text": [
      "Training: 100%|██████████| 21/21 [00:07<00:00,  2.72it/s]\n",
      "Evaluating: 100%|██████████| 2/2 [00:00<00:00,  2.42it/s]\n"
     ]
    },
    {
     "name": "stdout",
     "output_type": "stream",
     "text": [
      "Epoch 9/20  Train 0.5860  Val 0.6485  HR@10 0.2031  NDCG@10 0.1010  Prec@10 0.0203  MRR 0.0934  (new best)\n"
     ]
    },
    {
     "name": "stderr",
     "output_type": "stream",
     "text": [
      "Training: 100%|██████████| 21/21 [00:06<00:00,  3.25it/s]\n",
      "Evaluating: 100%|██████████| 2/2 [00:00<00:00,  2.60it/s]\n"
     ]
    },
    {
     "name": "stdout",
     "output_type": "stream",
     "text": [
      "Epoch 10/20  Train 0.5712  Val 0.6437  HR@10 0.2192  NDCG@10 0.1106  Prec@10 0.0219  MRR 0.1006  (new best)\n"
     ]
    },
    {
     "name": "stderr",
     "output_type": "stream",
     "text": [
      "Training: 100%|██████████| 21/21 [00:06<00:00,  3.13it/s]\n",
      "Evaluating: 100%|██████████| 2/2 [00:00<00:00,  2.58it/s]\n"
     ]
    },
    {
     "name": "stdout",
     "output_type": "stream",
     "text": [
      "Epoch 11/20  Train 0.5565  Val 0.6313  HR@10 0.2262  NDCG@10 0.1148  Prec@10 0.0226  MRR 0.1041  (new best)\n"
     ]
    },
    {
     "name": "stderr",
     "output_type": "stream",
     "text": [
      "Training: 100%|██████████| 21/21 [00:06<00:00,  3.27it/s]\n",
      "Evaluating: 100%|██████████| 2/2 [00:00<00:00,  2.51it/s]\n"
     ]
    },
    {
     "name": "stdout",
     "output_type": "stream",
     "text": [
      "Epoch 12/20  Train 0.5392  Val 0.6416  HR@10 0.2421  NDCG@10 0.1200  Prec@10 0.0242  MRR 0.1055  (new best)\n"
     ]
    },
    {
     "name": "stderr",
     "output_type": "stream",
     "text": [
      "Training: 100%|██████████| 21/21 [00:07<00:00,  2.70it/s]\n",
      "Evaluating: 100%|██████████| 2/2 [00:00<00:00,  2.46it/s]\n"
     ]
    },
    {
     "name": "stdout",
     "output_type": "stream",
     "text": [
      "Epoch 13/20  Train 0.5225  Val 0.6240  HR@10 0.2452  NDCG@10 0.1234  Prec@10 0.0245  MRR 0.1095  (new best)\n"
     ]
    },
    {
     "name": "stderr",
     "output_type": "stream",
     "text": [
      "Training: 100%|██████████| 21/21 [00:07<00:00,  2.63it/s]\n",
      "Evaluating: 100%|██████████| 2/2 [00:00<00:00,  2.32it/s]\n"
     ]
    },
    {
     "name": "stdout",
     "output_type": "stream",
     "text": [
      "Epoch 14/20  Train 0.5061  Val 0.6146  HR@10 0.2539  NDCG@10 0.1288  Prec@10 0.0254  MRR 0.1139  (new best)\n"
     ]
    },
    {
     "name": "stderr",
     "output_type": "stream",
     "text": [
      "Training: 100%|██████████| 21/21 [00:07<00:00,  2.94it/s]\n",
      "Evaluating: 100%|██████████| 2/2 [00:00<00:00,  2.52it/s]\n"
     ]
    },
    {
     "name": "stdout",
     "output_type": "stream",
     "text": [
      "Epoch 15/20  Train 0.4911  Val 0.6132  HR@10 0.2604  NDCG@10 0.1317  Prec@10 0.0260  MRR 0.1157  (new best)\n"
     ]
    },
    {
     "name": "stderr",
     "output_type": "stream",
     "text": [
      "Training: 100%|██████████| 21/21 [00:07<00:00,  2.77it/s]\n",
      "Evaluating: 100%|██████████| 2/2 [00:00<00:00,  2.34it/s]\n"
     ]
    },
    {
     "name": "stdout",
     "output_type": "stream",
     "text": [
      "Epoch 16/20  Train 0.4779  Val 0.6035  HR@10 0.2653  NDCG@10 0.1350  Prec@10 0.0265  MRR 0.1185  (new best)\n"
     ]
    },
    {
     "name": "stderr",
     "output_type": "stream",
     "text": [
      "Training: 100%|██████████| 21/21 [00:07<00:00,  2.94it/s]\n",
      "Evaluating: 100%|██████████| 2/2 [00:00<00:00,  2.43it/s]\n"
     ]
    },
    {
     "name": "stdout",
     "output_type": "stream",
     "text": [
      "Epoch 17/20  Train 0.4631  Val 0.5908  HR@10 0.2674  NDCG@10 0.1391  Prec@10 0.0267  MRR 0.1230  (new best)\n"
     ]
    },
    {
     "name": "stderr",
     "output_type": "stream",
     "text": [
      "Training: 100%|██████████| 21/21 [00:07<00:00,  2.75it/s]\n",
      "Evaluating: 100%|██████████| 2/2 [00:00<00:00,  2.45it/s]\n"
     ]
    },
    {
     "name": "stdout",
     "output_type": "stream",
     "text": [
      "Epoch 18/20  Train 0.4454  Val 0.5759  HR@10 0.2667  NDCG@10 0.1374  Prec@10 0.0267  MRR 0.1214  \n"
     ]
    },
    {
     "name": "stderr",
     "output_type": "stream",
     "text": [
      "Training: 100%|██████████| 21/21 [00:07<00:00,  2.92it/s]\n",
      "Evaluating: 100%|██████████| 2/2 [00:00<00:00,  2.50it/s]\n"
     ]
    },
    {
     "name": "stdout",
     "output_type": "stream",
     "text": [
      "Epoch 19/20  Train 0.4361  Val 0.5607  HR@10 0.2774  NDCG@10 0.1430  Prec@10 0.0277  MRR 0.1249  (new best)\n"
     ]
    },
    {
     "name": "stderr",
     "output_type": "stream",
     "text": [
      "Training: 100%|██████████| 21/21 [00:07<00:00,  2.94it/s]\n",
      "Evaluating: 100%|██████████| 2/2 [00:00<00:00,  2.67it/s]\n"
     ]
    },
    {
     "name": "stdout",
     "output_type": "stream",
     "text": [
      "Epoch 20/20  Train 0.4224  Val 0.5480  HR@10 0.2772  NDCG@10 0.1433  Prec@10 0.0277  MRR 0.1255  (new best)\n",
      "\n",
      "Best epoch 20 NDCG@10=0.1433\n"
     ]
    }
   ],
   "execution_count": 102
  },
  {
   "metadata": {},
   "cell_type": "markdown",
   "source": "## Comparison of baseline and cross-domain models",
   "id": "5a519e04b37667e4"
  },
  {
   "metadata": {
    "ExecuteTime": {
     "end_time": "2025-08-28T07:00:23.142975Z",
     "start_time": "2025-08-28T06:57:48.791021Z"
    }
   },
   "cell_type": "code",
   "source": [
    "# Baseline on target-only SASRec (no transfer)\n",
    "sasrec_tgt_baseline = SASRec(\n",
    "    num_items=NUM_ITEMS_TGT,\n",
    "    hidden_dim=64,\n",
    "    max_seq_len=50,\n",
    "    num_blocks=2,\n",
    "    num_heads=2,\n",
    "    dropout=0.2\n",
    ").to(DEVICE)\n",
    "\n",
    "loss_fn_tgt_baseline = nn.BCEWithLogitsLoss()\n",
    "optimizer_tgt_baseline = torch.optim.Adam(sasrec_tgt_baseline.parameters(), lr=1e-3, weight_decay=1e-6)\n",
    "\n",
    "best_ndcg_tgt_baseline = 0.0\n",
    "best_epoch_tgt_baseline = 0\n",
    "EPOCHS = 20\n",
    "k = 10\n",
    "\n",
    "for epoch in range(EPOCHS):\n",
    "    train_loss = train_sasrec_epoch(sasrec_tgt_baseline, train_loader_tgt, loss_fn_tgt_baseline, optimizer_tgt_baseline, device=DEVICE)\n",
    "    eval_metrics = evaluate_sasrec(sasrec_tgt_baseline, val_loader_tgt, loss_fn_tgt_baseline, k=k , device=DEVICE)\n",
    "\n",
    "    if eval_metrics[\"NDCG@K\"] > best_ndcg_tgt_baseline:\n",
    "        best_ndcg_tgt_baseline = eval_metrics[\"NDCG@K\"]\n",
    "        torch.save(sasrec_tgt_baseline.state_dict(), \"model_sasrec/baseline_target_only_best.pth\")\n",
    "        best_epoch_tgt_baseline = epoch + 1\n",
    "\n",
    "    print(f\"Epoch {epoch+1}/{EPOCHS}  \"\n",
    "          f\"Train loss {train_loss:.4f}  \"\n",
    "          f\"Val loss {eval_metrics['Val loss']:.4f}  \"\n",
    "          f\"HR@10 {eval_metrics['HR@K']:.4f}  \"\n",
    "          f\"NDCG@10 {eval_metrics['NDCG@K']:.4f}  \"\n",
    "          f\"Precision@10 {eval_metrics['Precision@K']:.4f}  \"\n",
    "          f\"MRR@10 {eval_metrics['MRR@K']:.4f}  \"\n",
    "          f\"{'(new best)' if eval_metrics['NDCG@K']==best_ndcg_tgt_baseline else ''}\")\n",
    "\n",
    "print(f\"\\nBest epoch {best_epoch_tgt_baseline} NDCG@{k}={best_ndcg_tgt_baseline:.4f}\")"
   ],
   "id": "c3dbde3410be4fdb",
   "outputs": [
    {
     "name": "stderr",
     "output_type": "stream",
     "text": [
      "Training: 100%|██████████| 21/21 [00:07<00:00,  2.99it/s]\n",
      "Evaluating: 100%|██████████| 2/2 [00:00<00:00,  2.49it/s]\n"
     ]
    },
    {
     "name": "stdout",
     "output_type": "stream",
     "text": [
      "Epoch 1/20  Train loss 0.6856  Val loss 0.6903  HR@10 0.1850  NDCG@10 0.0907  Precision@10 0.0185  MRR@10 0.0624  (new best)\n"
     ]
    },
    {
     "name": "stderr",
     "output_type": "stream",
     "text": [
      "Training: 100%|██████████| 21/21 [00:07<00:00,  2.85it/s]\n",
      "Evaluating: 100%|██████████| 2/2 [00:00<00:00,  2.59it/s]\n"
     ]
    },
    {
     "name": "stdout",
     "output_type": "stream",
     "text": [
      "Epoch 2/20  Train loss 0.6508  Val loss 0.6823  HR@10 0.1926  NDCG@10 0.0950  Precision@10 0.0193  MRR@10 0.0657  (new best)\n"
     ]
    },
    {
     "name": "stderr",
     "output_type": "stream",
     "text": [
      "Training: 100%|██████████| 21/21 [00:06<00:00,  3.46it/s]\n",
      "Evaluating: 100%|██████████| 2/2 [00:01<00:00,  1.75it/s]\n"
     ]
    },
    {
     "name": "stdout",
     "output_type": "stream",
     "text": [
      "Epoch 3/20  Train loss 0.6320  Val loss 0.6729  HR@10 0.1961  NDCG@10 0.0974  Precision@10 0.0196  MRR@10 0.0676  (new best)\n"
     ]
    },
    {
     "name": "stderr",
     "output_type": "stream",
     "text": [
      "Training: 100%|██████████| 21/21 [00:05<00:00,  3.58it/s]\n",
      "Evaluating: 100%|██████████| 2/2 [00:00<00:00,  2.56it/s]\n"
     ]
    },
    {
     "name": "stdout",
     "output_type": "stream",
     "text": [
      "Epoch 4/20  Train loss 0.6220  Val loss 0.6645  HR@10 0.2002  NDCG@10 0.0987  Precision@10 0.0200  MRR@10 0.0683  (new best)\n"
     ]
    },
    {
     "name": "stderr",
     "output_type": "stream",
     "text": [
      "Training: 100%|██████████| 21/21 [00:06<00:00,  3.12it/s]\n",
      "Evaluating: 100%|██████████| 2/2 [00:00<00:00,  2.55it/s]\n"
     ]
    },
    {
     "name": "stdout",
     "output_type": "stream",
     "text": [
      "Epoch 5/20  Train loss 0.6176  Val loss 0.6543  HR@10 0.1948  NDCG@10 0.0982  Precision@10 0.0195  MRR@10 0.0691  \n"
     ]
    },
    {
     "name": "stderr",
     "output_type": "stream",
     "text": [
      "Training: 100%|██████████| 21/21 [00:07<00:00,  2.97it/s]\n",
      "Evaluating: 100%|██████████| 2/2 [00:00<00:00,  2.59it/s]\n"
     ]
    },
    {
     "name": "stdout",
     "output_type": "stream",
     "text": [
      "Epoch 6/20  Train loss 0.6170  Val loss 0.6439  HR@10 0.1953  NDCG@10 0.0984  Precision@10 0.0195  MRR@10 0.0691  \n"
     ]
    },
    {
     "name": "stderr",
     "output_type": "stream",
     "text": [
      "Training: 100%|██████████| 21/21 [00:06<00:00,  3.20it/s]\n",
      "Evaluating: 100%|██████████| 2/2 [00:00<00:00,  2.74it/s]\n"
     ]
    },
    {
     "name": "stdout",
     "output_type": "stream",
     "text": [
      "Epoch 7/20  Train loss 0.6124  Val loss 0.6432  HR@10 0.1999  NDCG@10 0.0973  Precision@10 0.0200  MRR@10 0.0666  \n"
     ]
    },
    {
     "name": "stderr",
     "output_type": "stream",
     "text": [
      "Training: 100%|██████████| 21/21 [00:06<00:00,  3.46it/s]\n",
      "Evaluating: 100%|██████████| 2/2 [00:00<00:00,  2.65it/s]\n"
     ]
    },
    {
     "name": "stdout",
     "output_type": "stream",
     "text": [
      "Epoch 8/20  Train loss 0.6060  Val loss 0.6379  HR@10 0.1975  NDCG@10 0.0974  Precision@10 0.0198  MRR@10 0.0675  \n"
     ]
    },
    {
     "name": "stderr",
     "output_type": "stream",
     "text": [
      "Training: 100%|██████████| 21/21 [00:06<00:00,  3.26it/s]\n",
      "Evaluating: 100%|██████████| 2/2 [00:00<00:00,  2.60it/s]\n"
     ]
    },
    {
     "name": "stdout",
     "output_type": "stream",
     "text": [
      "Epoch 9/20  Train loss 0.5970  Val loss 0.6342  HR@10 0.2073  NDCG@10 0.1018  Precision@10 0.0207  MRR@10 0.0702  (new best)\n"
     ]
    },
    {
     "name": "stderr",
     "output_type": "stream",
     "text": [
      "Training: 100%|██████████| 21/21 [00:06<00:00,  3.39it/s]\n",
      "Evaluating: 100%|██████████| 2/2 [00:00<00:00,  2.44it/s]\n"
     ]
    },
    {
     "name": "stdout",
     "output_type": "stream",
     "text": [
      "Epoch 10/20  Train loss 0.5772  Val loss 0.6407  HR@10 0.2149  NDCG@10 0.1071  Precision@10 0.0215  MRR@10 0.0748  (new best)\n"
     ]
    },
    {
     "name": "stderr",
     "output_type": "stream",
     "text": [
      "Training: 100%|██████████| 21/21 [00:07<00:00,  2.92it/s]\n",
      "Evaluating: 100%|██████████| 2/2 [00:00<00:00,  2.43it/s]\n"
     ]
    },
    {
     "name": "stdout",
     "output_type": "stream",
     "text": [
      "Epoch 11/20  Train loss 0.5579  Val loss 0.6312  HR@10 0.2174  NDCG@10 0.1092  Precision@10 0.0217  MRR@10 0.0766  (new best)\n"
     ]
    },
    {
     "name": "stderr",
     "output_type": "stream",
     "text": [
      "Training: 100%|██████████| 21/21 [00:07<00:00,  2.74it/s]\n",
      "Evaluating: 100%|██████████| 2/2 [00:00<00:00,  2.45it/s]\n"
     ]
    },
    {
     "name": "stdout",
     "output_type": "stream",
     "text": [
      "Epoch 12/20  Train loss 0.5343  Val loss 0.6287  HR@10 0.2262  NDCG@10 0.1144  Precision@10 0.0226  MRR@10 0.0808  (new best)\n"
     ]
    },
    {
     "name": "stderr",
     "output_type": "stream",
     "text": [
      "Training: 100%|██████████| 21/21 [00:06<00:00,  3.32it/s]\n",
      "Evaluating: 100%|██████████| 2/2 [00:00<00:00,  2.76it/s]\n"
     ]
    },
    {
     "name": "stdout",
     "output_type": "stream",
     "text": [
      "Epoch 13/20  Train loss 0.5193  Val loss 0.6283  HR@10 0.2336  NDCG@10 0.1186  Precision@10 0.0234  MRR@10 0.0841  (new best)\n"
     ]
    },
    {
     "name": "stderr",
     "output_type": "stream",
     "text": [
      "Training: 100%|██████████| 21/21 [00:06<00:00,  3.22it/s]\n",
      "Evaluating: 100%|██████████| 2/2 [00:00<00:00,  2.41it/s]\n"
     ]
    },
    {
     "name": "stdout",
     "output_type": "stream",
     "text": [
      "Epoch 14/20  Train loss 0.4992  Val loss 0.6117  HR@10 0.2445  NDCG@10 0.1239  Precision@10 0.0244  MRR@10 0.0877  (new best)\n"
     ]
    },
    {
     "name": "stderr",
     "output_type": "stream",
     "text": [
      "Training: 100%|██████████| 21/21 [00:06<00:00,  3.04it/s]\n",
      "Evaluating: 100%|██████████| 2/2 [00:00<00:00,  2.48it/s]\n"
     ]
    },
    {
     "name": "stdout",
     "output_type": "stream",
     "text": [
      "Epoch 15/20  Train loss 0.4813  Val loss 0.6060  HR@10 0.2454  NDCG@10 0.1255  Precision@10 0.0245  MRR@10 0.0895  (new best)\n"
     ]
    },
    {
     "name": "stderr",
     "output_type": "stream",
     "text": [
      "Training: 100%|██████████| 21/21 [00:07<00:00,  2.82it/s]\n",
      "Evaluating: 100%|██████████| 2/2 [00:00<00:00,  2.42it/s]\n"
     ]
    },
    {
     "name": "stdout",
     "output_type": "stream",
     "text": [
      "Epoch 16/20  Train loss 0.4683  Val loss 0.5960  HR@10 0.2514  NDCG@10 0.1278  Precision@10 0.0251  MRR@10 0.0907  (new best)\n"
     ]
    },
    {
     "name": "stderr",
     "output_type": "stream",
     "text": [
      "Training: 100%|██████████| 21/21 [00:06<00:00,  3.01it/s]\n",
      "Evaluating: 100%|██████████| 2/2 [00:00<00:00,  2.43it/s]\n"
     ]
    },
    {
     "name": "stdout",
     "output_type": "stream",
     "text": [
      "Epoch 17/20  Train loss 0.4539  Val loss 0.5855  HR@10 0.2530  NDCG@10 0.1307  Precision@10 0.0253  MRR@10 0.0940  (new best)\n"
     ]
    },
    {
     "name": "stderr",
     "output_type": "stream",
     "text": [
      "Training: 100%|██████████| 21/21 [00:07<00:00,  2.79it/s]\n",
      "Evaluating: 100%|██████████| 2/2 [00:00<00:00,  2.55it/s]\n"
     ]
    },
    {
     "name": "stdout",
     "output_type": "stream",
     "text": [
      "Epoch 18/20  Train loss 0.4396  Val loss 0.5693  HR@10 0.2519  NDCG@10 0.1326  Precision@10 0.0252  MRR@10 0.0966  (new best)\n"
     ]
    },
    {
     "name": "stderr",
     "output_type": "stream",
     "text": [
      "Training: 100%|██████████| 21/21 [00:06<00:00,  3.39it/s]\n",
      "Evaluating: 100%|██████████| 2/2 [00:00<00:00,  2.52it/s]\n"
     ]
    },
    {
     "name": "stdout",
     "output_type": "stream",
     "text": [
      "Epoch 19/20  Train loss 0.4262  Val loss 0.5601  HR@10 0.2541  NDCG@10 0.1323  Precision@10 0.0254  MRR@10 0.0957  \n"
     ]
    },
    {
     "name": "stderr",
     "output_type": "stream",
     "text": [
      "Training: 100%|██████████| 21/21 [00:06<00:00,  3.22it/s]\n",
      "Evaluating: 100%|██████████| 2/2 [00:00<00:00,  2.45it/s]\n"
     ]
    },
    {
     "name": "stdout",
     "output_type": "stream",
     "text": [
      "Epoch 20/20  Train loss 0.4136  Val loss 0.5371  HR@10 0.2606  NDCG@10 0.1375  Precision@10 0.0261  MRR@10 0.1005  (new best)\n",
      "\n",
      "Best epoch 20 NDCG@10=0.1375\n"
     ]
    }
   ],
   "execution_count": 105
  },
  {
   "metadata": {},
   "cell_type": "markdown",
   "source": "### Build cold/warm user splits from target domain training sequences",
   "id": "a7f2963f3390c130"
  },
  {
   "metadata": {
    "ExecuteTime": {
     "end_time": "2025-08-28T07:01:45.116874Z",
     "start_time": "2025-08-28T07:01:45.102737Z"
    }
   },
   "cell_type": "code",
   "source": [
    "def split_cold_warm(train_sequences_tgt, cold_threshold=1):\n",
    "    cold_users = {u for u, seq in train_sequences_tgt.items() if len(seq) <= cold_threshold}\n",
    "    warm_users = {u for u, seq in train_sequences_tgt.items() if len(seq) >= (cold_threshold + 1)}\n",
    "    return cold_users, warm_users\n",
    "\n",
    "def filter_split(split_dict, keep_users):\n",
    "    return {u: v for u, v in split_dict.items() if u in keep_users}\n",
    "\n",
    "COLD_THRESHOLD = 3\n",
    "cold_users, warm_users = split_cold_warm(train_sequences_tgt, cold_threshold=COLD_THRESHOLD)\n",
    "test_cold = filter_split(test_sequences_tgt, cold_users)\n",
    "test_warm = filter_split(test_sequences_tgt, warm_users)\n",
    "\n",
    "print(f\"Test cold users: {len(test_cold)}, Test warm users: {len(test_warm)}\")"
   ],
   "id": "b5a9898d31d2fc2f",
   "outputs": [
    {
     "name": "stdout",
     "output_type": "stream",
     "text": [
      "Test cold users: 359, Test warm users: 5175\n"
     ]
    }
   ],
   "execution_count": 112
  },
  {
   "metadata": {
    "ExecuteTime": {
     "end_time": "2025-08-28T07:01:47.237865Z",
     "start_time": "2025-08-28T07:01:47.202382Z"
    }
   },
   "cell_type": "code",
   "source": [
    "overlap_mask = (transfer_src_mat.norm(dim=1) > 0)  # [U_T]\n",
    "test_cold_users = set(u for u, _ in test_sequences_tgt.items() if len(test_sequences_tgt.get(u, [])) <= COLD_THRESHOLD)\n",
    "cold_overlap = sum(int(overlap_mask[u].item()) for u in test_cold_users)\n",
    "print(f\"TEST/Cold users: {len(test_cold_users)}, with source-overlap: {cold_overlap} ({cold_overlap/len(test_cold_users):.1%})\")"
   ],
   "id": "71c1c2ef268193a",
   "outputs": [
    {
     "name": "stdout",
     "output_type": "stream",
     "text": [
      "TEST/Cold users: 5534, with source-overlap: 245 (4.4%)\n"
     ]
    }
   ],
   "execution_count": 113
  },
  {
   "metadata": {
    "ExecuteTime": {
     "end_time": "2025-08-28T07:02:14.712321Z",
     "start_time": "2025-08-28T07:02:14.689969Z"
    }
   },
   "cell_type": "code",
   "source": [
    "def make_loader_from_split(split_dict, transfer_src_mat, num_items, mode=\"val\", max_seq_len=50, neg_samples=99, batch_size=4096):\n",
    "    ds = SASRecDatasetCD(split_dict, num_items, transfer_src_mat, max_seq_len=max_seq_len, mode=mode, neg_samples=neg_samples)\n",
    "    return DataLoader(ds, batch_size=batch_size, shuffle=False)\n",
    "\n",
    "test_loader_all = test_loader_tgt\n",
    "test_loader_cold = make_loader_from_split(test_cold, transfer_src_mat, NUM_ITEMS_TGT)\n",
    "test_loader_warm = make_loader_from_split(test_warm, transfer_src_mat, NUM_ITEMS_TGT)"
   ],
   "id": "345946d6baed10ca",
   "outputs": [],
   "execution_count": 114
  },
  {
   "metadata": {},
   "cell_type": "markdown",
   "source": "### Evaluate baseline vs transfer models on target domain",
   "id": "6ff8d9bd16b13028"
  },
  {
   "metadata": {
    "ExecuteTime": {
     "end_time": "2025-08-28T07:03:36.255656Z",
     "start_time": "2025-08-28T07:03:36.149647Z"
    }
   },
   "cell_type": "code",
   "source": [
    "sasrec_tgt_baseline.load_state_dict(torch.load(\"model_sasrec/baseline_target_only_best.pth\", map_location=DEVICE))\n",
    "transfer_model.load_state_dict(torch.load(\"model_sasrec/transfer_best.pth\", map_location=DEVICE))\n",
    "sasrec_tgt_baseline.to(DEVICE).eval()\n",
    "transfer_model.to(DEVICE).eval()"
   ],
   "id": "d46d5c1826e23e56",
   "outputs": [
    {
     "data": {
      "text/plain": [
       "SASRecCD(\n",
       "  (base): SASRec(\n",
       "    (item_embed): Embedding(26710, 64, padding_idx=0)\n",
       "    (positional_embed): Embedding(50, 64)\n",
       "    (dropout): Dropout(p=0.2, inplace=False)\n",
       "    (blocks): ModuleList(\n",
       "      (0-1): 2 x AttentionBlock(\n",
       "        (attn): MultiheadAttention(\n",
       "          (out_proj): NonDynamicallyQuantizableLinear(in_features=64, out_features=64, bias=True)\n",
       "        )\n",
       "        (ln1): LayerNorm((64,), eps=1e-05, elementwise_affine=True)\n",
       "        (ln2): LayerNorm((64,), eps=1e-05, elementwise_affine=True)\n",
       "        (ffn): PointWiseFeedForward(\n",
       "          (w1): Linear(in_features=64, out_features=64, bias=True)\n",
       "          (w2): Linear(in_features=64, out_features=64, bias=True)\n",
       "          (relu): ReLU()\n",
       "          (dropout): Dropout(p=0.2, inplace=False)\n",
       "        )\n",
       "        (dropout): Dropout(p=0.2, inplace=False)\n",
       "      )\n",
       "    )\n",
       "    (ln): LayerNorm((64,), eps=1e-05, elementwise_affine=True)\n",
       "  )\n",
       "  (bridge): Sequential(\n",
       "    (0): Linear(in_features=64, out_features=128, bias=True)\n",
       "    (1): ReLU()\n",
       "    (2): Dropout(p=0.1, inplace=False)\n",
       "    (3): Linear(in_features=128, out_features=64, bias=True)\n",
       "  )\n",
       "  (linear): Linear(in_features=128, out_features=64, bias=True)\n",
       ")"
      ]
     },
     "execution_count": 117,
     "metadata": {},
     "output_type": "execute_result"
    }
   ],
   "execution_count": 117
  },
  {
   "metadata": {
    "ExecuteTime": {
     "end_time": "2025-08-28T07:03:41.843928Z",
     "start_time": "2025-08-28T07:03:37.907195Z"
    }
   },
   "cell_type": "code",
   "source": [
    "import math\n",
    "# Compute metrics on all / cold / warm for val and test sets\n",
    "def eval_all():\n",
    "    suites = {\n",
    "        \"All [Test]\": (test_loader_all,),\n",
    "        \"Cold [Test]\": (test_loader_cold,),\n",
    "        \"Warm [Test]\": (test_loader_warm,),\n",
    "    }\n",
    "    rows = []\n",
    "    for name, (loader,) in suites.items():\n",
    "        mb = evaluate_sasrec(sasrec_tgt_baseline, loader, nn.BCEWithLogitsLoss(), device=DEVICE, k=10)\n",
    "        mx = evaluate_transfer(transfer_model, loader, nn.BCEWithLogitsLoss(), device=DEVICE, k=10)\n",
    "        rows.append({\n",
    "            \"Split\": name,\n",
    "            \"Baseline HR@10\": mb[\"HR@K\"], \"Transfer HR@10\": mx[\"HR@K\"],\n",
    "            \"Baseline NDCG@10\": mb[\"NDCG@K\"], \"Transfer NDCG@10\": mx[\"NDCG@K\"],\n",
    "            # \"Baseline P@10\": mb[\"Precision@K\"], \"Transfer P@10\": mx[\"Precision@K\"],\n",
    "            # \"Baseline MRR\": mb.get(\"MRR\", math.nan), \"Transfer MRR\": mx.get(\"MRR\", math.nan)\n",
    "        })\n",
    "    return pd.DataFrame(rows)\n",
    "\n",
    "results_df = eval_all()\n",
    "print(\"\\n=== COMPARISON TABLE ===\")\n",
    "print(results_df.to_string(index=False))"
   ],
   "id": "532468c4825ea565",
   "outputs": [
    {
     "name": "stderr",
     "output_type": "stream",
     "text": [
      "Evaluating: 100%|██████████| 2/2 [00:01<00:00,  1.86it/s]\n",
      "Evaluating: 100%|██████████| 2/2 [00:00<00:00,  2.13it/s]\n",
      "Evaluating: 100%|██████████| 1/1 [00:00<00:00, 12.52it/s]\n",
      "Evaluating: 100%|██████████| 1/1 [00:00<00:00, 12.70it/s]\n",
      "Evaluating: 100%|██████████| 2/2 [00:00<00:00,  2.37it/s]\n",
      "Evaluating: 100%|██████████| 2/2 [00:00<00:00,  2.31it/s]"
     ]
    },
    {
     "name": "stdout",
     "output_type": "stream",
     "text": [
      "\n",
      "=== COMPARISON TABLE ===\n",
      "      Split  Baseline HR@10  Transfer HR@10  Baseline NDCG@10  Transfer NDCG@10\n",
      " All [Test]        0.218648        0.234008          0.115246          0.120982\n",
      "Cold [Test]        0.150418        0.164345          0.072169          0.081755\n",
      "Warm [Test]        0.231111        0.240000          0.121394          0.123521\n"
     ]
    },
    {
     "name": "stderr",
     "output_type": "stream",
     "text": [
      "\n"
     ]
    }
   ],
   "execution_count": 118
  },
  {
   "metadata": {
    "ExecuteTime": {
     "end_time": "2025-08-28T07:05:19.891882Z",
     "start_time": "2025-08-28T07:05:19.387281Z"
    }
   },
   "cell_type": "code",
   "source": [
    "# Bar plots\n",
    "def barplot_metric(df, metric_col_baseline, metric_col_transfer, title, outfile):\n",
    "    labels = df[\"Split\"].tolist()\n",
    "    baseline = df[metric_col_baseline].tolist()\n",
    "    transfer = df[metric_col_transfer].tolist()\n",
    "    xs = range(len(labels))\n",
    "    plt.figure(figsize=(10,6))\n",
    "    plt.bar(xs, baseline, width=0.4, label=\"Baseline\")\n",
    "    plt.bar([i+0.4 for i in xs], transfer, width=0.4, label=\"Transfer\")\n",
    "    plt.xticks([i+0.2 for i in xs], labels)\n",
    "    plt.title(title)\n",
    "    plt.legend()\n",
    "    plt.tight_layout()\n",
    "    plt.savefig(outfile, dpi=160)\n",
    "    plt.show()\n",
    "\n",
    "barplot_metric(results_df, \"Baseline HR@10\", \"Transfer HR@10\", \"HR@10: Baseline vs Transfer\", \"hr10.png\")\n",
    "barplot_metric(results_df, \"Baseline NDCG@10\", \"Transfer NDCG@10\", \"NDCG@10: Baseline vs Transfer\", \"ndcg10.png\")\n",
    "print(\"Saved charts: hr10.png, ndcg10.png\")"
   ],
   "id": "2731e17714ba563a",
   "outputs": [
    {
     "data": {
      "text/plain": [
       "<Figure size 1000x600 with 1 Axes>"
      ],
      "image/png": "[encoded data removed]"
     },
     "metadata": {},
     "output_type": "display_data"
    },
    {
     "data": {
      "text/plain": [
       "<Figure size 1000x600 with 1 Axes>"
      ],
      "image/png": "[encoded data removed]"
     },
     "metadata": {},
     "output_type": "display_data"
    },
    {
     "name": "stdout",
     "output_type": "stream",
     "text": [
      "Saved charts: hr10.png, ndcg10.png\n"
     ]
    }
   ],
   "execution_count": 120
  },
  {
   "metadata": {},
   "cell_type": "code",
   "outputs": [],
   "execution_count": null,
   "source": "",
   "id": "41ffa7c5da9ce986"
  }
 ],
 "metadata": {
  "kernelspec": {
   "display_name": "Python 3",
   "language": "python",
   "name": "python3"
  },
  "language_info": {
   "codemirror_mode": {
    "name": "ipython",
    "version": 2
   },
   "file_extension": ".py",
   "mimetype": "text/x-python",
   "name": "python",
   "nbconvert_exporter": "python",
   "pygments_lexer": "ipython2",
   "version": "2.7.6"
  }
 },
 "nbformat": 4,
 "nbformat_minor": 5
}
