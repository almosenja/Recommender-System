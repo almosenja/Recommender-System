{
 "cells": [
  {
   "metadata": {},
   "cell_type": "markdown",
   "source": [
    "# Recommender System - Baseline Model\n",
    "This notebook implements a simple baseline which is collaborative filtering Matrix Factorization."
   ],
   "id": "7c822c18c3c50055"
  },
  {
   "metadata": {
    "ExecuteTime": {
     "end_time": "2025-08-25T08:25:15.747543Z",
     "start_time": "2025-08-25T08:25:08.315221Z"
    }
   },
   "cell_type": "code",
   "source": [
    "import os\n",
    "import math\n",
    "import random\n",
    "import numpy as np\n",
    "import pandas as pd\n",
    "import time\n",
    "import gc\n",
    "import matplotlib.pyplot as plt\n",
    "from collections import defaultdict\n",
    "\n",
    "# os.environ[\"HF_HOME\"] = \"D:/Python Projects/recommendation_system\"\n",
    "# os.environ[\"HF_DATASETS_CACHE\"] = \"D:/Python Projects/recommendation_system/recsys/data\"\n",
    "# os.environ[\"TRANSFORMERS_CACHE\"] = \"D:/Python Projects/recommendation_system/recsys/models\"\n",
    "\n",
    "os.environ[\"HF_HOME\"] = \"E:/Python Scripts/recsys\"\n",
    "os.environ['HF_DATASETS_CACHE'] = \"E:/Python Scripts/recsys/data\"\n",
    "os.environ['TRANSFORMERS_CACHE'] = \"E:/Python Scripts/recsys/models\"\n",
    "\n",
    "import torch\n",
    "import torch.nn as nn\n",
    "from torch.utils.data import Dataset, DataLoader\n",
    "from sklearn.preprocessing import LabelEncoder\n",
    "from recommenders.datasets.python_splitters import (\n",
    "    python_chrono_split, python_stratified_split, python_random_split\n",
    ")\n",
    "\n",
    "from datasets import load_dataset, Features, Value\n",
    "from tqdm import tqdm\n",
    "from tensorboardX import SummaryWriter"
   ],
   "id": "5a6345db3eba7a39",
   "outputs": [
    {
     "name": "stderr",
     "output_type": "stream",
     "text": [
      "E:\\Python Scripts\\recsys\\.venv\\Lib\\site-packages\\tqdm\\auto.py:21: TqdmWarning: IProgress not found. Please update jupyter and ipywidgets. See https://ipywidgets.readthedocs.io/en/stable/user_install.html\n",
      "  from .autonotebook import tqdm as notebook_tqdm\n"
     ]
    }
   ],
   "execution_count": 2
  },
  {
   "metadata": {
    "ExecuteTime": {
     "end_time": "2025-08-25T08:25:15.813457Z",
     "start_time": "2025-08-25T08:25:15.763529Z"
    }
   },
   "cell_type": "code",
   "source": [
    "SEED = 42\n",
    "def set_seed(seed=SEED):\n",
    "    random.seed(seed)\n",
    "    np.random.seed(seed)\n",
    "    torch.manual_seed(seed)\n",
    "    torch.cuda.manual_seed_all(seed)\n",
    "\n",
    "set_seed(SEED)\n",
    "DEVICE = \"cuda\" if torch.cuda.is_available() else \"cpu\"\n",
    "print(\"DEVICE:\", DEVICE)"
   ],
   "id": "edd5232c634edf29",
   "outputs": [
    {
     "name": "stdout",
     "output_type": "stream",
     "text": [
      "DEVICE: cuda\n"
     ]
    }
   ],
   "execution_count": 3
  },
  {
   "metadata": {},
   "cell_type": "markdown",
   "source": [
    "## Loading the dataset\n",
    "The dataset is loaded from the Hugging Face datasets library, Amazon Reviews 2023."
   ],
   "id": "ff3e64dbef5ea775"
  },
  {
   "metadata": {
    "ExecuteTime": {
     "end_time": "2025-08-25T08:25:32.224104Z",
     "start_time": "2025-08-25T08:25:18.547077Z"
    }
   },
   "cell_type": "code",
   "source": [
    "USE_HF = True\n",
    "HF_DATASET = \"McAuley-Lab/Amazon-Reviews-2023\"\n",
    "HF_DOMAIN = \"Movies_and_TV\"   # choose your domain\n",
    "\n",
    "def load_amazon_reviews_fast(domain: str, max_items: int | None = None, seed: int = SEED) -> pd.DataFrame:\n",
    "    ds = load_dataset(\n",
    "        \"McAuley-Lab/Amazon-Reviews-2023\",\n",
    "        f\"raw_review_{domain}\",\n",
    "        split=\"full\",\n",
    "        trust_remote_code=True,\n",
    "    )\n",
    "\n",
    "    # Keep only needed columns early\n",
    "    ds = ds.select_columns([\"user_id\", \"parent_asin\", \"rating\", \"verified_purchase\", \"timestamp\"])\n",
    "\n",
    "    # Rename + cast in Arrow (vectorized; no Python loop)\n",
    "    ds = ds.rename_columns({\"user_id\": \"user\", \"parent_asin\": \"item\"})\n",
    "    ds = ds.cast(Features({\n",
    "        \"user\": Value(\"string\"),\n",
    "        \"item\": Value(\"string\"),\n",
    "        \"rating\": Value(\"float32\"),\n",
    "        \"verified_purchase\": Value(\"bool\"),\n",
    "        \"timestamp\": Value(\"int64\"),   # seconds or ms as stored\n",
    "    }))\n",
    "\n",
    "    # Fast random subset without building a huge pandas frame first\n",
    "    if max_items is not None:\n",
    "        k = min(max_items, ds.num_rows)\n",
    "        ds = ds.shuffle(seed=seed).select(range(k))\n",
    "\n",
    "    # Convert to pandas (Arrow zero-copy where possible)\n",
    "    df = ds.to_pandas()   # much faster than manual row loop\n",
    "    df.insert(3, \"domain\", domain)  # add domain column to match your schema\n",
    "    return df\n",
    "\n",
    "# usage\n",
    "df = load_amazon_reviews_fast(HF_DOMAIN, max_items=None, seed=SEED)\n",
    "print(f\"Loaded {len(df)} rows from {HF_DOMAIN} domain.\")"
   ],
   "id": "8180a93e7c61c04",
   "outputs": [
    {
     "name": "stdout",
     "output_type": "stream",
     "text": [
      "Loaded 17328314 rows from Movies_and_TV domain.\n"
     ]
    }
   ],
   "execution_count": 4
  },
  {
   "metadata": {
    "ExecuteTime": {
     "end_time": "2025-08-25T08:27:23.551292Z",
     "start_time": "2025-08-25T08:27:23.539108Z"
    }
   },
   "cell_type": "code",
   "source": "df.head()",
   "id": "e30270380ba0bb72",
   "outputs": [
    {
     "data": {
      "text/plain": [
       "                           user        item  rating         domain  \\\n",
       "0  AGGZ357AO26RQZVRLGU4D4N52DZQ  B013488XFS     5.0  Movies_and_TV   \n",
       "1  AGKASBHYZPGTEPO6LWZPVJWB2BVA  B00CB6VTDS     5.0  Movies_and_TV   \n",
       "2  AG2L7H23R5LLKDKLBEF2Q3L2MVDA  B096Z8Z3R6     3.0  Movies_and_TV   \n",
       "3  AG2L7H23R5LLKDKLBEF2Q3L2MVDA  B09M14D9FZ     4.0  Movies_and_TV   \n",
       "4  AG2L7H23R5LLKDKLBEF2Q3L2MVDA  B001H1SVZC     5.0  Movies_and_TV   \n",
       "\n",
       "   verified_purchase      timestamp  \n",
       "0               True  1440385637000  \n",
       "1               True  1461100610000  \n",
       "2               True  1646271834582  \n",
       "3              False  1645937761864  \n",
       "4               True  1590639227074  "
      ],
      "text/html": [
       "<div>\n",
       "<style scoped>\n",
       "    .dataframe tbody tr th:only-of-type {\n",
       "        vertical-align: middle;\n",
       "    }\n",
       "\n",
       "    .dataframe tbody tr th {\n",
       "        vertical-align: top;\n",
       "    }\n",
       "\n",
       "    .dataframe thead th {\n",
       "        text-align: right;\n",
       "    }\n",
       "</style>\n",
       "<table border=\"1\" class=\"dataframe\">\n",
       "  <thead>\n",
       "    <tr style=\"text-align: right;\">\n",
       "      <th></th>\n",
       "      <th>user</th>\n",
       "      <th>item</th>\n",
       "      <th>rating</th>\n",
       "      <th>domain</th>\n",
       "      <th>verified_purchase</th>\n",
       "      <th>timestamp</th>\n",
       "    </tr>\n",
       "  </thead>\n",
       "  <tbody>\n",
       "    <tr>\n",
       "      <th>0</th>\n",
       "      <td>AGGZ357AO26RQZVRLGU4D4N52DZQ</td>\n",
       "      <td>B013488XFS</td>\n",
       "      <td>5.0</td>\n",
       "      <td>Movies_and_TV</td>\n",
       "      <td>True</td>\n",
       "      <td>1440385637000</td>\n",
       "    </tr>\n",
       "    <tr>\n",
       "      <th>1</th>\n",
       "      <td>AGKASBHYZPGTEPO6LWZPVJWB2BVA</td>\n",
       "      <td>B00CB6VTDS</td>\n",
       "      <td>5.0</td>\n",
       "      <td>Movies_and_TV</td>\n",
       "      <td>True</td>\n",
       "      <td>1461100610000</td>\n",
       "    </tr>\n",
       "    <tr>\n",
       "      <th>2</th>\n",
       "      <td>AG2L7H23R5LLKDKLBEF2Q3L2MVDA</td>\n",
       "      <td>B096Z8Z3R6</td>\n",
       "      <td>3.0</td>\n",
       "      <td>Movies_and_TV</td>\n",
       "      <td>True</td>\n",
       "      <td>1646271834582</td>\n",
       "    </tr>\n",
       "    <tr>\n",
       "      <th>3</th>\n",
       "      <td>AG2L7H23R5LLKDKLBEF2Q3L2MVDA</td>\n",
       "      <td>B09M14D9FZ</td>\n",
       "      <td>4.0</td>\n",
       "      <td>Movies_and_TV</td>\n",
       "      <td>False</td>\n",
       "      <td>1645937761864</td>\n",
       "    </tr>\n",
       "    <tr>\n",
       "      <th>4</th>\n",
       "      <td>AG2L7H23R5LLKDKLBEF2Q3L2MVDA</td>\n",
       "      <td>B001H1SVZC</td>\n",
       "      <td>5.0</td>\n",
       "      <td>Movies_and_TV</td>\n",
       "      <td>True</td>\n",
       "      <td>1590639227074</td>\n",
       "    </tr>\n",
       "  </tbody>\n",
       "</table>\n",
       "</div>"
      ]
     },
     "execution_count": 6,
     "metadata": {},
     "output_type": "execute_result"
    }
   ],
   "execution_count": 6
  },
  {
   "metadata": {},
   "cell_type": "markdown",
   "source": [
    "## Preprocessing the dataset\n",
    "- Make it implicit by considering all ratings as positive interactions.\n",
    "- Filter out users and items with less than 5 interactions.\n",
    "- Create a mapping of user and item IDs to indices."
   ],
   "id": "f1783303bdad3402"
  },
  {
   "metadata": {
    "ExecuteTime": {
     "end_time": "2025-08-25T08:28:20.773233Z",
     "start_time": "2025-08-25T08:28:01.505370Z"
    }
   },
   "cell_type": "code",
   "source": [
    "# Make implicit dataset, filter users/items with less than 5 interactions, and encode user/item IDs\n",
    "def preprocess_dataset(df, min_user_interactions=5, min_item_interactions=5):\n",
    "    # Make it implicit\n",
    "    df[\"label\"] = 1.0\n",
    "\n",
    "    # Filter users and items with less than 5 interactions\n",
    "    user_counts = df[\"user\"].value_counts()\n",
    "    item_counts = df[\"item\"].value_counts()\n",
    "\n",
    "    valid_users = user_counts[user_counts >= min_user_interactions].index\n",
    "    valid_items = item_counts[item_counts >= min_item_interactions].index\n",
    "\n",
    "    df = df[df[\"user\"].isin(valid_users) & df[\"item\"].isin(valid_items)].copy()\n",
    "    print(\"After interactions filtering:\", len(df), \"rows,\", df[\"user\"].nunique(), \"users,\", df[\"item\"].nunique(), \"items\")\n",
    "\n",
    "    user_enc = LabelEncoder()\n",
    "    item_enc = LabelEncoder()\n",
    "\n",
    "    df[\"user_id\"] = user_enc.fit_transform(df[\"user\"])\n",
    "    df[\"item_id\"] = item_enc.fit_transform(df[\"item\"])\n",
    "\n",
    "    return {\"filtered_df\": df,\n",
    "            \"user_encoder\": user_enc,\n",
    "            \"item_encoder\": item_enc}\n",
    "\n",
    "data_processor = preprocess_dataset(df, min_user_interactions=20, min_item_interactions=20)\n",
    "filtered_df = data_processor[\"filtered_df\"]"
   ],
   "id": "b9ebad4f47ee8759",
   "outputs": [
    {
     "name": "stdout",
     "output_type": "stream",
     "text": [
      "After interactions filtering: 2557292 rows, 75821 users, 114321 items\n"
     ]
    }
   ],
   "execution_count": 8
  },
  {
   "metadata": {
    "ExecuteTime": {
     "end_time": "2025-08-25T08:28:27.721418Z",
     "start_time": "2025-08-25T08:28:27.000238Z"
    }
   },
   "cell_type": "code",
   "source": [
    "def calculate_data_sparsity(df):\n",
    "    num_users = df[\"user\"].nunique()\n",
    "    num_items = df[\"item\"].nunique()\n",
    "    num_interactions = len(df)\n",
    "    density = num_interactions / (num_users * num_items)\n",
    "    sparsity = 1 - density\n",
    "\n",
    "    print(f\"Number of users: {num_users}\")\n",
    "    print(f\"Number of items: {num_items}\")\n",
    "    print(f\"Number of interactions: {num_interactions}\")\n",
    "    print(f\"-\" * 30)\n",
    "    print(f\"Interaction Matrix Density: {density:.4f}\")\n",
    "    print(f\"Interaction Matrix Sparsity: {sparsity:.4f}\")\n",
    "\n",
    "calculate_data_sparsity(filtered_df)"
   ],
   "id": "1688a0fc8d6cd920",
   "outputs": [
    {
     "name": "stdout",
     "output_type": "stream",
     "text": [
      "Number of users: 75821\n",
      "Number of items: 114321\n",
      "Number of interactions: 2557292\n",
      "------------------------------\n",
      "Interaction Matrix Density: 0.0003\n",
      "Interaction Matrix Sparsity: 0.9997\n"
     ]
    }
   ],
   "execution_count": 9
  },
  {
   "metadata": {
    "ExecuteTime": {
     "end_time": "2025-08-25T08:29:43.163402Z",
     "start_time": "2025-08-25T08:28:29.691154Z"
    }
   },
   "cell_type": "code",
   "source": [
    "def loo_split(df, oversample_verified=False, oversample_factor=2):\n",
    "    df = df.sort_values([\"user_id\", \"timestamp\"])\n",
    "    train_rows, val_rows, test_rows = [], [], []\n",
    "    for uid, group in df.groupby(\"user_id\", sort=False):\n",
    "        g = group.sort_values(\"timestamp\")\n",
    "        if len(g) < 5:\n",
    "            train_rows.append(g)\n",
    "            continue\n",
    "        test_rows.append(g.iloc[[-1]])  # Last interaction as test\n",
    "        val_rows.append(g.iloc[[-2]])    # Second last interaction as validation\n",
    "        train_rows.append(g.iloc[:-2])    # All but last two as training\n",
    "\n",
    "    train_df = pd.concat(train_rows, ignore_index=True)\n",
    "    val_df = pd.concat(val_rows, ignore_index=True)\n",
    "    test_df = pd.concat(test_rows, ignore_index=True)\n",
    "\n",
    "    if oversample_verified and oversample_factor > 1:\n",
    "        verified_rows = train_df.loc[train_df[\"verified_purchase\"] == True]\n",
    "        if not verified_rows.empty:\n",
    "            train_df = pd.concat([train_df] + [verified_rows] * (oversample_factor - 1), ignore_index=True)\n",
    "\n",
    "    return train_df, val_df, test_df\n",
    "\n",
    "train_df, val_df, test_df = loo_split(filtered_df, oversample_verified=False, oversample_factor=1)\n",
    "print(f\"Train/Validation/Test split: {len(train_df)}, {len(val_df)}, {len(test_df)}\")"
   ],
   "id": "1bcb3147c4b71b5e",
   "outputs": [
    {
     "name": "stdout",
     "output_type": "stream",
     "text": [
      "Train/Validation/Test split: 2406272, 75510, 75510\n"
     ]
    }
   ],
   "execution_count": 10
  },
  {
   "metadata": {},
   "cell_type": "markdown",
   "source": "## Building the dataset with negative sampling",
   "id": "4f6e8d4cae86c716"
  },
  {
   "metadata": {
    "ExecuteTime": {
     "end_time": "2025-08-25T08:30:33.088985Z",
     "start_time": "2025-08-25T08:30:33.071815Z"
    }
   },
   "cell_type": "code",
   "source": [
    "NUM_USERS = filtered_df[\"user_id\"].max() + 1\n",
    "NUM_ITEMS = filtered_df[\"item_id\"].max() + 1"
   ],
   "id": "265b459b4730043d",
   "outputs": [],
   "execution_count": 11
  },
  {
   "metadata": {
    "ExecuteTime": {
     "end_time": "2025-08-25T08:30:34.321480Z",
     "start_time": "2025-08-25T08:30:34.315453Z"
    }
   },
   "cell_type": "code",
   "source": [
    "# Rank the single positive against k negative samples for train and evaluation\n",
    "def build_pos_items_by_user(train_df):\n",
    "    pos_items_by_user = defaultdict(set)\n",
    "    for u, i in zip(train_df[\"user_id\"].values, train_df[\"item_id\"].values):\n",
    "        pos_items_by_user[u].add(int(i))\n",
    "    return pos_items_by_user"
   ],
   "id": "cca53221665f9295",
   "outputs": [],
   "execution_count": 12
  },
  {
   "metadata": {
    "ExecuteTime": {
     "end_time": "2025-08-25T08:33:24.702314Z",
     "start_time": "2025-08-25T08:33:23.553693Z"
    }
   },
   "cell_type": "code",
   "source": [
    "# Training dataset with k negatives per positive\n",
    "class ImplicitTrainingDataset(Dataset):\n",
    "    def __init__(self, train_df, num_items, pos_by_user, neg_k=4, seed=SEED):\n",
    "        self.pos_pairs = train_df[[\"user_id\", \"item_id\"]].values.astype(np.int64)\n",
    "        self.num_pos = len(self.pos_pairs)\n",
    "        self.neg_k = neg_k\n",
    "        self.num_items = num_items\n",
    "        self.pos_by_user = pos_by_user\n",
    "        self.length = self.num_pos * (1 + self.neg_k)\n",
    "        self.rng = random.Random(seed)\n",
    "\n",
    "    def __len__(self):\n",
    "        return self.length\n",
    "\n",
    "    def __getitem__(self, idx):\n",
    "        pos_idx = idx // (self.neg_k + 1)\n",
    "        is_pos = (idx % (self.neg_k + 1) == 0)\n",
    "        u, i_pos = self.pos_pairs[pos_idx]\n",
    "        if is_pos:\n",
    "            return int(u), int(i_pos), 1.0\n",
    "\n",
    "        while True:\n",
    "            j = self.rng.randint(0, self.num_items - 1)\n",
    "            if j not in self.pos_by_user[u]:\n",
    "                return int(u), int(j), 0.0\n",
    "\n",
    "pos_items_by_user = build_pos_items_by_user(train_df)\n",
    "\n",
    "train_dataset = ImplicitTrainingDataset(train_df,\n",
    "                                  num_items=NUM_ITEMS,\n",
    "                                  pos_by_user=pos_items_by_user,\n",
    "                                  neg_k=4)\n",
    "train_loader = DataLoader(train_dataset,\n",
    "                          batch_size=4096,\n",
    "                          shuffle=True)\n",
    "\n",
    "print(f\"Training dataset created with {len(train_dataset)} samples.\")"
   ],
   "id": "ca3c4cf5ec1ad7b5",
   "outputs": [
    {
     "name": "stdout",
     "output_type": "stream",
     "text": [
      "Training dataset created with 12031360 samples.\n"
     ]
    }
   ],
   "execution_count": 22
  },
  {
   "metadata": {
    "ExecuteTime": {
     "end_time": "2025-08-25T08:33:58.253356Z",
     "start_time": "2025-08-25T08:33:25.229582Z"
    }
   },
   "cell_type": "code",
   "source": [
    "class EvaluateDataset(Dataset):\n",
    "    def __init__(self, eval_df, num_items, pos_by_user, n_neg=99, seed=42):\n",
    "        self.users = eval_df[\"user_id\"].values.astype(np.int64)\n",
    "        self.pos_items = eval_df[\"item_id\"].values.astype(np.int64)\n",
    "        self.n_neg = n_neg\n",
    "        self.num_items = num_items\n",
    "        self.pos_by_user = pos_by_user\n",
    "\n",
    "        rng = np.random.default_rng(seed)\n",
    "        self.candidates = np.empty((len(self.users), 1 + n_neg), dtype=np.int64)\n",
    "\n",
    "        for idx, (u, pos_i) in enumerate(zip(self.users, self.pos_items)):\n",
    "            user_pos = pos_by_user[u].copy()\n",
    "            user_pos.add(pos_i)\n",
    "            negs = []\n",
    "            while len(negs) < n_neg:\n",
    "                neg = rng.integers(0, num_items)\n",
    "                if neg not in user_pos:\n",
    "                    negs.append(int(neg))\n",
    "                    user_pos.add(neg)\n",
    "            self.candidates[idx, 0] = pos_i\n",
    "            self.candidates[idx, 1:] = np.asarray(negs, dtype=np.int64)\n",
    "\n",
    "    def __len__(self):\n",
    "        return len(self.users)\n",
    "\n",
    "    def __getitem__(self, idx):\n",
    "        return int(self.users[idx]), self.candidates[idx]\n",
    "\n",
    "# Build val/test loaders\n",
    "val_dataset = EvaluateDataset(val_df, NUM_ITEMS, pos_items_by_user, n_neg=99, seed=SEED)\n",
    "test_dataset = EvaluateDataset(test_df, NUM_ITEMS, pos_items_by_user, n_neg=99, seed=SEED)\n",
    "\n",
    "val_loader = DataLoader(val_dataset, batch_size=4096, shuffle=False)\n",
    "test_loader = DataLoader(test_dataset, batch_size=4096, shuffle=False)\n",
    "\n",
    "print(f\"Validation dataset: {len(val_dataset)} users\")\n",
    "print(f\"Test dataset: {len(test_dataset)} users\")"
   ],
   "id": "f9d96b8f8e3a91c7",
   "outputs": [
    {
     "name": "stdout",
     "output_type": "stream",
     "text": [
      "Validation dataset: 75510 users\n",
      "Test dataset: 75510 users\n"
     ]
    }
   ],
   "execution_count": 23
  },
  {
   "metadata": {},
   "cell_type": "markdown",
   "source": [
    "## Utility functions for evaluation & ranking metrics\n",
    "- For each val user, build candidate set = `{positive} U {k negatives}`\n",
    "- Score, sort, compute HR@K, NDCG@K, Precision@K, Recall@K"
   ],
   "id": "5091158ecaf52022"
  },
  {
   "metadata": {
    "ExecuteTime": {
     "end_time": "2025-08-25T08:36:42.256618Z",
     "start_time": "2025-08-25T08:36:42.232768Z"
    }
   },
   "cell_type": "code",
   "source": [
    "# Validation loss and ranking metrics\n",
    "@torch.no_grad()\n",
    "def evaluate_ranking_loader(model, eval_loader, loss_fn, k=10, device=\"cpu\"):\n",
    "    model.eval()\n",
    "    total = 0\n",
    "    sum_hr = 0.0\n",
    "    sum_ndcg = 0.0\n",
    "    sum_prec = 0.0\n",
    "\n",
    "    sum_val_loss = 0.0\n",
    "    n_loss_batches = 0\n",
    "\n",
    "    for users, cand in eval_loader:\n",
    "        users = users.to(device, non_blocking=True)\n",
    "        cand = torch.as_tensor(cand, dtype=torch.long, device=device)\n",
    "        B, C = cand.shape\n",
    "\n",
    "        # Repeat users per candidate, score in one forward\n",
    "        users_rep = users.view(-1, 1).expand(-1, C).reshape(-1)\n",
    "        items_flat = cand.reshape(-1)\n",
    "        scores_flat = model(users_rep, items_flat)\n",
    "        scores = scores_flat.view(B, C)\n",
    "\n",
    "        # Rank of the positive (column 0)\n",
    "        pos = scores[:, 0].unsqueeze(1)  # [B,1]\n",
    "        # number of items with strictly greater score than the positive +1\n",
    "        rank = (scores[:, 1:] > pos).sum(dim=1).add_(1).to(torch.long)  # [B]\n",
    "\n",
    "        hit = (rank <= k).float()\n",
    "        ndcg = torch.where(rank <= k, 1.0 / torch.log2(rank.float() + 1), torch.zeros_like(hit))\n",
    "        precision = hit / float(k)\n",
    "\n",
    "        sum_hr += hit.sum().item()\n",
    "        sum_ndcg += ndcg.sum().item()\n",
    "        sum_prec += precision.sum().item()\n",
    "        total += B\n",
    "\n",
    "        # Validation loss: labels = [1, 0, 0, ...]\n",
    "        labels = torch.zeros_like(scores)\n",
    "        labels[:, 0] = 1.0\n",
    "        batch_loss = loss_fn(scores, labels)\n",
    "        sum_val_loss += batch_loss.item()\n",
    "        n_loss_batches += 1\n",
    "\n",
    "    metrics = {\n",
    "        \"HR@K\": sum_hr / total if total else 0.0,\n",
    "        \"NDCG@K\": sum_ndcg / total if total else 0.0,\n",
    "        \"Precision@K\": sum_prec / total if total else 0.0,\n",
    "        \"Val loss\": sum_val_loss / max(n_loss_batches, 1)\n",
    "    }\n",
    "    return metrics"
   ],
   "id": "778028709a077112",
   "outputs": [],
   "execution_count": 24
  },
  {
   "metadata": {},
   "cell_type": "markdown",
   "source": "## Train loop",
   "id": "1cd309ea5d673cac"
  },
  {
   "metadata": {
    "ExecuteTime": {
     "end_time": "2025-08-25T08:36:43.596482Z",
     "start_time": "2025-08-25T08:36:43.581464Z"
    }
   },
   "cell_type": "code",
   "source": [
    "def model_trainer(\n",
    "        model,\n",
    "        train_loader,\n",
    "        eval_loader,\n",
    "        epochs,\n",
    "        loss_fn,\n",
    "        optimizer,\n",
    "        lr=0.001,\n",
    "        k=10,             # kept to log hyperparams\n",
    "        device=\"cpu\",\n",
    "        save_dir=\"model\"\n",
    "    ):\n",
    "    os.makedirs(save_dir, exist_ok=True)\n",
    "    model.to(device)\n",
    "    writer = SummaryWriter()\n",
    "\n",
    "    train_losses, val_losses, val_metrics_log = [], [], []\n",
    "    best_ndcg, best_epoch = 0.0, 0\n",
    "\n",
    "    for epoch in range(epochs):\n",
    "        model.train()\n",
    "        running_loss = 0.0\n",
    "        n_batches = 0\n",
    "        t0 = time.time()\n",
    "\n",
    "        for users, items, labels in tqdm(train_loader, desc=f\"Epoch {epoch+1}/{epochs}\"):\n",
    "            users = users.to(device, non_blocking=True)\n",
    "            items = items.to(device, non_blocking=True)\n",
    "            labels = labels.to(device, non_blocking=True)\n",
    "\n",
    "            optimizer.zero_grad(set_to_none=True)\n",
    "            logits = model(users, items)\n",
    "            loss = loss_fn(logits, labels)\n",
    "            loss.backward()\n",
    "            optimizer.step()\n",
    "\n",
    "            running_loss += loss.item()\n",
    "            n_batches += 1\n",
    "\n",
    "        train_loss = running_loss / max(n_batches, 1)\n",
    "        train_losses.append(train_loss)\n",
    "\n",
    "        # Eval (batched)\n",
    "        m = evaluate_ranking_loader(model, eval_loader, loss_fn, k=k, device=device)\n",
    "        val_losses.append(m[\"Val loss\"])\n",
    "        val_metrics_log.append({k_: m[k_] for k_ in [\"HR@K\", \"NDCG@K\", \"Precision@K\"]})\n",
    "\n",
    "        # Checkpointing by NDCG\n",
    "        if m[\"NDCG@K\"] > best_ndcg:\n",
    "            best_ndcg = m[\"NDCG@K\"]\n",
    "            best_epoch = epoch + 1\n",
    "            torch.save(model.state_dict(), os.path.join(save_dir, \"best_model.pth\"))\n",
    "        torch.save(model.state_dict(), os.path.join(save_dir, \"last_model.pth\"))\n",
    "\n",
    "        # TB logs\n",
    "        writer.add_scalar(\"Loss/Train\", train_loss, epoch)\n",
    "        writer.add_scalar(\"Loss/Validation\", m[\"Val loss\"], epoch)\n",
    "        writer.add_scalar(f\"Metrics/Val_HR@{k}\", m[\"HR@K\"], epoch)\n",
    "        writer.add_scalar(f\"Metrics/Val_NDCG@{k}\", m[\"NDCG@K\"], epoch)\n",
    "        writer.add_scalar(f\"Metrics/Val_Precision@{k}\", m[\"Precision@K\"], epoch)\n",
    "\n",
    "        print(\n",
    "            f\"Epoch {epoch+1}/{epochs}  \"\n",
    "            f\"Train loss {train_loss:.4f}  \"\n",
    "            f\"Val loss {m['Val loss']:.4f}  \"\n",
    "            f\"HR@{k} {m['HR@K']:.4f}  \"\n",
    "            f\"NDCG@{k} {m['NDCG@K']:.4f}  \"\n",
    "            f\"Precision@{k} {m['Precision@K']:.4f}  \"\n",
    "            f\"{'(new best)' if m['NDCG@K'] == best_ndcg and best_epoch==epoch+1 else ''}  \"\n",
    "            f\"Time {time.time()-t0:.2f}s\"\n",
    "        )\n",
    "\n",
    "    print(\"\\n\" + \"=\"*50)\n",
    "    print(\"Training Complete.\")\n",
    "    print(f\"Best epoch: {best_epoch} with NDCG@{k}: {best_ndcg:.4f}\")\n",
    "    print(\"=\"*50)\n",
    "    print(\"\\n\")\n",
    "\n",
    "    gc.collect()\n",
    "    if torch.cuda.is_available():\n",
    "        torch.cuda.empty_cache()\n",
    "    writer.close()\n",
    "    return train_losses, val_losses, val_metrics_log, best_ndcg"
   ],
   "id": "ab497fc37e83e382",
   "outputs": [],
   "execution_count": 25
  },
  {
   "metadata": {},
   "cell_type": "markdown",
   "source": "## Building baseline model",
   "id": "6f508d1626bf6ddc"
  },
  {
   "metadata": {
    "ExecuteTime": {
     "end_time": "2025-08-25T08:36:44.865656Z",
     "start_time": "2025-08-25T08:36:44.857597Z"
    }
   },
   "cell_type": "code",
   "source": [
    "# Simple Matrix Factorization model (dot product)\n",
    "class MatrixFactorization(nn.Module):\n",
    "    \"\"\"Improved MF model with dropout and better initialization\"\"\"\n",
    "    def __init__(self, n_users, n_items, embedding_dim):\n",
    "        super().__init__()\n",
    "        self.user_embedding = nn.Embedding(n_users, embedding_dim)\n",
    "        self.item_embedding = nn.Embedding(n_items, embedding_dim)\n",
    "        nn.init.xavier_uniform_(self.user_embedding.weight)\n",
    "        nn.init.xavier_uniform_(self.item_embedding.weight)\n",
    "\n",
    "    def forward(self, user_ids, item_ids):\n",
    "        user_embeds = self.user_embedding(user_ids)\n",
    "        item_embeds = self.item_embedding(item_ids)\n",
    "        dot_product = (user_embeds * item_embeds).sum(dim=1, keepdim=True)\n",
    "        return dot_product.squeeze()\n",
    "\n",
    "    def predict_all_items(self, user_id):\n",
    "        \"\"\"Predict scores for all items for a given user\"\"\"\n",
    "        user_tensor = torch.tensor([user_id], dtype=torch.long).to(next(self.parameters()).device)\n",
    "        all_items = torch.arange(self.item_embedding.num_embeddings).to(next(self.parameters()).device)\n",
    "        user_embed = self.user_embedding(user_tensor)\n",
    "        item_embeds = self.item_embedding(all_items)\n",
    "        scores = torch.matmul(user_embed, item_embeds.T).squeeze()\n",
    "        return torch.sigmoid(scores)"
   ],
   "id": "22d6f717fcdc554c",
   "outputs": [],
   "execution_count": 26
  },
  {
   "metadata": {
    "ExecuteTime": {
     "end_time": "2025-08-25T08:56:27.025214Z",
     "start_time": "2025-08-25T08:45:42.263169Z"
    }
   },
   "cell_type": "code",
   "source": [
    "# Run the training\n",
    "model = MatrixFactorization(n_users=NUM_USERS, n_items=NUM_ITEMS, embedding_dim=64).to(DEVICE)\n",
    "loss_fn = nn.BCEWithLogitsLoss()\n",
    "optimizer = torch.optim.Adam(model.parameters(), lr=1e-3, weight_decay=1e-6)\n",
    "\n",
    "train_losses, val_losses, val_metrics, best_ndcg = model_trainer(\n",
    "    model=model,\n",
    "    train_loader=train_loader,\n",
    "    eval_loader=val_loader,\n",
    "    loss_fn=loss_fn,\n",
    "    optimizer=optimizer,\n",
    "    epochs=10,\n",
    "    k=10,\n",
    "    device=DEVICE\n",
    ")"
   ],
   "id": "787fab7f1b944d07",
   "outputs": [
    {
     "name": "stderr",
     "output_type": "stream",
     "text": [
      "Epoch 1/10: 100%|██████████| 2938/2938 [01:02<00:00, 47.33it/s]\n"
     ]
    },
    {
     "name": "stdout",
     "output_type": "stream",
     "text": [
      "Epoch 1/10  Train loss 0.5467  Val loss 0.3646  HR@10 0.3856  NDCG@10 0.2287  Precision@10 0.0386  (new best)  Time 65.13s\n"
     ]
    },
    {
     "name": "stderr",
     "output_type": "stream",
     "text": [
      "Epoch 2/10: 100%|██████████| 2938/2938 [01:01<00:00, 48.03it/s]\n"
     ]
    },
    {
     "name": "stdout",
     "output_type": "stream",
     "text": [
      "Epoch 2/10  Train loss 0.4482  Val loss 0.3530  HR@10 0.3956  NDCG@10 0.2358  Precision@10 0.0396  (new best)  Time 64.18s\n"
     ]
    },
    {
     "name": "stderr",
     "output_type": "stream",
     "text": [
      "Epoch 3/10: 100%|██████████| 2938/2938 [00:59<00:00, 49.47it/s]\n"
     ]
    },
    {
     "name": "stdout",
     "output_type": "stream",
     "text": [
      "Epoch 3/10  Train loss 0.4415  Val loss 0.3494  HR@10 0.4155  NDCG@10 0.2495  Precision@10 0.0416  (new best)  Time 62.43s\n"
     ]
    },
    {
     "name": "stderr",
     "output_type": "stream",
     "text": [
      "Epoch 4/10: 100%|██████████| 2938/2938 [01:03<00:00, 46.16it/s]\n"
     ]
    },
    {
     "name": "stdout",
     "output_type": "stream",
     "text": [
      "Epoch 4/10  Train loss 0.4343  Val loss 0.3461  HR@10 0.4320  NDCG@10 0.2619  Precision@10 0.0432  (new best)  Time 66.62s\n"
     ]
    },
    {
     "name": "stderr",
     "output_type": "stream",
     "text": [
      "Epoch 5/10: 100%|██████████| 2938/2938 [01:00<00:00, 48.71it/s]\n"
     ]
    },
    {
     "name": "stdout",
     "output_type": "stream",
     "text": [
      "Epoch 5/10  Train loss 0.4280  Val loss 0.3437  HR@10 0.4479  NDCG@10 0.2729  Precision@10 0.0448  (new best)  Time 63.31s\n"
     ]
    },
    {
     "name": "stderr",
     "output_type": "stream",
     "text": [
      "Epoch 6/10: 100%|██████████| 2938/2938 [01:00<00:00, 48.33it/s]\n"
     ]
    },
    {
     "name": "stdout",
     "output_type": "stream",
     "text": [
      "Epoch 6/10  Train loss 0.4229  Val loss 0.3417  HR@10 0.4608  NDCG@10 0.2812  Precision@10 0.0461  (new best)  Time 63.83s\n"
     ]
    },
    {
     "name": "stderr",
     "output_type": "stream",
     "text": [
      "Epoch 7/10: 100%|██████████| 2938/2938 [01:01<00:00, 47.60it/s]\n"
     ]
    },
    {
     "name": "stdout",
     "output_type": "stream",
     "text": [
      "Epoch 7/10  Train loss 0.4187  Val loss 0.3403  HR@10 0.4714  NDCG@10 0.2880  Precision@10 0.0471  (new best)  Time 64.74s\n"
     ]
    },
    {
     "name": "stderr",
     "output_type": "stream",
     "text": [
      "Epoch 8/10: 100%|██████████| 2938/2938 [01:00<00:00, 48.42it/s]\n"
     ]
    },
    {
     "name": "stdout",
     "output_type": "stream",
     "text": [
      "Epoch 8/10  Train loss 0.4152  Val loss 0.3386  HR@10 0.4778  NDCG@10 0.2934  Precision@10 0.0478  (new best)  Time 63.74s\n"
     ]
    },
    {
     "name": "stderr",
     "output_type": "stream",
     "text": [
      "Epoch 9/10: 100%|██████████| 2938/2938 [01:00<00:00, 48.57it/s]\n"
     ]
    },
    {
     "name": "stdout",
     "output_type": "stream",
     "text": [
      "Epoch 9/10  Train loss 0.4123  Val loss 0.3380  HR@10 0.4850  NDCG@10 0.2978  Precision@10 0.0485  (new best)  Time 63.58s\n"
     ]
    },
    {
     "name": "stderr",
     "output_type": "stream",
     "text": [
      "Epoch 10/10: 100%|██████████| 2938/2938 [01:03<00:00, 46.25it/s]\n"
     ]
    },
    {
     "name": "stdout",
     "output_type": "stream",
     "text": [
      "Epoch 10/10  Train loss 0.4102  Val loss 0.3371  HR@10 0.4886  NDCG@10 0.3001  Precision@10 0.0489  (new best)  Time 66.56s\n",
      "\n",
      "==================================================\n",
      "Training Complete.\n",
      "Best epoch: 10 with NDCG@10: 0.3001\n",
      "==================================================\n",
      "\n",
      "\n"
     ]
    }
   ],
   "execution_count": 29
  },
  {
   "metadata": {
    "ExecuteTime": {
     "end_time": "2025-08-25T09:05:49.636665Z",
     "start_time": "2025-08-25T09:05:49.551106Z"
    }
   },
   "cell_type": "code",
   "source": [
    "def load_best_weights(model, ckpt_path=\"model/best_model.pth\", device=None):\n",
    "    \"\"\"Load best checkpoint into the provided model.\"\"\"\n",
    "    if device is None:\n",
    "        device = next(model.parameters()).device\n",
    "    if not os.path.exists(ckpt_path):\n",
    "        raise FileNotFoundError(f\"Checkpoint not found: {ckpt_path}\")\n",
    "    state = torch.load(ckpt_path, map_location=device)\n",
    "    model.load_state_dict(state)\n",
    "    model.to(device)\n",
    "    model.eval()\n",
    "    return model\n",
    "\n",
    "best_model = load_best_weights(model, ckpt_path=\"model/best_model.pth\", device=DEVICE)"
   ],
   "id": "492cc30046f34217",
   "outputs": [],
   "execution_count": 30
  },
  {
   "metadata": {
    "ExecuteTime": {
     "end_time": "2025-08-25T09:05:52.432229Z",
     "start_time": "2025-08-25T09:05:50.343651Z"
    }
   },
   "cell_type": "code",
   "source": [
    "# Final evaluation on test set\n",
    "@torch.no_grad()\n",
    "def final_evaluation_loader(model, test_loader, loss_fn, k_values=(5,10,20,50), device=\"cpu\") -> pd.DataFrame:\n",
    "    rows = []\n",
    "    for k in k_values:\n",
    "        metrics = evaluate_ranking_loader(model, test_loader, loss_fn, k=k, device=device)\n",
    "        rows.append({\n",
    "            \"K\": k,\n",
    "            \"HR@K\": metrics[\"HR@K\"],\n",
    "            \"NDCG@K\": metrics[\"NDCG@K\"],\n",
    "            \"Precision@K\": metrics[\"Precision@K\"],\n",
    "        })\n",
    "    df = pd.DataFrame(rows).set_index(\"K\").sort_index()\n",
    "    print(df.to_string(float_format=lambda x: f\"{x:.4f}\"))\n",
    "    return df\n",
    "\n",
    "results_df = final_evaluation_loader(best_model, test_loader, loss_fn, device=DEVICE)"
   ],
   "id": "785057c74fe7843a",
   "outputs": [
    {
     "name": "stdout",
     "output_type": "stream",
     "text": [
      "     HR@K  NDCG@K  Precision@K\n",
      "K                             \n",
      "5  0.3258  0.2310       0.0652\n",
      "10 0.4472  0.2701       0.0447\n",
      "20 0.5894  0.3060       0.0295\n",
      "50 0.7995  0.3477       0.0160\n"
     ]
    }
   ],
   "execution_count": 31
  },
  {
   "metadata": {
    "ExecuteTime": {
     "end_time": "2025-08-25T09:05:54.849528Z",
     "start_time": "2025-08-25T09:05:54.841567Z"
    }
   },
   "cell_type": "code",
   "source": [
    "@torch.no_grad()\n",
    "def get_recommendations(\n",
    "    model, user_id, pos_items_by_user, data, top_k=10, exclude_interacted=True, as_prob=False\n",
    "):\n",
    "    model.eval()\n",
    "    scores = model.predict_all_items(user_id)  # logits\n",
    "    if exclude_interacted and user_id in pos_items_by_user:\n",
    "        idx = torch.as_tensor(list(pos_items_by_user[user_id]), dtype=torch.long, device=scores.device)\n",
    "        if idx.numel() > 0:\n",
    "            scores.index_fill_(0, idx, float('-inf'))\n",
    "\n",
    "    top_scores, top_indices = torch.topk(scores, k=top_k)\n",
    "    shown = torch.sigmoid(top_scores) if as_prob else top_scores\n",
    "\n",
    "    item_ids_np = top_indices.detach().cpu().numpy()\n",
    "    items_np = data[\"item_encoder\"].inverse_transform(item_ids_np)\n",
    "    return [{\"item_id\": int(i), \"item\": it, \"score\": float(s)} for i, it, s in zip(item_ids_np, items_np, shown.detach().cpu().numpy())]\n"
   ],
   "id": "fd43c719445c714e",
   "outputs": [],
   "execution_count": 32
  },
  {
   "metadata": {
    "ExecuteTime": {
     "end_time": "2025-08-25T09:06:02.078740Z",
     "start_time": "2025-08-25T09:05:56.075479Z"
    }
   },
   "cell_type": "code",
   "source": [
    "def build_history_by_user(df):\n",
    "    # df must contain user_id, item_id, timestamp (ints)\n",
    "    df_sorted = df.sort_values([\"user_id\", \"timestamp\"])\n",
    "    hist = defaultdict(list)\n",
    "    for u, i in zip(df_sorted[\"user_id\"].values, df_sorted[\"item_id\"].values):\n",
    "        hist[u].append(int(i))\n",
    "    return hist\n",
    "\n",
    "# Build once (choose train_df or filtered_df depending on story you want)\n",
    "history_by_user_train = build_history_by_user(train_df)\n",
    "history_by_user_full  = build_history_by_user(filtered_df)"
   ],
   "id": "b40be0f20764120b",
   "outputs": [],
   "execution_count": 33
  },
  {
   "metadata": {
    "ExecuteTime": {
     "end_time": "2025-08-25T09:06:02.088514Z",
     "start_time": "2025-08-25T09:06:02.080748Z"
    }
   },
   "cell_type": "code",
   "source": [
    "def show_sample_recommendations(\n",
    "    model,\n",
    "    data,\n",
    "    pos_items_by_user,     # pass train-only OR full here, same as get_recommendations\n",
    "    history_by_user,       # pass the matching history dict (train or full)\n",
    "    num_users=5,\n",
    "    top_k=10\n",
    "):\n",
    "    print(\"\\n\" + \"=\"*50)\n",
    "    print(\"User Sample Recommendations\")\n",
    "    print(\"=\"*50)\n",
    "\n",
    "    user_candidates = data[\"filtered_df\"][\"user_id\"].unique().tolist()\n",
    "    for user_id in random.sample(user_candidates, k=min(num_users, len(user_candidates))):\n",
    "        original_user = data[\"user_encoder\"].inverse_transform([user_id])[0]\n",
    "        print(f\"\\nUser: {original_user} (ID: {user_id})\")\n",
    "        print(\"-\" * 40)\n",
    "\n",
    "        recent = history_by_user.get(user_id, [])[-5:]  # last 5 chronologically\n",
    "        print(\"Recent interactions:\")\n",
    "        for item_id in reversed(recent):  # most recent first\n",
    "            print(\"  -\", data[\"item_encoder\"].inverse_transform([item_id])[0])\n",
    "\n",
    "        recs = get_recommendations(\n",
    "            model,\n",
    "            user_id=user_id,\n",
    "            pos_items_by_user=pos_items_by_user,\n",
    "            data=data,\n",
    "            top_k=top_k,\n",
    "            exclude_interacted=True\n",
    "        )\n",
    "        print(\"\\nTop 10 Recommendations:\")\n",
    "        for i, rec in enumerate(recs, 1):\n",
    "            print(f\"  {i}. {rec['item']} (Score: {rec['score']:.4f})\")"
   ],
   "id": "80d2c20c7b571ddb",
   "outputs": [],
   "execution_count": 34
  },
  {
   "metadata": {
    "ExecuteTime": {
     "end_time": "2025-08-25T09:06:06.317090Z",
     "start_time": "2025-08-25T09:06:05.796471Z"
    }
   },
   "cell_type": "code",
   "source": [
    "# “Online-style” (no future knowledge):\n",
    "show_sample_recommendations(\n",
    "    best_model,\n",
    "    data_processor,\n",
    "    pos_items_by_user=pos_items_by_user,     # exclude TRAIN-only\n",
    "    history_by_user=history_by_user_train,\n",
    "    num_users=5, top_k=10\n",
    ")"
   ],
   "id": "793f727cef1f015b",
   "outputs": [
    {
     "name": "stdout",
     "output_type": "stream",
     "text": [
      "\n",
      "==================================================\n",
      "User Sample Recommendations\n",
      "==================================================\n",
      "\n",
      "User: AEVWNRJUL6JVTB4JGLCZDHPRU4BA (ID: 16582)\n",
      "----------------------------------------\n",
      "Recent interactions:\n",
      "  - B06XT8YY5S\n",
      "  - B01M5IPH1Q\n",
      "  - B01MSYR5XO\n",
      "  - B0748NJY1B\n",
      "  - B01MDTXM2T\n",
      "\n",
      "Top 10 Recommendations:\n",
      "  1. B00RSGIVVO (Score: 0.9681)\n",
      "  2. B00I3MQNWG (Score: 0.9655)\n",
      "  3. B01J4SRJFW (Score: 0.9591)\n",
      "  4. B01AB17IGQ (Score: 0.9566)\n",
      "  5. B00MR9UY8A (Score: 0.9373)\n",
      "  6. B003AZCYCE (Score: 0.9356)\n",
      "  7. B00TU9UFTS (Score: 0.9277)\n",
      "  8. B073RPZK88 (Score: 0.9268)\n",
      "  9. B00YBX664Q (Score: 0.9233)\n",
      "  10. B00H7NEXYC (Score: 0.9202)\n",
      "\n",
      "User: AE4V454IAMIDG2PAPZOKQK6V2WVQ (ID: 1792)\n",
      "----------------------------------------\n",
      "Recent interactions:\n",
      "  - B005HFLNDQ\n",
      "  - B005HFLCSC\n",
      "  - B008U4S6AE\n",
      "  - B0191S92UU\n",
      "  - B003AZCYCE\n",
      "\n",
      "Top 10 Recommendations:\n",
      "  1. B00RSGIVVO (Score: 0.9620)\n",
      "  2. B01J4SRJFW (Score: 0.9507)\n",
      "  3. B01AB17IGQ (Score: 0.9485)\n",
      "  4. B00MR9UY8A (Score: 0.9267)\n",
      "  5. B01EN8FBG2 (Score: 0.9099)\n",
      "  6. B004MWZLYC (Score: 0.9096)\n",
      "  7. B00H7NEXYC (Score: 0.9077)\n",
      "  8. B00X8UKOUK (Score: 0.9067)\n",
      "  9. B00APE1NZW (Score: 0.9061)\n",
      "  10. B00TU9UFTS (Score: 0.9059)\n",
      "\n",
      "User: AHHPBH5MGWERZKL7J7EPPFDVMUMA (ID: 64853)\n",
      "----------------------------------------\n",
      "Recent interactions:\n",
      "  - B002XUBDQA\n",
      "  - B002SQFZ68\n",
      "  - B07DVGNYTR\n",
      "  - B002Q5O6YI\n",
      "  - B00DXJ1ZFO\n",
      "\n",
      "Top 10 Recommendations:\n",
      "  1. B018FK66TU (Score: 0.8732)\n",
      "  2. B00OV3VGP0 (Score: 0.8493)\n",
      "  3. B00AZMFK3K (Score: 0.8369)\n",
      "  4. B00N1JQ2UO (Score: 0.8311)\n",
      "  5. B00RSGIVVO (Score: 0.8291)\n",
      "  6. B008JFUPK8 (Score: 0.8248)\n",
      "  7. B01IS31U6S (Score: 0.8200)\n",
      "  8. B00G5G7K7O (Score: 0.8167)\n",
      "  9. B00I3MQNWG (Score: 0.8122)\n",
      "  10. B0714QRG4Z (Score: 0.8116)\n",
      "\n",
      "User: AHTCFMU5QODNFRXC57E66YDTNSZQ (ID: 71783)\n",
      "----------------------------------------\n",
      "Recent interactions:\n",
      "  - B001EYVNZM\n",
      "  - B00Z61S75S\n",
      "  - B00EIA7Y70\n",
      "  - B000T4CRJ4\n",
      "  - B0787BVYTZ\n",
      "\n",
      "Top 10 Recommendations:\n",
      "  1. B00RSGIVVO (Score: 0.9727)\n",
      "  2. B00I3MQNWG (Score: 0.9714)\n",
      "  3. B01J4SRJFW (Score: 0.9672)\n",
      "  4. B01AB17IGQ (Score: 0.9645)\n",
      "  5. B003AZCYCE (Score: 0.9505)\n",
      "  6. B00MR9UY8A (Score: 0.9485)\n",
      "  7. B00PSLQYWE (Score: 0.9366)\n",
      "  8. B00TU9UFTS (Score: 0.9349)\n",
      "  9. B00APE1NZW (Score: 0.9344)\n",
      "  10. B01EN8FBG2 (Score: 0.9329)\n",
      "\n",
      "User: AHOOYT2X2UREJNDW7MONK374IZAA (ID: 69013)\n",
      "----------------------------------------\n",
      "Recent interactions:\n",
      "  - B0023M448C\n",
      "  - B083SGHVQB\n",
      "  - B09PJHCCJK\n",
      "  - B09M9VD43H\n",
      "  - B09M7JN1G2\n",
      "\n",
      "Top 10 Recommendations:\n",
      "  1. B00RSGIVVO (Score: 0.9731)\n",
      "  2. B00I3MQNWG (Score: 0.9719)\n",
      "  3. B01J4SRJFW (Score: 0.9700)\n",
      "  4. B093CNZ7ST (Score: 0.9655)\n",
      "  5. B01AB17IGQ (Score: 0.9650)\n",
      "  6. B073RPZK88 (Score: 0.9649)\n",
      "  7. B00MR9UY8A (Score: 0.9540)\n",
      "  8. B00TU9UFTS (Score: 0.9527)\n",
      "  9. B00YBX664Q (Score: 0.9498)\n",
      "  10. B003AZCYCE (Score: 0.9475)\n"
     ]
    }
   ],
   "execution_count": 35
  },
  {
   "metadata": {
    "ExecuteTime": {
     "end_time": "2025-08-25T09:06:10.583532Z",
     "start_time": "2025-08-25T09:06:10.571507Z"
    }
   },
   "cell_type": "code",
   "source": [
    "def plot_training_history(train_losses, val_losses, val_metrics, save_path='training_history.png'):\n",
    "    \"\"\"Plot training history including train/val loss and metrics\"\"\"\n",
    "    # Extract series\n",
    "    hr_values = [m.get('HR@K', 0.0) for m in val_metrics]\n",
    "    ndcg_values = [m.get('NDCG@K', 0.0) for m in val_metrics]\n",
    "    precision_values = [m.get('Precision@K', 0.0) for m in val_metrics]\n",
    "\n",
    "    fig = plt.figure(figsize=(18, 10))\n",
    "    fig.suptitle('Training History', fontsize=16)\n",
    "\n",
    "    gs = fig.add_gridspec(2, 3, hspace=0.35, wspace=0.25)\n",
    "\n",
    "    # 1) Loss plot\n",
    "    ax_loss = fig.add_subplot(gs[0, 0])\n",
    "    ax_loss.plot(train_losses, label='Training Loss', color='blue')\n",
    "    ax_loss.plot(val_losses, label='Validation Loss', color='red')\n",
    "    ax_loss.set_xlabel('Epoch'); ax_loss.set_ylabel('Loss'); ax_loss.set_title('Training vs Validation Loss')\n",
    "    ax_loss.legend(); ax_loss.grid(True, alpha=0.3)\n",
    "\n",
    "    # 2-4) Metric plots via loop\n",
    "    metric_axes = [fig.add_subplot(gs[0, 1]), fig.add_subplot(gs[0, 2]), fig.add_subplot(gs[1, 0])]\n",
    "    metric_cfgs = [\n",
    "        ('Val HR@10', hr_values, 'green', 'o', 'Validation Hit Rate@10', 'HR@10'),\n",
    "        ('Val NDCG@10', ndcg_values, 'orange', 's', 'Validation NDCG@10', 'NDCG@10'),\n",
    "        ('Val Precision@10', precision_values, 'purple', '^', 'Validation Precision@10', 'Precision@10'),\n",
    "    ]\n",
    "    for ax, (label, series, color, marker, title, ylabel) in zip(metric_axes, metric_cfgs):\n",
    "        ax.plot(series, label=label, color=color, marker=marker)\n",
    "        ax.set_xlabel('Epoch'); ax.set_ylabel(ylabel); ax.set_title(title)\n",
    "        ax.legend(); ax.grid(True, alpha=0.3)\n",
    "\n",
    "    # 5) All metrics together (span two columns)\n",
    "    ax_all = fig.add_subplot(gs[1, 1:])\n",
    "    for series, label, marker in [(hr_values, 'HR@10', 'o'),\n",
    "                                  (ndcg_values, 'NDCG@10', 's'),\n",
    "                                  (precision_values, 'Precision@10', '^')]:\n",
    "        ax_all.plot(series, label=label, marker=marker)\n",
    "    ax_all.set_xlabel('Epoch'); ax_all.set_ylabel('Score'); ax_all.set_title('All Validation Metrics Comparison')\n",
    "    ax_all.legend(); ax_all.grid(True, alpha=0.3)\n",
    "\n",
    "    fig.tight_layout(rect=(0, 0, 1, 0.96))\n",
    "    fig.savefig(save_path, dpi=100, bbox_inches='tight')\n",
    "    plt.show()"
   ],
   "id": "5cc5842652486e0",
   "outputs": [],
   "execution_count": 36
  },
  {
   "metadata": {
    "ExecuteTime": {
     "end_time": "2025-08-25T09:06:13.725658Z",
     "start_time": "2025-08-25T09:06:12.646382Z"
    }
   },
   "cell_type": "code",
   "source": "plot_training_history(train_losses, val_losses, val_metrics, save_path='training_history.png')",
   "id": "507f2db0a6be5b97",
   "outputs": [
    {
     "name": "stderr",
     "output_type": "stream",
     "text": [
      "C:\\Users\\super\\AppData\\Local\\Temp\\ipykernel_1624\\3352965676.py:41: UserWarning: This figure includes Axes that are not compatible with tight_layout, so results might be incorrect.\n",
      "  fig.tight_layout(rect=(0, 0, 1, 0.96))\n"
     ]
    },
    {
     "data": {
      "text/plain": [
       "<Figure size 1800x1000 with 5 Axes>"
      ],
      "image/png": "[encoded data removed]"
     },
     "metadata": {},
     "output_type": "display_data"
    }
   ],
   "execution_count": 37
  },
  {
   "metadata": {},
   "cell_type": "markdown",
   "source": "## Building NeuMF model",
   "id": "57400cb12a774b2a"
  },
  {
   "metadata": {
    "ExecuteTime": {
     "end_time": "2025-08-25T09:06:22.591884Z",
     "start_time": "2025-08-25T09:06:22.568732Z"
    }
   },
   "cell_type": "code",
   "source": [
    "class NeuralMF(nn.Module):\n",
    "    \"\"\"\n",
    "    NeuMF: GMF (dot-style) + MLP (nonlinear) with optional user/item/global biases.\n",
    "    Returns raw logits suitable for BCEWithLogitsLoss.\n",
    "    \"\"\"\n",
    "    def __init__(\n",
    "        self,\n",
    "        n_users: int,\n",
    "        n_items: int,\n",
    "        gmf_dim: int = 32,\n",
    "        mlp_dim: int = 32,\n",
    "        mlp_layers=(64, 32, 16),\n",
    "        dropout: float = 0.1,\n",
    "        use_bias: bool = True,\n",
    "    ):\n",
    "        super().__init__()\n",
    "        # GMF branch\n",
    "        self.user_emb_gmf = nn.Embedding(n_users, gmf_dim)\n",
    "        self.item_emb_gmf = nn.Embedding(n_items, gmf_dim)\n",
    "\n",
    "        # MLP branch\n",
    "        self.user_emb_mlp = nn.Embedding(n_users, mlp_dim)\n",
    "        self.item_emb_mlp = nn.Embedding(n_items, mlp_dim)\n",
    "\n",
    "        mlp_blocks = []\n",
    "        in_dim = mlp_dim * 2\n",
    "        for h in mlp_layers:\n",
    "            mlp_blocks.append(nn.Linear(in_dim, h))\n",
    "            mlp_blocks.append(nn.ReLU())\n",
    "            if dropout and dropout > 0:\n",
    "                mlp_blocks.append(nn.Dropout(dropout))\n",
    "            in_dim = h\n",
    "        self.mlp = nn.Sequential(*mlp_blocks) if mlp_blocks else nn.Identity()\n",
    "\n",
    "        # Final combine: concat(GMF, MLP) -> 1\n",
    "        final_in = gmf_dim + (mlp_layers[-1] if mlp_blocks else mlp_dim * 2)\n",
    "        self.fc_out = nn.Linear(final_in, 1)\n",
    "\n",
    "        self.use_bias = use_bias\n",
    "        if use_bias:\n",
    "            self.user_bias = nn.Embedding(n_users, 1)\n",
    "            self.item_bias = nn.Embedding(n_items, 1)\n",
    "        else:\n",
    "            self.user_bias = None\n",
    "            self.item_bias = None\n",
    "        self.global_bias = nn.Parameter(torch.zeros(1))\n",
    "\n",
    "        self._reset_parameters()\n",
    "\n",
    "    def _reset_parameters(self):\n",
    "        for emb in [self.user_emb_gmf, self.item_emb_gmf, self.user_emb_mlp, self.item_emb_mlp]:\n",
    "            nn.init.xavier_uniform_(emb.weight)\n",
    "        for m in self.mlp:\n",
    "            if isinstance(m, nn.Linear):\n",
    "                nn.init.xavier_uniform_(m.weight)\n",
    "                nn.init.zeros_(m.bias)\n",
    "        nn.init.xavier_uniform_(self.fc_out.weight)\n",
    "        nn.init.zeros_(self.fc_out.bias)\n",
    "        if self.use_bias:\n",
    "            nn.init.zeros_(self.user_bias.weight)\n",
    "            nn.init.zeros_(self.item_bias.weight)\n",
    "\n",
    "    def forward(self, user_ids, item_ids):\n",
    "        # GMF\n",
    "        gmf_u = self.user_emb_gmf(user_ids)           # [B, gmf_dim]\n",
    "        gmf_i = self.item_emb_gmf(item_ids)           # [B, gmf_dim]\n",
    "        gmf   = gmf_u * gmf_i                         # [B, gmf_dim]  (element-wise product)\n",
    "\n",
    "        # MLP\n",
    "        mlp_u = self.user_emb_mlp(user_ids)           # [B, mlp_dim]\n",
    "        mlp_i = self.item_emb_mlp(item_ids)           # [B, mlp_dim]\n",
    "        mlp   = torch.cat([mlp_u, mlp_i], dim=1)      # [B, 2*mlp_dim]\n",
    "        mlp   = self.mlp(mlp)                          # [B, last_mlp_hidden]\n",
    "\n",
    "        # Combine\n",
    "        x = torch.cat([gmf, mlp], dim=1)              # [B, gmf_dim + last_mlp_hidden]\n",
    "        logit = self.fc_out(x).squeeze(-1)            # [B]\n",
    "\n",
    "        if self.use_bias:\n",
    "            logit = logit + self.user_bias(user_ids).squeeze(-1) + self.item_bias(item_ids).squeeze(-1)\n",
    "        logit = logit + self.global_bias\n",
    "        return logit\n",
    "\n",
    "    @torch.no_grad()\n",
    "    def predict_all_items(self, user_id: int) -> torch.Tensor:\n",
    "        \"\"\"\n",
    "        Vectorized scoring for all items; returns raw logits.\n",
    "        \"\"\"\n",
    "        device = next(self.parameters()).device\n",
    "        u = torch.tensor([user_id], dtype=torch.long, device=device)\n",
    "        all_items = torch.arange(self.item_emb_gmf.num_embeddings, dtype=torch.long, device=device)\n",
    "\n",
    "        # GMF\n",
    "        gmf_u = self.user_emb_gmf(u)                          # [1, gmf_dim]\n",
    "        gmf_i = self.item_emb_gmf(all_items)                  # [N, gmf_dim]\n",
    "        gmf   = (gmf_u * gmf_i)                               # [N, gmf_dim]\n",
    "\n",
    "        # MLP\n",
    "        mlp_u = self.user_emb_mlp(u).expand(all_items.numel(), -1)  # [N, mlp_dim]\n",
    "        mlp_i = self.item_emb_mlp(all_items)                         # [N, mlp_dim]\n",
    "        mlp   = torch.cat([mlp_u, mlp_i], dim=1)                     # [N, 2*mlp_dim]\n",
    "        mlp   = self.mlp(mlp)                                        # [N, last_mlp_hidden]\n",
    "\n",
    "        x = torch.cat([gmf, mlp], dim=1)                             # [N, gmf_dim+last]\n",
    "        logit = self.fc_out(x).squeeze(-1)                           # [N]\n",
    "\n",
    "        if self.use_bias:\n",
    "            logit = logit + self.user_bias(u).squeeze(-1) + self.item_bias(all_items).squeeze(-1)\n",
    "        logit = logit + self.global_bias\n",
    "        return logit"
   ],
   "id": "b612b82cf9484cfc",
   "outputs": [],
   "execution_count": 38
  },
  {
   "metadata": {
    "ExecuteTime": {
     "end_time": "2025-08-25T09:27:14.362174Z",
     "start_time": "2025-08-25T09:14:47.890867Z"
    }
   },
   "cell_type": "code",
   "source": [
    "neumf = NeuralMF(\n",
    "    n_users=NUM_USERS,\n",
    "    n_items=NUM_ITEMS,\n",
    "    gmf_dim=32,\n",
    "    mlp_dim=32,\n",
    "    mlp_layers=(64, 32, 16),\n",
    "    dropout=0.2,\n",
    "    use_bias=True\n",
    ").to(DEVICE)\n",
    "\n",
    "loss_fn = nn.BCEWithLogitsLoss()\n",
    "optimizer = torch.optim.Adam(neumf.parameters(), lr=1e-3, weight_decay=1e-6)  # a bit higher LR works well for NeuMF\n",
    "\n",
    "train_losses_n, val_losses_n, val_metrics_n, best_ndcg_n = model_trainer(\n",
    "    model=neumf,\n",
    "    train_loader=train_loader,\n",
    "    eval_loader=val_loader,\n",
    "    loss_fn=loss_fn,\n",
    "    optimizer=optimizer,\n",
    "    epochs=10,\n",
    "    k=10,\n",
    "    device=DEVICE,\n",
    "    save_dir=\"model_neumf\"\n",
    ")\n",
    "\n",
    "best_neumf = load_best_weights(neumf, ckpt_path=\"model_neumf/best_model.pth\", device=DEVICE)\n",
    "\n",
    "results_neumf = final_evaluation_loader(best_neumf, test_loader, loss_fn, device=DEVICE)"
   ],
   "id": "5fda2610f7a9e398",
   "outputs": [
    {
     "name": "stderr",
     "output_type": "stream",
     "text": [
      "Epoch 1/10: 100%|██████████| 2938/2938 [01:14<00:00, 39.51it/s]\n"
     ]
    },
    {
     "name": "stdout",
     "output_type": "stream",
     "text": [
      "Epoch 1/10  Train loss 0.4246  Val loss 0.2001  HR@10 0.4393  NDCG@10 0.2649  Precision@10 0.0439  (new best)  Time 78.00s\n"
     ]
    },
    {
     "name": "stderr",
     "output_type": "stream",
     "text": [
      "Epoch 2/10: 100%|██████████| 2938/2938 [01:13<00:00, 40.19it/s]\n"
     ]
    },
    {
     "name": "stdout",
     "output_type": "stream",
     "text": [
      "Epoch 2/10  Train loss 0.3478  Val loss 0.1810  HR@10 0.5368  NDCG@10 0.3280  Precision@10 0.0537  (new best)  Time 76.41s\n"
     ]
    },
    {
     "name": "stderr",
     "output_type": "stream",
     "text": [
      "Epoch 3/10: 100%|██████████| 2938/2938 [01:11<00:00, 41.05it/s]\n"
     ]
    },
    {
     "name": "stdout",
     "output_type": "stream",
     "text": [
      "Epoch 3/10  Train loss 0.3111  Val loss 0.1716  HR@10 0.5637  NDCG@10 0.3464  Precision@10 0.0564  (new best)  Time 74.82s\n"
     ]
    },
    {
     "name": "stderr",
     "output_type": "stream",
     "text": [
      "Epoch 4/10: 100%|██████████| 2938/2938 [01:08<00:00, 42.61it/s]\n"
     ]
    },
    {
     "name": "stdout",
     "output_type": "stream",
     "text": [
      "Epoch 4/10  Train loss 0.2939  Val loss 0.1589  HR@10 0.5803  NDCG@10 0.3605  Precision@10 0.0580  (new best)  Time 72.20s\n"
     ]
    },
    {
     "name": "stderr",
     "output_type": "stream",
     "text": [
      "Epoch 5/10: 100%|██████████| 2938/2938 [01:12<00:00, 40.73it/s]\n"
     ]
    },
    {
     "name": "stdout",
     "output_type": "stream",
     "text": [
      "Epoch 5/10  Train loss 0.2814  Val loss 0.1612  HR@10 0.5923  NDCG@10 0.3712  Precision@10 0.0592  (new best)  Time 75.85s\n"
     ]
    },
    {
     "name": "stderr",
     "output_type": "stream",
     "text": [
      "Epoch 6/10: 100%|██████████| 2938/2938 [01:11<00:00, 41.21it/s]\n"
     ]
    },
    {
     "name": "stdout",
     "output_type": "stream",
     "text": [
      "Epoch 6/10  Train loss 0.2709  Val loss 0.1495  HR@10 0.6036  NDCG@10 0.3807  Precision@10 0.0604  (new best)  Time 74.70s\n"
     ]
    },
    {
     "name": "stderr",
     "output_type": "stream",
     "text": [
      "Epoch 7/10: 100%|██████████| 2938/2938 [01:09<00:00, 42.11it/s]\n"
     ]
    },
    {
     "name": "stdout",
     "output_type": "stream",
     "text": [
      "Epoch 7/10  Train loss 0.2614  Val loss 0.1553  HR@10 0.6177  NDCG@10 0.3913  Precision@10 0.0618  (new best)  Time 73.07s\n"
     ]
    },
    {
     "name": "stderr",
     "output_type": "stream",
     "text": [
      "Epoch 8/10: 100%|██████████| 2938/2938 [01:07<00:00, 43.27it/s]\n"
     ]
    },
    {
     "name": "stdout",
     "output_type": "stream",
     "text": [
      "Epoch 8/10  Train loss 0.2530  Val loss 0.1543  HR@10 0.6227  NDCG@10 0.3972  Precision@10 0.0623  (new best)  Time 71.18s\n"
     ]
    },
    {
     "name": "stderr",
     "output_type": "stream",
     "text": [
      "Epoch 9/10: 100%|██████████| 2938/2938 [01:08<00:00, 43.06it/s]\n"
     ]
    },
    {
     "name": "stdout",
     "output_type": "stream",
     "text": [
      "Epoch 9/10  Train loss 0.2448  Val loss 0.1467  HR@10 0.6295  NDCG@10 0.4035  Precision@10 0.0629  (new best)  Time 71.45s\n"
     ]
    },
    {
     "name": "stderr",
     "output_type": "stream",
     "text": [
      "Epoch 10/10: 100%|██████████| 2938/2938 [01:11<00:00, 40.82it/s]\n"
     ]
    },
    {
     "name": "stdout",
     "output_type": "stream",
     "text": [
      "Epoch 10/10  Train loss 0.2378  Val loss 0.1474  HR@10 0.6329  NDCG@10 0.4071  Precision@10 0.0633  (new best)  Time 75.40s\n",
      "\n",
      "==================================================\n",
      "Training Complete.\n",
      "Best epoch: 10 with NDCG@10: 0.4071\n",
      "==================================================\n",
      "\n",
      "\n",
      "     HR@K  NDCG@K  Precision@K\n",
      "K                             \n",
      "5  0.4308  0.3123       0.0862\n",
      "10 0.5627  0.3549       0.0563\n",
      "20 0.7037  0.3906       0.0352\n",
      "50 0.8884  0.4274       0.0178\n"
     ]
    }
   ],
   "execution_count": 40
  },
  {
   "metadata": {},
   "cell_type": "code",
   "outputs": [],
   "execution_count": null,
   "source": "",
   "id": "8c10be9ed7ffca73"
  }
 ],
 "metadata": {
  "kernelspec": {
   "display_name": "Python 3",
   "language": "python",
   "name": "python3"
  },
  "language_info": {
   "codemirror_mode": {
    "name": "ipython",
    "version": 2
   },
   "file_extension": ".py",
   "mimetype": "text/x-python",
   "name": "python",
   "nbconvert_exporter": "python",
   "pygments_lexer": "ipython2",
   "version": "2.7.6"
  }
 },
 "nbformat": 4,
 "nbformat_minor": 5
}
