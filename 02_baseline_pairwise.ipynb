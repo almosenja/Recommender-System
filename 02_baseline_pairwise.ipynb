{
 "cells": [
  {
   "cell_type": "code",
   "id": "initial_id",
   "metadata": {
    "collapsed": true,
    "ExecuteTime": {
     "end_time": "2025-08-20T11:40:59.219169Z",
     "start_time": "2025-08-20T11:40:58.671952Z"
    }
   },
   "source": [
    "import os\n",
    "import math\n",
    "import random\n",
    "import numpy as np\n",
    "import pandas as pd\n",
    "from sklearn.preprocessing import LabelEncoder\n",
    "from tests.performance.recommenders.evaluation.test_python_evaluation_time_performance import test_merge_rating\n",
    "from tqdm import tqdm\n",
    "from collections import defaultdict\n",
    "\n",
    "import torch\n",
    "import torch.nn as nn\n",
    "from torch.utils.data import Dataset, DataLoader\n",
    "from datasets import load_dataset"
   ],
   "outputs": [],
   "execution_count": 21
  },
  {
   "metadata": {
    "ExecuteTime": {
     "end_time": "2025-08-20T11:18:01.401470Z",
     "start_time": "2025-08-20T11:18:01.261800Z"
    }
   },
   "cell_type": "code",
   "source": [
    "SEED = 42\n",
    "random.seed(SEED)\n",
    "np.random.seed(SEED)\n",
    "torch.manual_seed(SEED)\n",
    "torch.cuda.manual_seed_all(SEED)\n",
    "\n",
    "DEVICE = torch.device(\"cuda\" if torch.cuda.is_available() else \"cpu\")\n",
    "DEVICE"
   ],
   "id": "94437de919542462",
   "outputs": [
    {
     "data": {
      "text/plain": [
       "device(type='cuda')"
      ]
     },
     "execution_count": 4,
     "metadata": {},
     "output_type": "execute_result"
    }
   ],
   "execution_count": 4
  },
  {
   "metadata": {
    "ExecuteTime": {
     "end_time": "2025-08-20T15:22:35.126123Z",
     "start_time": "2025-08-20T15:22:09.419794Z"
    }
   },
   "cell_type": "code",
   "source": [
    "# Select 3 categories to highlight cross-domain transfer\n",
    "SOURCE_DOMAIN = \"Movies_and_TV\"\n",
    "TARGET_DOMAIN = \"Video_Games\"\n",
    "DOMAINS = [SOURCE_DOMAIN, TARGET_DOMAIN]\n",
    "\n",
    "MIN_USER_INTERACTIONS = 5\n",
    "MIN_ITEM_INTERACTIONS = 5\n",
    "POSITIVE_THRESHOLD = 4.0  # Ratings >= 4.0 are considered positive\n",
    "\n",
    "# Load the dataset\n",
    "def load_amazon_reviews(domain:str, max_per_domain:int=100000) -> pd.DataFrame:\n",
    "    dataset = load_dataset(\"McAuley-Lab/Amazon-Reviews-2023\",\n",
    "                           f\"raw_review_{domain}\",\n",
    "                           trust_remote_code=True)\n",
    "    rows = []\n",
    "    for i, r in enumerate(dataset[\"full\"]):\n",
    "        if i >= max_per_domain:\n",
    "            break\n",
    "        rows.append({\n",
    "            \"user\": r[\"user_id\"],\n",
    "            \"item\": r[\"parent_asin\"],\n",
    "            \"rating\": float(r[\"rating\"]),\n",
    "            \"domain\": domain,\n",
    "            \"implicit\": 1 if r[\"rating\"] >= POSITIVE_THRESHOLD else 0,\n",
    "            \"verified_purchase\": r[\"verified_purchase\"],\n",
    "            \"timestamp\": int(r[\"timestamp\"])\n",
    "        })\n",
    "    return pd.DataFrame(rows)\n",
    "\n",
    "dfs = [load_amazon_reviews(dom, max_per_domain=100000) for dom in DOMAINS]\n",
    "df = pd.concat(dfs, ignore_index=True).sort_values(\"timestamp\").reset_index(drop=True)"
   ],
   "id": "dc23bf27622df5e4",
   "outputs": [],
   "execution_count": 116
  },
  {
   "metadata": {
    "ExecuteTime": {
     "end_time": "2025-08-20T15:22:35.144638Z",
     "start_time": "2025-08-20T15:22:35.134667Z"
    }
   },
   "cell_type": "code",
   "source": "df.head()",
   "id": "a86cc08256af864e",
   "outputs": [
    {
     "data": {
      "text/plain": [
       "                           user        item  rating         domain  implicit  \\\n",
       "0  AHAYX6YWLK52LPXFSE2QUNMMS44A  0783114222     5.0  Movies_and_TV         1   \n",
       "1  AG3S4FROO422V5KP7DJCBXVUQLJQ  0800185676     5.0  Movies_and_TV         1   \n",
       "2  AHVNRIAPM3GVNS3RH3MNIEVSSBNA  6303501281     5.0  Movies_and_TV         1   \n",
       "3  AHAYX6YWLK52LPXFSE2QUNMMS44A  6300215571     5.0  Movies_and_TV         1   \n",
       "4  AEKPXGAS7MDLNHMCEZMOOQUOYJLA  6304279485     5.0  Movies_and_TV         1   \n",
       "\n",
       "   verified_purchase     timestamp  \n",
       "0              False  913069725000  \n",
       "1               True  914267986000  \n",
       "2              False  914297420000  \n",
       "3               True  920170436000  \n",
       "4              False  921529732000  "
      ],
      "text/html": [
       "<div>\n",
       "<style scoped>\n",
       "    .dataframe tbody tr th:only-of-type {\n",
       "        vertical-align: middle;\n",
       "    }\n",
       "\n",
       "    .dataframe tbody tr th {\n",
       "        vertical-align: top;\n",
       "    }\n",
       "\n",
       "    .dataframe thead th {\n",
       "        text-align: right;\n",
       "    }\n",
       "</style>\n",
       "<table border=\"1\" class=\"dataframe\">\n",
       "  <thead>\n",
       "    <tr style=\"text-align: right;\">\n",
       "      <th></th>\n",
       "      <th>user</th>\n",
       "      <th>item</th>\n",
       "      <th>rating</th>\n",
       "      <th>domain</th>\n",
       "      <th>implicit</th>\n",
       "      <th>verified_purchase</th>\n",
       "      <th>timestamp</th>\n",
       "    </tr>\n",
       "  </thead>\n",
       "  <tbody>\n",
       "    <tr>\n",
       "      <th>0</th>\n",
       "      <td>AHAYX6YWLK52LPXFSE2QUNMMS44A</td>\n",
       "      <td>0783114222</td>\n",
       "      <td>5.0</td>\n",
       "      <td>Movies_and_TV</td>\n",
       "      <td>1</td>\n",
       "      <td>False</td>\n",
       "      <td>913069725000</td>\n",
       "    </tr>\n",
       "    <tr>\n",
       "      <th>1</th>\n",
       "      <td>AG3S4FROO422V5KP7DJCBXVUQLJQ</td>\n",
       "      <td>0800185676</td>\n",
       "      <td>5.0</td>\n",
       "      <td>Movies_and_TV</td>\n",
       "      <td>1</td>\n",
       "      <td>True</td>\n",
       "      <td>914267986000</td>\n",
       "    </tr>\n",
       "    <tr>\n",
       "      <th>2</th>\n",
       "      <td>AHVNRIAPM3GVNS3RH3MNIEVSSBNA</td>\n",
       "      <td>6303501281</td>\n",
       "      <td>5.0</td>\n",
       "      <td>Movies_and_TV</td>\n",
       "      <td>1</td>\n",
       "      <td>False</td>\n",
       "      <td>914297420000</td>\n",
       "    </tr>\n",
       "    <tr>\n",
       "      <th>3</th>\n",
       "      <td>AHAYX6YWLK52LPXFSE2QUNMMS44A</td>\n",
       "      <td>6300215571</td>\n",
       "      <td>5.0</td>\n",
       "      <td>Movies_and_TV</td>\n",
       "      <td>1</td>\n",
       "      <td>True</td>\n",
       "      <td>920170436000</td>\n",
       "    </tr>\n",
       "    <tr>\n",
       "      <th>4</th>\n",
       "      <td>AEKPXGAS7MDLNHMCEZMOOQUOYJLA</td>\n",
       "      <td>6304279485</td>\n",
       "      <td>5.0</td>\n",
       "      <td>Movies_and_TV</td>\n",
       "      <td>1</td>\n",
       "      <td>False</td>\n",
       "      <td>921529732000</td>\n",
       "    </tr>\n",
       "  </tbody>\n",
       "</table>\n",
       "</div>"
      ]
     },
     "execution_count": 117,
     "metadata": {},
     "output_type": "execute_result"
    }
   ],
   "execution_count": 117
  },
  {
   "metadata": {
    "ExecuteTime": {
     "end_time": "2025-08-20T15:22:52.089389Z",
     "start_time": "2025-08-20T15:22:52.073370Z"
    }
   },
   "cell_type": "code",
   "source": "df[\"verified_purchase\"].value_counts()",
   "id": "7b7af3a54024bd3a",
   "outputs": [
    {
     "data": {
      "text/plain": [
       "verified_purchase\n",
       "True     162906\n",
       "False     37094\n",
       "Name: count, dtype: int64"
      ]
     },
     "execution_count": 118,
     "metadata": {},
     "output_type": "execute_result"
    }
   ],
   "execution_count": 118
  },
  {
   "metadata": {
    "ExecuteTime": {
     "end_time": "2025-08-20T15:00:03.689275Z",
     "start_time": "2025-08-20T15:00:03.427218Z"
    }
   },
   "cell_type": "code",
   "source": [
    "def filter_min_interactions(df):\n",
    "    min_interactions = 5\n",
    "    user_counts = df[\"user\"].value_counts()\n",
    "    item_counts = df[\"item\"].value_counts()\n",
    "\n",
    "    valid_users = user_counts[user_counts >= min_interactions].index\n",
    "    valid_items = item_counts[item_counts >= min_interactions].index\n",
    "\n",
    "    df_clean = df[(df[\"user\"].isin(valid_users)) & (df[\"item\"].isin(valid_items))]\n",
    "\n",
    "    return df_clean\n",
    "\n",
    "df_filtered = filter_min_interactions(df).reset_index(drop=True)\n",
    "df_filtered.head()"
   ],
   "id": "976bd2b0cd1eabce",
   "outputs": [
    {
     "data": {
      "text/plain": [
       "                           user        item  rating         domain  implicit  \\\n",
       "0  AF2XY372UVDMEJUPRCPBKTL6MUAA  6305657947     5.0  Movies_and_TV         1   \n",
       "1  AGHR3R7QF7YM6PRFO7KV4V7NLXWQ  B001ELJPW8     5.0    Video_Games         1   \n",
       "2  AHVRJMMQMNEWRCZJZ6T5XHMER2PA  B00000K2R4     5.0    Video_Games         1   \n",
       "3  AESB3UJ5JUPZRG7WXEPX7ARJ6MTA  B001ELJPW8     5.0    Video_Games         1   \n",
       "4  AHVRJMMQMNEWRCZJZ6T5XHMER2PA  B001EYUQ96     4.0    Video_Games         1   \n",
       "\n",
       "      timestamp  \n",
       "0  950129107000  \n",
       "1  970115992000  \n",
       "2  971974663000  \n",
       "3  979854439000  \n",
       "4  988223200000  "
      ],
      "text/html": [
       "<div>\n",
       "<style scoped>\n",
       "    .dataframe tbody tr th:only-of-type {\n",
       "        vertical-align: middle;\n",
       "    }\n",
       "\n",
       "    .dataframe tbody tr th {\n",
       "        vertical-align: top;\n",
       "    }\n",
       "\n",
       "    .dataframe thead th {\n",
       "        text-align: right;\n",
       "    }\n",
       "</style>\n",
       "<table border=\"1\" class=\"dataframe\">\n",
       "  <thead>\n",
       "    <tr style=\"text-align: right;\">\n",
       "      <th></th>\n",
       "      <th>user</th>\n",
       "      <th>item</th>\n",
       "      <th>rating</th>\n",
       "      <th>domain</th>\n",
       "      <th>implicit</th>\n",
       "      <th>timestamp</th>\n",
       "    </tr>\n",
       "  </thead>\n",
       "  <tbody>\n",
       "    <tr>\n",
       "      <th>0</th>\n",
       "      <td>AF2XY372UVDMEJUPRCPBKTL6MUAA</td>\n",
       "      <td>6305657947</td>\n",
       "      <td>5.0</td>\n",
       "      <td>Movies_and_TV</td>\n",
       "      <td>1</td>\n",
       "      <td>950129107000</td>\n",
       "    </tr>\n",
       "    <tr>\n",
       "      <th>1</th>\n",
       "      <td>AGHR3R7QF7YM6PRFO7KV4V7NLXWQ</td>\n",
       "      <td>B001ELJPW8</td>\n",
       "      <td>5.0</td>\n",
       "      <td>Video_Games</td>\n",
       "      <td>1</td>\n",
       "      <td>970115992000</td>\n",
       "    </tr>\n",
       "    <tr>\n",
       "      <th>2</th>\n",
       "      <td>AHVRJMMQMNEWRCZJZ6T5XHMER2PA</td>\n",
       "      <td>B00000K2R4</td>\n",
       "      <td>5.0</td>\n",
       "      <td>Video_Games</td>\n",
       "      <td>1</td>\n",
       "      <td>971974663000</td>\n",
       "    </tr>\n",
       "    <tr>\n",
       "      <th>3</th>\n",
       "      <td>AESB3UJ5JUPZRG7WXEPX7ARJ6MTA</td>\n",
       "      <td>B001ELJPW8</td>\n",
       "      <td>5.0</td>\n",
       "      <td>Video_Games</td>\n",
       "      <td>1</td>\n",
       "      <td>979854439000</td>\n",
       "    </tr>\n",
       "    <tr>\n",
       "      <th>4</th>\n",
       "      <td>AHVRJMMQMNEWRCZJZ6T5XHMER2PA</td>\n",
       "      <td>B001EYUQ96</td>\n",
       "      <td>4.0</td>\n",
       "      <td>Video_Games</td>\n",
       "      <td>1</td>\n",
       "      <td>988223200000</td>\n",
       "    </tr>\n",
       "  </tbody>\n",
       "</table>\n",
       "</div>"
      ]
     },
     "execution_count": 112,
     "metadata": {},
     "output_type": "execute_result"
    }
   ],
   "execution_count": 112
  },
  {
   "metadata": {
    "ExecuteTime": {
     "end_time": "2025-08-20T15:00:03.702799Z",
     "start_time": "2025-08-20T15:00:03.698789Z"
    }
   },
   "cell_type": "code",
   "source": [
    "print(f\"Length of original dataset: {len(df)}\")\n",
    "print(f\"Length after filtering: {len(df_filtered)}\")"
   ],
   "id": "524e102320989ba2",
   "outputs": [
    {
     "name": "stdout",
     "output_type": "stream",
     "text": [
      "Length of original dataset: 200000\n",
      "Length after filtering: 50765\n"
     ]
    }
   ],
   "execution_count": 113
  },
  {
   "metadata": {
    "ExecuteTime": {
     "end_time": "2025-08-20T15:00:03.806296Z",
     "start_time": "2025-08-20T15:00:03.715770Z"
    }
   },
   "cell_type": "code",
   "source": [
    "def encode_users_items(df):\n",
    "    user2id = {u: idx for idx, u in enumerate(df[\"user\"].unique())}\n",
    "    df[\"user_id\"] = df[\"user\"].map(user2id).astype(np.int64)\n",
    "\n",
    "    # Per domain item id mapping\n",
    "    item2id_by_domain = {}\n",
    "    def map_items_per_domain(row):\n",
    "        dom = row[\"domain\"].iloc[0]\n",
    "        if dom not in item2id_by_domain:\n",
    "            items = row[\"item\"].unique()\n",
    "            item2id_by_domain[dom] = {i: idx for idx, i in enumerate(items)}\n",
    "        row[\"item_id\"] = row[\"item\"].map(item2id_by_domain[dom]).astype(np.int64)\n",
    "        return row\n",
    "\n",
    "    df = df.groupby(\"domain\", group_keys=False)[df.columns].apply(map_items_per_domain)\n",
    "    return df\n",
    "\n",
    "df_encoded = encode_users_items(df_filtered)\n",
    "df_encoded.head()"
   ],
   "id": "779a57627276bcf4",
   "outputs": [
    {
     "data": {
      "text/plain": [
       "                           user        item  rating         domain  implicit  \\\n",
       "0  AF2XY372UVDMEJUPRCPBKTL6MUAA  6305657947     5.0  Movies_and_TV         1   \n",
       "1  AGHR3R7QF7YM6PRFO7KV4V7NLXWQ  B001ELJPW8     5.0    Video_Games         1   \n",
       "2  AHVRJMMQMNEWRCZJZ6T5XHMER2PA  B00000K2R4     5.0    Video_Games         1   \n",
       "3  AESB3UJ5JUPZRG7WXEPX7ARJ6MTA  B001ELJPW8     5.0    Video_Games         1   \n",
       "4  AHVRJMMQMNEWRCZJZ6T5XHMER2PA  B001EYUQ96     4.0    Video_Games         1   \n",
       "\n",
       "      timestamp  user_id  item_id  \n",
       "0  950129107000        0        0  \n",
       "1  970115992000        1        0  \n",
       "2  971974663000        2        1  \n",
       "3  979854439000        3        0  \n",
       "4  988223200000        2        2  "
      ],
      "text/html": [
       "<div>\n",
       "<style scoped>\n",
       "    .dataframe tbody tr th:only-of-type {\n",
       "        vertical-align: middle;\n",
       "    }\n",
       "\n",
       "    .dataframe tbody tr th {\n",
       "        vertical-align: top;\n",
       "    }\n",
       "\n",
       "    .dataframe thead th {\n",
       "        text-align: right;\n",
       "    }\n",
       "</style>\n",
       "<table border=\"1\" class=\"dataframe\">\n",
       "  <thead>\n",
       "    <tr style=\"text-align: right;\">\n",
       "      <th></th>\n",
       "      <th>user</th>\n",
       "      <th>item</th>\n",
       "      <th>rating</th>\n",
       "      <th>domain</th>\n",
       "      <th>implicit</th>\n",
       "      <th>timestamp</th>\n",
       "      <th>user_id</th>\n",
       "      <th>item_id</th>\n",
       "    </tr>\n",
       "  </thead>\n",
       "  <tbody>\n",
       "    <tr>\n",
       "      <th>0</th>\n",
       "      <td>AF2XY372UVDMEJUPRCPBKTL6MUAA</td>\n",
       "      <td>6305657947</td>\n",
       "      <td>5.0</td>\n",
       "      <td>Movies_and_TV</td>\n",
       "      <td>1</td>\n",
       "      <td>950129107000</td>\n",
       "      <td>0</td>\n",
       "      <td>0</td>\n",
       "    </tr>\n",
       "    <tr>\n",
       "      <th>1</th>\n",
       "      <td>AGHR3R7QF7YM6PRFO7KV4V7NLXWQ</td>\n",
       "      <td>B001ELJPW8</td>\n",
       "      <td>5.0</td>\n",
       "      <td>Video_Games</td>\n",
       "      <td>1</td>\n",
       "      <td>970115992000</td>\n",
       "      <td>1</td>\n",
       "      <td>0</td>\n",
       "    </tr>\n",
       "    <tr>\n",
       "      <th>2</th>\n",
       "      <td>AHVRJMMQMNEWRCZJZ6T5XHMER2PA</td>\n",
       "      <td>B00000K2R4</td>\n",
       "      <td>5.0</td>\n",
       "      <td>Video_Games</td>\n",
       "      <td>1</td>\n",
       "      <td>971974663000</td>\n",
       "      <td>2</td>\n",
       "      <td>1</td>\n",
       "    </tr>\n",
       "    <tr>\n",
       "      <th>3</th>\n",
       "      <td>AESB3UJ5JUPZRG7WXEPX7ARJ6MTA</td>\n",
       "      <td>B001ELJPW8</td>\n",
       "      <td>5.0</td>\n",
       "      <td>Video_Games</td>\n",
       "      <td>1</td>\n",
       "      <td>979854439000</td>\n",
       "      <td>3</td>\n",
       "      <td>0</td>\n",
       "    </tr>\n",
       "    <tr>\n",
       "      <th>4</th>\n",
       "      <td>AHVRJMMQMNEWRCZJZ6T5XHMER2PA</td>\n",
       "      <td>B001EYUQ96</td>\n",
       "      <td>4.0</td>\n",
       "      <td>Video_Games</td>\n",
       "      <td>1</td>\n",
       "      <td>988223200000</td>\n",
       "      <td>2</td>\n",
       "      <td>2</td>\n",
       "    </tr>\n",
       "  </tbody>\n",
       "</table>\n",
       "</div>"
      ]
     },
     "execution_count": 114,
     "metadata": {},
     "output_type": "execute_result"
    }
   ],
   "execution_count": 114
  },
  {
   "metadata": {
    "ExecuteTime": {
     "end_time": "2025-08-20T15:00:03.835360Z",
     "start_time": "2025-08-20T15:00:03.813815Z"
    }
   },
   "cell_type": "code",
   "source": [
    "n_users = df_encoded[\"user_id\"].nunique()\n",
    "n_items_target = df_encoded[df_encoded[\"domain\"] == TARGET_DOMAIN][\"item_id\"].nunique()\n",
    "n_items_source = df_encoded[df_encoded[\"domain\"] == SOURCE_DOMAIN][\"item_id\"].nunique()\n",
    "print(f\"Users: {n_users}, {SOURCE_DOMAIN} items: {n_items_source}, {TARGET_DOMAIN} items: {n_items_target}\")"
   ],
   "id": "625a0c8f233d4036",
   "outputs": [
    {
     "name": "stdout",
     "output_type": "stream",
     "text": [
      "Users: 8502, Movies_and_TV items: 2845, Video_Games items: 4206\n"
     ]
    }
   ],
   "execution_count": 115
  },
  {
   "metadata": {},
   "cell_type": "code",
   "outputs": [],
   "execution_count": null,
   "source": [
    "def negative_sampling(df, n_negatives=1):\n",
    "    interact_status = (df.groupby(\"user_id\")[\"item_id\"]\n",
    "                       .apply(set)\n",
    "                       .reset_index()\n",
    "                       .rename(columns={\"item_id\", \"interacted_items\"}))\n",
    "    interact_status[\"negative_items\"] = interact_status[\"interacted_items\"].apply(\n",
    "        lambda x: set(df[\"item_id\"].unique() - x)\n",
    "    )\n",
    "    interact_status[\"negative_samples\"] = interact_status[\"negative_items\"].apply(\n",
    "        lambda x: random.sample(x, n_negatives)\n",
    "    )\n",
    "    return interact_status[[\"user_id\", \"negative_items\", \"negative_samples\"]]"
   ],
   "id": "b5b315c167ae623f"
  },
  {
   "metadata": {
    "ExecuteTime": {
     "end_time": "2025-08-20T14:39:31.633217Z",
     "start_time": "2025-08-20T14:39:31.397496Z"
    }
   },
   "cell_type": "code",
   "source": [
    "def leave_one_out(df):\n",
    "    df[\"rank_latest\"] = df.groupby([\"user_id\"])[\"timestamp\"].rank(method=\"first\", ascending=False)\n",
    "    train = df[df[\"rank_latest\"] > 2].drop(columns=\"rank_latest\")\n",
    "    val = df[df[\"rank_latest\"] == 1].drop(columns=\"rank_latest\")\n",
    "    test = df[df[\"rank_latest\"] == 2].drop(columns=\"rank_latest\")\n",
    "    return train, val, test\n",
    "\n",
    "def leave_one_out_per_domain(df: pd.DataFrame) -> tuple[pd.DataFrame, pd.DataFrame, pd.DataFrame]:\n",
    "    train_parts, val_parts, test_parts = [], [], []\n",
    "    for domain, sub in df.groupby(\"domain\", group_keys=False):\n",
    "        tr, va, te = leave_one_out(sub)\n",
    "        train_parts.append(tr)\n",
    "        val_parts.append(va)\n",
    "        test_parts.append(te)\n",
    "    train_all = pd.concat(train_parts, ignore_index=True)\n",
    "    val_all   = pd.concat(val_parts, ignore_index=True)\n",
    "    test_all  = pd.concat(test_parts, ignore_index=True)\n",
    "    return train_all, val_all, test_all\n",
    "\n",
    "train_df, val_df, test_df = leave_one_out_per_domain(df_encoded)\n",
    "\n",
    "print(\"Source domain (train/val/test):\",\n",
    "      train_df[train_df.domain == SOURCE_DOMAIN].shape[0],\n",
    "      val_df[val_df.domain == SOURCE_DOMAIN].shape[0],\n",
    "      test_df[test_df.domain == SOURCE_DOMAIN].shape[0])\n",
    "\n",
    "print(\"Target domain (train/val/test):\",\n",
    "      train_df[train_df.domain == TARGET_DOMAIN].shape[0],\n",
    "      val_df[val_df.domain == TARGET_DOMAIN].shape[0],\n",
    "      test_df[test_df.domain == TARGET_DOMAIN].shape[0])"
   ],
   "id": "de54ba8167067309",
   "outputs": [
    {
     "name": "stdout",
     "output_type": "stream",
     "text": [
      "Source domain (train/val/test): 84229 15154 13596\n",
      "Target domain (train/val/test): 73724 16393 14242\n"
     ]
    }
   ],
   "execution_count": 104
  },
  {
   "metadata": {
    "ExecuteTime": {
     "end_time": "2025-08-20T14:59:23.779455Z",
     "start_time": "2025-08-20T14:59:23.773458Z"
    }
   },
   "cell_type": "code",
   "source": "train_df[\"implicit\"].value_counts()",
   "id": "bebb7e2252f37b45",
   "outputs": [
    {
     "data": {
      "text/plain": [
       "implicit\n",
       "1    127556\n",
       "0     30397\n",
       "Name: count, dtype: int64"
      ]
     },
     "execution_count": 109,
     "metadata": {},
     "output_type": "execute_result"
    }
   ],
   "execution_count": 109
  },
  {
   "metadata": {
    "ExecuteTime": {
     "end_time": "2025-08-20T14:26:26.180309Z",
     "start_time": "2025-08-20T14:26:25.742378Z"
    }
   },
   "cell_type": "code",
   "source": [
    "def build_positive_pairs(df, domain):\n",
    "    pos = defaultdict(set)\n",
    "    row = df[df[\"domain\"] == domain]\n",
    "    for u, g in row.groupby(\"user_id\"):\n",
    "        if len(g) == 0:\n",
    "            continue\n",
    "        pos[u] = set(g[\"item_id\"].to_list())\n",
    "    return pos\n",
    "\n",
    "train_pos_target = build_positive_pairs(train_df, TARGET_DOMAIN)\n",
    "train_pos_target[3]"
   ],
   "id": "c54b5f372880c6f1",
   "outputs": [
    {
     "data": {
      "text/plain": [
       "set()"
      ]
     },
     "execution_count": 99,
     "metadata": {},
     "output_type": "execute_result"
    }
   ],
   "execution_count": 99
  },
  {
   "metadata": {
    "ExecuteTime": {
     "end_time": "2025-08-20T12:31:48.174399Z",
     "start_time": "2025-08-20T12:27:14.182113Z"
    }
   },
   "cell_type": "code",
   "source": "",
   "id": "32eee36eb1f1ea0",
   "outputs": [],
   "execution_count": 46
  },
  {
   "metadata": {
    "ExecuteTime": {
     "end_time": "2025-08-20T12:32:59.212172Z",
     "start_time": "2025-08-20T12:32:59.161883Z"
    }
   },
   "cell_type": "code",
   "source": "",
   "id": "a003ce15f32f641b",
   "outputs": [
    {
     "data": {
      "text/plain": [
       "                           user  \\\n",
       "0  AE223GHNZEI5MRMBVVRGJONDNWRQ   \n",
       "1  AE224GVO7OHTYF26U6ER6BEVIUAQ   \n",
       "2  AE22CFXT3QZKUQJORVTGL3VQXAAA   \n",
       "3  AE22CS5OIRQTN7WDKQ2F3BYP5CXA   \n",
       "4  AE22Z3RLVIRU6RT5PNRK5CFFNEFQ   \n",
       "\n",
       "                                    interacted_items  \\\n",
       "0   {B0B19ZNXXH, B09ZFBBSC6, B09VT2M351, B0044WZNB6}   \n",
       "1   {B07GKZX4HP, B07GCQG6W5, B003CSV7TK, B00EV4EUT8}   \n",
       "2  {B00YMIP30I, B005IF0NK4, B00VMIWA3O, B00932AGH...   \n",
       "3  {B01IS2PWV8, B00BL5OJ14, B00SACPBU4, B017I3KWX...   \n",
       "4                           {B07439CMGM, B073RPZK88}   \n",
       "\n",
       "                                      negative_items  \n",
       "0  {B00002ZMNV, B07G2MYV7Z, B00BMT9SQA, B008133O3...  \n",
       "1  {B00002ZMNV, B07G2MYV7Z, B00BMT9SQA, B008133O3...  \n",
       "2  {B00002ZMNV, B07G2MYV7Z, B00BMT9SQA, B008133O3...  \n",
       "3  {B00002ZMNV, B07G2MYV7Z, B00BMT9SQA, B008133O3...  \n",
       "4  {B00002ZMNV, B07G2MYV7Z, B00BMT9SQA, B008133O3...  "
      ],
      "text/html": [
       "<div>\n",
       "<style scoped>\n",
       "    .dataframe tbody tr th:only-of-type {\n",
       "        vertical-align: middle;\n",
       "    }\n",
       "\n",
       "    .dataframe tbody tr th {\n",
       "        vertical-align: top;\n",
       "    }\n",
       "\n",
       "    .dataframe thead th {\n",
       "        text-align: right;\n",
       "    }\n",
       "</style>\n",
       "<table border=\"1\" class=\"dataframe\">\n",
       "  <thead>\n",
       "    <tr style=\"text-align: right;\">\n",
       "      <th></th>\n",
       "      <th>user</th>\n",
       "      <th>interacted_items</th>\n",
       "      <th>negative_items</th>\n",
       "    </tr>\n",
       "  </thead>\n",
       "  <tbody>\n",
       "    <tr>\n",
       "      <th>0</th>\n",
       "      <td>AE223GHNZEI5MRMBVVRGJONDNWRQ</td>\n",
       "      <td>{B0B19ZNXXH, B09ZFBBSC6, B09VT2M351, B0044WZNB6}</td>\n",
       "      <td>{B00002ZMNV, B07G2MYV7Z, B00BMT9SQA, B008133O3...</td>\n",
       "    </tr>\n",
       "    <tr>\n",
       "      <th>1</th>\n",
       "      <td>AE224GVO7OHTYF26U6ER6BEVIUAQ</td>\n",
       "      <td>{B07GKZX4HP, B07GCQG6W5, B003CSV7TK, B00EV4EUT8}</td>\n",
       "      <td>{B00002ZMNV, B07G2MYV7Z, B00BMT9SQA, B008133O3...</td>\n",
       "    </tr>\n",
       "    <tr>\n",
       "      <th>2</th>\n",
       "      <td>AE22CFXT3QZKUQJORVTGL3VQXAAA</td>\n",
       "      <td>{B00YMIP30I, B005IF0NK4, B00VMIWA3O, B00932AGH...</td>\n",
       "      <td>{B00002ZMNV, B07G2MYV7Z, B00BMT9SQA, B008133O3...</td>\n",
       "    </tr>\n",
       "    <tr>\n",
       "      <th>3</th>\n",
       "      <td>AE22CS5OIRQTN7WDKQ2F3BYP5CXA</td>\n",
       "      <td>{B01IS2PWV8, B00BL5OJ14, B00SACPBU4, B017I3KWX...</td>\n",
       "      <td>{B00002ZMNV, B07G2MYV7Z, B00BMT9SQA, B008133O3...</td>\n",
       "    </tr>\n",
       "    <tr>\n",
       "      <th>4</th>\n",
       "      <td>AE22Z3RLVIRU6RT5PNRK5CFFNEFQ</td>\n",
       "      <td>{B07439CMGM, B073RPZK88}</td>\n",
       "      <td>{B00002ZMNV, B07G2MYV7Z, B00BMT9SQA, B008133O3...</td>\n",
       "    </tr>\n",
       "  </tbody>\n",
       "</table>\n",
       "</div>"
      ]
     },
     "execution_count": 47,
     "metadata": {},
     "output_type": "execute_result"
    }
   ],
   "execution_count": 47
  },
  {
   "metadata": {
    "ExecuteTime": {
     "end_time": "2025-08-20T12:07:34.482968Z",
     "start_time": "2025-08-20T12:07:34.456145Z"
    }
   },
   "cell_type": "code",
   "source": [
    "dummy = source_df_encoded.copy()\n",
    "dummy[\"rating\"] = source_df_encoded[\"rating\"].apply(lambda x: float(x > 0))"
   ],
   "id": "dfba50c75d71c663",
   "outputs": [
    {
     "data": {
      "text/plain": [
       "44755"
      ]
     },
     "execution_count": 36,
     "metadata": {},
     "output_type": "execute_result"
    }
   ],
   "execution_count": 36
  },
  {
   "metadata": {},
   "cell_type": "code",
   "outputs": [],
   "execution_count": null,
   "source": "",
   "id": "f6bbfdc7a5df74c4"
  }
 ],
 "metadata": {
  "kernelspec": {
   "display_name": "Python 3",
   "language": "python",
   "name": "python3"
  },
  "language_info": {
   "codemirror_mode": {
    "name": "ipython",
    "version": 2
   },
   "file_extension": ".py",
   "mimetype": "text/x-python",
   "name": "python",
   "nbconvert_exporter": "python",
   "pygments_lexer": "ipython2",
   "version": "2.7.6"
  }
 },
 "nbformat": 4,
 "nbformat_minor": 5
}
